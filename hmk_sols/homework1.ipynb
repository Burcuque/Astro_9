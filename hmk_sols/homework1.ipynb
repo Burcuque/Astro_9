{
 "cells": [
  {
   "cell_type": "markdown",
   "metadata": {},
   "source": [
    "## Astro 9: Homework 1\n",
    "**Name: Nick Kern **\n",
    "<br>\n",
    "**Date: July 9th, 2017**\n",
    "\n",
    "---\n",
    "\n",
    "**Due by Wednesday, July 12th at 3:00pm via GitHub**\n",
    "<br>\n",
    "To submit to GitHub, **commit** your most up-to-date version of this file and any supporting materials, and **push** to the online repository it is linked to.\n",
    "\n",
    "*Homework Tips: Here are some tips for completing this and future homeworks for the course*\n",
    "\n",
    "* Document your code! Part of your score on the homework will be if you get the \"right\" answer, but also if there is a clear effort and if some (if not all) of the right steps are taken towards the correct solution. In order for us to understand what you've written, you need to have clearly written code. Documenting your code with comments (# sign) and spacing out your code (but not too much) makes it easier to read. This also allows us to see clearly that you know what you are doing, rather than just typing down a certain piece of code because lecture said so.\n",
    "\n",
    "You'll thank yourself later for documenting your code when you come back to it in a few months or years from now: trust me! Below is an example of a well-documented code.\n",
    "\n",
    "---\n"
   ]
  },
  {
   "cell_type": "markdown",
   "metadata": {},
   "source": [
    "** Example Script **\n",
    "\n",
    "This code will approximate the value of $\\pi^{2}$ via the convergent series of inverse squares\n",
    "\n",
    "$1/1 + 1/4 + 1/9 + 1/16 + \\ldots = \\pi^2/6$"
   ]
  },
  {
   "cell_type": "code",
   "execution_count": null,
   "metadata": {
    "collapsed": true
   },
   "outputs": [],
   "source": [
    "# number of terms in series\n",
    "N = 100000\n",
    "\n",
    "# generate series from a list comprehension\n",
    "series = []\n",
    "for i in range(1, N+1):\n",
    "    series.append( 1 / float(i)**2 )\n",
    "    \n",
    "# sum and find pi\n",
    "tot = sum(series)\n",
    "pi = tot*6\n",
    "\n",
    "# print result\n",
    "print(\"pi^2 ~ {:.8f} with {:d} terms\".format(pi, N))"
   ]
  },
  {
   "cell_type": "markdown",
   "metadata": {},
   "source": [
    "Don't forget you can also comment your code and thoughts in [**MarkDown**](https://github.com/adam-p/markdown-here/wiki/Markdown-Cheatsheet), as I've done here and in the lectures! All you have to do is create a new cell and change its purpose from `Code` to `Markdown` using the drop-down menu in the page-header above ^."
   ]
  },
  {
   "cell_type": "markdown",
   "metadata": {},
   "source": [
    "### Point Totals\n",
    "\n",
    "Assignment Total: 25 pts\n",
    "\n",
    "Problem 1: 0 pts\n",
    "\n",
    "Problem 2: 5 pts\n",
    "\n",
    "Problem 3: 10 pts\n",
    "\n",
    "Problem 4: 10 pts"
   ]
  },
  {
   "cell_type": "markdown",
   "metadata": {},
   "source": [
    "### Problem 1: get everything installed!\n",
    "---\n",
    "\n",
    "Make sure you have all of the fundamental software we will need for the course installed onto your machine. Make sure you have Python 3.X working (preferably with an Anaconda distribution and the Conda package manaeger). Presumably you have Git and Jupyter Notebooks running if you are able to download and view this file. If you already have Python 2.X running and are uncomfortable using Python 3.X by default, you may want to look into [creating a Python3.X environment](https://conda.io/docs/using/envs.html). Regardless, this and all future homeworks will require that they are written in Python 3.X (I'm running Python 3.5.2). See one of the instructors after class or during office hours if you are having trouble or have concerns."
   ]
  },
  {
   "cell_type": "markdown",
   "metadata": {
    "collapsed": true
   },
   "source": [
    "### Problem 2: using `git`\n",
    "---\n",
    "\n",
    "1. While drafting this homework, make at least three commits and leave informative commit messages (we can see them). Make sure you commit **and push** your final draft of the homework to the online repo before 3pm on Tueday (don't forget to push!): we can see exactly when the homework is pushed online. "
   ]
  },
  {
   "cell_type": "markdown",
   "metadata": {
    "collapsed": true
   },
   "source": [
    "### Problem 3: Sieve of Eratosthenes\n",
    "---\n",
    "\n",
    "1. Write a code that is capable of solving for the **sum** of all prime numbers below some number $N$, where $N$ is specified at the beginning of the code. To generate prime numbers, use the algorithm called the *[Sieve of Eratosthenes](https://en.wikipedia.org/wiki/Sieve_of_Eratosthenes)*. There are multiple ways of implementing the algorithm, so feel free to implement it in any way you choose! Note that some implementations will be much faster than others.\n",
    "<br><br>\n",
    "2. What is the sum of all prime numbers below 2 million?\n",
    "<br><br>\n",
    "3. Give a *brief* explanation of your code and how you implemented the algorithm, ~1 paragraph(s).\n",
    "\n",
    "Remember, a prime number is an integer greater than 1 that has no whole-number factors other than 1 and itself. Therefore, the sum of all prime numbers below 10 would be: 2 + 3 + 5 + 7 = 17.\n",
    "\n",
    "For the first problem of the first assignment, I've created some starter code to help get you going. I've outlined some of the steps, but you need to fill in the code where appropriate! Feel free to use this method, or create a new one entirely!"
   ]
  },
  {
   "cell_type": "code",
   "execution_count": 3,
   "metadata": {},
   "outputs": [
    {
     "name": "stdout",
     "output_type": "stream",
     "text": [
      "Sum of primes below 2000000 is 142913828922\n"
     ]
    }
   ],
   "source": [
    "# use sieve of eratosthenes to generate prime numbers up to N\n",
    "# and find their sum\n",
    "\n",
    "# define upper limit\n",
    "N = 2000000\n",
    "\n",
    "# define a set structure for the prime numbers\n",
    "primes = set()\n",
    "\n",
    "# define a set structure for the composite numbers\n",
    "composites = set()\n",
    "\n",
    "# define starting number\n",
    "start = 1\n",
    "\n",
    "# begin loop\n",
    "while True:\n",
    "    \n",
    "    # increase value of start by 1\n",
    "    start += 1\n",
    "    \n",
    "    # take multiples of start from start to N\n",
    "    # and update composites set\n",
    "    composites.update(set(range(start*2, N+1, start)))\n",
    "    \n",
    "    \n",
    "    # if start is listed as a composite\n",
    "    # then skip the rest of this loop\n",
    "    if start in composites:\n",
    "        continue\n",
    "    \n",
    "    # if we have reached stopping point\n",
    "    # exit the loop\n",
    "    if start >= N:\n",
    "        break\n",
    "    \n",
    "    # if start is not a composite and we haven't\n",
    "    # reached stopping point, append start to the\n",
    "    # set of primes!\n",
    "    primes.update( {start} )\n",
    "\n",
    "# sum primes\n",
    "total = sum(list(primes))\n",
    "\n",
    "# print out\n",
    "print(\"Sum of primes below {} is {}\".format(N, total))"
   ]
  },
  {
   "cell_type": "markdown",
   "metadata": {
    "collapsed": true
   },
   "source": [
    "**Explanation**:\n",
    "\n",
    "I used sets as the data structure container for the primes and composites. \n",
    "Sets are useful for this problem because they will automatically erase repeated elements, keeping the structures footprint in memory smaller than if we had used a list and appended all multiples. I start by looping over numbers from 1 to 2 million and skip numbers that are listed as composites. If we get to the end of a loop (passing the `continue` and `break` statements) then the number is considered prime and appended to the `primes` set. At the end, I turn `primes` into a list and sum their values. The total runtime for `N=2000000` is about 10 seconds.. \n",
    "\n"
   ]
  },
  {
   "cell_type": "markdown",
   "metadata": {
    "collapsed": true
   },
   "source": [
    "### Problem 4: Largest Palindrome\n",
    "---\n",
    "\n",
    "A palindrome is a number that reads the same way both ways. In other words, a palindrome remains identical when its characters are reversed order. For example, `11` is a palindrome, as is `99`, and `1001`, and `16561`. All of these numbers, when read in reversed order, remain unchanged. In this problem, we will search for the largest palindrome that is also a product of two numbers. For example, the largest palindrome made from the product of two **2-digit** numbers is 9009 = 91 × 99.\n",
    "\n",
    "1. Find the largest palindrome made from the product of two 3-digit numbers.\n",
    "<br><br>\n",
    "2. Give a *brief* explanation of your code"
   ]
  },
  {
   "cell_type": "code",
   "execution_count": 4,
   "metadata": {},
   "outputs": [
    {
     "name": "stdout",
     "output_type": "stream",
     "text": [
      "The largest palindrome that is a product of two 3-digit numbers is 906609\n"
     ]
    }
   ],
   "source": [
    "# Set beginning palindrome to something we know is smaller than answer\n",
    "palindrome = 1\n",
    "\n",
    "# Loop over first and second multiplier\n",
    "for mult1 in range(100, 1000):\n",
    "    for mult2 in range(100, 1000):\n",
    "        # create product\n",
    "        product = str(mult1 * mult2)\n",
    "        # check if palindrome and if its larger than previous guess\n",
    "        if (product == product[::-1]) and (int(product) > palindrome):\n",
    "            palindrome = int(product)\n",
    "            \n",
    "print(\"The largest palindrome that is a product of two 3-digit numbers is {}\".format(palindrome))"
   ]
  },
  {
   "cell_type": "markdown",
   "metadata": {
    "collapsed": true
   },
   "source": [
    "The code uses a two nested loops that loops over both of the multiples in the product, ranging from 100 to 999 b/c the problem asks for two **3-digit** numbers. For each combination, we find the product and check if its a palindrome and (if so) check if it is largest palindrome we have yet to find. If True, we reassign palindrome to that number and if False, we keep looping. In order to check if the product is a palindrome we need to cast the integer as a string and reverse slice the string. "
   ]
  }
 ],
 "metadata": {
  "anaconda-cloud": {},
  "kernelspec": {
   "display_name": "Python 3",
   "language": "python",
   "name": "python3"
  },
  "language_info": {
   "codemirror_mode": {
    "name": "ipython",
    "version": 3
   },
   "file_extension": ".py",
   "mimetype": "text/x-python",
   "name": "python",
   "nbconvert_exporter": "python",
   "pygments_lexer": "ipython3",
   "version": "3.6.1"
  }
 },
 "nbformat": 4,
 "nbformat_minor": 1
}
