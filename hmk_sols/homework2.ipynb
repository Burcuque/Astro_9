{
 "cells": [
  {
   "cell_type": "markdown",
   "metadata": {
    "collapsed": true
   },
   "source": [
    "## Homework 2\n",
    "**Due by Wednesday, July 19th at 3pm via GitHub**\n",
    "<br>\n",
    "**Name: Nick Kern**\n",
    "<br>\n",
    "**Date: **"
   ]
  },
  {
   "cell_type": "markdown",
   "metadata": {},
   "source": [
    "### Point Totals\n",
    "\n",
    "Assignment Total: 35 pts\n",
    "\n",
    "Problem 1: 10 pts\n",
    "\n",
    "Problem 2: 5 pts\n",
    "\n",
    "Problem 3: 10 pts\n",
    "\n",
    "Problem 4: 10 pts"
   ]
  },
  {
   "cell_type": "markdown",
   "metadata": {
    "collapsed": true
   },
   "source": [
    "### Problem 1: Geostationary Satellite:\n",
    "\n",
    "Assume the Earth has a mass $M$, and a satellite orbiting Earth in space has a mass $m$. Further assume that the Earth is a perfect spherical mass (which it is not) with radius $R$. For a satellite orbiting the Earth, the force-balance equation between gravity and centripetal force can be written as\n",
    "\\begin{align}\n",
    "\\frac{GMm}{r^{2}} = \\frac{mv^{2}}{r}\n",
    "\\end{align}\n",
    "where $v$ is the speed of the satellite and $r$ is its distance *from the center of the Earth*. Given this, we can show that the relation between the altitude of the satellite's orbit *above Earth's surface*, $h$, and the satellite's orbital period, $T$, can be expressed as \n",
    "\\begin{align}\n",
    "h = \\left(\\frac{GMT^{2}}{4\\pi^{2}}\\right)^{1/3} - R,\n",
    "\\end{align}\n",
    "where $G = 6.67\\times10^{-11}$ m$^{3}$ kg$^{-1}$ s$^{-2}$, $M=5.9\\times10^{24}$ kg, and $R = 6.37\\times10^{6}$ m.\n",
    "\n",
    "Although it is not required for the homework, I would encourage you to show for yourself this is the case (only a few lines of algebra).\n",
    "\n",
    "1.\n",
    "Write a **function** in Python that outputs the altitude of the satellite's orbit, $h$, when given the satellite's orbital period, $T$, as an argument.\n",
    "\n",
    "2.\n",
    "A geostationary satellite is one that has an orbital period of 24 hours which, when aimed right, orbits in sync with Earth's rotation. Use your function to determine the height above Earth's surface, $h$, for a geostationary satellite.\n",
    "\n",
    "3.\n",
    "In our simple model, what is the minimum orbital period that is physically attainable?"
   ]
  },
  {
   "cell_type": "code",
   "execution_count": 1,
   "metadata": {
    "collapsed": true
   },
   "outputs": [],
   "source": [
    "import numpy as np"
   ]
  },
  {
   "cell_type": "code",
   "execution_count": 4,
   "metadata": {
    "collapsed": true
   },
   "outputs": [],
   "source": [
    "G = 6.67e-11\n",
    "M = 5.9e24\n",
    "R = 6.37e6\n",
    "def height(T):\n",
    "    return (G*M*T**2/4/np.pi**2)**(1./3) - R"
   ]
  },
  {
   "cell_type": "code",
   "execution_count": 18,
   "metadata": {},
   "outputs": [
    {
     "name": "stdout",
     "output_type": "stream",
     "text": [
      "Geostationary orbit at 35691 km above surface\n"
     ]
    }
   ],
   "source": [
    "print(\"Geostationary orbit at {:.0f} km above surface\".format(height(24*3600.)/1e3))"
   ]
  },
  {
   "cell_type": "code",
   "execution_count": 32,
   "metadata": {},
   "outputs": [
    {
     "name": "stdout",
     "output_type": "stream",
     "text": [
      "Minimum T physically attainable for orbit of satellite at Earth's surface is ~1.41 hours\n"
     ]
    }
   ],
   "source": [
    "# generate range of orbits from 0.1 hour to 12 hours (in units of seconds)\n",
    "T = np.linspace(0.1, 12, 1000) * 3600\n",
    "\n",
    "# get their respective heights\n",
    "h = height(T)\n",
    "\n",
    "# find when h is close to zero\n",
    "hmin = np.where(np.abs(h)==np.abs(h).min())[0][0]\n",
    "\n",
    "# get T when h is near zero\n",
    "Tmin = T[hmin]\n",
    "\n",
    "print(\"Minimum T physically attainable for orbit of satellite at Earth's surface is ~{:.2f} hours\".format(Tmin/3600.))"
   ]
  },
  {
   "cell_type": "markdown",
   "metadata": {},
   "source": [
    "### Problem 2: Recursion:\n",
    "\n",
    "Recursion is when some function calls itself during the process of executing its code. Take, for example, a function describing the factorial operator. Recall that\n",
    "\\begin{align}\n",
    "n! = n * (n-1) * (n-2) * (n-3) * \\ldots * 1\n",
    "\\end{align}\n",
    "We can therefore write a factorial function that is recursive as follows"
   ]
  },
  {
   "cell_type": "code",
   "execution_count": 6,
   "metadata": {},
   "outputs": [
    {
     "name": "stdout",
     "output_type": "stream",
     "text": [
      "4! = 24\n"
     ]
    }
   ],
   "source": [
    "def factorial(n):\n",
    "    if n <= 1:\n",
    "        return 1\n",
    "    else:\n",
    "        return n * factorial(n-1)\n",
    "\n",
    "print(\"4! = {}\".format(factorial(4)))"
   ]
  },
  {
   "cell_type": "markdown",
   "metadata": {},
   "source": [
    "For this problem, use Euclid's algorithm to solve for the **greatest common divisor** (GCD) of two non-negative integers `n` and `m`. Euclid's algorithm for the GCD can be recursively represented as\n",
    "\\begin{align}\n",
    "g(m, n) = \\begin{cases}\n",
    "m & \\text{if n = 0}\\\\\n",
    "g(n, m\\%n) & \\text{if n > 0}\n",
    "\\end{cases}\n",
    "\\end{align}\n",
    "\n",
    "What is the GCD of 108 and 192?"
   ]
  },
  {
   "cell_type": "code",
   "execution_count": 33,
   "metadata": {
    "collapsed": true
   },
   "outputs": [],
   "source": [
    "def GCD(m, n):\n",
    "    if n == 0:\n",
    "        return m\n",
    "    else:\n",
    "        return GCD(n, m%n)"
   ]
  },
  {
   "cell_type": "code",
   "execution_count": 38,
   "metadata": {},
   "outputs": [
    {
     "data": {
      "text/plain": [
       "12"
      ]
     },
     "execution_count": 38,
     "metadata": {},
     "output_type": "execute_result"
    }
   ],
   "source": [
    "GCD(108, 192)"
   ]
  },
  {
   "cell_type": "markdown",
   "metadata": {},
   "source": [
    "### Problem 3: Alphabet Arithmetic\n",
    "\n",
    "1.\n",
    "Create a custom class called `Alpha` that enables one to perform basic arithmetic (addition, subtraction, multiplication, division and exponentiation) with alphabetical letters (a, b, c, d, ..., y, z), assuming that each letter of the alphabet maps to an integer from (0, 1, 2, 3, ..., 24, 25). You will need to *overload* the arithmetic operators of the class to enable this special kind of arithmetic. In the case of alpha-division, you may need to have a way to round the result to the nearest integer to assign to an alphabetical character. In the case of arithmetic with results greater than 25, you will need to wrap the alphabet up to the result's value to assign it a letter.\n",
    "<br><br>\n",
    "2.\n",
    "You should edit the class `__repr__` method so that when the class object is printed, its alphabetical character is displayed, rather than its memory address (which occurs by default).\n",
    "<br><br>\n",
    "3.\n",
    "What is the value of this expression: `p*y*t*h*o*n + i**s + s*u*p/e*r - c*o*o*l`"
   ]
  },
  {
   "cell_type": "code",
   "execution_count": 45,
   "metadata": {
    "collapsed": true
   },
   "outputs": [],
   "source": [
    "import string\n",
    "\n",
    "class Alpha:\n",
    "    \"\"\"\n",
    "    Alpha class that allows for basic arithmetic +, -, *, /, **\n",
    "    with alphabetical characters, represented as integers from \n",
    "    [0 - 25]\n",
    "    \"\"\"\n",
    "    def __init__(self, letter):\n",
    "        # assign letter\n",
    "        self.letter = letter\n",
    "        \n",
    "        # Create mapping dictionary to map letter to integer & vice versa\n",
    "        self.letter2num = dict(zip(string.ascii_lowercase, range(0,26)))\n",
    "        self.num2letter = dict(zip(range(0,26), string.ascii_lowercase))\n",
    "        \n",
    "        # assign integer value\n",
    "        self.val = self.letter2num[letter]\n",
    "        \n",
    "    def __repr__(self):\n",
    "        return self.letter\n",
    "    \n",
    "    def __add__(self, other):\n",
    "        # Perform addition\n",
    "        result = self.val + other.val\n",
    "        \n",
    "        # Make sure it wraps to 0 - 25\n",
    "        result = result % 26\n",
    "        \n",
    "        # Assign letter\n",
    "        letter = self.num2letter[result]\n",
    "        \n",
    "        return Alpha(letter)\n",
    "    \n",
    "    def __sub__(self, other):\n",
    "        # Perform subtraction\n",
    "        result = self.val - other.val\n",
    "        \n",
    "        # Make sure it wraps to 0 - 25\n",
    "        result = result % 26\n",
    "        \n",
    "        # Assign letter\n",
    "        letter = self.num2letter[result]\n",
    "        \n",
    "        return Alpha(letter)\n",
    "\n",
    "    def __mul__(self, other):\n",
    "        # Perform mult\n",
    "        result = self.val * other.val\n",
    "        \n",
    "        # Make sure it wraps to 0 - 25\n",
    "        result = result % 26\n",
    "        \n",
    "        # Assign letter\n",
    "        letter = self.num2letter[result]\n",
    "        \n",
    "        return Alpha(letter)\n",
    "    \n",
    "    def __truediv__(self, other):\n",
    "        # Perform div\n",
    "        result = self.val / other.val\n",
    "        \n",
    "        # round the number\n",
    "        result = round(result)\n",
    "        \n",
    "        # Make sure it wraps to 0 - 25\n",
    "        result = result % 26\n",
    "        \n",
    "        # Assign letter\n",
    "        letter = self.num2letter[result]\n",
    "        \n",
    "        return Alpha(letter)\n",
    "    \n",
    "    def __pow__(self, other):\n",
    "        # Perform exponentiation\n",
    "        result = self.val**other.val\n",
    "        \n",
    "        # Make sure it wraps to 0 - 25\n",
    "        result = result % 26\n",
    "        \n",
    "        # Assign letter\n",
    "        letter = self.num2letter[result]\n",
    "        \n",
    "        return Alpha(letter)"
   ]
  },
  {
   "cell_type": "code",
   "execution_count": 46,
   "metadata": {},
   "outputs": [
    {
     "name": "stdout",
     "output_type": "stream",
     "text": [
      "p*y*t*h*o*n + i**s + s*u*p/e*r - c*o*o*l = g\n"
     ]
    }
   ],
   "source": [
    "result = Alpha('p')*Alpha('y')*Alpha('t')*Alpha('h')*Alpha('o')*Alpha('n') + \\\n",
    "                        Alpha('i')**Alpha('s') + \\\n",
    "                        Alpha('s')*Alpha('u')/Alpha('p')*Alpha('e')*Alpha('r') - \\\n",
    "                        Alpha('c')*Alpha('o')*Alpha('o')*Alpha('l')\n",
    "\n",
    "print(\"p*y*t*h*o*n + i**s + s*u*p/e*r - c*o*o*l = {:}\".format(result))"
   ]
  },
  {
   "cell_type": "markdown",
   "metadata": {},
   "source": [
    "### Problem 4: Blackbody Flux, Planck's Formula and Wien's Law \n",
    "\n",
    "All objects emit radiation, even you and me! A blackbody is an object that is in thermal equilibrium with its surroundings and emits radiation at the same rate that it absorbs radiation. Radiation (or light) can be emitted with various wavelengths or frequencies depending on the physical temperature of the object. It turns out that humans, which have body temperatures of $T\\sim300$ K, tend to produce a lot of radiation in the infrared regime.\n",
    "\n",
    "The formula that describes the intensity of light that is radiated by a blackbody as a function of the light's frequency is called the [**Planck Formula**](https://en.wikipedia.org/wiki/Planck%27s_law) and is given by\n",
    "\\begin{align}\n",
    "I(\\nu, T) = \\frac{2h\\nu^{3}}{c^{2}}\\frac{1}{e^{\\frac{h\\nu}{k_{b}T}}-1},\n",
    "\\end{align}\n",
    "where $h$ is Planck's constant, $c$ is the speed of light, $k_{b}$ is Boltzmann's constant, $\\nu$ is the frequency of the light in Hz, and $T$ is the temperature of the blackbody in Kelvin.\n",
    "\n",
    "1.\n",
    "Write a function for the Planck Formula that outputs the intensity $I$ given input $\\nu$ and $T$.\n",
    "\n",
    "2.\n",
    "Using `numpy.ndarrays`, and the `numpy.max` & `numpy.where` functions, **find the frequency** at which $I$ is maximized for each temperature.\n",
    "\n",
    "3.\n",
    "There is another formula, called [**Wien's Law**](https://en.wikipedia.org/wiki/Wien%27s_displacement_law), which gives the peak frequency of a blackbody intensity curve $I$ as a function of its temperature, expressed as\n",
    "\\begin{align}\n",
    "\\nu_{\\text{max}} \\approx 5.88\\times10^{10}\\cdot T,\n",
    "\\end{align}\n",
    "where $T$ is in Kelvin and $\\nu_{\\text{max}}$ is in Hz.\n",
    "\n",
    "Write a function for this formula and check if your result from (2.) agrees with it."
   ]
  },
  {
   "cell_type": "code",
   "execution_count": 2,
   "metadata": {
    "collapsed": true
   },
   "outputs": [],
   "source": [
    "import numpy as np"
   ]
  },
  {
   "cell_type": "markdown",
   "metadata": {},
   "source": [
    "### (1.)"
   ]
  },
  {
   "cell_type": "code",
   "execution_count": 3,
   "metadata": {
    "collapsed": true
   },
   "outputs": [],
   "source": [
    "h = 6.62e-34\n",
    "k = 1.38e-23\n",
    "c = 3e8\n",
    "def planck(nu, T):\n",
    "    return 2*h*nu**3 / c**2 / (np.exp(h*nu/k/T) - 1)"
   ]
  },
  {
   "cell_type": "markdown",
   "metadata": {},
   "source": [
    "### (2.)"
   ]
  },
  {
   "cell_type": "code",
   "execution_count": 4,
   "metadata": {
    "collapsed": true
   },
   "outputs": [],
   "source": [
    "nu = np.logspace(11, 16, 10000)"
   ]
  },
  {
   "cell_type": "code",
   "execution_count": 5,
   "metadata": {
    "collapsed": true
   },
   "outputs": [],
   "source": [
    "I1 = planck(nu, 3000)\n",
    "I2 = planck(nu, 6000)\n",
    "I3 = planck(nu, 15000)"
   ]
  },
  {
   "cell_type": "code",
   "execution_count": 6,
   "metadata": {
    "collapsed": true
   },
   "outputs": [],
   "source": [
    "numax1 = nu[np.where(I1==I1.max())][0]\n",
    "numax2 = nu[np.where(I2==I2.max())][0]\n",
    "numax3 = nu[np.where(I3==I3.max())][0]"
   ]
  },
  {
   "cell_type": "code",
   "execution_count": 7,
   "metadata": {},
   "outputs": [
    {
     "name": "stdout",
     "output_type": "stream",
     "text": [
      "Blackbody of T 3000 has peak frequency of 1.77 x 10^14 Hz\n",
      "Blackbody of T 6000 has peak frequency of 3.53 x 10^14 Hz\n",
      "Blackbody of T 15000 has peak frequency of 8.82 x 10^14 Hz\n"
     ]
    }
   ],
   "source": [
    "print(\"Blackbody of T {} has peak frequency of {:.2f} x 10^14 Hz\".format(3000, numax1/1e14))\n",
    "print(\"Blackbody of T {} has peak frequency of {:.2f} x 10^14 Hz\".format(6000, numax2/1e14))\n",
    "print(\"Blackbody of T {} has peak frequency of {:.2f} x 10^14 Hz\".format(15000, numax3/1e14))"
   ]
  },
  {
   "cell_type": "markdown",
   "metadata": {},
   "source": [
    "### (3.)"
   ]
  },
  {
   "cell_type": "code",
   "execution_count": 8,
   "metadata": {
    "collapsed": true
   },
   "outputs": [],
   "source": [
    "def wien(T):\n",
    "    return 5.88e10 * T"
   ]
  },
  {
   "cell_type": "code",
   "execution_count": 13,
   "metadata": {},
   "outputs": [
    {
     "name": "stdout",
     "output_type": "stream",
     "text": [
      "Wien's Law gives 1.76 x 10^14 Hz whereas planck() gives 1.77 x 10^14 Hz\n",
      "Wien's Law gives 3.53 x 10^14 Hz whereas planck() gives 3.53 x 10^14 Hz\n",
      "Wien's Law gives 8.82 x 10^14 Hz whereas planck() gives 8.82 x 10^14 Hz\n"
     ]
    }
   ],
   "source": [
    "print(\"Wien's Law gives {:.2f} x 10^14 Hz whereas planck() gives {:.2f} x 10^14 Hz\".format(wien(3000)/1e14,numax1/1e14))\n",
    "print(\"Wien's Law gives {:.2f} x 10^14 Hz whereas planck() gives {:.2f} x 10^14 Hz\".format(wien(6000)/1e14,numax2/1e14))\n",
    "print(\"Wien's Law gives {:.2f} x 10^14 Hz whereas planck() gives {:.2f} x 10^14 Hz\".format(wien(15000)/1e14,numax3/1e14))"
   ]
  },
  {
   "cell_type": "markdown",
   "metadata": {},
   "source": [
    "My two methods agree to within at least 1% precision, which is fairly good!"
   ]
  }
 ],
 "metadata": {
  "anaconda-cloud": {},
  "kernelspec": {
   "display_name": "Python 3",
   "language": "python",
   "name": "python3"
  },
  "language_info": {
   "codemirror_mode": {
    "name": "ipython",
    "version": 3
   },
   "file_extension": ".py",
   "mimetype": "text/x-python",
   "name": "python",
   "nbconvert_exporter": "python",
   "pygments_lexer": "ipython3",
   "version": "3.6.1"
  }
 },
 "nbformat": 4,
 "nbformat_minor": 1
}
