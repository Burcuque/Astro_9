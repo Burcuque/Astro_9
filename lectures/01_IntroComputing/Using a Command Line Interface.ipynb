{
 "cells": [
  {
   "cell_type": "markdown",
   "metadata": {},
   "source": [
    "## Using a Command Line Interface\n",
    "**Nicholas Kern**\n",
    "<br>\n",
    "**Astro 9: Python Programming in Astronomy**\n",
    "<br>\n",
    "**UC Berkeley**\n",
    "\n",
    "---"
   ]
  },
  {
   "cell_type": "markdown",
   "metadata": {},
   "source": [
    "### Introduction\n",
    "A command line interface, or a command shell, is a way to directly interact with a computer with your keyboard. You can create, edit, move, delete files, and perform for complex tasks through the shell scripting language. In contrast, with a Graphical User Interface (aka point-and-click), identifying and opening files is visually easy, but handing large numbers of files and performing complex tasks is hard.\n",
    "\n",
    "<img src=\"doc/blank_term.png\" width=500px>\n",
    "<center> A blank terminal shell. One enters commands, the computer reads, executes, then prints output if necessary </center>\n",
    "\n",
    "In the following, we are going to run through some of the essential commands you will need to navigate your shell and manage files and data. Keep in mind that for all of the commands we will look at, you can get a detailed description of the commands by looking at their \"manuals\" which can be accessed with the command\n",
    "```bash\n",
    "man <command>\n",
    "```\n",
    "where you would replace `<command>` with whatever command you are interested in.\n",
    "\n",
    "***External Resources:***\n",
    "1. [Software Carpentry](http://swcarpentry.github.io/shell-novice/)\n"
   ]
  },
  {
   "cell_type": "markdown",
   "metadata": {},
   "source": [
    "### Where am I?\n",
    "---\n",
    "\n",
    "<img src=\"doc/root_dir.svg\" width=300px>\n",
    "<center> IC: Software Carpentry</center>\n",
    "\n",
    "To keep track of where things are, all of the information stored in your computer is assigned a location in your computer's directory tree. Both a GUI and a CLI operate *within* the tree structure. All of the files on your \"Desktop\" for example, lie in the directory:\n",
    "```bash\n",
    "/Users/username/Desktop\n",
    "```\n",
    "\n",
    "If you don't know your computer's username, you can use the function\n",
    "```bash\n",
    "whoami\n",
    "```\n",
    "and it will print out your username.\n",
    "\n",
    "**Print Working Directory**\n",
    "\n",
    "To figure out what directory your command shell is currently working in, you can use\n",
    "```bash\n",
    "pwd\n",
    "```\n",
    "to Print your Working Directory.\n",
    "\n",
    "**Change Directory**\n",
    "\n",
    "To change your working directory, you can use the \"cd\" function. The following command,\n",
    "```bash\n",
    "cd Desktop\n",
    "```\n",
    "will move your working directory to your Desktop. When moving from directory to directory, you can use the desired path name *from your current working directory*, as we did before. Or you can feed the full pathname from the base directory, like\n",
    "```bash\n",
    "cd /Users/nkern/Desktop\n",
    "```\n",
    "which will accomplish the same thing as above.\n",
    "\n",
    "You can also move \"relative\" to your current directory with the \"./\" and \"../\" prefixes. \"./\" means \"my current working directory\" and \"../\" means \"one directory above my current directory\". We can therefore accomplish the same directory change as\n",
    "```bash\n",
    "cd ./Desktop\n",
    "```\n",
    "\n",
    "To move back to /Users/username, you could then use\n",
    "```bash\n",
    "cd ../\n",
    "```\n",
    "\n",
    "There is also an inherently specified **home directory**, which is typically by default your \"Users/username\" directory. This is the directory you will land in by default when you open a fresh command shell. You can automatically move to your home directory by using the cd command with no argument:\n",
    "```bash\n",
    "cd\n",
    "```\n",
    "Your home directory can also be accessed via the \"~\" symbol. Meaning that if you wanted to access your Desktop from anywhere within your computer, instead of typing \"Users/username/Desktop\" you can use\n",
    "```bash\n",
    "cd ~/Desktop\n",
    "```\n",
    "\n",
    "**List Contents**\n",
    "\n",
    "If you want to view the files (and sub-directories) located in your Desktop use the list command\n",
    "```bash\n",
    "ls\n",
    "```\n",
    "which will list everything currently in your Desktop.\n",
    "\n",
    "Many commands also take **flags**, which are optional arguments that tell the command to do something a little more specific. The list command, for example the flag \"-F\" will distinguish sub-directories from files\n",
    "```bash\n",
    "ls -F\n",
    "Desktop/ Documents/ example_file.txt\n",
    "```\n",
    "You can see the two sub-directories are distinguished from files by an extra \"/\" at the end of their names.\n",
    "\n",
    "If you feed the \"-a\" flag standing for \"all\" you will list all files and directories, including the \"hidden\" ones, which have a \".\" prefix\n",
    "```bash\n",
    "ls -F -a\n",
    "./ ../ Desktop/ Documents/ example_file.txt .hidden_file\n",
    "```\n"
   ]
  },
  {
   "cell_type": "markdown",
   "metadata": {
    "collapsed": true
   },
   "source": [
    "### "
   ]
  },
  {
   "cell_type": "code",
   "execution_count": null,
   "metadata": {
    "collapsed": true
   },
   "outputs": [],
   "source": []
  },
  {
   "cell_type": "code",
   "execution_count": null,
   "metadata": {
    "collapsed": true
   },
   "outputs": [],
   "source": []
  },
  {
   "cell_type": "code",
   "execution_count": null,
   "metadata": {
    "collapsed": true
   },
   "outputs": [],
   "source": []
  },
  {
   "cell_type": "code",
   "execution_count": null,
   "metadata": {
    "collapsed": true
   },
   "outputs": [],
   "source": []
  },
  {
   "cell_type": "code",
   "execution_count": null,
   "metadata": {
    "collapsed": true
   },
   "outputs": [],
   "source": []
  },
  {
   "cell_type": "code",
   "execution_count": null,
   "metadata": {
    "collapsed": true
   },
   "outputs": [],
   "source": []
  },
  {
   "cell_type": "code",
   "execution_count": null,
   "metadata": {
    "collapsed": true
   },
   "outputs": [],
   "source": []
  }
 ],
 "metadata": {
  "anaconda-cloud": {},
  "kernelspec": {
   "display_name": "Python [py3k]",
   "language": "python",
   "name": "Python [py3k]"
  },
  "language_info": {
   "codemirror_mode": {
    "name": "ipython",
    "version": 3
   },
   "file_extension": ".py",
   "mimetype": "text/x-python",
   "name": "python",
   "nbconvert_exporter": "python",
   "pygments_lexer": "ipython3",
   "version": "3.5.2"
  }
 },
 "nbformat": 4,
 "nbformat_minor": 0
}
