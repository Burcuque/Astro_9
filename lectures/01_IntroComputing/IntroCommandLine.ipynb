{
 "cells": [
  {
   "cell_type": "markdown",
   "metadata": {
    "editable": true
   },
   "source": [
    "## Using a Command Line Interface\n",
    "**Nick Kern**\n",
    "<br>\n",
    "**Astro 9: Python Programming in Astronomy**\n",
    "<br>\n",
    "**UC Berkeley**\n",
    "\n",
    "---\n",
    "1. [Introduction](#Introduction)\n",
    "2. [Where am I?](#Where-am-I?)\n",
    "3. [Editing Files and Directories](#Editing-Files-and-Directories)\n",
    "4. [Piping](#Piping)\n",
    "5. [Breakout 1](#Breakout-1:)\n",
    "6. [Vars, Loops and Conditionals](#Variables,-Loops-and-Conditionals)\n",
    "7. [Scripting](#Scripting)\n",
    "8. [Breakout 2](#Breakout-2:)"
   ]
  },
  {
   "cell_type": "markdown",
   "metadata": {
    "editable": true
   },
   "source": [
    "### Introduction\n",
    "A command line interface, or a command shell, is a way to directly interact with a computer with your keyboard. You can create, edit, move, delete files, and perform for complex tasks through the shell scripting language. In contrast, with a Graphical User Interface (aka point-and-click), identifying and opening files is visually easy, but handing large numbers of files and performing complex tasks is hard.\n",
    "\n",
    "<img src=\"imgs/blank_term.png\" width=500px>\n",
    "<center> A blank terminal shell. One enters commands, the computer reads, executes, then prints output if necessary </center>\n",
    "\n",
    "In the following, we are going to run through some of the essential commands you will need to navigate your shell and manage files and data. Keep in mind that for all of the commands we will look at, you can get a detailed description of the commands by looking at their \"manuals\" which can be accessed with the command\n",
    "```bash\n",
    "man <command>\n",
    "```\n",
    "where you would replace `<command>` with whatever command you are interested in.\n",
    "\n",
    "***External Resources:***\n",
    "1. [Software Carpentry](http://swcarpentry.github.io/shell-novice/)\n"
   ]
  },
  {
   "cell_type": "markdown",
   "metadata": {
    "editable": true
   },
   "source": [
    "### Where am I?\n",
    "---\n",
    "\n",
    "<img src=\"imgs/root_dir.svg\" width=300px>\n",
    "<center> IC: Software Carpentry</center>\n",
    "\n",
    "To keep track of where things are, all of the information stored in your computer is assigned a location in your computer's directory tree. Both a GUI and a CLI operate *within* the tree structure. All of the files on your \"Desktop\" for example, lie in the directory:\n",
    "```bash\n",
    "/Users/username/Desktop\n",
    "```\n",
    "\n",
    "If you don't know your computer's username, you can use the function"
   ]
  },
  {
   "cell_type": "code",
   "execution_count": null,
   "metadata": {
    "collapsed": false,
    "editable": true
   },
   "outputs": [],
   "source": [
    "%%bash\n",
    "whoami"
   ]
  },
  {
   "cell_type": "markdown",
   "metadata": {
    "editable": true
   },
   "source": [
    "and it will print out your username.\n",
    "\n",
    "**Print Working Directory**\n",
    "\n",
    "To figure out what directory your command shell is currently working in, you can use\n",
    "```bash\n",
    "pwd\n",
    "```\n",
    "to Print your Working Directory.\n",
    "\n",
    "**Change Directory**\n",
    "\n",
    "To change your working directory, you can use the \"cd\" function. The following command,\n",
    "```bash\n",
    "cd Desktop\n",
    "```\n",
    "will move your working directory to your Desktop. When moving from directory to directory, you can use the desired path name *from your current working directory*, as we did before. Or you can feed the full pathname from the base directory, like\n",
    "```bash\n",
    "cd /Users/nkern/Desktop\n",
    "```\n",
    "which will accomplish the same thing as above.\n",
    "\n",
    "You can also move \"relative\" to your current directory with the \"./\" and \"../\" prefixes. \"./\" means \"my current working directory\" and \"../\" means \"one directory above my current directory\". We can therefore accomplish the same directory change as\n",
    "```bash\n",
    "cd ./Desktop\n",
    "```\n",
    "\n",
    "To move back to /Users/username, you could then use\n",
    "```bash\n",
    "cd ../\n",
    "```\n",
    "\n",
    "There is also an inherently specified **home directory**, which is typically by default your \"Users/username\" directory. This is the directory you will land in by default when you open a fresh command shell. You can automatically move to your home directory by using the cd command with no argument:\n",
    "```bash\n",
    "cd\n",
    "```\n",
    "Your home directory can also be accessed via the \"~\" symbol. Meaning that if you wanted to access your Desktop from anywhere within your computer, instead of typing \"Users/username/Desktop\" you can use\n",
    "```bash\n",
    "cd ~/Desktop\n",
    "```\n",
    "\n",
    "**List Contents**\n",
    "\n",
    "If you want to view the files (and sub-directories) located in your Desktop use the list command\n",
    "```bash\n",
    "ls\n",
    "```\n",
    "which will list everything currently in your Desktop.\n",
    "\n",
    "Many commands also take **flags**, which are optional arguments that tell the command to do something a little more specific. The list command, for example the flag \"-F\" will distinguish sub-directories from files.\n",
    "\n",
    "If you feed the \"-a\" flag standing for \"all\" you will list all files and directories, including the \"hidden\" ones, which have a \".\" prefix"
   ]
  },
  {
   "cell_type": "code",
   "execution_count": null,
   "metadata": {
    "collapsed": false,
    "editable": true
   },
   "outputs": [],
   "source": [
    "%%bash\n",
    "ls -F -a"
   ]
  },
  {
   "cell_type": "markdown",
   "metadata": {
    "editable": true
   },
   "source": [
    "**Wild Characters**\n",
    "\n",
    "Wild characters are ```*``` and ```?```, which are place-fillers for any character. The first is a place holder for any character and any amount of them, and the second is a place holder for any one character. We can use these in unique ways.\n",
    "\n",
    "To demonstrate, let's first create some files"
   ]
  },
  {
   "cell_type": "code",
   "execution_count": 1,
   "metadata": {
    "collapsed": false,
    "editable": true
   },
   "outputs": [],
   "source": [
    "%%bash\n",
    "echo hello > myfile1\n",
    "echo whats up > myfile2\n",
    "echo goodbye > myfile3\n",
    "echo hello again > anotherfile"
   ]
  },
  {
   "cell_type": "markdown",
   "metadata": {
    "editable": true
   },
   "source": [
    "Let's say I wanted to list all files that started with the root \"my\". I can accomplish this with ```*``` via"
   ]
  },
  {
   "cell_type": "code",
   "execution_count": 3,
   "metadata": {
    "collapsed": false,
    "editable": true
   },
   "outputs": [
    {
     "name": "stdout",
     "output_type": "stream",
     "text": [
      "myfile1\n",
      "myfile2\n",
      "myfile3\n"
     ]
    }
   ],
   "source": [
    "%%bash\n",
    "ls my*"
   ]
  },
  {
   "cell_type": "markdown",
   "metadata": {
    "editable": true
   },
   "source": [
    "which says list all files that begin with my and end with ```*```, where ```*``` is a place holder for any character and any amount of them. This should list our first three files.\n",
    "\n",
    "We can also find all files that have the stem \"file\" anywhere in their names, as"
   ]
  },
  {
   "cell_type": "code",
   "execution_count": 4,
   "metadata": {
    "collapsed": false,
    "editable": true
   },
   "outputs": [
    {
     "name": "stdout",
     "output_type": "stream",
     "text": [
      "anotherfile\n",
      "myfile1\n",
      "myfile2\n",
      "myfile3\n"
     ]
    }
   ],
   "source": [
    "%%bash\n",
    "ls *file*"
   ]
  },
  {
   "cell_type": "markdown",
   "metadata": {
    "editable": true
   },
   "source": [
    "We can use ```?``` in a similar way, but remember it stands for any one character. So an appropriate use in our context might be"
   ]
  },
  {
   "cell_type": "code",
   "execution_count": 5,
   "metadata": {
    "collapsed": false,
    "editable": true
   },
   "outputs": [
    {
     "name": "stdout",
     "output_type": "stream",
     "text": [
      "myfile1\n",
      "myfile2\n",
      "myfile3\n"
     ]
    }
   ],
   "source": [
    "%%bash\n",
    "ls myfile?"
   ]
  },
  {
   "cell_type": "markdown",
   "metadata": {
    "editable": true
   },
   "source": [
    "What would you expect if we did"
   ]
  },
  {
   "cell_type": "code",
   "execution_count": 6,
   "metadata": {
    "collapsed": false,
    "editable": true
   },
   "outputs": [
    {
     "name": "stderr",
     "output_type": "stream",
     "text": [
      "ls: my?: No such file or directory\n"
     ]
    }
   ],
   "source": [
    "%%bash\n",
    "ls my?"
   ]
  },
  {
   "cell_type": "markdown",
   "metadata": {
    "editable": true
   },
   "source": [
    "Wild characters can be used in other contexts, such as file editing, copying, and moving."
   ]
  },
  {
   "cell_type": "code",
   "execution_count": 7,
   "metadata": {
    "collapsed": true,
    "editable": true
   },
   "outputs": [],
   "source": [
    "%%bash\n",
    "rm myfile1 myfile2 myfile3 anotherfile"
   ]
  },
  {
   "cell_type": "markdown",
   "metadata": {
    "editable": true
   },
   "source": [
    "### Editing Files and Directories\n",
    "---\n",
    "\n",
    "To create a file, using the touch command with the name of the file you'd like to create"
   ]
  },
  {
   "cell_type": "code",
   "execution_count": null,
   "metadata": {
    "collapsed": true,
    "editable": true
   },
   "outputs": [],
   "source": [
    "%%bash\n",
    "touch myfile"
   ]
  },
  {
   "cell_type": "markdown",
   "metadata": {
    "collapsed": true,
    "editable": true
   },
   "source": [
    "If you list the directory, you should find myfile in it. How can we read what is in this file, and how can we edit it, move it to different directories and erase it? This is what we will explore in this section.\n",
    "\n",
    "To start, let's review ***text editors***, which are programs that allow you to read a file and edit it. The text editors we will see are ones that operate within the shell, however, there are others that have Graphical User Interface.\n",
    "\n",
    "Common text editors that may be pre-installed on your machine are\n",
    "1. vi\n",
    "2. emacs\n",
    "3. nano\n",
    "\n",
    "For this section we will use vi as our example, but if you'd like to use nano or emacs, that is fine too. If you have the time and intrigue, I would recommend learning vi, because it is powerful, widely used amongst astronomers, and is pre-packaged on computers, however, it has a slightly steeper learning curve. A basic tutorial can be found [here](https://www.tutorialspoint.com/unix/unix-vi-editor.htm).\n",
    "\n",
    "Let's put the text \"hello Nick\" into \"myfile\" which right now is an empty file.\n",
    "```bash\n",
    "vi myfile\n",
    "```\n",
    "\n",
    "By default you are in \"command\" mode, and cannot enter text. You can now press \"i\" to enter \"insert\" mode and insert text. When you are finished, you can go back to \"command\" mode using the `esc` key. Note that you haven't actually changed the file yet! To save your edits, you need to be in \"command\" mode and type\n",
    "```\n",
    ":w\n",
    "```\n",
    "which will overwrite the file with your recent edits. If you saved your edits, you can exit `vi` with\n",
    "```\n",
    ":q\n",
    "```\n",
    "If you haven't saved your edits, and would like to discard them and exit the file, type\n",
    "```\n",
    ":q!\n",
    "```\n",
    "\n",
    "To read the contents of the file, we can open the file with our text editor and see the text directly, or we can print the text out to our shell with bash functions. Let's do this with the \"more\" command. We should get the following response:\n",
    "```bash\n",
    "more myfile\n",
    "hello Nick\n",
    "```\n",
    "\n",
    "If we would like to create and insert text into files in a faster fashion, we can use the bash syntax\n",
    "```bash\n",
    "echo <text> > <filename>\n",
    "```\n",
    "to create a file `<filename>` and put `<text>` into it. Note that if `<filename>` already exists, this syntax will overwrite the current text. To merely append text on the end of an already existing file, we can use the syntax\n",
    "```bash\n",
    "echo <text> >> <filename>\n",
    "```\n",
    "\n",
    "To make a directory we can use the ```mkdir``` command\n",
    "```bash\n",
    "mkdir new_dir\n",
    "```\n",
    "which makes a new directory with the name \"new_dir\".\n",
    "\n",
    "What if we want to copy a file? We can use the copy command\n",
    "```bash\n",
    "cp <filename> <newfilename>\n",
    "```\n",
    "To copy a directory, use the ```-r``` flag.\n",
    "\n",
    "What if we want to move a file to a different directory? We can use the move command\n",
    "```bash\n",
    "mv <filename> ../\n",
    "```\n",
    "Where did this move our file to? What do you think would happen if we did\n",
    "```bash\n",
    "mv <filename> ../<differentname>\n",
    "```\n",
    "How about \n",
    "```bash\n",
    "mv <filename> ../<differentname>/\n",
    "```\n",
    "\n",
    "What if we want to remove a file? This requires a particular amount of attention. In other words, \n",
    "\n",
    "***this next part is very important to read***.\n",
    "\n",
    "The remove command is ```rm``` and the syntax is as follows\n",
    "```bash\n",
    "rm myfile\n",
    "```\n",
    "Which will completely erase \"myfile\". Note that this isn't the same as throwing a file in your trash, which can be recovered. ***This command is absolute, and cannot be reversed***.\n",
    "\n",
    "We can make this a little more safe by using the -i flag when we use it, such as\n",
    "```bash\n",
    "rm -i myfile\n",
    "```\n",
    "which will ask us to confirm our intent before it executes. Why is this helpful? Imagine the scenario where we combined an unsafe ```rm``` command with our ```*``` wildcard. This would immediately and permanently erase all files in the working directory, which would be a disaster. By using the ```-i``` flag, we protect ourselves against this."
   ]
  },
  {
   "cell_type": "markdown",
   "metadata": {
    "editable": true
   },
   "source": [
    "### Piping \n",
    "---\n",
    "\n",
    "Piping means to take the output of one command and filter it into the input of another command. For example, lets take the beginning two lines of the last four lines of a file.\n",
    "```bash\n",
    "tail -n 4 data/animals.txt | head -n 2\n",
    "```\n",
    "\n",
    "Another useful command is the search command `grep`. We can search a file for a pattern using the syntax\n",
    "```bash\n",
    "grep <pattern> <filename>\n",
    "```\n",
    "But if we use piping, we can also use output from other commands to perform searches. Take the following example\n",
    "```bash\n",
    "ls -l | grep <username>\n",
    "```\n",
    "where `<usename>` is your username. If you try, `ls -l` is just a more informative `ls` call. In this example, we have searched for files that were created by you, which should be all the files!"
   ]
  },
  {
   "cell_type": "markdown",
   "metadata": {
    "editable": true
   },
   "source": [
    "### Summary\n",
    "```bash\n",
    "ls    # list\n",
    "cd    # change directory\n",
    "pwd   # print working directory\n",
    "touch # make new file\n",
    "mkdir # make new directory\n",
    "cp    # copy file / directory\n",
    "mv    # move file / directory\n",
    "echo  # print something to shell\n",
    "rm    # dangerous remove command\n",
    "```"
   ]
  },
  {
   "cell_type": "markdown",
   "metadata": {
    "collapsed": true,
    "editable": true
   },
   "source": [
    "### Breakout 1:\n",
    "---\n",
    "Try the following tasks:\n",
    "\n",
    "1. Construct the following tree structure, where green objects are directories, and blue objects are files. In this case, take the `home/` directory to be the directory this lecture note lives is.\n",
    "<img src=\"imgs/breakout1_tree.png\" width=500px>\n",
    "\n",
    "2. In each README file, insert the text `this is the <dirname> readme` without using a text editor\n",
    "\n",
    "3. Now move the `proposal/` directory to your home directory.\n",
    "\n",
    "4. Now erase the `classwork/` directory (remember to use `-i` flag, unless you are 100% confident in your `rm` skills)\n",
    "\n",
    "5. Make a copy of the `proposal/` directory and name it `proposal2/`, rename the original as `proposal1/`\n",
    "\n",
    "6. In one line, move all directories starting with `proposal` into the `project/` directory.\n",
    "\n",
    "7. Use the manual to figure out what the `wc` and `sort` commands do.\n",
    "\n",
    "8. Copy the `animals.txt` file in the `data/` directory over to your home directory.\n",
    "\n",
    "9. Use `wc` to get the number of words and lines in the file\n",
    "\n",
    "10. Use the `sort`, `head` and `tail` commands + the piping syntax to get the top 5 and bottom 5 animals in alphabetical order\n",
    "\n",
    "11. Insert the result into two new files: `animals_early_alphabet.txt` and `animals_late_alphabeta.txt`.\n",
    "\n"
   ]
  },
  {
   "cell_type": "markdown",
   "metadata": {
    "collapsed": true,
    "editable": true
   },
   "source": [
    "### Variables, Loops, Conditionals and Arithmetic\n",
    "---\n",
    "\n",
    "Bash commands allow us to navigate the command shell, make files and directories, edit them, erase them and move them around. However, we can also perform more traditional computer programming tasks, like variable assignment, iterating over loops and evaluating conditionals.\n",
    "\n",
    "**Variable Assignment**\n",
    "\n",
    "We can assign variables with the `=` sign, and we can print them with `echo`. For example\n",
    "```bash\n",
    "first_var=5\n",
    "second_var=hello!\n",
    "echo $first_var\n",
    "echo $second_var\n",
    "```\n",
    "will assign two variables and echo their values. In bash, everything is inherently defined as a string, meaning that if we had executed `echo first_var`, the `echo` command interpretes `first_var` as a sequence of characters, rather than the variable we defined earlier. To access variables, we need the `$` before the variable to specify we are interested in the variable `first_var`, not the string `first_var`.\n",
    "\n",
    "Be careful of the variable names you use for assignment: there are certain pre-defined variables that are curcial to the functioning of the command shell. Try echoing `$HOME` and `$PATH`, for example.\n",
    "\n",
    "We have seen that we can assign strings to variable names. We can also assign arrays variable names. The simplest way to do this is with direct assignment of the array elements\n",
    "```bash\n",
    "numbers=(1 2 3 4 5)\n",
    "marsupials=(kangaroo koala quoll wombat)\n",
    "```\n",
    "Note that if we simply echo the variable name, we only get the zeroth element\n",
    "```\n",
    "echo $numbers\n",
    "1\n",
    "```\n",
    "\n",
    "To get the whole array, we need to use a slightly different syntax\n",
    "```\n",
    "echo ${numbers[*]:<start>:<stop>}  # Get all elements\n",
    "echo ${!numbers[*]} # Get all indices\n",
    "echo ${#numbers[*]} # Get number of elements\n",
    "```\n",
    "where `<start>` and `<end>` are the starting and ending indices.\n",
    "If wanted just the 4th element, we would use `echo ${numbers[4]}`.\n",
    "\n",
    "We can also assign numerical arrays with the `seq` command:\n",
    "```bash\n",
    "arr=$(seq <start> <step> <stop>)\n",
    "```\n",
    "where the `<step>` argument is optional, and is 1 by defaut.\n",
    "\n",
    "Also note that you can delete variable names from the shell memory via\n",
    "```bash\n",
    "unset <varname>\n",
    "```\n",
    "\n",
    "**Loops**\n",
    "\n",
    "Loops can be thought of as automated iteration over an array. The syntax for a loop in bash is as follows\n",
    "```bash\n",
    "for <variable> in <iterable>\n",
    "do\n",
    "<command>\n",
    "done\n",
    "```\n",
    "One example is to just echo a sequence of numbers\n",
    "```bash\n",
    "for i in $(seq 0 10)\n",
    "do\n",
    "echo $i\n",
    "done\n",
    "```\n",
    "For bash versions >=4.0, this can also be accomplished with\n",
    "```bash\n",
    "for i in {0..10}\n",
    "do\n",
    "echo $i\n",
    "done\n",
    "```\n",
    "One could easily think of more complex tasks with loops, which we will explore later in the lesson.\n",
    "\n",
    "**Conditionals**\n",
    "\n",
    "Conditionals are \"if-then\" statements. We set up a yes-or-no condition, and if the condition is satisfied we take one path, and if it isn't satisfied we take another path. \n",
    "The syntax for an if statement is\n",
    "```bash\n",
    "if [ <condition> ]\n",
    "    then\n",
    "        <command>\n",
    "    else\n",
    "        <command>\n",
    "fi\n",
    "```\n",
    "[See here](http://tldp.org/LDP/Bash-Beginners-Guide/html/sect_07_01.html) for different ways of constructing the condition depending on what you want to do.\n",
    "\n",
    "Let's see a simple example:\n",
    "```bash\n",
    "if [ $(whoami) == nkern ]\n",
    "then\n",
    "echo \"it's me, $(whoami)\"\n",
    "fi\n",
    "```\n",
    "or\n",
    "```bash\n",
    "for i in $(seq 0 10)\n",
    "do\n",
    "    if [ $i -ge 5 ]\n",
    "        then\n",
    "        echo $i\n",
    "    fi\n",
    "done\n",
    "```\n",
    "where `-ge` stand for greater-than-or-equal.\n",
    "\n",
    "**Arithmetic**\n",
    "\n",
    "We can also perform basic integer arithmetic with the bash language. This can be accomlished with the `let` command and the arithmetic operators. For example,\n",
    "```bash\n",
    "let a=10+10\n",
    "echo $a\n",
    "20\n",
    "\n",
    "let \"a = 10 + 10\"\n",
    "echo $a\n",
    "20\n",
    "\n",
    "let a++\n",
    "echo $a\n",
    "21\n",
    "\n",
    "let a--\n",
    "echo $a\n",
    "20\n",
    "\n",
    "let \"a = 4 * 4\"\n",
    "echo $a\n",
    "16\n",
    "\n",
    "let \"a = 7 / 4\"\n",
    "echo $a\n",
    "1\n",
    "\n",
    "let \"a = 7 % 4\"\n",
    "echo $a\n",
    "3\n",
    "```\n",
    "First note that the `++` syntax just takes the current value and increases it by 1, and also note that bash cannot to floating point arithmetic, which means that although `7/4=1.75`, bash can only give us that number rounded down to the nearest integer, which is `1`. The last operator you may know as the modulus operator, which returns the remainder numerator after division. Because 7 / 4 = 1 + 3/4, the remainder is 3/4, and the mod operator returns its numerator which is 3. "
   ]
  },
  {
   "cell_type": "markdown",
   "metadata": {
    "editable": true
   },
   "source": [
    "### Scripting\n",
    "---\n",
    "\n",
    "Now that we have covered the basics of how to interact with the command shell, we can explore how these commands can be automated by shell scripting. Let's start by writing the simplest script we can. Let's open a new file called hello.sh and put the following text into it"
   ]
  },
  {
   "cell_type": "code",
   "execution_count": null,
   "metadata": {
    "collapsed": false,
    "editable": true
   },
   "outputs": [],
   "source": [
    "%%file hello.sh\n",
    "#!/bin/bash\n",
    "echo Hello World!"
   ]
  },
  {
   "cell_type": "markdown",
   "metadata": {
    "editable": true
   },
   "source": [
    "Then we can run the script via\n",
    "```bash\n",
    "bash hello.sh\n",
    "```\n",
    "which should give us the output we expect. The first line is called a hashbang, and informs the command shell that the following text is in the bash language. Note that all lines starting with `#` are not executed by the bash interpreter, and are considered to be comments for the user (except for this first line).\n",
    "\n",
    "When you run a bash script, you can feed it additional arguments, which in the script itself manifest as \"positional parameters\", which can be accessed through `$0, $1, $2 ..., $N`. To see this, let's change `hello.sh` to be"
   ]
  },
  {
   "cell_type": "code",
   "execution_count": null,
   "metadata": {
    "collapsed": false,
    "editable": true
   },
   "outputs": [],
   "source": [
    "%%file hello.sh\n",
    "#!/bin/bash\n",
    "echo Hello World!\n",
    "echo \\$0=$0\n",
    "echo \\$1=$1\n",
    "echo \\$2=$2"
   ]
  },
  {
   "cell_type": "markdown",
   "metadata": {
    "collapsed": true,
    "editable": true
   },
   "source": [
    "where I have used the `\\$` to tell the bash script to think `$` of as a string, rather than a variable identifier. If we then run \n",
    "```bash\n",
    "bash hello.sh giraffe emu fox\n",
    "```\n",
    "we find that `$0` is by default the script name, and then `$1, $2, ...` are the positional parameter we feed the script.\n"
   ]
  },
  {
   "cell_type": "markdown",
   "metadata": {
    "editable": true
   },
   "source": [
    "### Environment Variables and the .bashrc (.bash_profile)\n",
    "---\n",
    "\n",
    "Anytime we fire up a new terminal window, the first thing it does is run the startup file titled `.bashrc`. In some cases you won't have a `.bashrc`, but may have a `.bash_profile`. If you would like to create new environment variables, but don't want to define them every time you open a new terminal, you can place them in this file. One important environment variable is your `PATH`. This is a collection of locations in your computer that specify where programs live. When you go to execute a program in the CLI (like `python`) your computer searches these location. If it can't find the program in any of the locations, it will tell you `command not found`. Appending to your `PATH` will become important when we begin installing new software. See [here](http://www.linfo.org/path_env_var.html) for more info on PATH.\n",
    "\n",
    "Let's practice changing the `rm` command to a safe `rm` command via an alias, whose syntax is given by\n",
    "```\n",
    "alias rm='rm -i'\n",
    "```\n",
    "After editing the file, you start a fresh tab to bring in your changes, or in your currently active tab, you can type:\n",
    "```\n",
    "source .bashrc\n",
    "```"
   ]
  },
  {
   "cell_type": "code",
   "execution_count": null,
   "metadata": {
    "collapsed": true
   },
   "outputs": [],
   "source": []
  },
  {
   "cell_type": "markdown",
   "metadata": {
    "collapsed": true,
    "editable": true
   },
   "source": [
    "### Breakout 2:\n",
    "---\n",
    "Try the following tasks:\n",
    "\n",
    "1. Write a script titled `name_len.sh`, which when fed someone's name tells them how many letters their name contains.\n",
    "\n",
    "2. Write a script titled `calc.sh`, which when fed arithmetic in quotations prints out the answer.\n",
    "\n",
    "3. Write a script titled `even_odd.sh`, which when fed a number determines if it is even or odd."
   ]
  },
  {
   "cell_type": "code",
   "execution_count": null,
   "metadata": {
    "collapsed": true
   },
   "outputs": [],
   "source": []
  },
  {
   "cell_type": "code",
   "execution_count": 2,
   "metadata": {
    "collapsed": false
   },
   "outputs": [],
   "source": [
    "less name_len.sh"
   ]
  },
  {
   "cell_type": "markdown",
   "metadata": {
    "editable": true
   },
   "source": []
  }
 ],
 "metadata": {
  "anaconda-cloud": {},
  "kernelspec": {
   "display_name": "Python [py3k]",
   "language": "python",
   "name": "Python [py3k]"
  },
  "language_info": {
   "codemirror_mode": {
    "name": "ipython",
    "version": 3
   },
   "file_extension": ".py",
   "mimetype": "text/x-python",
   "name": "python",
   "nbconvert_exporter": "python",
   "pygments_lexer": "ipython3",
   "version": "3.5.2"
  }
 },
 "nbformat": 4,
 "nbformat_minor": 0
}
