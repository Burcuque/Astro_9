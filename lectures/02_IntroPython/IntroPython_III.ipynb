{
 "cells": [
  {
   "cell_type": "markdown",
   "metadata": {},
   "source": [
    "## Introduction to Python III\n",
    "**Nick Kern**\n",
    "<br>\n",
    "**Astro 9: Python Programming in Astronomy**\n",
    "<br>\n",
    "**UC Berkeley**\n",
    "\n",
    "---\n",
    "\n",
    "In this lesson, we will begin to study more advanced topics that make Python a powerful high-level language. We will start with an overview of the function object in Python, how to write them and how they operate. We will then look at how to import Python packages, which have pre-defined functions that accomplish certain tasks. In doing so, we will look at the most useful and commonly used built-in packages that come with a standard Python distribution. This will naturally lead us to then discussing the class object in Python, and in general the design of objection-oriented programming. Lastly, we will conclude with an overview of reading-in and writing-out data (aka Input/Output or I/O).\n",
    "\n",
    "1. [Functions](#Functions)\n",
    "3. [Namespaces](#Namespaces-and-Scope)\n",
    "3. [lambda functions](#lambda-functions)\n",
    "3. [Built-in Functions](#Built-in-Functions)\n",
    "2. [Modules](#Modules)\n",
    "3. [Classes and OOP](#Classes-and-OOP)\n",
    "4. [File I/O](#File-I/O)"
   ]
  },
  {
   "cell_type": "markdown",
   "metadata": {
    "collapsed": true
   },
   "source": [
    "### Functions\n",
    "\n",
    "**How-To**\n",
    "\n",
    "You can think of a function in Python as a chunk of code that we have purposely separated from the rest of our code and given a name. At any point in the linear flow of our script, we can **call** this function and **pass it arguments** that allow it to run as we desire. Typically, a function will perform some calculation and will **return** the result, or will do something like take an existing data structure and append values to it. Let's start by writing some basic functions. The syntax for constructing a function is as follows:\n",
    "```\n",
    "def <func_name>(argument1, argument2, keyword-argument1=something, keyword-argument2=something):\n",
    "    \"\"\"\n",
    "    This is the doc-string! Similar to the # character, the ''' characters mean that the following lines\n",
    "    are not evaluated by the interpreter and are comments meant to inform the user on how to use\n",
    "    this function.\n",
    "    \"\"\"\n",
    "    operation1 = argument1 * argument2\n",
    "    if keyword-argument1 is not something:\n",
    "        operation1 += 1\n",
    "    \n",
    "    return operation1\n",
    "```\n",
    "Note that the **indentation** specifies which lines of code are tied to the function."
   ]
  },
  {
   "cell_type": "code",
   "execution_count": null,
   "metadata": {
    "collapsed": true
   },
   "outputs": [],
   "source": [
    "# A simple function\n",
    "def my_func(x, y=10):\n",
    "    \"this is my_func, which will return x * y\"\n",
    "    result = x * y\n",
    "    return result"
   ]
  },
  {
   "cell_type": "code",
   "execution_count": null,
   "metadata": {
    "collapsed": true
   },
   "outputs": [],
   "source": [
    "# inspect the doc string\n",
    "my_func?"
   ]
  },
  {
   "cell_type": "code",
   "execution_count": null,
   "metadata": {
    "collapsed": true
   },
   "outputs": [],
   "source": [
    "# feed it a number\n",
    "output = my_func(5)\n",
    "print(output)"
   ]
  },
  {
   "cell_type": "code",
   "execution_count": null,
   "metadata": {
    "collapsed": true
   },
   "outputs": [],
   "source": [
    "a = 10"
   ]
  },
  {
   "cell_type": "code",
   "execution_count": null,
   "metadata": {
    "collapsed": true
   },
   "outputs": [],
   "source": [
    "# Try to print out result\n",
    "print(result)"
   ]
  },
  {
   "cell_type": "markdown",
   "metadata": {},
   "source": [
    "### Namespaces and Scope\n",
    "\n",
    "The previous test leads us to consider the concept of a ***namespace*** and ***scope***, which are intimately tied to the concept of a function in Python. A namespace is like a dictionary for the Python interpreter: it tells us which variable is attached to a certain piece of data. There can be multiple namespaces spanning a single program. The concept of scope tells us how to navigate the different namespaces depending on where we are within a program.\n",
    "\n",
    "Spanning the entire program is the \"global\" namespace. When we define a variable like\n",
    "```\n",
    "a = 10\n",
    "```\n",
    "for example, we are assigning the variable in the global namespace. Anytime we enter a function, however, we temporarily construct a \"local\" namespace. Variables defined in this namespace get preference while performing operations in this namespace. This leads to the construction of a hierarchy of namespaces, with local being nested inside of global. If we entered yet another function within the first function, we would create a doubly-nested set of namespaces. When performing an operation with a variable, we need to evaluate the its scope, which tells us which namespaces we can look in to search for the variable. A fundamental principle of scope tells us that when we are currently in some namespace, we can **always reach back** in the hierarcy to access the namespaces upstream that enclose us, but can **never reach forward** in the hierarchy to reach namespaces that are nested further down. \n",
    "\n",
    "Let's take our function `my_func` for example. The global namespace exists everywhere, meaning we can access it within functions. Schematically, the namespaces we can access depending on where we are in the script are\n",
    "```\n",
    "<global namespace>\n",
    "\n",
    "def func():\n",
    "    <local namespace>\n",
    "    <can also access global namespace>\n",
    "    \n",
    "<back to global namespace>\n",
    "```"
   ]
  },
  {
   "cell_type": "code",
   "execution_count": null,
   "metadata": {
    "collapsed": true
   },
   "outputs": [],
   "source": [
    "# Access the variable z while inside the function\n",
    "z = 10\n",
    "x = 0\n",
    "\n",
    "def my_func(x, y=10):\n",
    "    result = x * y * z\n",
    "    print(result)\n",
    "    \n",
    "my_func(10)\n",
    "print(result)"
   ]
  },
  {
   "cell_type": "markdown",
   "metadata": {},
   "source": [
    "Two things happened here. First, we can see that even though we had previous defined `x = 0` in the global namespace, the scope of the function told us to look first in the local namespace to see if `x` existed. In this case it did, and it used the locally defined `x` instead of the global `x`. Second, we can see that we did not define `z` locally, so it went up a hierachy level to search `global`, and found it.\n",
    "\n",
    "Anytime we enter a local namespace and then exit that namespace, the variables inside `local` are destroyed. This is important enough to state twice; the variables we define in `local` are lost unless we transport them back to the global namespace before we exit. This is actually a very convenient functionality of Python called ***garbage collection***, which 1) keeps `global` from being cluttered up by series of nested namespaces and 2) helps us recycle memory for future use. How can we transport `local` variables to `global`? Well, this is what the `return` command does at the end of a function: it sends the pointer of the desired object(s) to the global namespace, where a variable in the global namespace awaits its assignment."
   ]
  },
  {
   "cell_type": "code",
   "execution_count": null,
   "metadata": {
    "collapsed": true
   },
   "outputs": [],
   "source": [
    "# sending output to the global namespace\n",
    "def my_func(x, y=10):\n",
    "    return x * y, x**2 + y**2, x + 3\n",
    "\n",
    "output = my_func(10)\n",
    "\n",
    "print(output)"
   ]
  },
  {
   "cell_type": "code",
   "execution_count": null,
   "metadata": {
    "collapsed": true
   },
   "outputs": [],
   "source": [
    "# Another example of scope with two nested namespaces\n",
    "z = 10\n",
    "def my_func(x, y=10):\n",
    "    def my_other_func(x):\n",
    "        return x + y + z\n",
    "    \n",
    "    result = my_other_func(x)\n",
    "    return result, my_other_func\n",
    "\n",
    "output = my_func(2)\n",
    "print(output)"
   ]
  },
  {
   "cell_type": "markdown",
   "metadata": {},
   "source": [
    "### Built-in Functions\n",
    "\n",
    "Python comes pre-programmed with some built-in functions. We have already explored some of them, like `print()`, `int()`, `float()`, `set()`, `dict()`, and `hex()` and `id()`, to name a few. To get a list of all the built-in functions in Python 3, see [here](https://docs.python.org/3/library/functions.html). Let's explore some of the more useful ones we have yet to see.\n",
    "\n",
    "`map()` is a very useful function for looping over an iterable and performing some calculation on it element-by-element. In some sense, you can think of it as a function and a for-loop pieced together in a single line. The syntax is `map(<function>, <iterable>)`. In Python 3 (unlike Python 2), the output of `map()` is an iterator, whereas in Python 2 it is a list. "
   ]
  },
  {
   "cell_type": "code",
   "execution_count": null,
   "metadata": {
    "collapsed": true
   },
   "outputs": [],
   "source": [
    "# Convert each element of the integer list range(5) to a float\n",
    "result = list( map(float, [0, 1, 2, 3, 4] ) )\n",
    "print(result)"
   ]
  },
  {
   "cell_type": "code",
   "execution_count": null,
   "metadata": {
    "collapsed": true
   },
   "outputs": [],
   "source": [
    "# Map can also take a custom function as its first argument\n",
    "# Find all odd numbers in range(10)\n",
    "def find_odd(x):\n",
    "    return bool(x % 2)\n",
    "\n",
    "result = list( map(find_odd, range(10)) )\n",
    "\n",
    "print(list( range(10) ))\n",
    "print(result)"
   ]
  },
  {
   "cell_type": "markdown",
   "metadata": {},
   "source": [
    "The `sorted()` method allows us to easily sort lists."
   ]
  },
  {
   "cell_type": "code",
   "execution_count": null,
   "metadata": {
    "collapsed": true
   },
   "outputs": [],
   "source": [
    "# Sort numbers\n",
    "a = [3, 7, 1, 33, 6, 245, 8]\n",
    "print(sorted(a))\n",
    "\n",
    "# Sort letters\n",
    "a = ['t', 'u', 'a', 'g', 'e', 'w']\n",
    "print(sorted(a))"
   ]
  },
  {
   "cell_type": "markdown",
   "metadata": {},
   "source": [
    "The `zip()` function weaves or \"zips\" two separate data structures together element-by-element."
   ]
  },
  {
   "cell_type": "code",
   "execution_count": null,
   "metadata": {
    "collapsed": true
   },
   "outputs": [],
   "source": [
    "# zip together these lists\n",
    "states = [\"Michigan\", \"Minnesota\", \"Massachusetts\",\"Maine\",\"Montana\"]\n",
    "capitals = [\"Lansing\", \"Saint Paul\", \"Boston\", \"Augusta\", \"Helena\"]\n",
    "state_cap = list( zip(states, capitals) )\n",
    "print(state_cap)"
   ]
  },
  {
   "cell_type": "markdown",
   "metadata": {
    "collapsed": true
   },
   "source": [
    "### Breakout\n",
    "\n",
    "Write a function that calculates and returns either the area or the circumference of a circle when given a radius. enable the selection between outputting the area or circumference by incorporating a keyword-argument. it would be good to know that $\\pi \\sim 3.14159$"
   ]
  },
  {
   "cell_type": "code",
   "execution_count": null,
   "metadata": {
    "collapsed": true
   },
   "outputs": [],
   "source": []
  },
  {
   "cell_type": "markdown",
   "metadata": {},
   "source": [
    "### Modules\n",
    "\n",
    "Besides the built-in functions we just explored, there are functions that live in external modules. A Python distribution typically comes with standard modules, which you won't need to download if you already have a working Python installation. Let's explore how we can import these modules into our interpreter environment and use them. Some of the modules we will exlore are\n",
    "* math\n",
    "* time\n",
    "* os\n",
    "* sys\n",
    "* collections\n",
    "\n",
    "The syntax for importing a module is\n",
    "```\n",
    "import <module>.<submodule> as <module_reference>\n",
    "```\n",
    "or\n",
    "```\n",
    "from <module> import <submodule> as <module_reference>\n",
    "```\n",
    "\n",
    "But first.."
   ]
  },
  {
   "cell_type": "code",
   "execution_count": null,
   "metadata": {
    "collapsed": true
   },
   "outputs": [],
   "source": [
    "import antigravity as ag"
   ]
  },
  {
   "cell_type": "markdown",
   "metadata": {},
   "source": [
    "**math**\n",
    "\n",
    "While Python natively allows for basic arithmetic, there are many mathematical operations that we might like to do that aren't pre-built into Python. The `math` modules carries many such functions."
   ]
  },
  {
   "cell_type": "code",
   "execution_count": null,
   "metadata": {
    "collapsed": true
   },
   "outputs": [],
   "source": [
    "# This will import the math module and name is math\n",
    "import math\n",
    "\n",
    "# This will import the math module and name it m\n",
    "import math as m\n",
    "\n",
    "# To see a list of what submodule and functions it contains, use dir\n",
    "dir(m)"
   ]
  },
  {
   "cell_type": "code",
   "execution_count": null,
   "metadata": {
    "collapsed": true
   },
   "outputs": [],
   "source": [
    "# import just one function from the math module\n",
    "from math import sqrt"
   ]
  },
  {
   "cell_type": "code",
   "execution_count": null,
   "metadata": {
    "collapsed": true
   },
   "outputs": [],
   "source": [
    "sqrt = \"this is some string\""
   ]
  },
  {
   "cell_type": "code",
   "execution_count": null,
   "metadata": {
    "collapsed": true
   },
   "outputs": [],
   "source": [
    "# import all methods from the math module\n",
    "from math import *\n",
    "\n",
    "# this is considered bad practice because it muddies up your global namespace"
   ]
  },
  {
   "cell_type": "markdown",
   "metadata": {},
   "source": [
    "You can see the math module has a `log` function, trigonometric functions like `sin` and `cos`, a square-root function, rounding functions like `floor` and `ceil`, and fundamental constants like `pi` and `e`. We can access the functions attached to a module (called methods) with a dot syntax: `<module>.<method>`."
   ]
  },
  {
   "cell_type": "code",
   "execution_count": null,
   "metadata": {
    "collapsed": true
   },
   "outputs": [],
   "source": [
    "# take sqrt of 25\n",
    "print( m.sqrt(25) )"
   ]
  },
  {
   "cell_type": "markdown",
   "metadata": {},
   "source": [
    "**time**\n",
    "\n",
    "The `time` module allows us get the current time, timezone, and make our interpreter `sleep`."
   ]
  },
  {
   "cell_type": "code",
   "execution_count": null,
   "metadata": {
    "collapsed": true
   },
   "outputs": [],
   "source": [
    "import time\n",
    "\n",
    "print(\"The current time and date in %s is %s\" % (time.tzname[0], time.asctime()))"
   ]
  },
  {
   "cell_type": "code",
   "execution_count": null,
   "metadata": {
    "collapsed": true
   },
   "outputs": [],
   "source": [
    "# use sleep to delay the interpreter from continue for X seconds\n",
    "print(\"start loop!\")\n",
    "for i in range(2):\n",
    "    time.sleep(1)\n",
    "    print(\"its been %s seconds since the loop started...\" % (i + 1))"
   ]
  },
  {
   "cell_type": "markdown",
   "metadata": {},
   "source": [
    "**os**\n",
    "\n",
    "The `os` module stands for operating system, and allows us to interact with our operator system like we might through a command line interface like a bash shell."
   ]
  },
  {
   "cell_type": "code",
   "execution_count": null,
   "metadata": {
    "collapsed": true
   },
   "outputs": [],
   "source": [
    "import os"
   ]
  },
  {
   "cell_type": "code",
   "execution_count": null,
   "metadata": {
    "collapsed": true
   },
   "outputs": [],
   "source": [
    "# similar to bash ls\n",
    "print( os.listdir() )"
   ]
  },
  {
   "cell_type": "code",
   "execution_count": null,
   "metadata": {
    "collapsed": true
   },
   "outputs": [],
   "source": [
    "# similar to bash pwd\n",
    "print( os.getcwd() )"
   ]
  },
  {
   "cell_type": "code",
   "execution_count": null,
   "metadata": {
    "collapsed": true
   },
   "outputs": [],
   "source": [
    "# similar to bash cd\n",
    "os.chdir('../')\n",
    "os.listdir()"
   ]
  },
  {
   "cell_type": "code",
   "execution_count": null,
   "metadata": {
    "collapsed": true
   },
   "outputs": [],
   "source": [
    "# go back\n",
    "os.chdir('02_IntroPython')"
   ]
  },
  {
   "cell_type": "markdown",
   "metadata": {},
   "source": [
    "**sys**\n",
    "\n",
    "The `sys` module allows us to interact with the interpreter. One thing we can do is access positional arguments that may have been fed to the script. We can also"
   ]
  },
  {
   "cell_type": "code",
   "execution_count": null,
   "metadata": {
    "collapsed": true
   },
   "outputs": [],
   "source": [
    "%%file hello.py\n",
    "import sys\n",
    "print(sys.argv)\n",
    "\n",
    "print(\"hello!\")"
   ]
  },
  {
   "cell_type": "code",
   "execution_count": null,
   "metadata": {
    "collapsed": true
   },
   "outputs": [],
   "source": [
    "%run hello.py arg1 arg2 arg3"
   ]
  },
  {
   "cell_type": "markdown",
   "metadata": {},
   "source": [
    "**collections**\n",
    "\n",
    "The `collections` modules provides specialized container data structures as an alternative to Python's general purpose built-in data structures. One of the more notable is the `OrderedDict`, which is a dictionary that keeps the order in which things are added to it, which might be desirable in some circumstances.\n"
   ]
  },
  {
   "cell_type": "code",
   "execution_count": null,
   "metadata": {
    "collapsed": true
   },
   "outputs": [],
   "source": [
    "import collections"
   ]
  },
  {
   "cell_type": "code",
   "execution_count": null,
   "metadata": {
    "collapsed": true
   },
   "outputs": [],
   "source": [
    "# OrderedDict example\n",
    "d1 = collections.OrderedDict([['apple',1], ['banana',2],['orange',3],['pear',4]])\n",
    "d2 = dict([['apple',1], ['banana',2],['orange',3],['pear',4]])\n",
    "\n",
    "print(d1.keys())\n",
    "print(d2.keys())"
   ]
  },
  {
   "cell_type": "markdown",
   "metadata": {},
   "source": [
    "### How to explore new modules\n",
    "\n",
    "Often we would like to accomplish a task / solve a problem that someone else has already solved and written a module for. Searching the web for Python modules, downloading them, installing them and insepcting them is a useful tool for any scientist. Use the interactive functionalities of Jupyter Notebooks to your advantage! Remember the following commands to help you learn what a module and its associated functions can be used for:\n",
    "```\n",
    "<module>.<tab>\n",
    "```\n",
    "is a way to see all of the methods and attributes of a module. Another way to print this out to the stdout in a non-interactive session is `dir(<module>)`\n",
    "You can use \n",
    "```\n",
    "<module>?\n",
    "```\n",
    "to see the doc-string of the module, which should give a reasonable explanation of the module and its capabilities. The way to print this to the stdout in a non-interactive session is `help(<module>)`."
   ]
  },
  {
   "cell_type": "code",
   "execution_count": null,
   "metadata": {
    "collapsed": true
   },
   "outputs": [],
   "source": [
    "import string"
   ]
  },
  {
   "cell_type": "code",
   "execution_count": null,
   "metadata": {
    "collapsed": true
   },
   "outputs": [],
   "source": [
    "string.ascii_lowercase"
   ]
  },
  {
   "cell_type": "code",
   "execution_count": null,
   "metadata": {
    "collapsed": true
   },
   "outputs": [],
   "source": [
    "string?"
   ]
  },
  {
   "cell_type": "markdown",
   "metadata": {},
   "source": [
    "### Building our Own Module\n",
    "\n",
    "To bulid a simple module, you need only write Python code into a script and \"import\" the script (with no .py suffix). When you import the script, you are actually running the script and importing the resultant global variables. If you want to define functions and operations that only occur when the program is run directly from the command line, use the fact that the variable `__name__` is set to the value of `__main__` only when the program is run from the CLI. Take the following example."
   ]
  },
  {
   "cell_type": "code",
   "execution_count": null,
   "metadata": {
    "collapsed": true
   },
   "outputs": [],
   "source": [
    "%%file module1.py \n",
    "\n",
    "myname = \"Nick\"\n",
    "\n",
    "def my_simple_function(x):\n",
    "    return x**2"
   ]
  },
  {
   "cell_type": "code",
   "execution_count": null,
   "metadata": {
    "collapsed": true
   },
   "outputs": [],
   "source": [
    "import module1"
   ]
  },
  {
   "cell_type": "code",
   "execution_count": null,
   "metadata": {
    "collapsed": true
   },
   "outputs": [],
   "source": [
    "dir(module1)"
   ]
  },
  {
   "cell_type": "code",
   "execution_count": null,
   "metadata": {
    "collapsed": true
   },
   "outputs": [],
   "source": [
    "module1.myname"
   ]
  },
  {
   "cell_type": "code",
   "execution_count": null,
   "metadata": {
    "collapsed": true
   },
   "outputs": [],
   "source": [
    "module1.my_simple_function(4)"
   ]
  },
  {
   "cell_type": "markdown",
   "metadata": {},
   "source": [
    "### Breakout\n",
    "\n",
    "\n",
    "* Write a function that approximates $\\pi$ via the convergent series of inverse squares\n",
    "\\begin{align}\n",
    "\\frac{1}{1} + \\frac{1}{4} + \\frac{1}{9} + \\frac{1}{16} + \\ldots = \\frac{\\pi^{2}}{6}\n",
    "\\end{align}\n",
    "Take the number of terms in the sum as input, and print out the approximation as well as the fractional error from the true value.\n",
    "\n",
    "\n",
    "* turn it into a module and import the function!\n",
    "\n",
    "\n",
    "* don't forget to add an informative doc-string to the function!"
   ]
  },
  {
   "cell_type": "code",
   "execution_count": null,
   "metadata": {
    "collapsed": true
   },
   "outputs": [],
   "source": []
  },
  {
   "cell_type": "markdown",
   "metadata": {},
   "source": [
    "### Classes & OOP\n",
    "\n",
    "Now that we have reviewed functions and module importing, we will cover another fundamental level of Pythonic abstraction: classes. Classes are not unique to Python. In fact, the term object-oriented programming (OOP) implies that a language is built to handle class structures. Here, we will cover how Python uses classes to form high-level abstractions of containerized objects. To be precise, an object in Python is a container that holds **methods (functions)** and **attributes (variables)**, which can be accessed with a `<object>.<method>` syntax.\n",
    "\n",
    "In this sense, the modules we have been working with are like objects, in that they hold both methods `math.sin` and attributes `math.pi`. In fact, almost everything in Python is an object, like strings (which have their own methods as we will see later), and all of the data structures we saw before. Another thing that separates classes from functions besides the ability of a class to hold methods and attributes, is that to use the class, we cannot just call it from the interpreter like we would a function; to use a class we first need to ***instantiate*** it. Let's first learn what this means through an example."
   ]
  },
  {
   "cell_type": "code",
   "execution_count": null,
   "metadata": {
    "collapsed": true
   },
   "outputs": [],
   "source": [
    "# Define a very simple class\n",
    "class My_Class:\n",
    "    i = 10"
   ]
  },
  {
   "cell_type": "code",
   "execution_count": null,
   "metadata": {
    "collapsed": true
   },
   "outputs": [],
   "source": [
    "# Instantiate the class\n",
    "MC = My_Class()"
   ]
  },
  {
   "cell_type": "code",
   "execution_count": null,
   "metadata": {
    "collapsed": true
   },
   "outputs": [],
   "source": [
    "# look at class object\n",
    "My_Class"
   ]
  },
  {
   "cell_type": "code",
   "execution_count": null,
   "metadata": {
    "collapsed": true
   },
   "outputs": [],
   "source": [
    "# look at instantiation of class\n",
    "print(MC)"
   ]
  },
  {
   "cell_type": "markdown",
   "metadata": {},
   "source": [
    "This is a very simple class. We have called the object `My_Class` a class, and have assigned it one attribute, `i`, which we set equal to `10`. We then instantiated the class and called that particular instantiation `MC`. If we wanted to access the variable `i`, we can do so via the `<object>.<attribute>` syntax."
   ]
  },
  {
   "cell_type": "code",
   "execution_count": null,
   "metadata": {
    "collapsed": true
   },
   "outputs": [],
   "source": [
    "# print i\n",
    "print(MC.i)"
   ]
  },
  {
   "cell_type": "markdown",
   "metadata": {},
   "source": [
    "We can also add new attributes, or change old ones. This does not affect the class object, only the instantiation."
   ]
  },
  {
   "cell_type": "code",
   "execution_count": null,
   "metadata": {
    "collapsed": true
   },
   "outputs": [],
   "source": [
    "MC.a = 100\n",
    "MC.i = 0"
   ]
  },
  {
   "cell_type": "code",
   "execution_count": null,
   "metadata": {
    "collapsed": true
   },
   "outputs": [],
   "source": [
    "print(MC.a, MC.i)"
   ]
  },
  {
   "cell_type": "markdown",
   "metadata": {},
   "source": [
    "Now let's make the class a little less simple."
   ]
  },
  {
   "cell_type": "code",
   "execution_count": null,
   "metadata": {
    "collapsed": true
   },
   "outputs": [],
   "source": [
    "# a little less simple class\n",
    "class My_Class:\n",
    "    \"\"\"\n",
    "    doc-string for the class\n",
    "    \"\"\"\n",
    "    i = 10\n",
    "    \n",
    "    def func1(self, arg1):\n",
    "        \"\"\"\n",
    "        doc-string for func1\n",
    "        \"\"\"\n",
    "        return arg1**2"
   ]
  },
  {
   "cell_type": "code",
   "execution_count": null,
   "metadata": {
    "collapsed": true
   },
   "outputs": [],
   "source": [
    "# Instantiate the class\n",
    "MC = My_Class()"
   ]
  },
  {
   "cell_type": "code",
   "execution_count": null,
   "metadata": {
    "collapsed": true
   },
   "outputs": [],
   "source": [
    "MC.func1(10)"
   ]
  },
  {
   "cell_type": "markdown",
   "metadata": {},
   "source": [
    "Here, we have assigned the class a **doc string** for informative purposes. Along with `i`, we now define a single **method** for the class, called `func1`, which returns the square of a number passed to it. In this basic form, the class isn't all that helpful to us; its only purpose is to hold the function `func1`, and the attribute `i`, which we could have defined separately. Let's make this class a little more complex."
   ]
  },
  {
   "cell_type": "code",
   "execution_count": null,
   "metadata": {
    "collapsed": true
   },
   "outputs": [],
   "source": [
    "# a less simple class\n",
    "class My_Class:\n",
    "    \"\"\"\n",
    "    doc-string for the class\n",
    "    \"\"\"\n",
    "    def __init__(self, var1, var2):\n",
    "        self.var1 = var1\n",
    "        self.var2 = var2\n",
    "        \n",
    "    def func1(self, arg1):\n",
    "        \"\"\"\n",
    "        doc-string for func1\n",
    "        \"\"\"\n",
    "        result = self.var1 * arg1\n",
    "        return result\n"
   ]
  },
  {
   "cell_type": "code",
   "execution_count": null,
   "metadata": {
    "collapsed": true
   },
   "outputs": [],
   "source": [
    "# Instantiate the class\n",
    "MC = My_Class(10, 20)"
   ]
  },
  {
   "cell_type": "markdown",
   "metadata": {},
   "source": [
    "Here we have defined an `__init__()` method, which has special meaning when nested inside a class as such. This method will be run automatically when the class is instantiated, and whatever arguments we pass to the class upon instantiation will be passed to this function. In it, we have defined the **class variables** `self.var1` and `self.var2`. Notice that we have modified `func1` to utilize the attribute `self.var1`. What's going on here? Remember our discussion about namespaces and scope? Intuition tells us that `self.var1` should be destroyed after instantiation when the `__init__()` method is finished. What's happening, is that when within a class, the `self` object refernces the class itself. Meaning that when defining `self.var1`, we are promoting the variable the a class-wide namespace, which can be accessed at anytime by calling the class itself, both inside and outside the class."
   ]
  },
  {
   "cell_type": "code",
   "execution_count": null,
   "metadata": {
    "collapsed": true
   },
   "outputs": [],
   "source": [
    "# access attributes assigned upon class instantiation\n",
    "print(MC.var1)\n",
    "print(MC.var2)"
   ]
  },
  {
   "cell_type": "code",
   "execution_count": null,
   "metadata": {
    "collapsed": true
   },
   "outputs": [],
   "source": [
    "# Run func1\n",
    "MC.func1(2.0)"
   ]
  },
  {
   "cell_type": "markdown",
   "metadata": {},
   "source": [
    "Let's look at the differences between the object `My_Class` and `MC`. The former is considered a class, while the latter an instance (or an instantiation of `My_Class`). Besides the semantics what's the difference? A good analogy I once heard was that a class is like the blueprints to a certain kind of car: it details how the car should be made and what should come pre-built with it. An instance (or instantiation of the class) is like the actual car itself once it is made. I can have any number of actual cars from the initial blueprint, just as I could have an arbitrary number of instantiations of the original class. Methods of the object `My_Class` are therefore called class methods, and methods of `MC` are called instance methods."
   ]
  },
  {
   "cell_type": "markdown",
   "metadata": {},
   "source": [
    "### Special Class Methods\n",
    "\n",
    "Along with the `__init__` method, there are other special class methods that allow a custom class to do many different things. When we want to print a class, for example, we are really calling the `<class>.__str__` method. If we try to add a number to a class via `<class> + number`, we are really calling `<class>.__add__(number)`. Changing the inherent `__add__()` method of a class is called operator overloading. More info on the available special methods can be found [here](http://www.diveintopython3.net/special-method-names.html)."
   ]
  },
  {
   "cell_type": "code",
   "execution_count": null,
   "metadata": {
    "collapsed": true
   },
   "outputs": [],
   "source": [
    "# This example changes the string representation of the class when printed\n",
    "class MyClass:\n",
    "    \n",
    "    def __init__(self, arg1):\n",
    "        self.arg1 = arg1\n",
    "    \n",
    "    def __str__(self):\n",
    "        return \"MyClass object with arg1 = %s\" % self.arg1\n",
    "\n",
    "MC = MyClass(25)"
   ]
  },
  {
   "cell_type": "code",
   "execution_count": null,
   "metadata": {
    "collapsed": true
   },
   "outputs": [],
   "source": [
    "# call __str__() method when printing\n",
    "print(MC)"
   ]
  },
  {
   "cell_type": "code",
   "execution_count": null,
   "metadata": {
    "collapsed": true
   },
   "outputs": [],
   "source": [
    "# call __repr__() method when looking at object directly\n",
    "MC"
   ]
  },
  {
   "cell_type": "code",
   "execution_count": null,
   "metadata": {
    "collapsed": true
   },
   "outputs": [],
   "source": [
    "# This example allows us to add custom class objects\n",
    "class MyClass:\n",
    "    \n",
    "    def __init__(self, arg1):\n",
    "        self.arg1 = arg1\n",
    "    \n",
    "    def __str__(self):\n",
    "        return \"MyClass object with arg1 = %s\" % self.arg1\n",
    "    \n",
    "    def __repr__(self):\n",
    "        return \"%s\" % self.arg1\n",
    "    \n",
    "    def __add__(self, other):\n",
    "        return MyClass(self.arg1 + other.arg1)\n",
    "\n",
    "MC = MyClass(10)"
   ]
  },
  {
   "cell_type": "code",
   "execution_count": null,
   "metadata": {
    "collapsed": true
   },
   "outputs": [],
   "source": [
    "# Look at MyClass __str__\n",
    "print(MC)"
   ]
  },
  {
   "cell_type": "code",
   "execution_count": null,
   "metadata": {
    "collapsed": true
   },
   "outputs": [],
   "source": [
    "# Look at MyClass with __repr__\n",
    "MC"
   ]
  },
  {
   "cell_type": "code",
   "execution_count": null,
   "metadata": {
    "collapsed": true
   },
   "outputs": [],
   "source": [
    "# Add two MyClass instances together!\n",
    "MC1 = MyClass(10)\n",
    "MC2 = MyClass(15)\n",
    "MC3 = MC1 + MC2"
   ]
  },
  {
   "cell_type": "code",
   "execution_count": null,
   "metadata": {
    "collapsed": true
   },
   "outputs": [],
   "source": [
    "# look at __str__\n",
    "print(MC3)"
   ]
  },
  {
   "cell_type": "code",
   "execution_count": null,
   "metadata": {
    "collapsed": true
   },
   "outputs": [],
   "source": [
    "# look at __repr__\n",
    "MC3"
   ]
  },
  {
   "cell_type": "markdown",
   "metadata": {},
   "source": [
    "### Breakout\n",
    "\n",
    "Write your own custom class called `Complex(r, i)`, where `r` is the real and `i` imaginary component. When instantiated, the class should have the following attributes\n",
    "* self.real\n",
    "* self.imag\n",
    "* self.abs\n",
    "\n",
    "and the method\n",
    "* self.conjugate()\n",
    "\n",
    "which returns the complex conjugate. Your custom Complex class should also support Complex addition.\n",
    "The syntax and expected output of Complex should be something along the lines of\n",
    "```\n",
    ">>> C = Complex(1, 2)\n",
    ">>> print(C)\n",
    "(1, 2j)\n",
    ">>> print(C.real)\n",
    "1\n",
    ">>> print(C.imag)\n",
    "2\n",
    ">>> print(C.conjugate())\n",
    "(1, -2j)\n",
    ">>> print(type(C.conjugate())\n",
    "<class '__main__.Complex'>\n",
    "```\n",
    "\n",
    "**Bonus**:\n",
    "\n",
    "Allow your custom class to add with the built-in `complex` type. Hint: try using the `isinstance(object, type)` conditional to check what the type of an incoming object is...\n"
   ]
  },
  {
   "cell_type": "code",
   "execution_count": null,
   "metadata": {
    "collapsed": true
   },
   "outputs": [],
   "source": []
  },
  {
   "cell_type": "markdown",
   "metadata": {},
   "source": [
    "### Inheritance and the cat-dog\n",
    "\n",
    "When we write pieces of code that have separate functionalities, it can be a good idea to branch them into separate classes. This helps keep our codebase clean and organized, and when we want to use the code we've written we only need to import the code we want to use instead of everything in our codebase. There are times, however, that we want to merge the capabilities of two separate classes together, so that we can access the methods and attributes from both classes. We can do this through inheritance. "
   ]
  },
  {
   "cell_type": "code",
   "execution_count": null,
   "metadata": {
    "collapsed": true
   },
   "outputs": [],
   "source": [
    "class dog:\n",
    "    def __init__(self, name):\n",
    "        self.name = name\n",
    "        \n",
    "    def bark(self):\n",
    "        print(\"bark!\")\n",
    "         \n",
    "class cat:\n",
    "    def __init__(self, name):\n",
    "        self.name = name\n",
    "    \n",
    "    def meow(self):\n",
    "        print(\"meow!\")"
   ]
  },
  {
   "cell_type": "code",
   "execution_count": null,
   "metadata": {
    "collapsed": true
   },
   "outputs": [],
   "source": [
    "# Instantiate\n",
    "C = cat('tom')\n",
    "D = dog('goofy')\n",
    "\n",
    "C.meow()\n",
    "D.bark()"
   ]
  },
  {
   "cell_type": "code",
   "execution_count": null,
   "metadata": {
    "collapsed": true
   },
   "outputs": [],
   "source": [
    "# Example in inheritance\n",
    "class dog:\n",
    "    def __init__(self, name):\n",
    "        self.name = name\n",
    "        \n",
    "    def bark(self):\n",
    "        print(\"bark!\")\n",
    "         \n",
    "class cat(dog):\n",
    "    def __init__(self, name):\n",
    "        self.name = name\n",
    "    \n",
    "    def meow(self):\n",
    "        print(\"meow!\")\n",
    "        \n",
    "#    def bark(self):\n",
    "#        print(\"meark!\")"
   ]
  },
  {
   "cell_type": "code",
   "execution_count": null,
   "metadata": {
    "collapsed": true
   },
   "outputs": [],
   "source": [
    "C = cat('tom')\n",
    "\n",
    "C.bark()"
   ]
  },
  {
   "cell_type": "markdown",
   "metadata": {
    "collapsed": true
   },
   "source": [
    "Another solution is to compose the second class within the first via a technique called **composition**. One benefit is that this leads to non-overlapping namespaces.\n"
   ]
  },
  {
   "cell_type": "code",
   "execution_count": null,
   "metadata": {
    "collapsed": true
   },
   "outputs": [],
   "source": [
    "# Example in composition\n",
    "class dog:\n",
    "    def __init__(self, name):\n",
    "        self.name = name\n",
    "        \n",
    "    def bark(self):\n",
    "        print(\"bark!\")\n",
    "         \n",
    "class cat:\n",
    "    def __init__(self, name):\n",
    "        self.name = name\n",
    "        self.dog = dog('goofy')\n",
    "    \n",
    "    def meow(self):\n",
    "        print(\"meow!\")\n",
    "    \n",
    "    def bark(self):\n",
    "        print(\"meark!\")"
   ]
  },
  {
   "cell_type": "code",
   "execution_count": null,
   "metadata": {
    "collapsed": true
   },
   "outputs": [],
   "source": [
    "C = cat('tom')"
   ]
  },
  {
   "cell_type": "code",
   "execution_count": null,
   "metadata": {
    "collapsed": true
   },
   "outputs": [],
   "source": [
    "C.bark()\n",
    "print(C.name)"
   ]
  },
  {
   "cell_type": "code",
   "execution_count": null,
   "metadata": {
    "collapsed": true
   },
   "outputs": [],
   "source": [
    "C.dog.bark()\n",
    "print(C.dog.name)"
   ]
  },
  {
   "cell_type": "markdown",
   "metadata": {},
   "source": [
    "Inheritance and composition are high-level concepts that you may not use in this class, but we would be remiss to at least not mention this powerful capability of the class structure in this course. If you are interested in learning more, there are lots of great resources online. [This link](http://python-textbok.readthedocs.io/en/1.0/Object_Oriented_Programming.html) contains a fairly comprehensive overiew."
   ]
  },
  {
   "cell_type": "markdown",
   "metadata": {},
   "source": [
    "### File I/O\n",
    "\n",
    "We have spent a while talking about how you can manipulate, store and perform operations on data. What about when we are finished with the data? We would like to store it somewhere, share it, or publish it! Even still, often we want to take someone else's data and perform our own operations on it. To do these things with data, we need to talk about how to write and read data, aka file input / output (I/O). One of the many built-in functions we haven't talked about is the `open()` function, which allows us to access data within files. It returns a file descriptor, which allows us to step through the file line-by-line and read in or write out data. This works well for basic text files, like a `.py`, `.sh`, `.txt`, `.tab`, and `.csv`. Let's try to read in the previous `module1.py` file we created before."
   ]
  },
  {
   "cell_type": "code",
   "execution_count": null,
   "metadata": {
    "collapsed": true
   },
   "outputs": [],
   "source": [
    "# The second 'r' specifies that we are opening it in \"read-only\" mode: we will not\n",
    "# be allowed to write into the file, even if we try\n",
    "f = open('module1.py', 'r')\n",
    "firstline = f.readline()\n",
    "secondline = f.readline()\n",
    "thirdline = f.readline()\n",
    "fourthline = f.readline()\n",
    "fifthline = f.readline()\n",
    "print(firstline+'\\n'+secondline+'\\n'+thirdline+'\\n'+fourthline+'\\n'+fifthline)"
   ]
  },
  {
   "cell_type": "code",
   "execution_count": null,
   "metadata": {
    "collapsed": true
   },
   "outputs": [],
   "source": [
    "# we can do this all at once with read\n",
    "f = open('module1.py', 'r')\n",
    "f.read()"
   ]
  },
  {
   "cell_type": "code",
   "execution_count": null,
   "metadata": {
    "collapsed": true
   },
   "outputs": [],
   "source": [
    "# package line by line\n",
    "f = open('module1.py', 'r')\n",
    "f.readlines()\n",
    "\n",
    "# good practice is to close the file descriptor when done\n",
    "f.close()"
   ]
  },
  {
   "cell_type": "code",
   "execution_count": null,
   "metadata": {
    "collapsed": true
   },
   "outputs": [],
   "source": [
    "f.readline()"
   ]
  },
  {
   "cell_type": "code",
   "execution_count": null,
   "metadata": {
    "collapsed": true
   },
   "outputs": [],
   "source": [
    "f = open()\n",
    "\n",
    "f.close()"
   ]
  },
  {
   "cell_type": "code",
   "execution_count": null,
   "metadata": {
    "collapsed": true
   },
   "outputs": [],
   "source": [
    "# we can handle file descriptors more easily with a \"context manager\"\n",
    "with open('module1.py', 'r') as f:\n",
    "    lines = f.readlines()\n",
    "    \n",
    "print(lines)\n",
    "print(f.closed)"
   ]
  },
  {
   "cell_type": "code",
   "execution_count": null,
   "metadata": {
    "collapsed": true
   },
   "outputs": [],
   "source": [
    "# let's try and write files, 'w' is for overwrite and 'a' is for append\n",
    "with open('newfile.txt', 'w') as f:\n",
    "    f.write('hello, this is the first line!')\n",
    "    f.write('we forgot to make a line break, so this will look weird...\\n')\n",
    "    f.write('now we got the hang of things!\\n')\n",
    "    f.write('\\tbut this will have an indent.     ')  "
   ]
  },
  {
   "cell_type": "code",
   "execution_count": null,
   "metadata": {
    "collapsed": true
   },
   "outputs": [],
   "source": [
    "less newfile.txt"
   ]
  },
  {
   "cell_type": "code",
   "execution_count": null,
   "metadata": {
    "collapsed": true
   },
   "outputs": [],
   "source": [
    "# We can use string methods to manipulate text\n",
    "with open('newfile.txt', 'r') as f:\n",
    "    lines = f.read()\n",
    "    \n",
    "lines"
   ]
  },
  {
   "cell_type": "code",
   "execution_count": null,
   "metadata": {
    "collapsed": true
   },
   "outputs": [],
   "source": [
    "# Get rid of whitespace\n",
    "lines.strip()"
   ]
  },
  {
   "cell_type": "code",
   "execution_count": null,
   "metadata": {
    "collapsed": true
   },
   "outputs": [],
   "source": [
    "# separate characters by delimieter, which is whitespace by default, but can be anything: \\n or ',' for example\n",
    "words = lines.split()\n",
    "print(words)"
   ]
  },
  {
   "cell_type": "code",
   "execution_count": null,
   "metadata": {
    "collapsed": true
   },
   "outputs": [],
   "source": [
    "# join them again!\n",
    "print(' '.join(words))"
   ]
  },
  {
   "cell_type": "markdown",
   "metadata": {},
   "source": [
    "In the case when we'd like to store / read tabularized data, or entire data structures themselves, we will need to resort to serializing the data. We can't read these kinds of files with our command line text editors, but we can use Python modules like `pickle`, `numpy` or `fits` to read and write these files. `pickle` happens to be my preference, so let's start with that one. `fits` (Flexible Image Transport System) files are **very common** in astronomy for handing imaging data, so we will likely see these kinds of files repeatedly."
   ]
  },
  {
   "cell_type": "code",
   "execution_count": null,
   "metadata": {
    "collapsed": true
   },
   "outputs": [],
   "source": [
    "# here we will store an entire dictionary to file\n",
    "import pickle as pkl\n",
    "from collections import OrderedDict\n",
    "\n",
    "# make some data (doesn't need to be a dictionary, can be anything!)\n",
    "d = OrderedDict([['var1', 1], ['var2', 2], ['animal', 'goat']])\n",
    "\n",
    "# write it with pickle and a new option for the file descriptor\n",
    "with open('diction.pkl', 'wb') as f:\n",
    "    # Use pkl to wrap the file descriptor\n",
    "    output = pkl.Pickler(f)\n",
    "    \n",
    "    # dump data\n",
    "    output.dump(d)\n",
    "    \n",
    "    # close file by exiting context manager"
   ]
  },
  {
   "cell_type": "code",
   "execution_count": null,
   "metadata": {
    "collapsed": true
   },
   "outputs": [],
   "source": [
    "# open file with pickle\n",
    "with open('diction.pkl', 'rb') as f:\n",
    "    inp = pkl.Unpickler(f)\n",
    "    dictionary = inp.load()\n",
    "    \n",
    "print(dictionary)"
   ]
  },
  {
   "cell_type": "markdown",
   "metadata": {},
   "source": [
    "### Breakout\n",
    "\n",
    "* write a function that takes data from the `random.csv` file and writes it out in a `.tab` file (bonus: and vice versa). note the format of the `random.csv` file and try to preserve it when you convert it to `.tab`"
   ]
  },
  {
   "cell_type": "code",
   "execution_count": null,
   "metadata": {
    "collapsed": true
   },
   "outputs": [],
   "source": []
  },
  {
   "cell_type": "code",
   "execution_count": null,
   "metadata": {
    "collapsed": true
   },
   "outputs": [],
   "source": []
  }
 ],
 "metadata": {
  "anaconda-cloud": {},
  "kernelspec": {
   "display_name": "Python 3",
   "language": "python",
   "name": "python3"
  },
  "language_info": {
   "codemirror_mode": {
    "name": "ipython",
    "version": 3
   },
   "file_extension": ".py",
   "mimetype": "text/x-python",
   "name": "python",
   "nbconvert_exporter": "python",
   "pygments_lexer": "ipython3",
   "version": "3.6.1"
  }
 },
 "nbformat": 4,
 "nbformat_minor": 1
}
