{
 "cells": [
  {
   "cell_type": "markdown",
   "metadata": {},
   "source": [
    "## Introduction to Python I\n",
    "**Nick Kern**\n",
    "<br>\n",
    "**Astro 9: Python Programming in Astronomy**\n",
    "<br>\n",
    "**UC Berkeley**\n",
    "\n",
    "---\n",
    "1. [Introduction](#Introduction)\n",
    "2. [Hello World!](#Hello-World!)\n",
    "3. [Data Types](#Data-Types)\n",
    "4. [Python Operators](#Python-Operators)\n",
    "5. [Variable Assignment](#Variable-Assignment)\n",
    "6. [Linearity of a Program](#Linearity-of-a-Program)\n",
    "7. [String Formatting](#String-Formatting)\n",
    "8. [Data Structures](#Data-Structures)\n",
    "9. [Flow Control](#Flow-Control:-loops,-conditionals,-errors)\n",
    "\n",
    "\n",
    "\n"
   ]
  },
  {
   "cell_type": "markdown",
   "metadata": {},
   "source": [
    "### Introduction\n",
    "\n",
    "<img src=\"imgs/python-logo.png\" width=500px/>\n",
    "\n",
    "In this notebook, we will cover the very basics of the Python programming language. For this course, we will be using Python 3. \n",
    "\n",
    "At their core, programming languages are methods for manipulating data. Here, we will discuss the ways in which the Python language can be used to manipulate data for different purposes. Before we begin, let's think about why Python has become so widely used not only amongst scientists, but also amongst programmers in general. \n",
    "\n",
    "> \"Python is an interpreted, object-oriented, high-level programming language with dynamic semantics.\"\n",
    "<br>\n",
    "> -- https://www.python.org/doc/essays/blurb/\n",
    "\n",
    "Python being an \"interpreted language\" implies there is no formal step for compiling one's code, instead there is an interpreter which can identify possible errors and translates Python code to lower-level code (although not machine code). The term \"object-oriented\" refers to the fact that Python is designed to support the construction of complex data structures that can act as \"containers\" for other functions and data structures, known as methods and attributes. The term \"high-level\" means that the language forms abstractions around machine logic to be more readable and similar to human language. The term \"dynamic\" means that variables can be defined \"on-the-fly\" or dynamically, and the Python interpreter handles the details for us automatically. \n",
    "\n",
    "These aspects make Python a very readable, powerful and easy-to-use language. Compared to languages that are traditionally used for scientific programming, like C, C++ and Fortran, Python is easier to read, debug, interact with, can visualize data easier, and can be used to do just about anything with a shallower learning curve. Other high-level languages with similar features, like IDL and Matlab, are proprietary (and therefore expensive) and don't have the versatility of being able to do just about anything. Because Python is open-sourced, there has been an incredibly large number of modules and libraries that have been built by the Python community that enable Python to be used for almost any task. Python does have its limitations, however, and the most evident one is its speed. Because Python is interpreted and is a higher-level langauge, it tends to have larger computational overheads, and in some cases is over 100x slower than languages like Fortran. There are ways to optimize Python to mitigate this to some degree, which we may explore later in the course. However, for many contexts, *code development* tends to be a larger time overhead than *code runtime*, making Python the more time-efficient choice in the long-run. In addition, being able to program effectively in Python will not only help you write code faster and more efficiently, it is also a very attractive skill for jobs in the private sector and industry!\n",
    "\n",
    "Hopefully we have convinced you that learning Python is worth your time, particularly if you are interested in doing research in the physical sciences. Now, let's start learning Python with a hands-on approach!"
   ]
  },
  {
   "cell_type": "markdown",
   "metadata": {},
   "source": [
    "### Hello World!\n",
    "---\n",
    "One of the simplest scripts we can write is to have the Python interpreter return a statement with the `print` function. If we put the following text into a `hello.py` script and run it via `python hello.py` we should get a greeting. \n",
    "\n",
    "Note that we can run bash commands in the IPython interpreter with a ! prefix, or we can use the prefix `%%bash`, or we can write a new file with the `%%file <filename>` prefix and run the code with `%run <filename>`. We will talk more about these magical abilities of IPython later."
   ]
  },
  {
   "cell_type": "code",
   "execution_count": 46,
   "metadata": {
    "collapsed": false
   },
   "outputs": [
    {
     "name": "stdout",
     "output_type": "stream",
     "text": [
      "Overwriting hello.py\n"
     ]
    }
   ],
   "source": [
    "%%file hello.py\n",
    "# This IPython magic will save the contents of this cell as \"hello.py\"\n",
    "print(\"Hello World!\")"
   ]
  },
  {
   "cell_type": "code",
   "execution_count": 47,
   "metadata": {
    "collapsed": false
   },
   "outputs": [
    {
     "name": "stdout",
     "output_type": "stream",
     "text": [
      "Hello World!\n"
     ]
    }
   ],
   "source": [
    "%run hello.py"
   ]
  },
  {
   "cell_type": "markdown",
   "metadata": {
    "collapsed": true
   },
   "source": [
    "Note that in Python 3, the `print` statement **needs** to have brackets, otherwise it will error. This highlights the two major ways we can run Python code: dynamically in a Python interpreter, or by running scripts. In this case, we have done the latter while doing the former."
   ]
  },
  {
   "cell_type": "markdown",
   "metadata": {},
   "source": [
    "### Data Types\n",
    "---\n",
    "Let's explore the different formats data can take in the Python environment. Like most languages, this includes\n",
    "* integers\n",
    "* floats\n",
    "* complex\n",
    "* booleans\n",
    "* strings\n",
    "* None types\n",
    "\n",
    "For a single datum, we can learn its data type with the `type` function."
   ]
  },
  {
   "cell_type": "code",
   "execution_count": 23,
   "metadata": {
    "collapsed": false
   },
   "outputs": [
    {
     "name": "stdout",
     "output_type": "stream",
     "text": [
      "This is a  <class 'int'>\n",
      "This is a  <class 'float'>\n",
      "This is a  <class 'complex'>\n",
      "This is a  <class 'bool'>\n",
      "This is a  <class 'str'>\n",
      "This is a  <class 'NoneType'>\n"
     ]
    }
   ],
   "source": [
    "print(\"This is a \", type(1))\n",
    "print(\"This is a \", type(1.0))\n",
    "print(\"This is a \", type(1j))\n",
    "print(\"This is a \", type(True))\n",
    "print(\"This is a \", type('hi'))\n",
    "print(\"This is a \", type(None))"
   ]
  },
  {
   "cell_type": "markdown",
   "metadata": {},
   "source": [
    "Let's experiment by doing some integer & floating point arithmetic with these data types. "
   ]
  },
  {
   "cell_type": "code",
   "execution_count": 24,
   "metadata": {
    "collapsed": false
   },
   "outputs": [
    {
     "name": "stdout",
     "output_type": "stream",
     "text": [
      "Integer Multiplication:\n",
      " 2 * 2 = 4\n",
      "Float Multiplication:\n",
      " 2.0 * 2.0 = 4.0\n",
      "Float Division:\n",
      " 4.0 / 2.0 = 2.0\n",
      "Integer Division:\n",
      " 4 / 2 = 2.0\n",
      "Integer DivDiv:\n",
      " 4 // 2 = 2\n"
     ]
    }
   ],
   "source": [
    "# integer times integer yields an integer\n",
    "print(\"Integer Multiplication:\\n\",\"2 * 2 =\", 2 * 2)\n",
    "\n",
    "# float times a float yields a float\n",
    "print(\"Float Multiplication:\\n\",\"2.0 * 2.0 =\", 2.0 * 2.0)\n",
    "\n",
    "# float divided by a float yields a float\n",
    "print(\"Float Division:\\n\",\"4.0 / 2.0 =\", 4.0 / 2.0)\n",
    "\n",
    "# integer divided by an integer yields a float!\n",
    "print(\"Integer Division:\\n\",\"4 / 2 =\", 4 / 2)\n",
    "\n",
    "# integer division division by an integer yields a int!\n",
    "print(\"Integer DivDiv:\\n\", \"4 // 2 =\", 4 // 2)"
   ]
  },
  {
   "cell_type": "markdown",
   "metadata": {},
   "source": [
    "When computers store information, they can only do so to a finite precision. Floating point precision is good to 16 significant figures, meaning that, perhaps contrary to your intuition:"
   ]
  },
  {
   "cell_type": "code",
   "execution_count": 13,
   "metadata": {
    "collapsed": false
   },
   "outputs": [
    {
     "name": "stdout",
     "output_type": "stream",
     "text": [
      "True\n"
     ]
    }
   ],
   "source": [
    "print(1.0 == 0.99999999999999999)"
   ]
  },
  {
   "cell_type": "markdown",
   "metadata": {},
   "source": [
    "We will learn more about the conditional operator `==` later. Note that integer division changed from Python 2 to Python 3: in Python 2, integer division yields an integer, whereas in Python 3 it yields a float. What about some other data types?"
   ]
  },
  {
   "cell_type": "code",
   "execution_count": 14,
   "metadata": {
    "collapsed": false
   },
   "outputs": [
    {
     "name": "stdout",
     "output_type": "stream",
     "text": [
      "1\n",
      "2\n",
      "---\n",
      "0\n",
      "1\n",
      "---\n",
      "0\n",
      "0\n",
      "---\n",
      "True\n",
      "False\n"
     ]
    }
   ],
   "source": [
    "# Boolean arithmetic\n",
    "print(True * True)\n",
    "print(True + True)\n",
    "print(\"---\")\n",
    "print(False * True)\n",
    "print(False + True)\n",
    "print(\"---\")\n",
    "print(False * False)\n",
    "print(False + False)\n",
    "print(\"---\")\n",
    "print(True | False)\n",
    "print(True & False)"
   ]
  },
  {
   "cell_type": "markdown",
   "metadata": {},
   "source": [
    "Can you guess what form the boolean types True and False take when having arithmetic performed on them? From the example, we can see that | is an \"or\" statement and & is an \"and\" statement. \n",
    "\n",
    "Complex numbers can be specified by including a `j` next to a number (with no `*`). They also multiply as you would expect them to."
   ]
  },
  {
   "cell_type": "code",
   "execution_count": 25,
   "metadata": {
    "collapsed": false
   },
   "outputs": [
    {
     "name": "stdout",
     "output_type": "stream",
     "text": [
      "This is a single complex number: (1+3j)\n",
      "Complex multiplication: (-13+11j)\n"
     ]
    }
   ],
   "source": [
    "print(\"This is a single complex number:\", 1.0 + 3j)\n",
    "print(\"Complex multiplication:\",(1 + 3j) * (2 + 5j))"
   ]
  },
  {
   "cell_type": "markdown",
   "metadata": {},
   "source": [
    "Strings are sequences of characters enclosed by either apostrophes or quotations. Strings don't support string-string arithmetic. However, some int-string arithmetic is supported. "
   ]
  },
  {
   "cell_type": "code",
   "execution_count": 69,
   "metadata": {
    "collapsed": false
   },
   "outputs": [
    {
     "name": "stdout",
     "output_type": "stream",
     "text": [
      "hi there!\n",
      "hi there!\n",
      "well hello,\n",
      "how are you?\n",
      ";lkjadsfkjsdf90235u\n",
      "hihihihihihihihihihi\n",
      "hi goodbye\n"
     ]
    },
    {
     "ename": "TypeError",
     "evalue": "can't multiply sequence by non-int of type 'str'",
     "output_type": "error",
     "traceback": [
      "\u001b[0;31m---------------------------------------------------------------------------\u001b[0m",
      "\u001b[0;31mTypeError\u001b[0m                                 Traceback (most recent call last)",
      "\u001b[0;32m<ipython-input-69-4ef55b82924f>\u001b[0m in \u001b[0;36m<module>\u001b[0;34m()\u001b[0m\n\u001b[1;32m      5\u001b[0m \u001b[0mprint\u001b[0m\u001b[0;34m(\u001b[0m\u001b[0;34m\"hi\"\u001b[0m \u001b[0;34m*\u001b[0m \u001b[0;36m10\u001b[0m\u001b[0;34m)\u001b[0m\u001b[0;34m\u001b[0m\u001b[0m\n\u001b[1;32m      6\u001b[0m \u001b[0mprint\u001b[0m\u001b[0;34m(\u001b[0m\u001b[0;34m\"hi\"\u001b[0m \u001b[0;34m+\u001b[0m \u001b[0;34m\" \"\u001b[0m \u001b[0;34m+\u001b[0m \u001b[0;34m\"goodbye\"\u001b[0m\u001b[0;34m)\u001b[0m\u001b[0;34m\u001b[0m\u001b[0m\n\u001b[0;32m----> 7\u001b[0;31m \u001b[0mprint\u001b[0m\u001b[0;34m(\u001b[0m\u001b[0;34m\"32\"\u001b[0m\u001b[0;34m*\u001b[0m\u001b[0;34m\"23\"\u001b[0m\u001b[0;34m)\u001b[0m\u001b[0;34m\u001b[0m\u001b[0m\n\u001b[0m",
      "\u001b[0;31mTypeError\u001b[0m: can't multiply sequence by non-int of type 'str'"
     ]
    }
   ],
   "source": [
    "print(\"hi there!\")\n",
    "print('hi there!')\n",
    "print(\"well hello,\\nhow are you?\")\n",
    "print(\";lkjadsfkjsdf90235u\")\n",
    "print(\"hi\" * 10)\n",
    "print(\"hi\" + \" \" + \"goodbye\")\n",
    "print(\"32\"*\"23\")"
   ]
  },
  {
   "cell_type": "markdown",
   "metadata": {},
   "source": [
    " Certain characters have special meaning, in particular the \n",
    "* \"\\n\" = newline\n",
    "* \"\\t\" = tab\n",
    "* \"\\r\" = return\n",
    "\n",
    "characters will not act as you might expect. This can be negated by prefixing your string with an `r\"string\"`."
   ]
  },
  {
   "cell_type": "code",
   "execution_count": 5,
   "metadata": {
    "collapsed": false
   },
   "outputs": [
    {
     "name": "stdout",
     "output_type": "stream",
     "text": [
      "Hello\n",
      "this is \tNick!\n",
      "I'd like to say\r",
      "Hi\n"
     ]
    }
   ],
   "source": [
    "print(\"Hello\\nthis is \\tNick!\\nI'd like to say\\rHi\")"
   ]
  },
  {
   "cell_type": "code",
   "execution_count": 6,
   "metadata": {
    "collapsed": false
   },
   "outputs": [
    {
     "name": "stdout",
     "output_type": "stream",
     "text": [
      "Hello\\nthis is \\tNick!\\nI'd like to say\\rHi\n"
     ]
    }
   ],
   "source": [
    "print(r\"Hello\\nthis is \\tNick!\\nI'd like to say\\rHi\")"
   ]
  },
  {
   "cell_type": "markdown",
   "metadata": {},
   "source": [
    "Data types can be converted from one to another, assuming it doesn't raise any errors. The easiest way to do this is with the\n",
    "* `int`\n",
    "* `float`\n",
    "* `complex`\n",
    "* `bool`\n",
    "* `str`\n",
    "\n",
    "functions."
   ]
  },
  {
   "cell_type": "code",
   "execution_count": 20,
   "metadata": {
    "collapsed": false
   },
   "outputs": [
    {
     "name": "stdout",
     "output_type": "stream",
     "text": [
      "100\n"
     ]
    }
   ],
   "source": [
    "print(int(100.0))"
   ]
  },
  {
   "cell_type": "code",
   "execution_count": 21,
   "metadata": {
    "collapsed": false
   },
   "outputs": [
    {
     "name": "stdout",
     "output_type": "stream",
     "text": [
      "100.0\n"
     ]
    }
   ],
   "source": [
    "print(float(100))"
   ]
  },
  {
   "cell_type": "code",
   "execution_count": 22,
   "metadata": {
    "collapsed": false
   },
   "outputs": [
    {
     "name": "stdout",
     "output_type": "stream",
     "text": [
      "(100+0j)\n"
     ]
    }
   ],
   "source": [
    "print(complex(100.0))"
   ]
  },
  {
   "cell_type": "code",
   "execution_count": 23,
   "metadata": {
    "collapsed": false
   },
   "outputs": [
    {
     "name": "stdout",
     "output_type": "stream",
     "text": [
      "True\n"
     ]
    }
   ],
   "source": [
    "print(bool(1))"
   ]
  },
  {
   "cell_type": "code",
   "execution_count": 24,
   "metadata": {
    "collapsed": false
   },
   "outputs": [
    {
     "name": "stdout",
     "output_type": "stream",
     "text": [
      "2500.0\n"
     ]
    }
   ],
   "source": [
    "print(str(2500.0))"
   ]
  },
  {
   "cell_type": "code",
   "execution_count": 25,
   "metadata": {
    "collapsed": false
   },
   "outputs": [
    {
     "name": "stdout",
     "output_type": "stream",
     "text": [
      "3.0\n"
     ]
    }
   ],
   "source": [
    "print(float(\"3\"))"
   ]
  },
  {
   "cell_type": "code",
   "execution_count": 26,
   "metadata": {
    "collapsed": false
   },
   "outputs": [
    {
     "name": "stdout",
     "output_type": "stream",
     "text": [
      "3\n"
     ]
    }
   ],
   "source": [
    "print(int(\"3\"))"
   ]
  },
  {
   "cell_type": "code",
   "execution_count": 27,
   "metadata": {
    "collapsed": false
   },
   "outputs": [
    {
     "name": "stdout",
     "output_type": "stream",
     "text": [
      "9\n"
     ]
    }
   ],
   "source": [
    "print(int(9.8))"
   ]
  },
  {
   "cell_type": "code",
   "execution_count": 28,
   "metadata": {
    "collapsed": false
   },
   "outputs": [
    {
     "name": "stdout",
     "output_type": "stream",
     "text": [
      "10\n"
     ]
    }
   ],
   "source": [
    "print(int(round(9.8)))"
   ]
  },
  {
   "cell_type": "markdown",
   "metadata": {
    "collapsed": true
   },
   "source": [
    "### Python Operators\n",
    "---\n",
    "Along with addition, subtraction, multiplication and division, Python also supports the arithmetic operators\n",
    "* exponential `**`\n",
    "* modulus `%` \n",
    "\n",
    "and the comparison operators\n",
    "* equal to `==`\n",
    "* not equal `!=`\n",
    "* greater than `>`\n",
    "* less than `<`\n",
    "* greater or equal `>=`\n",
    "* less or equal `<=`\n"
   ]
  },
  {
   "cell_type": "code",
   "execution_count": 30,
   "metadata": {
    "collapsed": false
   },
   "outputs": [
    {
     "name": "stdout",
     "output_type": "stream",
     "text": [
      "4\n"
     ]
    }
   ],
   "source": [
    "# Take exponential\n",
    "print(2**2)"
   ]
  },
  {
   "cell_type": "code",
   "execution_count": 40,
   "metadata": {
    "collapsed": false
   },
   "outputs": [
    {
     "name": "stdout",
     "output_type": "stream",
     "text": [
      "2\n"
     ]
    }
   ],
   "source": [
    "# Modulus operator gives the numerator of the remainder after division\n",
    "print(11%3)"
   ]
  },
  {
   "cell_type": "code",
   "execution_count": 41,
   "metadata": {
    "collapsed": false
   },
   "outputs": [
    {
     "name": "stdout",
     "output_type": "stream",
     "text": [
      "0\n"
     ]
    }
   ],
   "source": [
    "# What if it is a multiple of the divisor?\n",
    "print(15%5)"
   ]
  },
  {
   "cell_type": "code",
   "execution_count": 42,
   "metadata": {
    "collapsed": false
   },
   "outputs": [
    {
     "name": "stdout",
     "output_type": "stream",
     "text": [
      "4\n"
     ]
    }
   ],
   "source": [
    "# What do you expect here?\n",
    "print(4%11)"
   ]
  },
  {
   "cell_type": "code",
   "execution_count": 43,
   "metadata": {
    "collapsed": false
   },
   "outputs": [
    {
     "name": "stdout",
     "output_type": "stream",
     "text": [
      "True\n"
     ]
    }
   ],
   "source": [
    "print(5 == 5)"
   ]
  },
  {
   "cell_type": "code",
   "execution_count": 50,
   "metadata": {
    "collapsed": false
   },
   "outputs": [
    {
     "name": "stdout",
     "output_type": "stream",
     "text": [
      "True\n"
     ]
    }
   ],
   "source": [
    "print(\"hello\" == \"hello\")"
   ]
  },
  {
   "cell_type": "code",
   "execution_count": 61,
   "metadata": {
    "collapsed": false
   },
   "outputs": [
    {
     "name": "stdout",
     "output_type": "stream",
     "text": [
      "True\n",
      "True\n"
     ]
    }
   ],
   "source": [
    "print( (5 > 2) & (45 < 46))\n",
    "print( (5 > 2) | (100 < 50))"
   ]
  },
  {
   "cell_type": "markdown",
   "metadata": {
    "collapsed": true
   },
   "source": [
    "There are also the `is` and `is not` comparison operators, which can be thought of as having a similar functionality as `==` and `!=`, but in general should only be used for NoneType comparison."
   ]
  },
  {
   "cell_type": "code",
   "execution_count": 64,
   "metadata": {
    "collapsed": false
   },
   "outputs": [
    {
     "name": "stdout",
     "output_type": "stream",
     "text": [
      "False\n"
     ]
    }
   ],
   "source": [
    "print(None is not None)"
   ]
  },
  {
   "cell_type": "markdown",
   "metadata": {},
   "source": [
    "### Variable Assignment\n",
    "---\n",
    "Often we want to assign data both a name and place to live in our interpreter environment, so we can perform multiple operations on it, track it, visualize it, print it, and save it to disk. We can do this with the assignment operator `=`."
   ]
  },
  {
   "cell_type": "code",
   "execution_count": 65,
   "metadata": {
    "collapsed": false
   },
   "outputs": [
    {
     "name": "stdout",
     "output_type": "stream",
     "text": [
      "10.0\n"
     ]
    }
   ],
   "source": [
    "a_number = 10.0\n",
    "print(a_number)"
   ]
  },
  {
   "cell_type": "markdown",
   "metadata": {},
   "source": [
    "There is a special kind of syntax when we want to perform arithmetic on an already existing variable utilizing its current value."
   ]
  },
  {
   "cell_type": "code",
   "execution_count": 5,
   "metadata": {
    "collapsed": false
   },
   "outputs": [
    {
     "name": "stdout",
     "output_type": "stream",
     "text": [
      "11\n"
     ]
    }
   ],
   "source": [
    "# this is a way to add to an existing variable\n",
    "a_number = 10\n",
    "a_number = a_number + 1\n",
    "print(a_number)"
   ]
  },
  {
   "cell_type": "code",
   "execution_count": 6,
   "metadata": {
    "collapsed": false
   },
   "outputs": [
    {
     "name": "stdout",
     "output_type": "stream",
     "text": [
      "12\n"
     ]
    }
   ],
   "source": [
    "# this is the exact same thing\n",
    "a_number += 1\n",
    "print(a_number)"
   ]
  },
  {
   "cell_type": "code",
   "execution_count": 7,
   "metadata": {
    "collapsed": false
   },
   "outputs": [
    {
     "name": "stdout",
     "output_type": "stream",
     "text": [
      "6.0\n"
     ]
    }
   ],
   "source": [
    "# other arithmetic operations are also possible\n",
    "a_number /= 2\n",
    "print(a_number)"
   ]
  },
  {
   "cell_type": "markdown",
   "metadata": {},
   "source": [
    "Recall that the `=` sign does not imply equality! It is an assignment operation, telling the variable to the left to take on the value of whats on the right. In this sense, you can think of computer code as being read *right-to-left*, meaning that the line `a_number = a_number + 1` is read: 1) take the integer `1`, 2) add it to the current value of `a_number` and 3) assign that value to the variable `a_number`.\n",
    "\n",
    "Note that there are limitations as to what characters we can use for variables in Python. The general rule is that you can use any sequence of alphabetical characters (although be careful b/c there are built-in words we don't want to overwrite like the `str` and `int` functions!) as well as the underscore `_`, as well as integers, so long as it doesn't start with an integer."
   ]
  },
  {
   "cell_type": "code",
   "execution_count": 128,
   "metadata": {
    "collapsed": false
   },
   "outputs": [],
   "source": [
    "# these all work!\n",
    "int1 = 10\n",
    "string2 = \"hello\"\n",
    "boolean3 = False\n",
    "_complex4 = (1 + 2j)"
   ]
  },
  {
   "cell_type": "code",
   "execution_count": 129,
   "metadata": {
    "collapsed": false
   },
   "outputs": [
    {
     "ename": "SyntaxError",
     "evalue": "invalid syntax (<ipython-input-129-e25e52f1145c>, line 2)",
     "output_type": "error",
     "traceback": [
      "\u001b[0;36m  File \u001b[0;32m\"<ipython-input-129-e25e52f1145c>\"\u001b[0;36m, line \u001b[0;32m2\u001b[0m\n\u001b[0;31m    5float = 2.0\u001b[0m\n\u001b[0m         ^\u001b[0m\n\u001b[0;31mSyntaxError\u001b[0m\u001b[0;31m:\u001b[0m invalid syntax\n"
     ]
    }
   ],
   "source": [
    "# will this give us an error?\n",
    "5float = 2.0"
   ]
  },
  {
   "cell_type": "markdown",
   "metadata": {},
   "source": [
    "We can ask for user input and assign the input to a variable with the built-in `input` function."
   ]
  },
  {
   "cell_type": "code",
   "execution_count": 237,
   "metadata": {
    "collapsed": false
   },
   "outputs": [
    {
     "name": "stdout",
     "output_type": "stream",
     "text": [
      "What is your name? Nick\n",
      "Name:  Nick\n"
     ]
    }
   ],
   "source": [
    "response = input(\"What is your name? \")\n",
    "print(\"Name: \", response)"
   ]
  },
  {
   "cell_type": "markdown",
   "metadata": {
    "collapsed": true
   },
   "source": [
    "A key concept in computer programming is the concept of mutability, or the ability for something to be changed once it is set. For an object to be immutable, once it is assigned memory it cannot be changed. Mutable objects are objects who retain one location in our computer's memory, but can change their form. Built-in types like `int`, `float`, `bool` and `str` are **immutable**: there is a single location in memory allocated to these objects. User-defined objects, like lists, functions and classes are generally mutable.\n",
    "\n",
    "This is related to the concept of a **pointer**. A variable, as Python understands them, is nothing but a pointer to some location in the computer's memory, where the data we have assigned that variable lives. Consider two different variables, `a` and `b`, which have the same value. In this case, these would both be pointers to the same patch of memory in the computer.\n",
    "\n",
    "You may have noticed that we didn't have to \"initialize\" our variables (specify their type and how much memory they will be allocated) before assigning them data, which other languages require. This is what makes Python a \"dynamically typed\" language (as opposed to \"statically typed\"): in one line we have initialized the variable, assigned it some memory and given it some data, which the Python interpreter does for us automatically."
   ]
  },
  {
   "cell_type": "code",
   "execution_count": 131,
   "metadata": {
    "collapsed": false
   },
   "outputs": [
    {
     "ename": "TypeError",
     "evalue": "'str' object does not support item assignment",
     "output_type": "error",
     "traceback": [
      "\u001b[0;31m---------------------------------------------------------------------------\u001b[0m",
      "\u001b[0;31mTypeError\u001b[0m                                 Traceback (most recent call last)",
      "\u001b[0;32m<ipython-input-131-5a25dd03ed8d>\u001b[0m in \u001b[0;36m<module>\u001b[0;34m()\u001b[0m\n\u001b[1;32m      3\u001b[0m \u001b[0;34m\u001b[0m\u001b[0m\n\u001b[1;32m      4\u001b[0m \u001b[0;31m# Try to change the first character\u001b[0m\u001b[0;34m\u001b[0m\u001b[0;34m\u001b[0m\u001b[0m\n\u001b[0;32m----> 5\u001b[0;31m \u001b[0ma_string\u001b[0m\u001b[0;34m[\u001b[0m\u001b[0;36m0\u001b[0m\u001b[0;34m]\u001b[0m \u001b[0;34m=\u001b[0m \u001b[0;34m'H'\u001b[0m\u001b[0;34m\u001b[0m\u001b[0m\n\u001b[0m",
      "\u001b[0;31mTypeError\u001b[0m: 'str' object does not support item assignment"
     ]
    }
   ],
   "source": [
    "# Assign a variable a string\n",
    "a_string = \"hello\"\n",
    "\n",
    "# Try to change the first character\n",
    "a_string[0] = 'H'"
   ]
  },
  {
   "cell_type": "markdown",
   "metadata": {},
   "source": [
    "Note that indexing in Python is **zeroth ordered**! We will see this again in the \"data structures\" section further down."
   ]
  },
  {
   "cell_type": "code",
   "execution_count": 158,
   "metadata": {
    "collapsed": false
   },
   "outputs": [
    {
     "name": "stdout",
     "output_type": "stream",
     "text": [
      "0x100214990\n",
      "0x100214990\n",
      "\n",
      "0x1002154d0\n",
      "0x100215430\n",
      "\n",
      "0x10307cab0\n",
      "0x103038198\n"
     ]
    }
   ],
   "source": [
    "# Exercise in (im)mutability: hex(id(var)) gives the memory address of the object in hexadecimal format\n",
    "a = b = 10\n",
    "print(hex(id(a)))\n",
    "print(hex(id(b)))\n",
    "\n",
    "print(\"\")\n",
    "\n",
    "a = 100\n",
    "b = 95\n",
    "print(hex(id(a)))\n",
    "print(hex(id(b)))\n",
    "\n",
    "print(\"\")\n",
    "a = \"hi there!\"\n",
    "b = a + \" and goodbye!\"\n",
    "print(hex(id(a)))\n",
    "print(hex(id(b)))"
   ]
  },
  {
   "cell_type": "markdown",
   "metadata": {},
   "source": [
    "### Breakout 1:\n",
    "---\n",
    "\n",
    "1. Write a snippet of code that asks the user for a floating-point number, and prints out that number as an `int`, `float`, and `complex` data type, while informing the user which one is which."
   ]
  },
  {
   "cell_type": "code",
   "execution_count": 18,
   "metadata": {
    "collapsed": false
   },
   "outputs": [],
   "source": [
    "# Breakout1 solution\n"
   ]
  },
  {
   "cell_type": "markdown",
   "metadata": {},
   "source": [
    "### Linearity of a Program\n",
    "---\n",
    "\n",
    "When we create and run a script, the script is evaluated in a linear order from top to bottom. When writing code we should bear this in mind. This means that the following script, for example, will fail:"
   ]
  },
  {
   "cell_type": "code",
   "execution_count": 6,
   "metadata": {
    "collapsed": false
   },
   "outputs": [
    {
     "name": "stdout",
     "output_type": "stream",
     "text": [
      "Overwriting hello.py\n"
     ]
    }
   ],
   "source": [
    "%%file hello.py\n",
    "# Hello World 2.0\n",
    "print(\"Hello %s!\" % name)\n",
    "name = input(\"What is your name? \")"
   ]
  },
  {
   "cell_type": "code",
   "execution_count": 7,
   "metadata": {
    "collapsed": false
   },
   "outputs": [
    {
     "ename": "NameError",
     "evalue": "name 'name' is not defined",
     "output_type": "error",
     "traceback": [
      "\u001b[0;31m---------------------------------------------------------------------------\u001b[0m",
      "\u001b[0;31mNameError\u001b[0m                                 Traceback (most recent call last)",
      "\u001b[0;32m/Users/nkern/Documents/School_Work/Teaching/Astro_9_Master/Astro_9/lectures/hello.py\u001b[0m in \u001b[0;36m<module>\u001b[0;34m()\u001b[0m\n\u001b[1;32m      1\u001b[0m \u001b[0;31m# Hello World 2.0\u001b[0m\u001b[0;34m\u001b[0m\u001b[0;34m\u001b[0m\u001b[0m\n\u001b[0;32m----> 2\u001b[0;31m \u001b[0mprint\u001b[0m\u001b[0;34m(\u001b[0m\u001b[0;34m\"Hello %s!\"\u001b[0m \u001b[0;34m%\u001b[0m \u001b[0mname\u001b[0m\u001b[0;34m)\u001b[0m\u001b[0;34m\u001b[0m\u001b[0m\n\u001b[0m\u001b[1;32m      3\u001b[0m \u001b[0mname\u001b[0m \u001b[0;34m=\u001b[0m \u001b[0minput\u001b[0m\u001b[0;34m(\u001b[0m\u001b[0;34m\"What is your name? \"\u001b[0m\u001b[0;34m)\u001b[0m\u001b[0;34m\u001b[0m\u001b[0m\n",
      "\u001b[0;31mNameError\u001b[0m: name 'name' is not defined"
     ]
    }
   ],
   "source": [
    "%run hello.py"
   ]
  },
  {
   "cell_type": "markdown",
   "metadata": {},
   "source": [
    "### String Formatting\n",
    "---\n",
    "\n",
    "One useful functionality is the ability to format variables into a string, which can but need not be strings themselves."
   ]
  },
  {
   "cell_type": "code",
   "execution_count": 244,
   "metadata": {
    "collapsed": false
   },
   "outputs": [
    {
     "name": "stdout",
     "output_type": "stream",
     "text": [
      "Hi my name is Nick! Nice to meet you!\n"
     ]
    }
   ],
   "source": [
    "name = \"Nick\"\n",
    "print(\"Hi my name is %s! Nice to meet you!\" % name)"
   ]
  },
  {
   "cell_type": "code",
   "execution_count": 246,
   "metadata": {
    "collapsed": false
   },
   "outputs": [
    {
     "name": "stdout",
     "output_type": "stream",
     "text": [
      "I like the following animals ['penguins', 'otters', 'pandas']\n"
     ]
    }
   ],
   "source": [
    "animals_i_like = [\"penguins\", \"otters\", \"pandas\"]\n",
    "print(\"I like the following animals %s\" % animals_i_like)"
   ]
  },
  {
   "cell_type": "code",
   "execution_count": 249,
   "metadata": {
    "collapsed": false
   },
   "outputs": [
    {
     "name": "stdout",
     "output_type": "stream",
     "text": [
      "I'd like 2 pizzas for me, and 1 pizzas for my friend.\n"
     ]
    }
   ],
   "source": [
    "pizza_for_me = 2\n",
    "pizza_for_you = 1\n",
    "print(\"I'd like %s pizzas for me, and %s pizzas for my friend.\"%(pizza_for_me, pizza_for_you))"
   ]
  },
  {
   "cell_type": "code",
   "execution_count": 284,
   "metadata": {
    "collapsed": false
   },
   "outputs": [
    {
     "name": "stdout",
     "output_type": "stream",
     "text": [
      "The number 2.234252 is a little complicated, how about 2 instead?\n"
     ]
    }
   ],
   "source": [
    "a_number = 2.23425233\n",
    "print(\"The number %f is a little complicated, how about %d instead?\" % (a_number, a_number))"
   ]
  },
  {
   "cell_type": "code",
   "execution_count": 285,
   "metadata": {
    "collapsed": false
   },
   "outputs": [
    {
     "name": "stdout",
     "output_type": "stream",
     "text": [
      "How about we round the number 2.234852 to three decimal places like 2.235\n"
     ]
    }
   ],
   "source": [
    "a_number = 2.23485233\n",
    "print(\"How about we round the number %f to three decimal places like %.3f\" % (a_number, a_number))"
   ]
  },
  {
   "cell_type": "code",
   "execution_count": 289,
   "metadata": {
    "collapsed": false
   },
   "outputs": [
    {
     "name": "stdout",
     "output_type": "stream",
     "text": [
      "This style of formatting the number 2.234852 gives us the same thing 2.235\n"
     ]
    }
   ],
   "source": [
    "print(\"This style of formatting the number {:f} gives us the same thing {:.3f}\".format(a_number, a_number))"
   ]
  },
  {
   "cell_type": "markdown",
   "metadata": {},
   "source": [
    "### Data Structures\n",
    "---\n",
    "Often we want to organize and containerize data into structures. In fact, you can think of a string as a data structure; it is a sequence of characters whose data can be accessed element by element. The built-in data structures in Python are\n",
    "* list\n",
    "* tuple\n",
    "* dictionary\n",
    "* set"
   ]
  },
  {
   "cell_type": "markdown",
   "metadata": {},
   "source": [
    "**Lists**\n",
    "\n",
    "Lists are mutable objects, meaning their data can change but their memory address will not (unless we explicitly tell it to do so). Lists are created with square brackets `[]` with comma-separated data. Lists can hold really any kind of data: numbers, strings, booleans, other lists and data structures, and even functions and class objects. "
   ]
  },
  {
   "cell_type": "code",
   "execution_count": 49,
   "metadata": {
    "collapsed": false
   },
   "outputs": [
    {
     "name": "stdout",
     "output_type": "stream",
     "text": [
      "[1, 2, 3, 'hi', True, (1+3j), 9.9, ['another list!']]\n"
     ]
    }
   ],
   "source": [
    "# Create a list\n",
    "a_list = [1, 2, 3, 'hi', True, (1 + 3j), 9.9, ['another list!']]\n",
    "print(a_list)"
   ]
  },
  {
   "cell_type": "markdown",
   "metadata": {},
   "source": [
    "We can access the individual data elements of a list via list indexing and slicing. The syntax is\n",
    "```\n",
    "list[<start>:<stop>:<increment>]\n",
    "```\n",
    "If `<start>` or `<stop>` is left blank, the default is beginning and end respectively, and if `<increment>` is left blank, the default is 1.\n",
    "\n",
    "<img src=\"imgs/list_indexing.png\" width=500px>\n",
    "<center> A graphic of list indexing </center>"
   ]
  },
  {
   "cell_type": "code",
   "execution_count": 51,
   "metadata": {
    "collapsed": false
   },
   "outputs": [
    {
     "name": "stdout",
     "output_type": "stream",
     "text": [
      "[1, 2, 3]\n",
      "[(1+3j), 9.9, ['another list!']]\n",
      "[(1+3j), 9.9, ['another list!']]\n",
      "[1, 3]\n"
     ]
    }
   ],
   "source": [
    "# This will give us the first three elements\n",
    "print(a_list[0:3])\n",
    "\n",
    "# This will give us the last three elements\n",
    "print(a_list[-3:])\n",
    "\n",
    "# This will give us the same thing\n",
    "print(a_list[5:])\n",
    "\n",
    "# This will give us every other element of the first four\n",
    "print(a_list[0:4:2])"
   ]
  },
  {
   "cell_type": "code",
   "execution_count": 54,
   "metadata": {
    "collapsed": false
   },
   "outputs": [
    {
     "name": "stdout",
     "output_type": "stream",
     "text": [
      "0x108207248\n",
      "[100, 2, 3, 'hi', True, (1+3j), 9.9, ['another list!']]\n",
      "0x108207248\n"
     ]
    }
   ],
   "source": [
    "# We can freely reassign elements of the list\n",
    "# Print memory address\n",
    "print(hex(id(a_list)))\n",
    "# Reassign\n",
    "a_list[0] = 100\n",
    "print(a_list)\n",
    "# Check address\n",
    "print(hex(id(a_list)))"
   ]
  },
  {
   "cell_type": "code",
   "execution_count": 1,
   "metadata": {
    "collapsed": false
   },
   "outputs": [
    {
     "ename": "NameError",
     "evalue": "name 'a_list' is not defined",
     "output_type": "error",
     "traceback": [
      "\u001b[0;31m---------------------------------------------------------------------------\u001b[0m",
      "\u001b[0;31mNameError\u001b[0m                                 Traceback (most recent call last)",
      "\u001b[0;32m<ipython-input-1-5332fe9d96b2>\u001b[0m in \u001b[0;36m<module>\u001b[0;34m()\u001b[0m\n\u001b[1;32m      1\u001b[0m \u001b[0;31m# Methods of a list object\u001b[0m\u001b[0;34m\u001b[0m\u001b[0;34m\u001b[0m\u001b[0m\n\u001b[0;32m----> 2\u001b[0;31m \u001b[0mprint\u001b[0m\u001b[0;34m(\u001b[0m\u001b[0mdir\u001b[0m\u001b[0;34m(\u001b[0m\u001b[0ma_list\u001b[0m\u001b[0;34m)\u001b[0m\u001b[0;34m)\u001b[0m\u001b[0;34m\u001b[0m\u001b[0m\n\u001b[0m",
      "\u001b[0;31mNameError\u001b[0m: name 'a_list' is not defined"
     ]
    }
   ],
   "source": [
    "# Methods of a list object\n",
    "print(dir(a_list))"
   ]
  },
  {
   "cell_type": "code",
   "execution_count": 84,
   "metadata": {
    "collapsed": false
   },
   "outputs": [
    {
     "name": "stdout",
     "output_type": "stream",
     "text": [
      "[1, 2, 3, 5]\n",
      "[1, 2, 3, 5, [6]]\n"
     ]
    }
   ],
   "source": [
    "# Append\n",
    "new_list = [1,2,3]\n",
    "new_list.append(5)\n",
    "print(new_list)\n",
    "\n",
    "new_list.append([6])\n",
    "print(new_list)"
   ]
  },
  {
   "cell_type": "code",
   "execution_count": 85,
   "metadata": {
    "collapsed": false
   },
   "outputs": [
    {
     "name": "stdout",
     "output_type": "stream",
     "text": [
      "[1, 2, 3, 5, [6], 7, 8, 9]\n"
     ]
    }
   ],
   "source": [
    "# Extend\n",
    "new_list.extend([7, 8, 9])\n",
    "print(new_list)"
   ]
  },
  {
   "cell_type": "code",
   "execution_count": 91,
   "metadata": {
    "collapsed": false
   },
   "outputs": [
    {
     "name": "stdout",
     "output_type": "stream",
     "text": [
      "7\n",
      "[8, 9]\n"
     ]
    }
   ],
   "source": [
    "# Pop\n",
    "print(new_list.pop(0))\n",
    "print(new_list)"
   ]
  },
  {
   "cell_type": "code",
   "execution_count": 123,
   "metadata": {
    "collapsed": false
   },
   "outputs": [
    {
     "name": "stdout",
     "output_type": "stream",
     "text": [
      "2\n"
     ]
    }
   ],
   "source": [
    "# Get length, or number of elements in a list\n",
    "print(len(new_list))"
   ]
  },
  {
   "cell_type": "markdown",
   "metadata": {},
   "source": [
    "**Pointers of mutable objects**:"
   ]
  },
  {
   "cell_type": "code",
   "execution_count": 220,
   "metadata": {
    "collapsed": false
   },
   "outputs": [
    {
     "name": "stdout",
     "output_type": "stream",
     "text": [
      "[1, 2, 3]\n",
      "[1, 2, 3]\n",
      "0x103045f88\n",
      "0x103045f88\n"
     ]
    }
   ],
   "source": [
    "# Define a to be a simple list\n",
    "a = [1, 2, 3]\n",
    "# Assign a to be equal to b \n",
    "b = a\n",
    "\n",
    "print(a)\n",
    "print(b)\n",
    "print(hex(id(a)))\n",
    "print(hex(id(b)))"
   ]
  },
  {
   "cell_type": "code",
   "execution_count": 225,
   "metadata": {
    "collapsed": false
   },
   "outputs": [
    {
     "name": "stdout",
     "output_type": "stream",
     "text": [
      "[100, 2, 3]\n",
      "0x103045f88\n"
     ]
    }
   ],
   "source": [
    "# Now change a, which is a mutable object\n",
    "a[0] = 100\n",
    "print(a)\n",
    "print(hex(id(a)))"
   ]
  },
  {
   "cell_type": "code",
   "execution_count": 224,
   "metadata": {
    "collapsed": false
   },
   "outputs": [
    {
     "name": "stdout",
     "output_type": "stream",
     "text": [
      "[100, 2, 3]\n",
      "0x103045f88\n"
     ]
    }
   ],
   "source": [
    "# What about b?\n",
    "print(b)\n",
    "print(hex(id(b)))"
   ]
  },
  {
   "cell_type": "markdown",
   "metadata": {},
   "source": [
    "Be careful about this! You can avoid this by creating a new copy of the object in memory. Some ways to do this is to 1.) slice the list, 2.) take a `list()` of the list, 3.) multiply by 1, 4.) make a copy with the `copy` module."
   ]
  },
  {
   "cell_type": "code",
   "execution_count": 106,
   "metadata": {
    "collapsed": false
   },
   "outputs": [
    {
     "name": "stdout",
     "output_type": "stream",
     "text": [
      "0x10823f848\n",
      "0x108262c48\n",
      "[100, 2, 3]\n",
      "[1, 2, 3]\n"
     ]
    }
   ],
   "source": [
    "# Take a list of the list and assign to b\n",
    "a = [1,2,3]\n",
    "b = list(a)\n",
    "print(hex(id(a)))\n",
    "print(hex(id(b)))\n",
    "\n",
    "# Alter elements of a\n",
    "a[0] = 100\n",
    "print(a)\n",
    "print(b)"
   ]
  },
  {
   "cell_type": "markdown",
   "metadata": {},
   "source": [
    "**Tuples**\n",
    "\n",
    "Tuples are like lists, but are immutable, and are constructed with parentheses `()`."
   ]
  },
  {
   "cell_type": "code",
   "execution_count": 95,
   "metadata": {
    "collapsed": false
   },
   "outputs": [
    {
     "name": "stdout",
     "output_type": "stream",
     "text": [
      "('hi there', False, 8)\n"
     ]
    }
   ],
   "source": [
    "# A tuple object can take any data type, and can be indexed like lists\n",
    "my_tuple = ('hi there', 5, False, 7, 8, 9)\n",
    "print(my_tuple[::2])"
   ]
  },
  {
   "cell_type": "code",
   "execution_count": 116,
   "metadata": {
    "collapsed": false
   },
   "outputs": [
    {
     "ename": "TypeError",
     "evalue": "'tuple' object does not support item assignment",
     "output_type": "error",
     "traceback": [
      "\u001b[0;31m---------------------------------------------------------------------------\u001b[0m",
      "\u001b[0;31mTypeError\u001b[0m                                 Traceback (most recent call last)",
      "\u001b[0;32m<ipython-input-116-ffaa1dce52cb>\u001b[0m in \u001b[0;36m<module>\u001b[0;34m()\u001b[0m\n\u001b[1;32m      1\u001b[0m \u001b[0;31m# Try to reassign...\u001b[0m\u001b[0;34m\u001b[0m\u001b[0;34m\u001b[0m\u001b[0m\n\u001b[0;32m----> 2\u001b[0;31m \u001b[0mmy_tuple\u001b[0m\u001b[0;34m[\u001b[0m\u001b[0;36m0\u001b[0m\u001b[0;34m]\u001b[0m \u001b[0;34m=\u001b[0m \u001b[0;34m'goodbye'\u001b[0m\u001b[0;34m\u001b[0m\u001b[0m\n\u001b[0m",
      "\u001b[0;31mTypeError\u001b[0m: 'tuple' object does not support item assignment"
     ]
    }
   ],
   "source": [
    "# Try to reassign...\n",
    "my_tuple[0] = 'goodbye'"
   ]
  },
  {
   "cell_type": "markdown",
   "metadata": {},
   "source": [
    "**Sets**\n",
    "\n",
    "Sets are like list and tuples in that they hold data in an element-by-element fashion and can hold any type of data. They are constructed with curly brackets, or with the `set` function. However, sets differ from lists and tuples in some significant ways. First, they are \"unordered\" meaning that their order is not static and can change without you knowing it. Because of this, sets do not support indexing. Sets also do not allow for repeated data: repeated data are eliminated upon declaration."
   ]
  },
  {
   "cell_type": "code",
   "execution_count": 138,
   "metadata": {
    "collapsed": false
   },
   "outputs": [
    {
     "name": "stdout",
     "output_type": "stream",
     "text": [
      "{False, True, 2, 10, 'hello there', 'hello'}\n"
     ]
    }
   ],
   "source": [
    "# Make a set\n",
    "my_set = {1, 2, 10, True, 0, 'hello there', False, 'hello', 10}\n",
    "print(my_set)"
   ]
  },
  {
   "cell_type": "markdown",
   "metadata": {},
   "source": [
    "Sets can also be used, unlike lists and tuples, to do set operations, like unions, intersections, etc.\n",
    "\n",
    "<img src='imgs/venn.jpg' width=400px>\n",
    "<center> A venn diagram, showing the intersection and union of two sets </center>"
   ]
  },
  {
   "cell_type": "code",
   "execution_count": 147,
   "metadata": {
    "collapsed": false
   },
   "outputs": [
    {
     "name": "stdout",
     "output_type": "stream",
     "text": [
      "{1, 2, 3, 4, 5, 6, 7, 8}\n",
      "\n",
      "{4, 5}\n",
      "\n",
      "{1, 2, 3}\n",
      "\n",
      "{1, 2, 3, 6, 7, 8}\n"
     ]
    }
   ],
   "source": [
    "# Create overlapping sets\n",
    "set1 = set([1,2,3,4,5])\n",
    "set2 = set([4,5,6,7,8])\n",
    "\n",
    "print(set1 | set2)\n",
    "\n",
    "print(\"\")\n",
    "\n",
    "print(set1 & set2)\n",
    "\n",
    "print(\"\")\n",
    "\n",
    "print(set1 - set2)\n",
    "\n",
    "print(\"\")\n",
    "\n",
    "print(set1 ^ set2)"
   ]
  },
  {
   "cell_type": "markdown",
   "metadata": {},
   "source": [
    "**Dictionaries**\n",
    "\n",
    "A dictionary is a way to store data into a strucure and also *assign it a name*. To access the data, we cannot index the dictionary, but must feed the dictionary the name of the data we want. The set of names are called the *dictionary keys* and their associate data are called the *dictionary values*. Normal dictionaries, like sets, are unordered, however, like lists and tuples, they can take any form of data even if it is repeated. They cannot take multiple declarations of the same name, though: a second declaration of an existing key will just overwrite the first. They are created with curly brackets or the `dict()` function."
   ]
  },
  {
   "cell_type": "code",
   "execution_count": 4,
   "metadata": {
    "collapsed": false
   },
   "outputs": [
    {
     "name": "stdout",
     "output_type": "stream",
     "text": [
      "{'var1': 1, 'var2': 2, 'var3': 4}\n"
     ]
    }
   ],
   "source": [
    "# create a dictionary\n",
    "my_dictionary = {'var1':1, 'var2':2, 'var3':4}\n",
    "print(my_dictionary)"
   ]
  },
  {
   "cell_type": "code",
   "execution_count": 5,
   "metadata": {
    "collapsed": false
   },
   "outputs": [
    {
     "name": "stdout",
     "output_type": "stream",
     "text": [
      "1\n"
     ]
    }
   ],
   "source": [
    "# Access data\n",
    "print(my_dictionary['var1'])"
   ]
  },
  {
   "cell_type": "code",
   "execution_count": 6,
   "metadata": {
    "collapsed": false
   },
   "outputs": [
    {
     "name": "stdout",
     "output_type": "stream",
     "text": [
      "{'var1': 100, 'var2': 2, 'var3': 4}\n"
     ]
    }
   ],
   "source": [
    "# Update data\n",
    "my_dictionary['var1'] = 100\n",
    "print(my_dictionary)"
   ]
  },
  {
   "cell_type": "code",
   "execution_count": 7,
   "metadata": {
    "collapsed": false
   },
   "outputs": [
    {
     "name": "stdout",
     "output_type": "stream",
     "text": [
      "dict_keys(['var1', 'var2', 'var3'])\n",
      "dict_values([100, 2, 4])\n"
     ]
    }
   ],
   "source": [
    "# Look at just keys\n",
    "print(my_dictionary.keys())\n",
    "\n",
    "# Look at just values\n",
    "print(my_dictionary.values())"
   ]
  },
  {
   "cell_type": "code",
   "execution_count": 9,
   "metadata": {
    "collapsed": false
   },
   "outputs": [
    {
     "name": "stdout",
     "output_type": "stream",
     "text": [
      "{'third_var': False, 'fourth_var': 'hello again', 'second_var': 'goodbye', 'first_var': 100}\n"
     ]
    }
   ],
   "source": [
    "# Join two dictionaries together\n",
    "dict1 = dict([['first_var', 100], ['second_var', 'hi there'], ['third_var', False]])\n",
    "dict2 = dict([['second_var', 'goodbye'], ['fourth_var', 'hello again']])\n",
    "\n",
    "# Update dict1 w/ dict2\n",
    "dict1.update(dict2)\n",
    "print(dict1)"
   ]
  },
  {
   "cell_type": "markdown",
   "metadata": {},
   "source": [
    "A cool thing about dictionaries is the `d.get()` function, which allows you to see if a key exists in the dictionary, and if not output either nothing or something of your choice. This function follows the syntax: `get(varname, what-to-return-if-N/A)`."
   ]
  },
  {
   "cell_type": "code",
   "execution_count": 88,
   "metadata": {
    "collapsed": false
   },
   "outputs": [
    {
     "name": "stdout",
     "output_type": "stream",
     "text": [
      "dont have a var4\n"
     ]
    }
   ],
   "source": [
    "# example dictionary\n",
    "d1 = {'var1':1, 'var2':2, 'var3':3, 'var5':5}\n",
    "print(d1.get('var4', 'dont have a var4'))"
   ]
  },
  {
   "cell_type": "markdown",
   "metadata": {},
   "source": [
    "### Flow Control: loops, conditionals, errors\n",
    "---\n",
    "\n",
    "Often we want more control over a program's execution than what is allowed by a single block of linear code. We can create conditionals such that certain operations are performed only when a specific criterion is met. We can also take a block of code and loop (or iterate) over it to perform the same task multiple times. We can also choose to raise an error (i.e., divert or stop the program) if we anticipate the code is malfunctioning. Combining these allows us to take the synatx we've learned up to now and create sophisticated and \"smart\" programs.\n",
    "\n",
    "**Conditionals**:\n",
    "\n",
    "Conditionals are statements that enact an \"if-then\" logic. An \"if\" statement says, if a certain condition is met then perform some operation. We can also include an \"elif\" (or \"else-if\") statement, which says, \"if the previous condition was not met, and if this condition is met, then...\". And lastly an \"else\" statement, which just says, \"if all previous conditions were not met, then...\" The conditionals are accepted if the result is True, and rejected if the result is False. We can construct conditionals with the comparison operators (`==, !=, <, <=, >, >=`) we learned before.\n",
    "\n",
    "Here, we will also introduce a **key syntactical element** of Python: indentation. You may have noticed that for basic arithmetic, Python is insensitive to extra whitespace. In other words, `2*2` is the same as `2 * 2` is the same as `2    *2`. *This is not the case for indentation*. In Python, indentation place a similar role that brackets {} play in C and C++. In technical terms, they imply a specific level of scope, which is a way of saying, \"the following block of code will be grouped together.\" In terms of conditionals, indentation specifies which lines of code belong to the conditional. \n"
   ]
  },
  {
   "cell_type": "code",
   "execution_count": 5,
   "metadata": {
    "collapsed": false
   },
   "outputs": [
    {
     "name": "stdout",
     "output_type": "stream",
     "text": [
      "What is the temperature in F? 10\n",
      "Wear pants.\n"
     ]
    }
   ],
   "source": [
    "# http://anh.cs.luc.edu/python/hands-on/3.1/handsonHtml/ifstatements.html\n",
    "\n",
    "temperature = float(input('What is the temperature in F? '))\n",
    "if temperature > 70:\n",
    "    print('Wear shorts.')\n",
    "else:\n",
    "    print('Wear pants.')"
   ]
  },
  {
   "cell_type": "code",
   "execution_count": 7,
   "metadata": {
    "collapsed": false
   },
   "outputs": [
    {
     "name": "stdout",
     "output_type": "stream",
     "text": [
      "What is your score (x/100)? 99\n",
      "Your letter grade is:  A\n"
     ]
    }
   ],
   "source": [
    "# http://anh.cs.luc.edu/python/hands-on/3.1/handsonHtml/ifstatements.html\n",
    "\n",
    "score = float(input(\"What is your score (x/100)? \"))\n",
    "if score >= 90:\n",
    "    letter = 'A'\n",
    "elif score >= 80:\n",
    "    letter = 'B'\n",
    "elif score >= 70:\n",
    "    letter = 'C'\n",
    "elif score >= 60:\n",
    "    letter = 'D'\n",
    "else:\n",
    "    letter = 'F'\n",
    "\n",
    "print(\"Your letter grade is: \", letter)"
   ]
  },
  {
   "cell_type": "markdown",
   "metadata": {},
   "source": [
    "**Loops**\n",
    "\n",
    "We can loop or iterate over a chunk of code to perform it multiple times. In general there are two kinds of loops, a *for loop* and a *while loop*. A for loop can be thought of as iterating over an array **for** each element of the array. A while loop is a loop that repeates indefinitely until some condition is met (or conversely, until some condition is broken). We will see examples of both.\n",
    "\n",
    "The general syntax of a FOR loop is:\n",
    "```\n",
    "<preceding code>\n",
    "for <iterator> in <array>:\n",
    "    <operation1>\n",
    "    <operation2>\n",
    "    ...\n",
    "    <final operation>\n",
    "    \n",
    "<suceeding code>\n",
    "```\n",
    "You can see that the indentation of `<operations>` specifies which lines of code will be iterated over. In this case, the indented block is repeated `N` times, where `N` is the number of elements in `<array>`.\n",
    "\n",
    "The general syntax of a WHILE loop is:\n",
    "```\n",
    "<preceeding code>\n",
    "while <condition> == True:\n",
    "    <operation1>\n",
    "    ...\n",
    "    \n",
    "<suceeding code>\n",
    "```\n",
    "In this case, the condition is evaluated at the beginning of the loop. If it is `True` the loop is evaluated. This is repeated indefinitely until the condition is not True. Be careful, because if you set up a loop with no way to exit it will actually repeat forever."
   ]
  },
  {
   "cell_type": "code",
   "execution_count": 17,
   "metadata": {
    "collapsed": false
   },
   "outputs": [
    {
     "name": "stdout",
     "output_type": "stream",
     "text": [
      "2500\n"
     ]
    }
   ],
   "source": [
    "# A simple for loop to find sum of all odd numbers\n",
    "total = 0\n",
    "for i in range(100):\n",
    "    if i % 2 == 1:\n",
    "        total += i\n",
    "print(total)"
   ]
  },
  {
   "cell_type": "markdown",
   "metadata": {},
   "source": [
    "Here, the built-in `range` function returns a generator object, which is an iterable containing all integers from 0 to 99, which is something that can be iterated over in a FOR loop. As point of notice, in Python 2 the `range()` function returns a list, whereas in Python 3 the `range()` function returns a generator, which is a little different in that it doesn't actually assign the elements of the generator object in memory *until* it is looped over. Generators can be turned into lists with the `list()` function. "
   ]
  },
  {
   "cell_type": "code",
   "execution_count": 3,
   "metadata": {
    "collapsed": false
   },
   "outputs": [
    {
     "name": "stdout",
     "output_type": "stream",
     "text": [
      "['aa', 'ab', 'ac', 'ba', 'bb', 'bc', 'ca', 'cb', 'cc']\n"
     ]
    }
   ],
   "source": [
    "# A nested FOR loop\n",
    "perm = []\n",
    "for i in ['a', 'b', 'c']:\n",
    "    for j in ['a', 'b', 'c']:\n",
    "        perm.append(i+j)\n",
    "print(perm)"
   ]
  },
  {
   "cell_type": "code",
   "execution_count": 9,
   "metadata": {
    "collapsed": false
   },
   "outputs": [
    {
     "name": "stdout",
     "output_type": "stream",
     "text": [
      "the counter = 0\n",
      "the counter = 1\n",
      "the counter = 2\n",
      "the counter = 3\n",
      "the counter = 4\n",
      "the loop finished!\n"
     ]
    }
   ],
   "source": [
    "# A while loop\n",
    "counter = 0\n",
    "while counter < 5:\n",
    "    print(\"the counter =\", counter)\n",
    "    counter += 1\n",
    "    \n",
    "print(\"the loop finished!\")"
   ]
  },
  {
   "cell_type": "markdown",
   "metadata": {},
   "source": [
    "As we have seen above, sometimes we use FOR loops to iterate over an array to perform a calculation and store the result into a data structure. There is another way to do this in a single line, called a **list comprehension**. It turns out that list comprehensions are also *faster* than a traditional FOR loop."
   ]
  },
  {
   "cell_type": "code",
   "execution_count": 17,
   "metadata": {
    "collapsed": false
   },
   "outputs": [
    {
     "name": "stdout",
     "output_type": "stream",
     "text": [
      "[3, 6, 9, 12, 15, 18, 21, 24, 27, 30, 33, 36, 39, 42, 45, 48, 51, 54, 57, 60, 63, 66, 69, 72, 75, 78, 81, 84, 87, 90, 93, 96, 99]\n"
     ]
    }
   ],
   "source": [
    "# Store all multiples of three from 0 to 100\n",
    "result = [i for i in range(100) if i % 3 == 0 and i != 0]\n",
    "print(result)"
   ]
  },
  {
   "cell_type": "markdown",
   "metadata": {},
   "source": [
    "To have more control over the structure of nested loops and conditionals, we can utilize the `continue` command, the `break` command, and the `pass` command.\n",
    "\n",
    "Let's say you are iterating through a loop and would like to skip one particular iteration while still finishing the remaining iterations in the loop. In this case, you would use the `continue` statement."
   ]
  },
  {
   "cell_type": "code",
   "execution_count": 36,
   "metadata": {
    "collapsed": false
   },
   "outputs": [
    {
     "name": "stdout",
     "output_type": "stream",
     "text": [
      "The number 1 is an integer\n",
      "The number 2 is an integer\n",
      "The number 3 is an integer\n",
      "The number 5 is an integer\n",
      "The number 6 is an integer\n",
      "The number 8 is an integer\n"
     ]
    }
   ],
   "source": [
    "# use continue in a loop to skip the rest of the code in that iteration\n",
    "numbers = [1, 2, 3, 4.0, 5, 6, 7.0, 8]\n",
    "for n in numbers:\n",
    "    if type(n) != int:\n",
    "        continue\n",
    "    print(\"The number %s is an integer\" % n)"
   ]
  },
  {
   "cell_type": "markdown",
   "metadata": {},
   "source": [
    "The `break` statement is similar to the `continue` statement, but in this case it not only stops the current iteration of the loop but exits the loop entirely."
   ]
  },
  {
   "cell_type": "code",
   "execution_count": 40,
   "metadata": {
    "collapsed": false
   },
   "outputs": [
    {
     "name": "stdout",
     "output_type": "stream",
     "text": [
      "my age is 25\n"
     ]
    }
   ],
   "source": [
    "# Use a break statement to kill the loop\n",
    "my_age = 0\n",
    "while True:\n",
    "    if my_age >= 25:\n",
    "        print(\"my age is\", my_age)\n",
    "        break\n",
    "    my_age += 1"
   ]
  },
  {
   "cell_type": "markdown",
   "metadata": {},
   "source": [
    "Finally, you can use the `pass` statement as a placeholder when you know an indent is needed, but don't have any text to put in just yet. In other words, the `pass` statement doesn't do anything, and can be used when code is under development."
   ]
  },
  {
   "cell_type": "code",
   "execution_count": 51,
   "metadata": {
    "collapsed": false
   },
   "outputs": [
    {
     "name": "stdout",
     "output_type": "stream",
     "text": [
      "a is not 0\n"
     ]
    }
   ],
   "source": [
    "a = 100\n",
    "if a == 0:\n",
    "    pass\n",
    "else:\n",
    "    print(\"a is not 0\")"
   ]
  },
  {
   "cell_type": "markdown",
   "metadata": {},
   "source": [
    "**Handling Errors**\n",
    "\n",
    "In the event that we anticipate our code to fail, we can use the `try: except:` syntax to \"try\" something out, and in the case that it fails, perform something else. If our code continues to fail, it will raise an exception (or an error). Sometimes this is actually desirable: anytime you write a piece of code from scratch, you are bound to get something a little off. This introduces bugs into the code. Some bugs cause the program to fail. These bugs are \"good\" bugs, because we are alerted that they exist when the code breaks. However, there are also \"silent\" bugs: bugs that change the code from doing what we expect, but don't cause the code to completely break. These kinds of bugs can be dangerous because they can go completely unnoticed. If we think that some piece of the code is introducing a bug, we can manually \"raise\" an error with the `raise` command, and can check that our code is doing what we expect with the `assert` command."
   ]
  },
  {
   "cell_type": "code",
   "execution_count": 57,
   "metadata": {
    "collapsed": false
   },
   "outputs": [
    {
     "ename": "ZeroDivisionError",
     "evalue": "division by zero",
     "output_type": "error",
     "traceback": [
      "\u001b[0;31m---------------------------------------------------------------------------\u001b[0m",
      "\u001b[0;31mZeroDivisionError\u001b[0m                         Traceback (most recent call last)",
      "\u001b[0;32m<ipython-input-57-b973a7075012>\u001b[0m in \u001b[0;36m<module>\u001b[0;34m()\u001b[0m\n\u001b[1;32m      1\u001b[0m \u001b[0;31m# What are some kinds of errors we can raise?\u001b[0m\u001b[0;34m\u001b[0m\u001b[0;34m\u001b[0m\u001b[0m\n\u001b[0;32m----> 2\u001b[0;31m \u001b[0;36m1\u001b[0m \u001b[0;34m/\u001b[0m \u001b[0;36m0\u001b[0m\u001b[0;34m\u001b[0m\u001b[0m\n\u001b[0m",
      "\u001b[0;31mZeroDivisionError\u001b[0m: division by zero"
     ]
    }
   ],
   "source": [
    "# What are some kinds of errors we can raise?\n",
    "1 / 0"
   ]
  },
  {
   "cell_type": "code",
   "execution_count": 58,
   "metadata": {
    "collapsed": false
   },
   "outputs": [
    {
     "ename": "TypeError",
     "evalue": "unsupported operand type(s) for /: 'int' and 'str'",
     "output_type": "error",
     "traceback": [
      "\u001b[0;31m---------------------------------------------------------------------------\u001b[0m",
      "\u001b[0;31mTypeError\u001b[0m                                 Traceback (most recent call last)",
      "\u001b[0;32m<ipython-input-58-38a1493b0b77>\u001b[0m in \u001b[0;36m<module>\u001b[0;34m()\u001b[0m\n\u001b[0;32m----> 1\u001b[0;31m \u001b[0;36m5\u001b[0m \u001b[0;34m/\u001b[0m \u001b[0;34m'five'\u001b[0m\u001b[0;34m\u001b[0m\u001b[0m\n\u001b[0m",
      "\u001b[0;31mTypeError\u001b[0m: unsupported operand type(s) for /: 'int' and 'str'"
     ]
    }
   ],
   "source": [
    "5 / 'five'"
   ]
  },
  {
   "cell_type": "code",
   "execution_count": 60,
   "metadata": {
    "collapsed": false
   },
   "outputs": [
    {
     "ename": "ValueError",
     "evalue": "invalid literal for int() with base 10: 'hello'",
     "output_type": "error",
     "traceback": [
      "\u001b[0;31m---------------------------------------------------------------------------\u001b[0m",
      "\u001b[0;31mValueError\u001b[0m                                Traceback (most recent call last)",
      "\u001b[0;32m<ipython-input-60-02018482c090>\u001b[0m in \u001b[0;36m<module>\u001b[0;34m()\u001b[0m\n\u001b[0;32m----> 1\u001b[0;31m \u001b[0man_integer\u001b[0m \u001b[0;34m=\u001b[0m \u001b[0mint\u001b[0m\u001b[0;34m(\u001b[0m\u001b[0;34m'hello'\u001b[0m\u001b[0;34m)\u001b[0m\u001b[0;34m\u001b[0m\u001b[0m\n\u001b[0m",
      "\u001b[0;31mValueError\u001b[0m: invalid literal for int() with base 10: 'hello'"
     ]
    }
   ],
   "source": [
    "an_integer = int('hello')"
   ]
  },
  {
   "cell_type": "code",
   "execution_count": 69,
   "metadata": {
    "collapsed": false
   },
   "outputs": [
    {
     "name": "stdout",
     "output_type": "stream",
     "text": [
      "Please enter an integer: 50\n",
      "Your number is 50\n"
     ]
    }
   ],
   "source": [
    "# Practice with a try statement\n",
    "while True:\n",
    "    try:\n",
    "        number = int(input('Please enter an integer: '))\n",
    "        break\n",
    "    except ValueError:\n",
    "        print(\"That wasn't an integer, try again...\")\n",
    "        \n",
    "print(\"Your number is\", number)"
   ]
  },
  {
   "cell_type": "markdown",
   "metadata": {
    "collapsed": true
   },
   "source": [
    "We can also raise an error if we anticipate that your code will fail if it continues to run in a certain circumstance. Following the previous example"
   ]
  },
  {
   "cell_type": "code",
   "execution_count": 76,
   "metadata": {
    "collapsed": false
   },
   "outputs": [
    {
     "name": "stdout",
     "output_type": "stream",
     "text": [
      "Please choose a password with at least 7 characters: h\n"
     ]
    },
    {
     "ename": "Exception",
     "evalue": "This password is not long enough",
     "output_type": "error",
     "traceback": [
      "\u001b[0;31m---------------------------------------------------------------------------\u001b[0m",
      "\u001b[0;31mException\u001b[0m                                 Traceback (most recent call last)",
      "\u001b[0;32m<ipython-input-76-bdf7d5f04494>\u001b[0m in \u001b[0;36m<module>\u001b[0;34m()\u001b[0m\n\u001b[1;32m      1\u001b[0m \u001b[0mpassword\u001b[0m \u001b[0;34m=\u001b[0m \u001b[0minput\u001b[0m\u001b[0;34m(\u001b[0m\u001b[0;34m\"Please choose a password with at least 7 characters: \"\u001b[0m\u001b[0;34m)\u001b[0m\u001b[0;34m\u001b[0m\u001b[0m\n\u001b[1;32m      2\u001b[0m \u001b[0;32mif\u001b[0m \u001b[0mlen\u001b[0m\u001b[0;34m(\u001b[0m\u001b[0mpassword\u001b[0m\u001b[0;34m)\u001b[0m \u001b[0;34m<\u001b[0m \u001b[0;36m7\u001b[0m\u001b[0;34m:\u001b[0m\u001b[0;34m\u001b[0m\u001b[0m\n\u001b[0;32m----> 3\u001b[0;31m     \u001b[0;32mraise\u001b[0m \u001b[0mException\u001b[0m\u001b[0;34m(\u001b[0m\u001b[0;34m\"This password is not long enough\"\u001b[0m\u001b[0;34m)\u001b[0m\u001b[0;34m\u001b[0m\u001b[0m\n\u001b[0m\u001b[1;32m      4\u001b[0m \u001b[0;34m\u001b[0m\u001b[0m\n\u001b[1;32m      5\u001b[0m \u001b[0mprint\u001b[0m\u001b[0;34m(\u001b[0m\u001b[0;34m\"Your password has %s characters\"\u001b[0m \u001b[0;34m%\u001b[0m \u001b[0mlen\u001b[0m\u001b[0;34m(\u001b[0m\u001b[0mpassword\u001b[0m\u001b[0;34m)\u001b[0m\u001b[0;34m)\u001b[0m\u001b[0;34m\u001b[0m\u001b[0m\n",
      "\u001b[0;31mException\u001b[0m: This password is not long enough"
     ]
    }
   ],
   "source": [
    "password = input(\"Please choose a password with at least 7 characters: \")\n",
    "if len(password) < 7:\n",
    "    raise Exception(\"This password is not long enough\")\n",
    "\n",
    "print(\"Your password has %s characters\" % len(password))"
   ]
  },
  {
   "cell_type": "markdown",
   "metadata": {},
   "source": [
    "### Breakout 2 :\n",
    "---\n",
    "\n",
    "* Write your own magic 8-ball. Create a program that asks the user for a yes-or no question. Ma ke the program reply with 1 out of 8 possible responses, each of which range from \"it is certain to come true\" to \"impossible\" in their response. You can use a random number generator to dictate which response to give the user. Upon reply, print out the users question and the magic 8 ball's response, and give them the option to ask another question or to exit the program. You can use the following syntax to generate a random number between 1 and 8. We will learn more about importing external modules in the next lecture.\n",
    "```\n",
    "import random\n",
    "rand_number = random.randint(1, 8)\n",
    "```"
   ]
  },
  {
   "cell_type": "code",
   "execution_count": null,
   "metadata": {
    "collapsed": true
   },
   "outputs": [],
   "source": [
    "# Breakout 2a solution\n"
   ]
  },
  {
   "cell_type": "markdown",
   "metadata": {},
   "source": [
    "* Starting with the two dictionaries defined below:\n",
    "    1. add three more cities and three more states to their corresponding dictionary (do not add them into the cell below, create a new cell and add them to the already existing dictionary).\n",
    "    2. using the `state2abbr` dictionary, create a new `abbr2state` dictionary, which has abbr has keys and state as values\n",
    "    3. using a `for` loop and the `state2abbr` dictionary, print `<statename> has abbreviation <abbr>` for each state in the `states` dictionay\n",
    "    4. using a `for` loop and the `abbr2state` dictionary, print `<cityname> is in <statename>` for each city in the `cities` dictionary\n",
    "    5. write a code that asks the user for input and prints out the abbreviation of a state, or the state in which a city resides. First, have the code ask the user to first choose to get a state abbreviation, or to get the state in which a city resides, once they have made their selection, use the dictionaries we defined above to answer their question. If you cannot answer their question, tell them so, and prompt them to either start over from the beginning or to exit the program."
   ]
  },
  {
   "cell_type": "code",
   "execution_count": 64,
   "metadata": {
    "collapsed": true
   },
   "outputs": [],
   "source": [
    "state2abbr = {\n",
    "    'Michigan': 'MI',\n",
    "    'Oregon' : 'OR',\n",
    "    'Califonia' : 'CA',\n",
    "    'Nevada' : 'NV' }\n",
    "\n",
    "cities = {\n",
    "    'Ann Arbor' : 'MI',\n",
    "    'Chicago' : 'IL',\n",
    "    'Portland' : 'OR',\n",
    "    'Berkeley' : 'CA',\n",
    "    'San Francisco' : 'CA' }"
   ]
  },
  {
   "cell_type": "code",
   "execution_count": null,
   "metadata": {
    "collapsed": true
   },
   "outputs": [],
   "source": [
    "#Breakout 2b solution\n"
   ]
  }
 ],
 "metadata": {
  "anaconda-cloud": {},
  "kernelspec": {
   "display_name": "Python [py3k]",
   "language": "python",
   "name": "Python [py3k]"
  },
  "language_info": {
   "codemirror_mode": {
    "name": "ipython",
    "version": 3
   },
   "file_extension": ".py",
   "mimetype": "text/x-python",
   "name": "python",
   "nbconvert_exporter": "python",
   "pygments_lexer": "ipython3",
   "version": "3.5.2"
  }
 },
 "nbformat": 4,
 "nbformat_minor": 0
}
