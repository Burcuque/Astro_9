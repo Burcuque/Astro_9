{
 "cells": [
  {
   "cell_type": "markdown",
   "metadata": {},
   "source": [
    "## Introduction to Python I\n",
    "**Nick Kern**\n",
    "<br>\n",
    "**Astro 9: Python Programming in Astronomy**\n",
    "<br>\n",
    "**UC Berkeley**\n",
    "\n",
    "---\n",
    "1. [Introduction](#Introduction)\n",
    "2. [Hello World!](#Hello-World!)\n",
    "6. [Linearity of a Program](#Linearity-of-a-Program)\n",
    "3. [Data Types](#Data-Types)\n",
    "4. [Python Operators](#Python-Operators)\n",
    "5. [Variable Assignment](#Variable-Assignment)\n",
    "7. [String Formatting](#String-Formatting)"
   ]
  },
  {
   "cell_type": "markdown",
   "metadata": {},
   "source": [
    "### Introduction\n",
    "\n",
    "<img src=\"imgs/python-logo.png\" width=500px/>\n",
    "\n",
    "In this notebook, we will cover the very basics of the Python programming language. For this course, we will be using Python 3. \n",
    "\n",
    "At their core, programming languages are methods for manipulating data. Here, we will discuss the ways in which the Python language can be used to manipulate data for different purposes. Before we begin, let's think about why Python has become so widely used not only amongst scientists, but also amongst programmers in general. \n",
    "\n",
    "> \"Python is an interpreted, object-oriented, high-level programming language with dynamic semantics.\"\n",
    "<br>\n",
    "> -- https://www.python.org/doc/essays/blurb/\n",
    "\n",
    "Python being an \"interpreted language\" implies there is no formal step for compiling one's code, instead this is done automatically for us, and the code is translated to lower-level code (although not machine code). The term \"object-oriented\" refers to the fact that Python is designed to support the construction of complex data structures that can act as \"containers\" for other functions and data structures, known as methods and attributes. The term \"high-level\" means that the language forms abstractions around machine logic to be more readable and similar to human language. The term \"dynamic\" means that variables can be defined \"on-the-fly\" or dynamically, and the Python interpreter handles the details for us automatically. \n",
    "\n",
    "These aspects make Python a very readable, powerful and easy-to-use language. Compared to languages that are traditionally used for scientific programming, like C, C++ and Fortran, Python is easier to read, debug, interact with, can visualize data easier, and can be used to do just about anything with a shallower learning curve. Other high-level languages with similar features, like IDL and Matlab, are proprietary (and therefore expensive) and don't have the versatility of being able to do just about anything. Because Python is open-sourced, there has been an incredibly large number of modules and libraries that have been built by the Python community that enable Python to be used for almost any task. Python does have its limitations, however, and the most evident one is its speed. Because Python is interpreted and is a higher-level langauge, it tends to have larger computational overheads, and in some cases is over 100x slower than languages like Fortran. There are ways to optimize Python to mitigate this to some degree, which we may explore later in the course. However, for many contexts, *code development* tends to be a larger time overhead than *code runtime*, making Python the more time-efficient choice in the long-run. In addition, being able to program effectively in Python will not only help you write code faster and more efficiently, it is also a very attractive skill for jobs in the private sector and industry!\n",
    "\n",
    "Hopefully we have convinced you that learning Python is worth your time, particularly if you are interested in doing research in the physical sciences. Now, let's start learning Python with a hands-on approach!"
   ]
  },
  {
   "cell_type": "markdown",
   "metadata": {},
   "source": [
    "### Hello World!\n",
    "\n",
    "One of the simplest scripts we can write is to have the Python interpreter return a statement with the `print` function. If we put the following text into a `hello.py` script and run it via `python hello.py` we should get a greeting. "
   ]
  },
  {
   "cell_type": "code",
   "execution_count": null,
   "metadata": {},
   "outputs": [],
   "source": [
    "%%file hello.py\n",
    "#!/usr/bin/env python\n",
    "\n",
    "# this is a hello world!\n",
    "print(\"Hello World!\")"
   ]
  },
  {
   "cell_type": "markdown",
   "metadata": {},
   "source": [
    "Now we can run this from the command line like:\n",
    "```bash\n",
    "python hello.py\n",
    "```\n",
    "\n",
    "or just run it straight from the Jupyter Notebook as"
   ]
  },
  {
   "cell_type": "code",
   "execution_count": null,
   "metadata": {},
   "outputs": [],
   "source": [
    "%run hello.py"
   ]
  },
  {
   "cell_type": "markdown",
   "metadata": {
    "collapsed": true
   },
   "source": [
    "Note that in Python 3, the `print` statement **needs** to have brackets, otherwise it will error. This highlights the two major ways we can run Python code: dynamically in a Python interpreter (see below) or by running scripts in the command line (see above).\n",
    "\n",
    "From here on out, all of the code we are going to see needs to be run within a Python interpreter, or needs to be put into a `filename.py` script. If you are following along in the Jupyter Notebook, then you can run the code directly inline as-is, like what I am doing for lecture!"
   ]
  },
  {
   "cell_type": "markdown",
   "metadata": {},
   "source": [
    "### Linearity of a Program\n",
    "\n",
    "When we create and run a script, the script is evaluated in a linear order from top to bottom. This is the same when we run an cell in the Jupyter Notebook. When writing code we should bear this in mind. This means that the following script, for example, will fail:"
   ]
  },
  {
   "cell_type": "code",
   "execution_count": 28,
   "metadata": {},
   "outputs": [
    {
     "name": "stdout",
     "output_type": "stream",
     "text": [
      "Overwriting hello.py\n"
     ]
    }
   ],
   "source": [
    "%%file hello.py\n",
    "#!/usr/bin/env python\n",
    "\n",
    "# Hello World 2.0\n",
    "greeting = \"What a wonderful day!\"\n",
    "print(greeting)"
   ]
  },
  {
   "cell_type": "code",
   "execution_count": null,
   "metadata": {},
   "outputs": [],
   "source": [
    "%run hello.py"
   ]
  },
  {
   "cell_type": "markdown",
   "metadata": {},
   "source": [
    "Here, the error is that the code is trying to `print()` the variable `greeting` before we have assigned it a value. We will discuss variable assignment further down, but the point is that code is evaluated top-to-bottom in a linear fashion."
   ]
  },
  {
   "cell_type": "markdown",
   "metadata": {},
   "source": [
    "### Data Types\n",
    "\n",
    "Let's explore the different formats data can take in the Python environment. Like most languages, this includes\n",
    "* integers\n",
    "* floats\n",
    "* complex\n",
    "* booleans\n",
    "* strings\n",
    "* None types\n",
    "\n",
    "For a single unit of data, we can learn its **data type** with the `type` function."
   ]
  },
  {
   "cell_type": "code",
   "execution_count": 16,
   "metadata": {},
   "outputs": [
    {
     "name": "stdout",
     "output_type": "stream",
     "text": [
      "This is a  <class 'int'>\n",
      "This is a  <class 'float'>\n",
      "This is a  <class 'complex'>\n",
      "This is a  <class 'bool'>\n",
      "This is a  <class 'str'>\n",
      "This is a  <class 'NoneType'>\n"
     ]
    }
   ],
   "source": [
    "print(\"This is a \", type(1))\n",
    "print(\"This is a \", type(1.0))\n",
    "print(\"This is a \", type(1j))\n",
    "print(\"This is a \", type(True))\n",
    "print(\"This is a \", type('hi'))\n",
    "print(\"This is a \", type(None))"
   ]
  },
  {
   "cell_type": "markdown",
   "metadata": {},
   "source": [
    "### Integer and Decimal Arithemtic\n",
    "\n",
    "Let's experiment by doing some integer & floating point arithmetic with these data types."
   ]
  },
  {
   "cell_type": "code",
   "execution_count": 19,
   "metadata": {},
   "outputs": [
    {
     "data": {
      "text/plain": [
       "4"
      ]
     },
     "execution_count": 19,
     "metadata": {},
     "output_type": "execute_result"
    }
   ],
   "source": [
    "# integer times integer yields an integer\n",
    "2 * 2"
   ]
  },
  {
   "cell_type": "code",
   "execution_count": 20,
   "metadata": {},
   "outputs": [
    {
     "data": {
      "text/plain": [
       "4.0"
      ]
     },
     "execution_count": 20,
     "metadata": {},
     "output_type": "execute_result"
    }
   ],
   "source": [
    "# float times a float yields a float\n",
    "2.0 * 2.0"
   ]
  },
  {
   "cell_type": "code",
   "execution_count": 21,
   "metadata": {},
   "outputs": [
    {
     "data": {
      "text/plain": [
       "2.0"
      ]
     },
     "execution_count": 21,
     "metadata": {},
     "output_type": "execute_result"
    }
   ],
   "source": [
    "# float divided by a float yields a float\n",
    "4.0 / 2.0"
   ]
  },
  {
   "cell_type": "code",
   "execution_count": 22,
   "metadata": {},
   "outputs": [
    {
     "data": {
      "text/plain": [
       "2.5"
      ]
     },
     "execution_count": 22,
     "metadata": {},
     "output_type": "execute_result"
    }
   ],
   "source": [
    "# integer divided by an integer yields a float!\n",
    "5 / 2"
   ]
  },
  {
   "cell_type": "code",
   "execution_count": 23,
   "metadata": {},
   "outputs": [
    {
     "data": {
      "text/plain": [
       "2"
      ]
     },
     "execution_count": 23,
     "metadata": {},
     "output_type": "execute_result"
    }
   ],
   "source": [
    "# integer division division by an integer yields an int!\n",
    "5 // 2"
   ]
  },
  {
   "cell_type": "markdown",
   "metadata": {},
   "source": [
    "Integer division shown above changed from Python 2 to Pyton 3: In Python 2 integer division yields an integer, whereas in Python 3 it yields a float.\n",
    "\n",
    "We can also represent decimals with scientific notation! Recall:\n",
    "\\begin{align}\n",
    "1\\rm{e}2 &= 10^{2} = 100.0\\\\\n",
    "1\\rm{e}1 &= 10^{1} = 10.0\\\\\n",
    "1\\rm{e}0 &= 10^{0} = 1.0\\\\\n",
    "1\\rm{e}\\text{-}1 &= 10^{-1} = 0.1\\\\\n",
    "1\\rm{e}\\text{-}2 &= 10^{-2} = 0.01\\\\\n",
    "\\end{align}"
   ]
  },
  {
   "cell_type": "code",
   "execution_count": 24,
   "metadata": {},
   "outputs": [
    {
     "data": {
      "text/plain": [
       "100.0"
      ]
     },
     "execution_count": 24,
     "metadata": {},
     "output_type": "execute_result"
    }
   ],
   "source": [
    "# scientific notation\n",
    "1e-2 * 1e4"
   ]
  },
  {
   "cell_type": "markdown",
   "metadata": {},
   "source": [
    "### Boolean Arithmetic\n",
    "\n",
    "Let's explore arithmetic with other booleans."
   ]
  },
  {
   "cell_type": "code",
   "execution_count": 25,
   "metadata": {},
   "outputs": [
    {
     "name": "stdout",
     "output_type": "stream",
     "text": [
      "1\n",
      "2\n"
     ]
    }
   ],
   "source": [
    "# Boolean arithmetic\n",
    "print(True * True)\n",
    "print(True + True)"
   ]
  },
  {
   "cell_type": "code",
   "execution_count": 26,
   "metadata": {},
   "outputs": [
    {
     "name": "stdout",
     "output_type": "stream",
     "text": [
      "0\n",
      "1\n"
     ]
    }
   ],
   "source": [
    "print(False * True)\n",
    "print(False + True)"
   ]
  },
  {
   "cell_type": "code",
   "execution_count": 27,
   "metadata": {},
   "outputs": [
    {
     "name": "stdout",
     "output_type": "stream",
     "text": [
      "0\n",
      "0\n"
     ]
    }
   ],
   "source": [
    "print(False * False)\n",
    "print(False + False)"
   ]
  },
  {
   "cell_type": "markdown",
   "metadata": {},
   "source": [
    "Can you guess what integer form the boolean types True and False take when having arithmetic performed on them?"
   ]
  },
  {
   "cell_type": "code",
   "execution_count": 30,
   "metadata": {},
   "outputs": [
    {
     "name": "stdout",
     "output_type": "stream",
     "text": [
      "True\n",
      "False\n"
     ]
    }
   ],
   "source": [
    "# there are also the logical \"and\" \"or\" statements as well\n",
    "print(True or False)\n",
    "print(True and False)"
   ]
  },
  {
   "cell_type": "markdown",
   "metadata": {},
   "source": [
    "### Complex Arithmetic\n",
    "\n",
    "Complex numbers can be specified by including a `j` next to a number (with no multiplication sign `*`). They also multiply as you would expect them to."
   ]
  },
  {
   "cell_type": "code",
   "execution_count": 31,
   "metadata": {},
   "outputs": [
    {
     "data": {
      "text/plain": [
       "(-2+6j)"
      ]
     },
     "execution_count": 31,
     "metadata": {},
     "output_type": "execute_result"
    }
   ],
   "source": [
    "# addition\n",
    "(2 + 2j) + (-4 + 4j)"
   ]
  },
  {
   "cell_type": "code",
   "execution_count": 32,
   "metadata": {},
   "outputs": [
    {
     "data": {
      "text/plain": [
       "(-13+11j)"
      ]
     },
     "execution_count": 32,
     "metadata": {},
     "output_type": "execute_result"
    }
   ],
   "source": [
    "# multiplication\n",
    "(1 + 3j) * (2 + 5j)"
   ]
  },
  {
   "cell_type": "markdown",
   "metadata": {},
   "source": [
    "### String Arithmetic?\n",
    "\n",
    "Strings are sequences of characters enclosed by either apostrophes or quotations. Strings don't support string-string arithmetic. However, some int-string arithmetic is supported. "
   ]
  },
  {
   "cell_type": "code",
   "execution_count": null,
   "metadata": {},
   "outputs": [],
   "source": [
    "# '' and \"\" are considered strings\n",
    "print(\"hi there!\")\n",
    "print('hi there!')"
   ]
  },
  {
   "cell_type": "code",
   "execution_count": 37,
   "metadata": {},
   "outputs": [
    {
     "name": "stdout",
     "output_type": "stream",
     "text": [
      "well hello,\n",
      "how are you?\n"
     ]
    }
   ],
   "source": [
    "# note that \\n is a special character! (as is \\r and \\a and \\t)\n",
    "print(\"well hello,\\nhow are you?\")"
   ]
  },
  {
   "cell_type": "code",
   "execution_count": 42,
   "metadata": {},
   "outputs": [
    {
     "name": "stdout",
     "output_type": "stream",
     "text": [
      "hihihihihihihihihihi\n",
      "hi goodbye\n"
     ]
    }
   ],
   "source": [
    "# string - integer arithmetic\n",
    "print(\"hi\" * 10)\n",
    "print(\"hi\" + \" \" + \"goodbye\")"
   ]
  },
  {
   "cell_type": "code",
   "execution_count": 43,
   "metadata": {},
   "outputs": [
    {
     "ename": "TypeError",
     "evalue": "can't multiply sequence by non-int of type 'str'",
     "output_type": "error",
     "traceback": [
      "\u001b[0;31m---------------------------------------------------------------------------\u001b[0m",
      "\u001b[0;31mTypeError\u001b[0m                                 Traceback (most recent call last)",
      "\u001b[0;32m<ipython-input-43-b60989e7573d>\u001b[0m in \u001b[0;36m<module>\u001b[0;34m()\u001b[0m\n\u001b[1;32m      1\u001b[0m \u001b[0;31m# try some other string - integer arithmetic\u001b[0m\u001b[0;34m\u001b[0m\u001b[0;34m\u001b[0m\u001b[0m\n\u001b[0;32m----> 2\u001b[0;31m \u001b[0mprint\u001b[0m\u001b[0;34m(\u001b[0m\u001b[0;34m\"32\"\u001b[0m\u001b[0;34m*\u001b[0m\u001b[0;34m\"23\"\u001b[0m\u001b[0;34m)\u001b[0m\u001b[0;34m\u001b[0m\u001b[0m\n\u001b[0m",
      "\u001b[0;31mTypeError\u001b[0m: can't multiply sequence by non-int of type 'str'"
     ]
    }
   ],
   "source": [
    "# try some other string - integer arithmetic\n",
    "print(\"32\"*\"23\")"
   ]
  },
  {
   "cell_type": "markdown",
   "metadata": {},
   "source": [
    "### Converting Data Types\n",
    "\n",
    "Data types can be converted from one to another, assuming it doesn't raise any errors. The easiest way to do this is with the\n",
    "* `int`\n",
    "* `float`\n",
    "* `complex`\n",
    "* `bool`\n",
    "* `str`\n",
    "\n",
    "built-in functions. We will talk more about functions later!"
   ]
  },
  {
   "cell_type": "code",
   "execution_count": 44,
   "metadata": {},
   "outputs": [
    {
     "data": {
      "text/plain": [
       "100"
      ]
     },
     "execution_count": 44,
     "metadata": {},
     "output_type": "execute_result"
    }
   ],
   "source": [
    "int(100.0)"
   ]
  },
  {
   "cell_type": "code",
   "execution_count": 45,
   "metadata": {},
   "outputs": [
    {
     "data": {
      "text/plain": [
       "100.0"
      ]
     },
     "execution_count": 45,
     "metadata": {},
     "output_type": "execute_result"
    }
   ],
   "source": [
    "float(100)"
   ]
  },
  {
   "cell_type": "code",
   "execution_count": 46,
   "metadata": {},
   "outputs": [
    {
     "data": {
      "text/plain": [
       "(100+0j)"
      ]
     },
     "execution_count": 46,
     "metadata": {},
     "output_type": "execute_result"
    }
   ],
   "source": [
    "complex(100.0)"
   ]
  },
  {
   "cell_type": "code",
   "execution_count": 54,
   "metadata": {},
   "outputs": [
    {
     "data": {
      "text/plain": [
       "False"
      ]
     },
     "execution_count": 54,
     "metadata": {},
     "output_type": "execute_result"
    }
   ],
   "source": [
    "bool(0)"
   ]
  },
  {
   "cell_type": "code",
   "execution_count": 63,
   "metadata": {},
   "outputs": [
    {
     "name": "stdout",
     "output_type": "stream",
     "text": [
      "2500.0\n"
     ]
    }
   ],
   "source": [
    "print(str(2500.0))"
   ]
  },
  {
   "cell_type": "code",
   "execution_count": 61,
   "metadata": {},
   "outputs": [
    {
     "data": {
      "text/plain": [
       "3.2"
      ]
     },
     "execution_count": 61,
     "metadata": {},
     "output_type": "execute_result"
    }
   ],
   "source": [
    "float(\"3.2\")"
   ]
  },
  {
   "cell_type": "code",
   "execution_count": 62,
   "metadata": {},
   "outputs": [
    {
     "data": {
      "text/plain": [
       "3"
      ]
     },
     "execution_count": 62,
     "metadata": {},
     "output_type": "execute_result"
    }
   ],
   "source": [
    "int(\"3\")"
   ]
  },
  {
   "cell_type": "code",
   "execution_count": 66,
   "metadata": {},
   "outputs": [
    {
     "data": {
      "text/plain": [
       "9"
      ]
     },
     "execution_count": 66,
     "metadata": {},
     "output_type": "execute_result"
    }
   ],
   "source": [
    "int(9.9)"
   ]
  },
  {
   "cell_type": "code",
   "execution_count": 69,
   "metadata": {},
   "outputs": [
    {
     "data": {
      "text/plain": [
       "10"
      ]
     },
     "execution_count": 69,
     "metadata": {},
     "output_type": "execute_result"
    }
   ],
   "source": [
    "round(9.8)"
   ]
  },
  {
   "cell_type": "markdown",
   "metadata": {
    "collapsed": true
   },
   "source": [
    "### More Operators\n",
    "\n",
    "Along with addition, subtraction, multiplication and division operators, Python also supports the arithmetic operators\n",
    "* exponential `**`\n",
    "* modulus `%` \n",
    "\n",
    "and the comparison operators\n",
    "* equal to `==`\n",
    "* not equal `!=`\n",
    "* greater than `>`\n",
    "* less than `<`\n",
    "* greater or equal `>=`\n",
    "* less or equal `<=`\n"
   ]
  },
  {
   "cell_type": "code",
   "execution_count": 70,
   "metadata": {},
   "outputs": [
    {
     "data": {
      "text/plain": [
       "4"
      ]
     },
     "execution_count": 70,
     "metadata": {},
     "output_type": "execute_result"
    }
   ],
   "source": [
    "# Take exponential (whitespace doesn't matter!)\n",
    "2**2"
   ]
  },
  {
   "cell_type": "code",
   "execution_count": 72,
   "metadata": {},
   "outputs": [
    {
     "data": {
      "text/plain": [
       "12"
      ]
     },
     "execution_count": 72,
     "metadata": {},
     "output_type": "execute_result"
    }
   ],
   "source": [
    "# notice order of operations P-E-MD-AS\n",
    "(2 ** 2) + (4 * 2)"
   ]
  },
  {
   "cell_type": "code",
   "execution_count": 73,
   "metadata": {},
   "outputs": [
    {
     "data": {
      "text/plain": [
       "1"
      ]
     },
     "execution_count": 73,
     "metadata": {},
     "output_type": "execute_result"
    }
   ],
   "source": [
    "# Modulus operator gives the numerator of the remainder after division\n",
    "11 % 5"
   ]
  },
  {
   "cell_type": "code",
   "execution_count": 74,
   "metadata": {},
   "outputs": [
    {
     "data": {
      "text/plain": [
       "0"
      ]
     },
     "execution_count": 74,
     "metadata": {},
     "output_type": "execute_result"
    }
   ],
   "source": [
    "# What if it is a multiple of the divisor?\n",
    "15 % 5"
   ]
  },
  {
   "cell_type": "code",
   "execution_count": 75,
   "metadata": {},
   "outputs": [
    {
     "data": {
      "text/plain": [
       "4"
      ]
     },
     "execution_count": 75,
     "metadata": {},
     "output_type": "execute_result"
    }
   ],
   "source": [
    "# What do you expect here?\n",
    "4 % 11"
   ]
  },
  {
   "cell_type": "code",
   "execution_count": 76,
   "metadata": {},
   "outputs": [
    {
     "data": {
      "text/plain": [
       "True"
      ]
     },
     "execution_count": 76,
     "metadata": {},
     "output_type": "execute_result"
    }
   ],
   "source": [
    "5 == 5"
   ]
  },
  {
   "cell_type": "code",
   "execution_count": 77,
   "metadata": {},
   "outputs": [
    {
     "data": {
      "text/plain": [
       "True"
      ]
     },
     "execution_count": 77,
     "metadata": {},
     "output_type": "execute_result"
    }
   ],
   "source": [
    "# comparison also works w/ strings\n",
    "\"hello\" == \"hello\""
   ]
  },
  {
   "cell_type": "code",
   "execution_count": 81,
   "metadata": {},
   "outputs": [
    {
     "data": {
      "text/plain": [
       "True"
      ]
     },
     "execution_count": 81,
     "metadata": {},
     "output_type": "execute_result"
    }
   ],
   "source": [
    "(5 > 2) and (45 < 46)"
   ]
  },
  {
   "cell_type": "code",
   "execution_count": 80,
   "metadata": {},
   "outputs": [
    {
     "data": {
      "text/plain": [
       "True"
      ]
     },
     "execution_count": 80,
     "metadata": {},
     "output_type": "execute_result"
    }
   ],
   "source": [
    "(5 > 2) or (100 < 50)"
   ]
  },
  {
   "cell_type": "code",
   "execution_count": 83,
   "metadata": {},
   "outputs": [
    {
     "data": {
      "text/plain": [
       "True"
      ]
     },
     "execution_count": 83,
     "metadata": {},
     "output_type": "execute_result"
    }
   ],
   "source": [
    "# confirms our intuition from before?\n",
    "0 == False"
   ]
  },
  {
   "cell_type": "markdown",
   "metadata": {},
   "source": [
    "When computers store information, they can only do so to a finite precision. Decimal (floating point) precision is good to 16 significant figures, meaning that, perhaps contrary to your intuition:"
   ]
  },
  {
   "cell_type": "code",
   "execution_count": 84,
   "metadata": {},
   "outputs": [
    {
     "name": "stdout",
     "output_type": "stream",
     "text": [
      "True\n"
     ]
    }
   ],
   "source": [
    "print(1.0 == 0.99999999999999999)"
   ]
  },
  {
   "cell_type": "markdown",
   "metadata": {},
   "source": [
    "### Breakout\n",
    "\n",
    "1. Try converting between different data types:\n",
    "    1. float <-> int\n",
    "    2. int <-> complex\n",
    "    3. bool <-> float\n",
    "    4. string <-> float\n",
    "    5. string <-> int\n",
    "<br><br>\n",
    "2. Most of these conversions should have worked (and by worked, I mean not errored). One thing that shouldn't have worked, is if you tried to convert a string-representation of a float into a integer (i.e., `int(\"3.5\")`). How might you get around this error?\n",
    "<br><br>\n",
    "3. You should notice a hierarchy of data types in terms of their information content. When you convert a float into an integer, for example, you lose information about significant figures *after the decimal*. If you convert an integer to a float, for example, you can still perfectly express the integer in decimal form (no loss of information). Can you come up with a rough hierarchy of data types in terms of their information content?"
   ]
  },
  {
   "cell_type": "code",
   "execution_count": null,
   "metadata": {
    "collapsed": true
   },
   "outputs": [],
   "source": []
  },
  {
   "cell_type": "markdown",
   "metadata": {},
   "source": [
    "### Variable Assignment\n",
    "\n",
    "Often we want to assign data both a name and place to live in our interpreter environment, so we can perform multiple operations on it, track it, visualize it, print it, and save it. We can assign variables with the assignment operator `=`."
   ]
  },
  {
   "cell_type": "code",
   "execution_count": 99,
   "metadata": {},
   "outputs": [
    {
     "name": "stdout",
     "output_type": "stream",
     "text": [
      "10.0\n"
     ]
    }
   ],
   "source": [
    "a_number =        \\\n",
    "10.0\n",
    "print(a_number)"
   ]
  },
  {
   "cell_type": "markdown",
   "metadata": {},
   "source": [
    "There is a special kind of syntax when we want to perform arithmetic on an already existing variable utilizing its current value."
   ]
  },
  {
   "cell_type": "code",
   "execution_count": 100,
   "metadata": {},
   "outputs": [
    {
     "name": "stdout",
     "output_type": "stream",
     "text": [
      "11\n"
     ]
    }
   ],
   "source": [
    "# this is a way to add to an existing variable\n",
    "a_number = 10\n",
    "a_number = a_number + 1\n",
    "print(a_number)"
   ]
  },
  {
   "cell_type": "code",
   "execution_count": 101,
   "metadata": {},
   "outputs": [
    {
     "name": "stdout",
     "output_type": "stream",
     "text": [
      "12\n"
     ]
    }
   ],
   "source": [
    "# this is the exact same thing, and is similar to the bash a++ command\n",
    "a_number += 1\n",
    "print(a_number)"
   ]
  },
  {
   "cell_type": "code",
   "execution_count": 102,
   "metadata": {},
   "outputs": [
    {
     "name": "stdout",
     "output_type": "stream",
     "text": [
      "6.0\n"
     ]
    }
   ],
   "source": [
    "# other arithmetic operations are also possible\n",
    "a_number /= 2\n",
    "print(a_number)"
   ]
  },
  {
   "cell_type": "markdown",
   "metadata": {},
   "source": [
    "Recall that the `=` sign does not imply equality! It is an assignment operation, telling the variable to the left to take on the value of whats on the right. In this sense, you can think of computer code as being read *right-to-left*, meaning that the line `a_number = a_number + 1` is read: 1) take the integer `1`, 2) add it to the current value of `a_number` and 3) assign that value to the variable `a_number`.\n",
    "\n",
    "Note that there are limitations as to what characters we can use for variables in Python. The general rule is that you can use any sequence of alphabetical characters (although be careful b/c there are built-in words we don't want to overwrite like the `str` and `int` functions!) as well as the underscore `_`, as well as integers, so long as it doesn't start with an integer. Things that won't work as variables are characters like (`.`, `#`, `%`, `{`, `:`, `@`, etc.)."
   ]
  },
  {
   "cell_type": "code",
   "execution_count": 103,
   "metadata": {},
   "outputs": [],
   "source": [
    "# these all work!\n",
    "int1 = 10\n",
    "string2 = \"hello\"\n",
    "boolean3 = False\n",
    "_c0mpl3x = (1 + 2j)"
   ]
  },
  {
   "cell_type": "code",
   "execution_count": 104,
   "metadata": {},
   "outputs": [
    {
     "ename": "SyntaxError",
     "evalue": "invalid syntax (<ipython-input-104-e25e52f1145c>, line 2)",
     "output_type": "error",
     "traceback": [
      "\u001b[0;36m  File \u001b[0;32m\"<ipython-input-104-e25e52f1145c>\"\u001b[0;36m, line \u001b[0;32m2\u001b[0m\n\u001b[0;31m    5float = 2.0\u001b[0m\n\u001b[0m         ^\u001b[0m\n\u001b[0;31mSyntaxError\u001b[0m\u001b[0;31m:\u001b[0m invalid syntax\n"
     ]
    }
   ],
   "source": [
    "# will this give us an error?\n",
    "5float = 2.0"
   ]
  },
  {
   "cell_type": "markdown",
   "metadata": {},
   "source": [
    "**Getting User Input**\n",
    "\n",
    "We can ask for user input and assign the input to a variable with the built-in `input()` function like"
   ]
  },
  {
   "cell_type": "code",
   "execution_count": 106,
   "metadata": {},
   "outputs": [
    {
     "name": "stdout",
     "output_type": "stream",
     "text": [
      "What is your name? 10.0\n",
      "Your name: 10.0\n"
     ]
    }
   ],
   "source": [
    "# print someone's name\n",
    "response = input(\"What is your name? \")\n",
    "print(\"Your name:\", response)"
   ]
  },
  {
   "cell_type": "code",
   "execution_count": 108,
   "metadata": {},
   "outputs": [
    {
     "name": "stdout",
     "output_type": "stream",
     "text": [
      "list something: False\n",
      "<class 'str'>\n"
     ]
    }
   ],
   "source": [
    "# regardless of input, the data type is always a string type\n",
    "number = input(\"list something: \")\n",
    "print( type(number) )"
   ]
  },
  {
   "cell_type": "markdown",
   "metadata": {},
   "source": [
    "### String Formatting\n",
    "\n",
    "One useful functionality is the ability to format variables into a string, which can but need not be strings themselves."
   ]
  },
  {
   "cell_type": "code",
   "execution_count": 109,
   "metadata": {},
   "outputs": [
    {
     "name": "stdout",
     "output_type": "stream",
     "text": [
      "Hi my name is Nick! Nice to meet you!\n"
     ]
    }
   ],
   "source": [
    "# this is the old way of string formatting\n",
    "name = \"Nick\"\n",
    "print(\"Hi my name is %s! Nice to meet you!\" % name)"
   ]
  },
  {
   "cell_type": "code",
   "execution_count": 110,
   "metadata": {},
   "outputs": [
    {
     "name": "stdout",
     "output_type": "stream",
     "text": [
      "I'd like 2 pizzas for me, and 1 pizza for my friend.\n"
     ]
    }
   ],
   "source": [
    "pizza_for_me = 2\n",
    "pizza_for_you = 1\n",
    "print(\"I'd like %s pizzas for me, and %s pizza for my friend.\"%(pizza_for_me, pizza_for_you))"
   ]
  },
  {
   "cell_type": "code",
   "execution_count": 111,
   "metadata": {},
   "outputs": [
    {
     "name": "stdout",
     "output_type": "stream",
     "text": [
      "The number 2.234250 is a little complicated, how about 2 instead?\n"
     ]
    }
   ],
   "source": [
    "a_number = 2.23425\n",
    "print(\"The number %f is a little complicated, how about %d instead?\" % (a_number, a_number))"
   ]
  },
  {
   "cell_type": "code",
   "execution_count": 114,
   "metadata": {},
   "outputs": [
    {
     "name": "stdout",
     "output_type": "stream",
     "text": [
      "How about we round the number 2.234850 to three decimal places like 2.2348500000\n"
     ]
    }
   ],
   "source": [
    "a_number = 2.23485\n",
    "print(\"How about we round the number %f to three decimal places like %.10f\" % (a_number, a_number))"
   ]
  },
  {
   "cell_type": "code",
   "execution_count": 117,
   "metadata": {},
   "outputs": [
    {
     "name": "stdout",
     "output_type": "stream",
     "text": [
      "This style of formatting the number 2.23485 gives us the same thing 2.235\n"
     ]
    }
   ],
   "source": [
    "# this is the new style of string formatting\n",
    "print(\"This style of formatting the number {:f} gives us the same thing {:.3f}\".format(a_number, a_number))"
   ]
  },
  {
   "cell_type": "code",
   "execution_count": 118,
   "metadata": {},
   "outputs": [
    {
     "name": "stdout",
     "output_type": "stream",
     "text": [
      "It is True that I know python, but it is False that I know fortran.\n"
     ]
    }
   ],
   "source": [
    "# how could I format this with new-style formatting?\n",
    "code1 = 'python'\n",
    "code2 = 'fortran'\n",
    "print(\"It is {} that I know {}, but it is {} that I know {}.\".format(True, code1, False, code2) )"
   ]
  },
  {
   "cell_type": "markdown",
   "metadata": {},
   "source": [
    "These are the following placefillers for string formatting:\n",
    "\n",
    "* s : string\n",
    "* d : integer\n",
    "* f : float\n",
    "\n",
    "Note that for the new method of string formatting, there is no \"s\" placefiller, but \"{}\" by default means a string."
   ]
  },
  {
   "cell_type": "markdown",
   "metadata": {},
   "source": [
    "### Breakout:\n",
    "\n",
    "Write a snippet of code that asks the user for a floating-point number, and prints out that number as an `int`, `float`, and `complex` data type, while informing the user which one is which. Use string formatting to do the print statements."
   ]
  },
  {
   "cell_type": "code",
   "execution_count": null,
   "metadata": {
    "collapsed": true
   },
   "outputs": [],
   "source": []
  },
  {
   "cell_type": "code",
   "execution_count": null,
   "metadata": {
    "collapsed": true
   },
   "outputs": [],
   "source": []
  },
  {
   "cell_type": "code",
   "execution_count": null,
   "metadata": {
    "collapsed": true
   },
   "outputs": [],
   "source": []
  },
  {
   "cell_type": "markdown",
   "metadata": {},
   "source": [
    "### Extra: Data Structures Intro\n",
    "\n",
    "Often we want to organize and containerize data into structures (called data structures!). The built-in data structures we will study in this class are \n",
    "\n",
    "* lists\n",
    "* tuples\n",
    "* sets\n",
    "* dictionaries\n",
    "\n",
    "Here we will look at just lists and sets, and will cover the basics on how to construct and manipulate these data structures. Later, we will look at all of these structures in more detail."
   ]
  },
  {
   "cell_type": "markdown",
   "metadata": {},
   "source": [
    "### Lists\n",
    "\n",
    "A list is constructed with square brackets and comma-separated elements."
   ]
  },
  {
   "cell_type": "code",
   "execution_count": null,
   "metadata": {},
   "outputs": [],
   "source": [
    "my_list = [1, 2, 3, 4]\n",
    "print(my_list)"
   ]
  },
  {
   "cell_type": "code",
   "execution_count": null,
   "metadata": {},
   "outputs": [],
   "source": [
    "# confirm its type\n",
    "type(my_list)"
   ]
  },
  {
   "cell_type": "markdown",
   "metadata": {
    "collapsed": true
   },
   "source": [
    "You can store any kind of data in a list: they need not have the same type."
   ]
  },
  {
   "cell_type": "code",
   "execution_count": null,
   "metadata": {},
   "outputs": [],
   "source": [
    "my_other_list = [1, 10.0, True, 'hello']\n",
    "print(my_other_list)"
   ]
  },
  {
   "cell_type": "markdown",
   "metadata": {},
   "source": [
    "You can access a single element of a list using index notation, remember, **Python is zeroth ordered**!"
   ]
  },
  {
   "cell_type": "code",
   "execution_count": null,
   "metadata": {},
   "outputs": [],
   "source": [
    "# get the zeroth element\n",
    "print(my_other_list[0])\n",
    "\n",
    "# get the second element\n",
    "print(my_other_list[2])"
   ]
  },
  {
   "cell_type": "markdown",
   "metadata": {},
   "source": [
    "You can reassign individual elements of an array after it has been created"
   ]
  },
  {
   "cell_type": "code",
   "execution_count": null,
   "metadata": {},
   "outputs": [],
   "source": [
    "my_other_list[0] = 'a new datum!'\n",
    "print(my_other_list)"
   ]
  },
  {
   "cell_type": "markdown",
   "metadata": {},
   "source": [
    "You can add (or concatenate) lists together with a few different methods"
   ]
  },
  {
   "cell_type": "code",
   "execution_count": null,
   "metadata": {},
   "outputs": [],
   "source": [
    "# method1 use the + operator\n",
    "[1, 2, 3] + ['four', 'five', 'six']"
   ]
  },
  {
   "cell_type": "code",
   "execution_count": 2,
   "metadata": {},
   "outputs": [
    {
     "name": "stdout",
     "output_type": "stream",
     "text": [
      "[1, 2, 3, 'four']\n"
     ]
    }
   ],
   "source": [
    "# use the [].append function for individual elements\n",
    "my_list = [1, 2, 3]\n",
    "my_list.append( 'four' )\n",
    "print(my_list)"
   ]
  },
  {
   "cell_type": "code",
   "execution_count": 3,
   "metadata": {},
   "outputs": [
    {
     "name": "stdout",
     "output_type": "stream",
     "text": [
      "[1, 2, 3, ['four', 'five', 'six']]\n"
     ]
    }
   ],
   "source": [
    "# use the [].append function for other lists!\n",
    "my_list = [1, 2, 3]\n",
    "my_list.append( ['four', 'five', 'six'] )\n",
    "print(my_list)"
   ]
  },
  {
   "cell_type": "code",
   "execution_count": 4,
   "metadata": {},
   "outputs": [
    {
     "name": "stdout",
     "output_type": "stream",
     "text": [
      "[1, 2, 3, ['four', 'five', 'six']]\n",
      "[1, 2, ['four', 'five', 'six']]\n"
     ]
    }
   ],
   "source": [
    "# remove an element with the [].pop function\n",
    "print(my_list)\n",
    "my_list.pop(2)\n",
    "print(my_list)\n",
    "# this removed the 2nd element of my_list for us"
   ]
  },
  {
   "cell_type": "markdown",
   "metadata": {},
   "source": [
    "Instead of manually creating each element of an list, you can use the `range` function to auto-generate a list. In Python 3.0, however, the `range` function returns an iterable (we will cover later), so to turn it into a list you need to use the `list()` function, as such:"
   ]
  },
  {
   "cell_type": "code",
   "execution_count": 5,
   "metadata": {},
   "outputs": [
    {
     "name": "stdout",
     "output_type": "stream",
     "text": [
      "[0, 1, 2, 3, 4, 5, 6, 7, 8, 9, 10, 11, 12, 13, 14, 15, 16, 17, 18, 19, 20, 21, 22, 23, 24, 25, 26, 27, 28, 29, 30, 31, 32, 33, 34, 35, 36, 37, 38, 39, 40, 41, 42, 43, 44, 45, 46, 47, 48, 49, 50, 51, 52, 53, 54, 55, 56, 57, 58, 59, 60, 61, 62, 63, 64, 65, 66, 67, 68, 69, 70, 71, 72, 73, 74, 75, 76, 77, 78, 79, 80, 81, 82, 83, 84, 85, 86, 87, 88, 89, 90, 91, 92, 93, 94, 95, 96, 97, 98, 99]\n"
     ]
    }
   ],
   "source": [
    "# auto-generate a big list\n",
    "a_big_list = list( range(0, 100) )\n",
    "print(a_big_list)"
   ]
  },
  {
   "cell_type": "markdown",
   "metadata": {},
   "source": [
    "Note that the first argument of `range` is the starting point (inclusive) and the second argument of `range` is the ending point (exclusive)."
   ]
  },
  {
   "cell_type": "markdown",
   "metadata": {},
   "source": [
    "You can also slice lists, which means to take a subset of the list elements. We will cover this in more detail when we cover data structures next time, but briefly, list slicing looks like:\n",
    "```\n",
    "my_list[<start>:<stop>:<step>]\n",
    "```\n",
    "where I specify the starting index with `<start>`, stopping index with `<stop>`, and if I want to skip elements with `<step>`. If you leave these blank, it will default to `<begining>:<end>:1`."
   ]
  },
  {
   "cell_type": "code",
   "execution_count": 6,
   "metadata": {},
   "outputs": [
    {
     "name": "stdout",
     "output_type": "stream",
     "text": [
      "[1, 2, 3]\n"
     ]
    }
   ],
   "source": [
    "my_list = [1, 2, 3, 4, 5]\n",
    "print(my_list[0:3])"
   ]
  },
  {
   "cell_type": "markdown",
   "metadata": {},
   "source": [
    "where \"0\" is the starting point and \"3\" is the ending point. This means I took the elements with indices from [0, 3) where \"[\" means inclusive and \")\" means exclusive. Try changin them and see what happens!\n",
    "\n",
    "Note that I can also take every-other element by giving the slice one more number such as this:"
   ]
  },
  {
   "cell_type": "code",
   "execution_count": 7,
   "metadata": {},
   "outputs": [
    {
     "name": "stdout",
     "output_type": "stream",
     "text": [
      "[1, 3, 5]\n"
     ]
    }
   ],
   "source": [
    "print(my_list[::2])"
   ]
  },
  {
   "cell_type": "markdown",
   "metadata": {},
   "source": [
    "where the \"2\" means to take every second element. I can change this to 3 to take every third element. Fun fact, I can also change this to \"-1\" to reverse the order of the array (P.S. **this also works for strings!**)"
   ]
  },
  {
   "cell_type": "code",
   "execution_count": 8,
   "metadata": {},
   "outputs": [
    {
     "name": "stdout",
     "output_type": "stream",
     "text": [
      "[5, 4, 3, 2, 1]\n"
     ]
    }
   ],
   "source": [
    "print(my_list[::-1])"
   ]
  },
  {
   "cell_type": "markdown",
   "metadata": {},
   "source": [
    "### Sets\n",
    "\n",
    "Sets are another data structure and are similar to lists in a few ways, but differ greatly in others. One way that they are similar is that they can take data of any type. One way that they are different is that **they cannot be indexed**. Another way they are different, is that they can only hold one element of unique data. Let's see what I mean first-hand."
   ]
  },
  {
   "cell_type": "code",
   "execution_count": 9,
   "metadata": {},
   "outputs": [
    {
     "name": "stdout",
     "output_type": "stream",
     "text": [
      "{1, 2, 3}\n"
     ]
    }
   ],
   "source": [
    "# sets are constructed using curly brackets and comma-separated values\n",
    "my_set = {1, 2, 3}\n",
    "print(my_set)"
   ]
  },
  {
   "cell_type": "code",
   "execution_count": 10,
   "metadata": {},
   "outputs": [
    {
     "data": {
      "text/plain": [
       "set"
      ]
     },
     "execution_count": 10,
     "metadata": {},
     "output_type": "execute_result"
    }
   ],
   "source": [
    "# confirm its a set\n",
    "type(my_set)"
   ]
  },
  {
   "cell_type": "code",
   "execution_count": 11,
   "metadata": {},
   "outputs": [
    {
     "name": "stdout",
     "output_type": "stream",
     "text": [
      "{1, 2, 3, 'five', 'four', 'six'}\n"
     ]
    }
   ],
   "source": [
    "# another way to make a set is to use the set() function on a list\n",
    "my_other_set = set( [1, 2, 3, 'four', 'five', 'six'])\n",
    "print(my_other_set)"
   ]
  },
  {
   "cell_type": "code",
   "execution_count": 12,
   "metadata": {},
   "outputs": [
    {
     "name": "stdout",
     "output_type": "stream",
     "text": [
      "{1, 2, 3, 7}\n"
     ]
    }
   ],
   "source": [
    "# lets try to add data to the already existing my_set with {}.add\n",
    "my_set.add(7)\n",
    "print(my_set)"
   ]
  },
  {
   "cell_type": "code",
   "execution_count": 13,
   "metadata": {},
   "outputs": [
    {
     "name": "stdout",
     "output_type": "stream",
     "text": [
      "{1, 2, 3, 7}\n"
     ]
    }
   ],
   "source": [
    "# lets try to add it again to my_set\n",
    "my_set.add(7)\n",
    "print(my_set)"
   ]
  },
  {
   "cell_type": "code",
   "execution_count": 14,
   "metadata": {},
   "outputs": [
    {
     "data": {
      "text/plain": [
       "True"
      ]
     },
     "execution_count": 14,
     "metadata": {},
     "output_type": "execute_result"
    }
   ],
   "source": [
    "# see if a number is in the set\n",
    "2 in my_set"
   ]
  },
  {
   "cell_type": "markdown",
   "metadata": {},
   "source": [
    "One thing we can do with sets that we cannot do with lists are set operations with multiple sets. See the Venn Diagram and example below.\n",
    "\n",
    "<img src='imgs/venn.jpg' width=400px>\n",
    "<center> A venn diagram, showing the overlap of two sets </center>"
   ]
  },
  {
   "cell_type": "code",
   "execution_count": 15,
   "metadata": {
    "collapsed": true
   },
   "outputs": [],
   "source": [
    "# Create overlapping sets\n",
    "set1 = set([1,2,3,4,5])\n",
    "set2 = set([4,5,6,7,8])"
   ]
  },
  {
   "cell_type": "code",
   "execution_count": 16,
   "metadata": {},
   "outputs": [
    {
     "name": "stdout",
     "output_type": "stream",
     "text": [
      "{1, 2, 3, 4, 5, 6, 7, 8}\n"
     ]
    }
   ],
   "source": [
    "# set union\n",
    "print(set1 | set2)"
   ]
  },
  {
   "cell_type": "code",
   "execution_count": 17,
   "metadata": {},
   "outputs": [
    {
     "name": "stdout",
     "output_type": "stream",
     "text": [
      "{4, 5}\n"
     ]
    }
   ],
   "source": [
    "# set intersection\n",
    "print(set1 & set2)"
   ]
  },
  {
   "cell_type": "code",
   "execution_count": 18,
   "metadata": {},
   "outputs": [
    {
     "name": "stdout",
     "output_type": "stream",
     "text": [
      "{1, 2, 3}\n"
     ]
    }
   ],
   "source": [
    "# set difference\n",
    "print(set1 - set2)"
   ]
  },
  {
   "cell_type": "code",
   "execution_count": 19,
   "metadata": {},
   "outputs": [
    {
     "name": "stdout",
     "output_type": "stream",
     "text": [
      "{1, 2, 3, 6, 7, 8}\n"
     ]
    }
   ],
   "source": [
    "# set symmetric difference\n",
    "print(set1 ^ set2)"
   ]
  },
  {
   "cell_type": "markdown",
   "metadata": {},
   "source": [
    "### Conditionals (aka. `if-elif-else` statements)\n",
    "\n",
    "Conditionals are blocks of \"True-or-False\" statements constructed with comparison operators. The statements are evaluated and, if True, execute one piece of code and, if False, execute a different piece of code. The basic syntax can be seen as follows"
   ]
  },
  {
   "cell_type": "code",
   "execution_count": 20,
   "metadata": {},
   "outputs": [
    {
     "name": "stdout",
     "output_type": "stream",
     "text": [
      "this is a big number!\n"
     ]
    }
   ],
   "source": [
    "# a simple if statement\n",
    "my_var = 10\n",
    "\n",
    "if my_var > 5:\n",
    "    print(\"this is a big number!\")"
   ]
  },
  {
   "cell_type": "markdown",
   "metadata": {
    "collapsed": true
   },
   "source": [
    "Note that the indent of the `print` statement after `if` is required: this is a fundamental syntactical element of Python--indents matter! In a nutshell, indents represent separted blocks of code. In this case the indent specifies which lines of code are executed if the statement is True. Let's make this a little more complex."
   ]
  },
  {
   "cell_type": "code",
   "execution_count": 21,
   "metadata": {},
   "outputs": [
    {
     "name": "stdout",
     "output_type": "stream",
     "text": [
      "this is a small number!\n"
     ]
    }
   ],
   "source": [
    "# a simple if-else statement\n",
    "my_var = 2\n",
    "\n",
    "if my_var > 5:\n",
    "    print(\"this is a big number!\")\n",
    "else:\n",
    "    print(\"this is a small number!\")"
   ]
  },
  {
   "cell_type": "markdown",
   "metadata": {},
   "source": [
    "We can see that the `if` statement was rejected, becuase 2 is not larger than 5. In this case, we provided an `else` statement which is activated when the `if` statement returns False. \n",
    "\n",
    "Next is an example with `elif`, which stands for *else-if*."
   ]
  },
  {
   "cell_type": "code",
   "execution_count": 22,
   "metadata": {},
   "outputs": [
    {
     "name": "stdout",
     "output_type": "stream",
     "text": [
      "What is the temperature in F? \n"
     ]
    },
    {
     "ename": "ValueError",
     "evalue": "could not convert string to float: ",
     "output_type": "error",
     "traceback": [
      "\u001b[0;31m---------------------------------------------------------------------------\u001b[0m",
      "\u001b[0;31mValueError\u001b[0m                                Traceback (most recent call last)",
      "\u001b[0;32m<ipython-input-22-df905e9d2e3a>\u001b[0m in \u001b[0;36m<module>\u001b[0;34m()\u001b[0m\n\u001b[0;32m----> 1\u001b[0;31m \u001b[0mtemperature\u001b[0m \u001b[0;34m=\u001b[0m \u001b[0mfloat\u001b[0m\u001b[0;34m(\u001b[0m \u001b[0minput\u001b[0m\u001b[0;34m(\u001b[0m\u001b[0;34m'What is the temperature in F? '\u001b[0m\u001b[0;34m)\u001b[0m \u001b[0;34m)\u001b[0m\u001b[0;34m\u001b[0m\u001b[0m\n\u001b[0m\u001b[1;32m      2\u001b[0m \u001b[0;34m\u001b[0m\u001b[0m\n\u001b[1;32m      3\u001b[0m \u001b[0;32mif\u001b[0m \u001b[0mtemperature\u001b[0m \u001b[0;34m>\u001b[0m \u001b[0;36m100\u001b[0m\u001b[0;34m:\u001b[0m\u001b[0;34m\u001b[0m\u001b[0m\n\u001b[1;32m      4\u001b[0m     \u001b[0mprint\u001b[0m\u001b[0;34m(\u001b[0m\u001b[0;34m\"Don't go outside!\"\u001b[0m\u001b[0;34m)\u001b[0m\u001b[0;34m\u001b[0m\u001b[0m\n\u001b[1;32m      5\u001b[0m \u001b[0;32melif\u001b[0m \u001b[0mtemperature\u001b[0m \u001b[0;34m>\u001b[0m \u001b[0;36m70\u001b[0m\u001b[0;34m:\u001b[0m\u001b[0;34m\u001b[0m\u001b[0m\n",
      "\u001b[0;31mValueError\u001b[0m: could not convert string to float: "
     ]
    }
   ],
   "source": [
    "temperature = float( input('What is the temperature in F? ') )\n",
    "\n",
    "if temperature > 100:\n",
    "    print(\"Don't go outside!\")\n",
    "elif temperature > 70:\n",
    "    print(\"Wear shorts.\")\n",
    "else:\n",
    "    print('Wear pants.')"
   ]
  },
  {
   "cell_type": "markdown",
   "metadata": {
    "collapsed": true
   },
   "source": [
    "You will notice that if we feed a temperture of 105, we only get the `print` statement of the first condition, even though the second condition is still met. This is because of the `elif` statement. What does the `elif` statement do? It connected to the statement before it, and is only activated if the statement before it returns `False` ***and*** its own condition is met. What do you think would happen if we changed the `elif` to another `if`?"
   ]
  },
  {
   "cell_type": "markdown",
   "metadata": {},
   "source": [
    "### Loops\n",
    "\n",
    "A loop is a when we separate a block of code and repeatedly run it for a set number of times. There are two kinds of loops, a **`for`** loop and a **`while`** loop. A `for` loop is an iteration through the elements of a list, whereas a `while` loop is an indefinite number of loops until some condition is broken. Careful, with a `while` loop you can in principle make your computer loop forever, which is not desirable. \n",
    "\n",
    "The different parts of a loop are separated by indentation, so pay close attention to how indentation is used to separate blocks of code."
   ]
  },
  {
   "cell_type": "markdown",
   "metadata": {},
   "source": [
    "**`for` loop**"
   ]
  },
  {
   "cell_type": "code",
   "execution_count": 23,
   "metadata": {},
   "outputs": [
    {
     "name": "stdout",
     "output_type": "stream",
     "text": [
      "1\n",
      "2\n",
      "3\n",
      "4\n",
      "5\n"
     ]
    }
   ],
   "source": [
    "# the most basic for loop we can construct\n",
    "for i in [1, 2, 3, 4, 5]:\n",
    "    print(i)"
   ]
  },
  {
   "cell_type": "markdown",
   "metadata": {},
   "source": [
    "You can also nest loops togther, to get complex iteration schemes. The following, for example, is a method for finding all the different ways we can combine two letter together from a set of three letters."
   ]
  },
  {
   "cell_type": "code",
   "execution_count": 24,
   "metadata": {},
   "outputs": [
    {
     "name": "stdout",
     "output_type": "stream",
     "text": [
      "['aa', 'ab', 'ac', 'ba', 'bb', 'bc', 'ca', 'cb', 'cc']\n"
     ]
    }
   ],
   "source": [
    "# A nested FOR loop\n",
    "\n",
    "# create an empty list\n",
    "perm = []\n",
    "\n",
    "# enter first FOR loop\n",
    "for i in ['a', 'b', 'c']:\n",
    "    \n",
    "    # enter second FOR loop\n",
    "    for j in ['a', 'b', 'c']:\n",
    "        \n",
    "        # append to the list\n",
    "        perm.append(i+j)\n",
    "        \n",
    "print(perm)"
   ]
  },
  {
   "cell_type": "markdown",
   "metadata": {
    "collapsed": true
   },
   "source": [
    "**`while` loop **\n",
    "\n",
    "A `while` loop is a loop that iterates indefinitely until some condition is broken. Everytime the loop starts it evaluates the condition and continues if `True` and exits if `False`."
   ]
  },
  {
   "cell_type": "code",
   "execution_count": 25,
   "metadata": {},
   "outputs": [
    {
     "name": "stdout",
     "output_type": "stream",
     "text": [
      "the counter = 0\n",
      "the counter = 1\n",
      "the counter = 2\n",
      "the counter = 3\n",
      "the counter = 4\n",
      "the loop finished!\n"
     ]
    }
   ],
   "source": [
    "# A while loop\n",
    "\n",
    "# set counter equal to zero\n",
    "counter = 0\n",
    "\n",
    "# iterate until counter is >= 5\n",
    "while counter < 5:\n",
    "    \n",
    "    print(\"the counter =\", counter)\n",
    "    \n",
    "    # increase counter by 1\n",
    "    counter += 1\n",
    "    \n",
    "print(\"the loop finished!\")"
   ]
  },
  {
   "cell_type": "markdown",
   "metadata": {},
   "source": [
    "### Manually Skipping and Exiting Loops\n",
    "\n",
    "Sometimes you want to be able to skip one iteration in a loop, but continue the rest of iterations in the loop. Other times you want to exit the loop outright, if some condition is met. You can do this with the `continue` and `break` statements. Let's see some examples."
   ]
  },
  {
   "cell_type": "code",
   "execution_count": 26,
   "metadata": {},
   "outputs": [
    {
     "name": "stdout",
     "output_type": "stream",
     "text": [
      "counter = 0\n",
      "counter = 1\n",
      "counter = 2\n",
      "counter = 3\n",
      "counter = 4\n",
      "counter = 6\n",
      "counter = 7\n",
      "counter = 8\n",
      "counter = 9\n"
     ]
    }
   ],
   "source": [
    "# skip an iteration if counter == 5\n",
    "for counter in range(10):\n",
    "    if counter == 5:\n",
    "        continue\n",
    "    \n",
    "    print(\"counter = %s\" % counter)"
   ]
  },
  {
   "cell_type": "markdown",
   "metadata": {},
   "source": [
    "You can see that once the `if` statement is executed (when counter == 5), the rest of the loop is ignored! The loop simply restarts having moved on to the next element in `range(10)`. Note that because of the indentation, the `print` statement *is not* within the `if` statement, only the `continue` command is in the `if` statement.\n",
    "\n",
    "We can do the same thing but use `break` to exit the loop entirely."
   ]
  },
  {
   "cell_type": "code",
   "execution_count": 27,
   "metadata": {},
   "outputs": [
    {
     "name": "stdout",
     "output_type": "stream",
     "text": [
      "counter = 0\n",
      "counter = 1\n",
      "counter = 2\n",
      "counter = 3\n",
      "counter = 4\n"
     ]
    }
   ],
   "source": [
    "# exit loop if counter == 5\n",
    "for counter in range(10):\n",
    "    if counter == 5:\n",
    "        break\n",
    "    \n",
    "    print(\"counter = %s\" % counter)"
   ]
  },
  {
   "cell_type": "markdown",
   "metadata": {},
   "source": [
    "In this case, the entire loop stops once it executes the `break` command. If that wasn't there, it would have happily gone off to print numbers up to 9."
   ]
  },
  {
   "cell_type": "markdown",
   "metadata": {},
   "source": [
    "### Breakout\n",
    "\n",
    "1. Write a code that takes as *input* someone's score out of 100 and determines a letter grade based on a 10-point scale (i.e. >= 90 is A, >= 80 is B, >= 70 is C, etc.), and then print out their letter grade.\n",
    "<br><br>\n",
    "2. Write a code (using a `for` loop) that calculates the sum of all odd numbers from 1 - 99. You might find the sum() function useful, as well as the fact that the expression `i % 2` equals either 0 or 1 depending on whether `i` is even or odd. "
   ]
  },
  {
   "cell_type": "code",
   "execution_count": null,
   "metadata": {
    "collapsed": true
   },
   "outputs": [],
   "source": []
  },
  {
   "cell_type": "code",
   "execution_count": null,
   "metadata": {
    "collapsed": true
   },
   "outputs": [],
   "source": []
  },
  {
   "cell_type": "code",
   "execution_count": null,
   "metadata": {
    "collapsed": true
   },
   "outputs": [],
   "source": []
  }
 ],
 "metadata": {
  "anaconda-cloud": {},
  "kernelspec": {
   "display_name": "Python 3",
   "language": "python",
   "name": "python3"
  },
  "language_info": {
   "codemirror_mode": {
    "name": "ipython",
    "version": 3
   },
   "file_extension": ".py",
   "mimetype": "text/x-python",
   "name": "python",
   "nbconvert_exporter": "python",
   "pygments_lexer": "ipython3",
   "version": "3.6.1"
  }
 },
 "nbformat": 4,
 "nbformat_minor": 1
}
