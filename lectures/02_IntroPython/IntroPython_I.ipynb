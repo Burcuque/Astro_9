{
 "cells": [
  {
   "cell_type": "markdown",
   "metadata": {},
   "source": [
    "## Introduction to Python I\n",
    "**Nicholas Kern**\n",
    "<br>\n",
    "**Astro 9: Python Programming in Astronomy**\n",
    "<br>\n",
    "**UC Berkeley**\n",
    "\n",
    "---\n",
    "1. [Introduction](#Introduction)\n"
   ]
  },
  {
   "cell_type": "markdown",
   "metadata": {},
   "source": [
    "### Introduction\n",
    "\n",
    "In this notebook, we will cover the very basics of the Python programming language. For this course, we will be using Python 3. At their core, programming languages are methods for manipulating data. Here, we will discuss the ways in which the Python language can be used to manipulate data for different purposes.\n",
    "\n",
    "Before we begin, let's think about why Python has become so widely used not only amongst scientists, but also amongst programmers in general. \n",
    "\n",
    "> \"Python is an interpreted, object-oriented, high-level programming language with dynamic semantics.\"\n",
    "<br>\n",
    "> -- https://www.python.org/doc/essays/blurb/\n",
    "\n",
    "Here, an \"interpreted language\" implies that Python translates each line dynamically as it is run, rather than compiling the entire code as is done with \"compiled languages.\" The term \"object-oriented\" refers to the fact that Python is designed to support the construction of complex data structures with methods and attributes. The term \"high-level\" means that the language forms abstractions around machine logic to be more readable and similar to human language. The term \"dynamic\" means that variables can be defined \"on-the-fly\" or dynamically, and can easily change their type and form. \n",
    "\n",
    "These aspects make Python a very readable, powerful and easy-to-use language. Compared to languages that are traditionally used for scientific programming, like C, C++ and Fortran, Python is easier to read, debug, interact with, can visualize data easier, and can be used to do just about anything with a shallower learning curve. Other high-level languages with similar features, like IDL and Matlab, are proprietary (and therefore expensive) and don't have the versatility of being able to do just about anything. Because Python is open-sourced, there has been an incredibly large number of modules and libraries that have been built by the Python community that enable Python to be used for almost any task. Python does have its limitations, however, and the most evident one is its speed. Because Python is interpreted and is a higher-level langauge, it tends to have larger computational overheads, and in some cases is over 100x slower than languages like Fortran. There are ways to optimize Python to mitigate this to some degree, which we may explore later in the course. However, for many contexts, *code development* tends to be a larger time overhead than *code runtime*, making Python the more time-efficient choice in the long-run. In addition, being able to program effectively in Python will not only help you write code faster and more efficiently, it is also a very attractive skill for jobs in the private sector and industry!\n",
    "\n",
    "Hopefully we have convinced you that learning Python is worth your time, particularly if you are interested in doing research in the physical sciences. Now, let's start learning Python with a hands-on approach."
   ]
  },
  {
   "cell_type": "markdown",
   "metadata": {},
   "source": [
    "### Hello World!\n",
    "---\n",
    "One of the simplest scripts we can write is to have the Python interpreter return a statement with the `print` function. If we put the following text into a `hello.py` script and run it via `python hello.py` we should get a greeting. \n",
    "\n",
    "Note that we can run bash commands in the IPython interpreter with a ! prefix."
   ]
  },
  {
   "cell_type": "code",
   "execution_count": 10,
   "metadata": {
    "collapsed": false
   },
   "outputs": [
    {
     "name": "stdout",
     "output_type": "stream",
     "text": [
      "Hello World!\r\n"
     ]
    }
   ],
   "source": [
    "!echo 'print(\"Hello World!\")' > hello.py\n",
    "!python hello.py"
   ]
  },
  {
   "cell_type": "markdown",
   "metadata": {
    "collapsed": true
   },
   "source": [
    "Note that in Python 3, the `print` statement **needs** to have brackets, otherwise it will error. This highlights the two major ways we can run Python code: dynamically in a Python interpreter, or by running scripts. In this case, we have done the latter while doing the former."
   ]
  },
  {
   "cell_type": "markdown",
   "metadata": {},
   "source": [
    "### Data Types\n",
    "---\n",
    "Let's explore the different formats data can take in the Python environment. Like most languages, this includes integers, floats, complex, booleans, strings and None types. For a single datum, we can learn its data type with the `type` function."
   ]
  },
  {
   "cell_type": "code",
   "execution_count": 23,
   "metadata": {
    "collapsed": false
   },
   "outputs": [
    {
     "name": "stdout",
     "output_type": "stream",
     "text": [
      "This is a  <class 'int'>\n",
      "This is a  <class 'float'>\n",
      "This is a  <class 'complex'>\n",
      "This is a  <class 'bool'>\n",
      "This is a  <class 'str'>\n",
      "This is a  <class 'NoneType'>\n"
     ]
    }
   ],
   "source": [
    "print(\"This is a \", type(1))\n",
    "print(\"This is a \", type(1.0))\n",
    "print(\"This is a \", type(1j))\n",
    "print(\"This is a \", type(True))\n",
    "print(\"This is a \", type('hi'))\n",
    "print(\"This is a \", type(None))"
   ]
  },
  {
   "cell_type": "markdown",
   "metadata": {},
   "source": [
    "Let's experiment by doing some integer & floating point arithmetic with these data types. "
   ]
  },
  {
   "cell_type": "code",
   "execution_count": 24,
   "metadata": {
    "collapsed": false
   },
   "outputs": [
    {
     "name": "stdout",
     "output_type": "stream",
     "text": [
      "Integer Multiplication:\n",
      " 2 * 2 = 4\n",
      "Float Multiplication:\n",
      " 2.0 * 2.0 = 4.0\n",
      "Float Division:\n",
      " 4.0 / 2.0 = 2.0\n",
      "Integer Division:\n",
      " 4 / 2 = 2.0\n",
      "Integer DivDiv:\n",
      " 4 // 2 = 2\n"
     ]
    }
   ],
   "source": [
    "# integer times integer yields an integer\n",
    "print(\"Integer Multiplication:\\n\",\"2 * 2 =\", 2 * 2)\n",
    "\n",
    "# float times a float yields a float\n",
    "print(\"Float Multiplication:\\n\",\"2.0 * 2.0 =\", 2.0 * 2.0)\n",
    "\n",
    "# float divided by a float yields a float\n",
    "print(\"Float Division:\\n\",\"4.0 / 2.0 =\", 4.0 / 2.0)\n",
    "\n",
    "# integer divided by an integer yields a float!\n",
    "print(\"Integer Division:\\n\",\"4 / 2 =\", 4 / 2)\n",
    "\n",
    "# integer division division by an integer yields a int!\n",
    "print(\"Integer DivDiv:\\n\", \"4 // 2 =\", 4 // 2)"
   ]
  },
  {
   "cell_type": "markdown",
   "metadata": {},
   "source": [
    "When computers store information, they can only do so to a finite precision. Floating point precision is good to 16 significant figures, meaning that, perhaps contrary to your intuition:"
   ]
  },
  {
   "cell_type": "code",
   "execution_count": 13,
   "metadata": {
    "collapsed": false
   },
   "outputs": [
    {
     "name": "stdout",
     "output_type": "stream",
     "text": [
      "True\n"
     ]
    }
   ],
   "source": [
    "print(1.0 == 0.99999999999999999)"
   ]
  },
  {
   "cell_type": "markdown",
   "metadata": {},
   "source": [
    "We will learn more about the conditional operator `==` later. Note that integer division changed from Python 2 to Python 3: in Python 2, integer division yields an integer, whereas in Python 3 it yields a float. What about some other data types?"
   ]
  },
  {
   "cell_type": "code",
   "execution_count": 14,
   "metadata": {
    "collapsed": false
   },
   "outputs": [
    {
     "name": "stdout",
     "output_type": "stream",
     "text": [
      "1\n",
      "2\n",
      "---\n",
      "0\n",
      "1\n",
      "---\n",
      "0\n",
      "0\n",
      "---\n",
      "True\n",
      "False\n"
     ]
    }
   ],
   "source": [
    "# Boolean arithmetic\n",
    "print(True * True)\n",
    "print(True + True)\n",
    "print(\"---\")\n",
    "print(False * True)\n",
    "print(False + True)\n",
    "print(\"---\")\n",
    "print(False * False)\n",
    "print(False + False)\n",
    "print(\"---\")\n",
    "print(True | False)\n",
    "print(True & False)"
   ]
  },
  {
   "cell_type": "markdown",
   "metadata": {},
   "source": [
    "Can you guess what form the boolean types True and False take when having arithmetic performed on them? From the example, we can see that | is an \"or\" statement and & is an \"and\" statement.\n",
    "\n",
    "Complex numbers can be specified by including a `j` next to a number (with no `*`). They also multiply as you would expect them to."
   ]
  },
  {
   "cell_type": "code",
   "execution_count": 25,
   "metadata": {
    "collapsed": false
   },
   "outputs": [
    {
     "name": "stdout",
     "output_type": "stream",
     "text": [
      "This is a single complex number: (1+3j)\n",
      "Complex multiplication: (-13+11j)\n"
     ]
    }
   ],
   "source": [
    "print(\"This is a single complex number:\", 1.0 + 3j)\n",
    "print(\"Complex multiplication:\",(1 + 3j) * (2 + 5j))"
   ]
  },
  {
   "cell_type": "code",
   "execution_count": null,
   "metadata": {
    "collapsed": true
   },
   "outputs": [],
   "source": []
  },
  {
   "cell_type": "code",
   "execution_count": null,
   "metadata": {
    "collapsed": true
   },
   "outputs": [],
   "source": []
  },
  {
   "cell_type": "code",
   "execution_count": null,
   "metadata": {
    "collapsed": true
   },
   "outputs": [],
   "source": []
  },
  {
   "cell_type": "code",
   "execution_count": null,
   "metadata": {
    "collapsed": true
   },
   "outputs": [],
   "source": []
  }
 ],
 "metadata": {
  "anaconda-cloud": {},
  "kernelspec": {
   "display_name": "Python [py3k]",
   "language": "python",
   "name": "Python [py3k]"
  },
  "language_info": {
   "codemirror_mode": {
    "name": "ipython",
    "version": 3
   },
   "file_extension": ".py",
   "mimetype": "text/x-python",
   "name": "python",
   "nbconvert_exporter": "python",
   "pygments_lexer": "ipython3",
   "version": "3.5.2"
  }
 },
 "nbformat": 4,
 "nbformat_minor": 0
}
