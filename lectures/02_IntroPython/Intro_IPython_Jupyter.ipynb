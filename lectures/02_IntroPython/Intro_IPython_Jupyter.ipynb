{
 "cells": [
  {
   "cell_type": "markdown",
   "metadata": {},
   "source": [
    "## Brief Intro to IPython and Jupyter Notebooks\n",
    "**Nick Kern**\n",
    "\n",
    "---\n",
    "\n",
    "This is a very brief introduction to Interactive Python (IPython) and the Jupyter Notebook environment. In brief, the Jupyter Notebook is a **way to run Python code in your web-browser**! Don't be fooled by the fact that we are using a web-browser though, you aren't sending anything to the internet, and don't even need to be connected to the internet to run a Jupyter Notebook. The entire file itself is called a notebook, and because it is a notebook for Python code, the filename suffix is `.ipynb`.\n",
    "\n",
    "To start the Jupyter Notebook environment and to access this file, you will need to run the following command in your command line:\n",
    "```\n",
    "jupyter notebook\n",
    "```\n",
    "In doing so, you may get some warnings or errors (for the most part just ignore those), and at some point the command will output something along the lines of\n",
    "```\n",
    "The Jupyter Notebook is running at: http://localhost:8888/\n",
    "```\n",
    "Note that it may not have the same ending (could be `localhost:8889/` or `localhost:8887/` or something). For most people, if you wait a couple of seconds, your web-browser will automatically open and will be navigated to the above address. If you wait for longer than a dozen seconds and this doesn't happen, go ahead and open a web-browser yourself and navigate to the above URL address.\n",
    "\n",
    "This will open a homescreen that will show files and directories, and should look something like this:\n",
    "\n",
    "<img src=\"imgs/jupyter_homescreen.png\" width=400px/>\n",
    "\n",
    "Congratulations, you are running the Jupyter Notebook environment! To open a `.ipynb` file, just navigate to where that file lives and click on it! Once you click on a file it will open a new tab with the file, and in previous tab the file should turn green, like this\n",
    "\n",
    "<img src=\"imgs/jupyter_file.png\" width=400px/>\n",
    "\n",
    "which means that the file is currently being edited. In what follows, we will describe how you can edit the `.ipynb` file within the Jupyter Notebook environment. Once you are done you can save the file by hitting `<command>+<s>` or by going to the `File` tab and selecting `Save and Checkpoint`. After that you can close the tab. Before you are done, however, you need to go back to the Jupyter navigator and \"Shutdown\" the file by selecting it and pressing \"Shutdown\", like this\n",
    "\n",
    "<img src=\"imgs/jupyter_shutdown.png\" width=400px/>\n",
    "\n",
    "Lastly, to completely turn-off the Jupyter Notebook program, you need to go back to the command line where you opened jupyter and hit `<control>+<c>`, which will prompt a shutdown as soon as you confirm with a `<y>`.\n"
   ]
  },
  {
   "cell_type": "markdown",
   "metadata": {},
   "source": [
    "### Editing `.ipynb` files with Jupyter\n",
    "\n",
    "After opening a `.ipynb` file with Jupyter, try exploring a little bit. You'll notice that the way in which you use a Jupyter Notebook is similar to how one uses the Command Line text editor `vi`: there is a \"Command Mode\" (blue cell highlight) and an \"Edit Mode\" (green cell highlight). In Command Mode, you cannot enter text, but you can do things like delete cells (`<d><d>`), add a new cell above (`<a>`), add a new cell below (`<b>`), run the cell and go to next cell (`<shift>+<enter>`), or run cell and stay at present cell (`<control>+<enter>`).\n",
    "\n",
    "To enter \"Edit Mode\", press `<enter>` while highlighting the cell, or click on it with your cursor. For MarkDown cells (like this one) you will need to double-click."
   ]
  },
  {
   "cell_type": "markdown",
   "metadata": {},
   "source": [
    "Don't forget that you can always undo something with the Edit/Undo tab. "
   ]
  },
  {
   "cell_type": "markdown",
   "metadata": {},
   "source": [
    "### Running Python Code\n",
    "\n",
    "There are multiple ways to run Python code. The easiest thing to do is enter a Python Interpreter from your command line by typing\n",
    "```\n",
    "python\n",
    "```\n",
    "or\n",
    "```\n",
    "ipython\n",
    "```\n",
    "`ipython` stands for \"interactive Python\" (even though the standard `python` is also interactive). `ipython` has a lot more capabilities than just `python` which make programming with it easier. I almost always defer to using `ipython` over `python`. To exit the Python interpreter, type `logout` or hit `<control>+<d>`.\n",
    "\n",
    "Once you are in an interpreter, you can enter Python code and program interactively. An alternative is to put all of your Python code into a script with a `.py` suffix like `filename.py`, and run the program from the command line like:\n",
    "```\n",
    "python filename.py\n",
    "```\n",
    "These are the two standard ways of running Python code. \n",
    "\n",
    "One other way to run Python code is inside of a Jupyter Notebook (also called an IPython Notebook). You can enter Python code by going into an open cell, entering your code and hitting `<shift>+<enter>`. It will run the code as if you were in an IPython interpreter. Once a cell is run it is stored in memory, meaning I can define a function or variable in one cell and access it from another (see below). \n",
    "\n",
    "What's nice about this way of running a Python Interpreter is that you can chunk your code into cells and re-run them whenever you want, in whatever order you want (doesn't have to be linear!). You can even re-run old cells. This way you can still program interactively with the interpreter, but don't need to re-type code by hand if you are doing the same thing over and over again."
   ]
  },
  {
   "cell_type": "code",
   "execution_count": 1,
   "metadata": {
    "collapsed": true
   },
   "outputs": [],
   "source": [
    "# this is python code i'm running right now!\n",
    "my_var = 10"
   ]
  },
  {
   "cell_type": "code",
   "execution_count": 5,
   "metadata": {
    "collapsed": false
   },
   "outputs": [
    {
     "name": "stdout",
     "output_type": "stream",
     "text": [
      "20\n"
     ]
    }
   ],
   "source": [
    "print(my_var)"
   ]
  },
  {
   "cell_type": "code",
   "execution_count": 4,
   "metadata": {
    "collapsed": true
   },
   "outputs": [],
   "source": [
    "# reassign my_var\n",
    "my_var = 20\n",
    "\n",
    "# now scroll-up and re-evalute the above cell and see what happens!"
   ]
  },
  {
   "cell_type": "code",
   "execution_count": 6,
   "metadata": {
    "collapsed": true
   },
   "outputs": [],
   "source": [
    "# define a function\n",
    "def my_function(x):\n",
    "    return x**2"
   ]
  },
  {
   "cell_type": "code",
   "execution_count": 7,
   "metadata": {
    "collapsed": false
   },
   "outputs": [
    {
     "data": {
      "text/plain": [
       "100"
      ]
     },
     "execution_count": 7,
     "metadata": {},
     "output_type": "execute_result"
    }
   ],
   "source": [
    "my_function(10)"
   ]
  },
  {
   "cell_type": "markdown",
   "metadata": {},
   "source": [
    "### Accessing the Command Line and other Magic Things\n",
    "IPython allows you to do some cool things that Python can't do on its own, like easily access bash commands for the command line using either a \"!\" prefix for the line you want, or by putting `%%bash` at the top of the cell. In the former, only that line with a \"!\" is interpreted as a bash command, while in the latter the entire cell is interpreted as a series of bash commands."
   ]
  },
  {
   "cell_type": "code",
   "execution_count": 11,
   "metadata": {
    "collapsed": false
   },
   "outputs": [
    {
     "name": "stdout",
     "output_type": "stream",
     "text": [
      "/Users/nkern/Documents/School_Work/Teaching/Astro_9_Master/Astro_9/lectures/02_IntroPython\r\n"
     ]
    }
   ],
   "source": [
    "# these next two cells do the same thing\n",
    "!pwd"
   ]
  },
  {
   "cell_type": "code",
   "execution_count": 12,
   "metadata": {
    "collapsed": false
   },
   "outputs": [
    {
     "name": "stdout",
     "output_type": "stream",
     "text": [
      "/Users/nkern/Documents/School_Work/Teaching/Astro_9_Master/Astro_9/lectures/02_IntroPython\n"
     ]
    }
   ],
   "source": [
    "%%bash\n",
    "pwd"
   ]
  },
  {
   "cell_type": "markdown",
   "metadata": {},
   "source": [
    "These IPython commands that start with \"%\" are called **IPython Magic Functions**, because they are magically awesome. Some other magic functions you might find handy are \n",
    "\n",
    "`%%file filename`, which puts the text in the cell into a file named `filename`\n",
    "\n",
    "`%run filename.py`, which will run a Python script for you.\n",
    "\n",
    "`%timeit`, which times how long it takes Python to run the following line of code\n",
    "\n",
    "Use `%lsmagic` to see other IPython magic functions!"
   ]
  },
  {
   "cell_type": "code",
   "execution_count": 24,
   "metadata": {
    "collapsed": false
   },
   "outputs": [
    {
     "data": {
      "application/json": {
       "cell": {
        "!": "OSMagics",
        "HTML": "Other",
        "SVG": "Other",
        "bash": "Other",
        "capture": "ExecutionMagics",
        "debug": "ExecutionMagics",
        "file": "Other",
        "html": "DisplayMagics",
        "javascript": "DisplayMagics",
        "latex": "DisplayMagics",
        "perl": "Other",
        "prun": "ExecutionMagics",
        "pypy": "Other",
        "python": "Other",
        "python2": "Other",
        "python3": "Other",
        "ruby": "Other",
        "script": "ScriptMagics",
        "sh": "Other",
        "svg": "DisplayMagics",
        "sx": "OSMagics",
        "system": "OSMagics",
        "time": "ExecutionMagics",
        "timeit": "ExecutionMagics",
        "writefile": "OSMagics"
       },
       "line": {
        "alias": "OSMagics",
        "alias_magic": "BasicMagics",
        "autocall": "AutoMagics",
        "automagic": "AutoMagics",
        "autosave": "KernelMagics",
        "bookmark": "OSMagics",
        "cat": "Other",
        "cd": "OSMagics",
        "clear": "KernelMagics",
        "colors": "BasicMagics",
        "config": "ConfigMagics",
        "connect_info": "KernelMagics",
        "cp": "Other",
        "debug": "ExecutionMagics",
        "dhist": "OSMagics",
        "dirs": "OSMagics",
        "doctest_mode": "BasicMagics",
        "ed": "Other",
        "edit": "KernelMagics",
        "env": "OSMagics",
        "gui": "BasicMagics",
        "hist": "Other",
        "history": "HistoryMagics",
        "install_default_config": "DeprecatedMagics",
        "install_ext": "ExtensionMagics",
        "install_profiles": "DeprecatedMagics",
        "killbgscripts": "ScriptMagics",
        "ldir": "Other",
        "less": "KernelMagics",
        "lf": "Other",
        "lk": "Other",
        "ll": "Other",
        "load": "CodeMagics",
        "load_ext": "ExtensionMagics",
        "loadpy": "CodeMagics",
        "logoff": "LoggingMagics",
        "logon": "LoggingMagics",
        "logstart": "LoggingMagics",
        "logstate": "LoggingMagics",
        "logstop": "LoggingMagics",
        "ls": "Other",
        "lsmagic": "BasicMagics",
        "lx": "Other",
        "macro": "ExecutionMagics",
        "magic": "BasicMagics",
        "man": "KernelMagics",
        "matplotlib": "PylabMagics",
        "mkdir": "Other",
        "more": "KernelMagics",
        "mv": "Other",
        "notebook": "BasicMagics",
        "page": "BasicMagics",
        "pastebin": "CodeMagics",
        "pdb": "ExecutionMagics",
        "pdef": "NamespaceMagics",
        "pdoc": "NamespaceMagics",
        "pfile": "NamespaceMagics",
        "pinfo": "NamespaceMagics",
        "pinfo2": "NamespaceMagics",
        "popd": "OSMagics",
        "pprint": "BasicMagics",
        "precision": "BasicMagics",
        "profile": "BasicMagics",
        "prun": "ExecutionMagics",
        "psearch": "NamespaceMagics",
        "psource": "NamespaceMagics",
        "pushd": "OSMagics",
        "pwd": "OSMagics",
        "pycat": "OSMagics",
        "pylab": "PylabMagics",
        "qtconsole": "KernelMagics",
        "quickref": "BasicMagics",
        "recall": "HistoryMagics",
        "rehashx": "OSMagics",
        "reload_ext": "ExtensionMagics",
        "rep": "Other",
        "rerun": "HistoryMagics",
        "reset": "NamespaceMagics",
        "reset_selective": "NamespaceMagics",
        "rm": "Other",
        "rmdir": "Other",
        "run": "ExecutionMagics",
        "save": "CodeMagics",
        "sc": "OSMagics",
        "set_env": "OSMagics",
        "store": "StoreMagics",
        "sx": "OSMagics",
        "system": "OSMagics",
        "tb": "ExecutionMagics",
        "time": "ExecutionMagics",
        "timeit": "ExecutionMagics",
        "unalias": "OSMagics",
        "unload_ext": "ExtensionMagics",
        "who": "NamespaceMagics",
        "who_ls": "NamespaceMagics",
        "whos": "NamespaceMagics",
        "xdel": "NamespaceMagics",
        "xmode": "BasicMagics"
       }
      },
      "text/plain": [
       "Available line magics:\n",
       "%alias  %alias_magic  %autocall  %automagic  %autosave  %bookmark  %cat  %cd  %clear  %colors  %config  %connect_info  %cp  %debug  %dhist  %dirs  %doctest_mode  %ed  %edit  %env  %gui  %hist  %history  %install_default_config  %install_ext  %install_profiles  %killbgscripts  %ldir  %less  %lf  %lk  %ll  %load  %load_ext  %loadpy  %logoff  %logon  %logstart  %logstate  %logstop  %ls  %lsmagic  %lx  %macro  %magic  %man  %matplotlib  %mkdir  %more  %mv  %notebook  %page  %pastebin  %pdb  %pdef  %pdoc  %pfile  %pinfo  %pinfo2  %popd  %pprint  %precision  %profile  %prun  %psearch  %psource  %pushd  %pwd  %pycat  %pylab  %qtconsole  %quickref  %recall  %rehashx  %reload_ext  %rep  %rerun  %reset  %reset_selective  %rm  %rmdir  %run  %save  %sc  %set_env  %store  %sx  %system  %tb  %time  %timeit  %unalias  %unload_ext  %who  %who_ls  %whos  %xdel  %xmode\n",
       "\n",
       "Available cell magics:\n",
       "%%!  %%HTML  %%SVG  %%bash  %%capture  %%debug  %%file  %%html  %%javascript  %%latex  %%perl  %%prun  %%pypy  %%python  %%python2  %%python3  %%ruby  %%script  %%sh  %%svg  %%sx  %%system  %%time  %%timeit  %%writefile\n",
       "\n",
       "Automagic is ON, % prefix IS NOT needed for line magics."
      ]
     },
     "execution_count": 24,
     "metadata": {},
     "output_type": "execute_result"
    }
   ],
   "source": [
    "%lsmagic"
   ]
  },
  {
   "cell_type": "markdown",
   "metadata": {},
   "source": [
    "### Styling your Notebook with MarkDown\n",
    "\n",
    "Another great thing is that you can make whole presentations out of the notebook by embedding figures and using the MarkDown syntax to edit cells like you would a texteditor (like what I am doing right now!). What's nice about MarkDown is that ***it is really simple***. [Here is a cheatsheet](https://github.com/adam-p/markdown-here/wiki/Markdown-Cheatsheet), see for yourself. You can switch a cell's purpose from being `Code` to `Markdown` with the drop-down menu in the header above. In order to edit a cell that already has MarkDown in it, just ***double-click*** the cell, or press `<enter>` while highlighting it. To run it again, just press `<shift>+<enter>`."
   ]
  },
  {
   "cell_type": "markdown",
   "metadata": {},
   "source": [
    "In addition, if you know HTML and CSS, MarkDown will also understand those commands. For example, to embed a figure that I have stored in `imgs/python-logo.png` and add a caption, I can use the following syntax:\n",
    "\n",
    "<img src=\"imgs/python-logo.png\" width=500px/>\n",
    "<center> This is a caption for the figure above! </center>\n",
    "\n",
    "And you can make links like this: [this is a MarkDown link to wikipedia](https://www.wikipedia.org/), or like this: <a href=\"https://www.wikipedia.org/\">this is an HTML link to wikipedia</a>"
   ]
  },
  {
   "cell_type": "markdown",
   "metadata": {},
   "source": [
    "The last salient feature of MarkDown (that I can think of), is its ability to render LaTeX expressions, which is a language used to create textbook-quality mathematical expressions. Here is an example!\n",
    "\\begin{align}\n",
    "\\mathcal{L} = \\prod\\exp\\left(-\\frac{(y-m)^{2}}{2\\sigma^{2}}\\right)\n",
    "\\end{align}\n",
    "\n",
    "If you are interested in learning more about using Latex for making nice mathematical expressions, see [here](https://en.wikibooks.org/wiki/LaTeX/Mathematics)! If you plan on majoring in some field in the Physical Sciences and/or plan to go to graduate school in the Physical Sciences, you will want (and likely **need**) to learn $\\LaTeX$ syntax at some point. The earlier the better!"
   ]
  }
 ],
 "metadata": {
  "anaconda-cloud": {},
  "kernelspec": {
   "display_name": "Python [py3k]",
   "language": "python",
   "name": "Python [py3k]"
  },
  "language_info": {
   "codemirror_mode": {
    "name": "ipython",
    "version": 3
   },
   "file_extension": ".py",
   "mimetype": "text/x-python",
   "name": "python",
   "nbconvert_exporter": "python",
   "pygments_lexer": "ipython3",
   "version": "3.5.2"
  }
 },
 "nbformat": 4,
 "nbformat_minor": 0
}
