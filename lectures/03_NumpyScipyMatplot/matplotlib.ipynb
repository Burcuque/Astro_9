{
 "cells": [
  {
   "cell_type": "markdown",
   "metadata": {},
   "source": [
    "## Data Visualization with Matplotlib\n",
    "**Nick Kern**\n",
    "<br>\n",
    "**Astro 9: Python Programming in Astronomy**\n",
    "<br>\n",
    "**UC Berkeley**\n",
    "\n",
    "---\n",
    "\n",
    "Data visualization is one of the most important steps in any scientific analysis. It is also one of my favorite parts of the scientific process. In attempting to visualize our data, we are trying to use our data to communicate some message. We are then faced with the questions of what data do we visualize? How do we visualize it? How can we convey our message using the simplest and easiest-to-interpret plot? Thinking about data visualization is important because, at the end of the day, data is only interesting to us because we can use it make some inference about the real world. Our ability to do this hinges on our ability to visualize the data. Often, our message can be communicated with a fairly simple scatter plot, line plot or bar chart. In certain circumstances, however, we can make significant improvements in the amount of information we convey by being a little bit more creative with our visualization. In this lecture, we will cover the basics of the data visualization capabilities in the [Matplotlib](https://matplotlib.org/) module and its syntax.\n",
    "\n",
    "<img src=\"imgs/matplotlib.svg\", width=300px/>\n",
    "<img src=\"imgs/bokeh.png\", width=400px/>\n"
   ]
  },
  {
   "cell_type": "code",
   "execution_count": null,
   "metadata": {
    "collapsed": true
   },
   "outputs": [],
   "source": [
    "# import matplotlib.pyplot module as plt\n",
    "import matplotlib.pyplot as plt"
   ]
  },
  {
   "cell_type": "markdown",
   "metadata": {},
   "source": [
    "If the above cell gave you an error like `ModuleNotFoundError: No module named 'matplotlib'`, then you need to download and install matplotlib on your machine. Depending on your Python installation, you can try one of the following in your command line:\n",
    "\n",
    "If you use Anaconda\n",
    "```\n",
    "conda install matplotlib\n",
    "```\n",
    "or you use pip\n",
    "```\n",
    "pip install matplotlib\n",
    "```"
   ]
  },
  {
   "cell_type": "code",
   "execution_count": null,
   "metadata": {
    "collapsed": true
   },
   "outputs": [],
   "source": [
    "# import numpy\n",
    "import numpy as np"
   ]
  },
  {
   "cell_type": "markdown",
   "metadata": {},
   "source": [
    "### Basic Syntax\n",
    "\n",
    "The basic syntax for producing plots with `matplotlib.pyplot` is to use the plotting functions `plot()` or `scatter()`. The `plot()` function is more general and can produce point plots (i.e., scatter plots) and line plots. The `scatter()` function is more specific to point plots. Both of these functions take two arguments, the data on the xaxis of the plot as the first argument, and the data on the yaxis of the plot as the second. Both of these must be some ordered data structure, but the kind is flexible (e.g., `ndarray`, `list`, `tuple`).\n",
    "\n",
    "Now, in the grand scheme of things, there are **two ways** to go about using these functions to actually make a plot.\n",
    "\n",
    "**1.) Using functions attached directly to the `matplotlib.pyplot` module**\n",
    "\n",
    "With this method, the `pyplot` module handles creating a figure and axis object for us, and assumes we only want to work with this one plot for the time being."
   ]
  },
  {
   "cell_type": "code",
   "execution_count": null,
   "metadata": {},
   "outputs": [],
   "source": [
    "# make a numpy array of theta in radians and a sine function\n",
    "theta = np.linspace(0, 2*np.pi, 20)\n",
    "y = np.sin(theta)\n",
    "\n",
    "print(theta[:6])\n",
    "print(y[:6])"
   ]
  },
  {
   "cell_type": "code",
   "execution_count": null,
   "metadata": {},
   "outputs": [],
   "source": [
    "# make a plot using plt.scatter() function\n",
    "plt.scatter(theta, y)"
   ]
  },
  {
   "cell_type": "code",
   "execution_count": null,
   "metadata": {},
   "outputs": [],
   "source": [
    "# display the plot with the \"show\" function\n",
    "plt.show()"
   ]
  },
  {
   "cell_type": "markdown",
   "metadata": {},
   "source": [
    "**2.) Create a pyplot.Figure object, create a pyplot.axis object and use functions attached to the axis**\n",
    "\n",
    "With this method, we create our own custom figure and axis object, and can easily work with multiple plots simultaneously."
   ]
  },
  {
   "cell_type": "code",
   "execution_count": null,
   "metadata": {
    "collapsed": true
   },
   "outputs": [],
   "source": [
    "# create a figure object\n",
    "fig = plt.figure()"
   ]
  },
  {
   "cell_type": "code",
   "execution_count": null,
   "metadata": {
    "collapsed": true
   },
   "outputs": [],
   "source": [
    "# create an axis on the figure\n",
    "ax = fig.add_subplot(111)"
   ]
  },
  {
   "cell_type": "code",
   "execution_count": null,
   "metadata": {},
   "outputs": [],
   "source": [
    "# use the ax.plot() function\n",
    "ax.scatter(theta, y)"
   ]
  },
  {
   "cell_type": "code",
   "execution_count": null,
   "metadata": {
    "scrolled": true
   },
   "outputs": [],
   "source": [
    "# display the plot\n",
    "plt.show()"
   ]
  },
  {
   "cell_type": "markdown",
   "metadata": {},
   "source": [
    "We get the same exact thing! From here on out, we will be using the second method because it is closer in-line to an object-oriented approach, which makes it more powerful and gives you more control with the plot. It is also considered \"good practice\" to use the second method over the first. If you prefer to use the former method that is fine too, however, you may find it easier in the long-run to accomplish certain sophisticated tasks by sticking with the object-oriented approach."
   ]
  },
  {
   "cell_type": "markdown",
   "metadata": {},
   "source": [
    "### Using a Normal Python Script vs. Jupyter Notebook\n",
    "\n",
    "**Standard Python Script**\n",
    "\n",
    "Let's forget about the Jupyter Notebook environment for a minute. The standard way to write and run Python code is to put it into a `.py` script and run the it from the command line. For example, take the `scatter_plot.py` script I made beforehand to plot a sine and cosine function:\n",
    "```\n",
    "python scatter_plot.py\n",
    "```\n",
    "Recall this will run the code and exit the interpreter. This means that if you don't display the figure, or save the figure as an image before the end of the script, nothing will happen. Alternatively, you can feed a `-i` flag (for interactive) and you will remain in the interpreter after the code finishes, and can display the image yourself. This is the standard way to make a plot.\n",
    "\n",
    "**Jupyter Notebook**\n",
    "\n",
    "On the otherhand, we have already seen that in a Jupyter Notebook we can easily display images inline (as opposed to in a separate window) with our code cells and text. It turns out, there is an even easier way to do this by activating \"*matplotlib inline*\" mode. **We only need to do this once**, and it enables us to display plots without having to type the final `plt.show()` function.\n",
    "\n",
    "For example:"
   ]
  },
  {
   "cell_type": "code",
   "execution_count": null,
   "metadata": {
    "collapsed": true
   },
   "outputs": [],
   "source": [
    "%matplotlib inline"
   ]
  },
  {
   "cell_type": "code",
   "execution_count": null,
   "metadata": {
    "collapsed": true
   },
   "outputs": [],
   "source": [
    "# create some fake data\n",
    "x = np.linspace(0, 2*np.pi, 25)\n",
    "y1 = np.sin(x)\n",
    "y2 = np.cos(x)"
   ]
  },
  {
   "cell_type": "code",
   "execution_count": null,
   "metadata": {},
   "outputs": [],
   "source": [
    "# make a figure object to hold plots\n",
    "fig = plt.figure()\n",
    "\n",
    "# create a single axis object to make a subplot\n",
    "ax = fig.add_subplot(111)\n",
    "\n",
    "# plot the three trig functions\n",
    "ax.scatter(x, y1, color='blue')\n",
    "ax.scatter(x, y2, color='red')"
   ]
  },
  {
   "cell_type": "markdown",
   "metadata": {},
   "source": [
    "As you can see, we didn't need to use the final `plt.show()` function, and the plot is automatically rendered and displayed inline upon creating the plots."
   ]
  },
  {
   "cell_type": "markdown",
   "metadata": {},
   "source": [
    "### The `figure` and `axis` objects\n",
    "\n",
    "[draw a picture]\n",
    "\n",
    "The `matplotlib.figure` object is responsible for handling the entire image we are going to make. This includes the \"plot\" itself, but the plot is only one component of what goes into making a figure: there is also the figure's size, its shape, how many \"sub-plots\" are in the figure, its transparency, its background color, among other things.\n",
    "\n",
    "We can make a new figure with the `plt.figure()` function. We can call this whatever we want, and we can edit or construct multiple figures simultaneously, so long as we name them differently. `figure()` doesn't need to take any required arguments, but has a lot of keyword arguments we can specify to change different elements of the figure. We will see this shortly.\n",
    "\n",
    "Once we have a figure, we are free to make as many \"subplots\" as we like. Each subplot has its own axis, so really, when we make a subplot we are creating a `pyplot.axis` object. The standard way to create an axis from a figure object is to use its `.add_subplot()` function. Like `figure()`, we can feed `add_subplot()` keyword arguments to specify elements of our subplot. One thing that is common is to feed it three numbers, like what we have below:"
   ]
  },
  {
   "cell_type": "code",
   "execution_count": null,
   "metadata": {},
   "outputs": [],
   "source": [
    "# make a figure object, and create a subplot from that figure\n",
    "fig = plt.figure()\n",
    "ax_one = fig.add_subplot(2, 1, 1)\n",
    "ax_two = fig.add_subplot(2, 1, 2)"
   ]
  },
  {
   "cell_type": "markdown",
   "metadata": {
    "collapsed": true
   },
   "source": [
    "You can see we have created a figure object and a blank subplot. The three arguments of `add_subplot()` are 1) the number of subplots vertically, 2) the number of subplots horizontally, and then 3) which subplot of the total subplots this particular axis represents. Subplot ordering goes from top-to-bottom, left-to-right. Note that this is unfortunately not zeroth ordered, like the rest of Python syntax. Let's just see this in action to get the hang of things."
   ]
  },
  {
   "cell_type": "code",
   "execution_count": null,
   "metadata": {},
   "outputs": [],
   "source": [
    "# make a few subplots\n",
    "fig = plt.figure( )\n",
    "\n",
    "# make six subplots within this figure, 3 vertical, 2 horizontal\n",
    "ax1 = fig.add_subplot(2, 3, 1)\n",
    "ax2 = fig.add_subplot(2, 3, 2)\n",
    "ax3 = fig.add_subplot(2, 3, 3)\n",
    "ax4 = fig.add_subplot(2, 3, 4)\n",
    "ax5 = fig.add_subplot(2, 3, 5)\n",
    "ax6 = fig.add_subplot(2, 3, 6)"
   ]
  },
  {
   "cell_type": "markdown",
   "metadata": {},
   "source": [
    "By feeding the `figure()` function the keyword argument `figsize`, we can change the overall size of the figure.\n",
    "\n",
    "You can also achieve the same thing with the following syntax:"
   ]
  },
  {
   "cell_type": "code",
   "execution_count": null,
   "metadata": {},
   "outputs": [],
   "source": [
    "fig, axes = plt.subplots(3,2)"
   ]
  },
  {
   "cell_type": "markdown",
   "metadata": {},
   "source": [
    "in which case, `axes` is actually a list containing all of the `axis` objects for each subplot.\n",
    "\n",
    "After making the subplots, we want to put data into the subplots! There are numerous ways to do that, ranging from line plots, scatter plots, bar charts, 3D plots, pie charts, etc. We've already seen an example of a scatter plot with some trig functions.\n",
    "\n",
    "Once we have the data on the plot, however, we aren't done. We probably want to further edit the plot. For example, we might want to label our axes, change the axes ranges of the plot, make a title, add a plot legend, and annotate certain parts of the subplot with text. We can do this through the various methods of the `figure` and `axis` objects. Let's run through a basic example of how we might do this.\n",
    "\n",
    "**Example: plotting sine as a function of time with different frequencies**\n",
    "\n",
    "\\begin{align}\n",
    "y  = \\sin(\\omega t)\n",
    "\\end{align}"
   ]
  },
  {
   "cell_type": "code",
   "execution_count": null,
   "metadata": {
    "collapsed": true
   },
   "outputs": [],
   "source": [
    "# generate x-data\n",
    "time = np.linspace(0, 1, 50)\n",
    "\n",
    "# generate y-data\n",
    "freq1 = 2 * np.pi * 1   # 2pi\n",
    "freq2 = 2 * np.pi * 2   # 4pi\n",
    "freq3 = 2 * np.pi * 3   # 6pi\n",
    "\n",
    "y1 = np.sin(freq1*time)\n",
    "y2 = np.sin(freq2*time)\n",
    "y3 = np.sin(freq3*time)"
   ]
  },
  {
   "cell_type": "code",
   "execution_count": null,
   "metadata": {},
   "outputs": [],
   "source": [
    "# make figure\n",
    "fig = plt.figure(figsize=(12,6))\n",
    "\n",
    "# make a single subplot\n",
    "ax = fig.add_subplot(1, 1, 1)\n",
    "\n",
    "# create background grid\n",
    "ax.grid(True)\n",
    "\n",
    "# plot cosine as lines, no points, collect output of function\n",
    "# note the data aren't continuous, it's just a plotting illusion\n",
    "p1 = ax.plot(time, y1, color='green')\n",
    "p2 = ax.plot(time, y2, color='blue')\n",
    "p3 = ax.plot(time, y3, color='red')\n",
    "\n",
    "# set x and y limits\n",
    "ax.set_xlim(-0.1, 1.1)\n",
    "ax.set_ylim(-1.1, 1.1)\n",
    "\n",
    "# set x and y labels\n",
    "ax.set_xlabel('time [sec]', fontsize=16)\n",
    "ax.set_ylabel('sine function', fontsize=16)\n",
    "\n",
    "# set title\n",
    "ax.set_title('Plotting sine function with varying frequencies', fontsize=16)\n",
    "\n",
    "# create legend\n",
    "ax.legend([p1[0], p2[0], p3[0]], ['2pi', '4pi', '6pi'], fontsize=16)\n",
    "\n",
    "# save figure\n",
    "#fig.savefig('sine_funcs.png')"
   ]
  },
  {
   "cell_type": "markdown",
   "metadata": {},
   "source": [
    "We can feed the `plot()` function a lot of different keyword arguments. Let's experiment with the parameters\n",
    "* `marker`\n",
    "* `markersize`\n",
    "* `linestyle`\n",
    "* `linewidth`\n",
    "* `alpha`\n"
   ]
  },
  {
   "cell_type": "markdown",
   "metadata": {
    "collapsed": true
   },
   "source": [
    "### Breakout\n",
    "\n",
    "The following is an example plot from the Matplotlib gallery.\n",
    "<img src='imgs/subplots.png' width=500px/>\n",
    "<center>IC: Matplotlib</center>\n",
    "\n",
    "Try to reproduce this plot as closely as you can using the routines we discussed above. The top and bottom functions can be described as a damped cosine function and cosine function respectively:\n",
    "\n",
    "\\begin{align}\n",
    "y_1 &= \\cos(2\\pi t)\\cdot \\exp\\left(-t\\right)\\\\\n",
    "y_2 &= \\cos(2\\pi t)\n",
    "\\end{align}\n",
    "\n",
    "For a list of supported marker types, see [here](http://matplotlib.org/1.4.1/api/markers_api.html). For a list of supported colors, see [here](https://matplotlib.org/examples/color/named_colors.html)."
   ]
  },
  {
   "cell_type": "code",
   "execution_count": null,
   "metadata": {
    "collapsed": true
   },
   "outputs": [],
   "source": []
  },
  {
   "cell_type": "code",
   "execution_count": null,
   "metadata": {
    "collapsed": true
   },
   "outputs": [],
   "source": []
  },
  {
   "cell_type": "markdown",
   "metadata": {},
   "source": [
    "### Annotating\n",
    "\n",
    "Besides using axes lables, titles and legends, you can also put your own text on a graph using the `annotate()` function."
   ]
  },
  {
   "cell_type": "code",
   "execution_count": null,
   "metadata": {},
   "outputs": [],
   "source": [
    "# https://matplotlib.org/users/annotations_intro.html\n",
    "\n",
    "fig = plt.figure()\n",
    "ax = fig.add_subplot(111)\n",
    "\n",
    "t = np.arange(0.0, 5.0, 0.01)\n",
    "s = np.cos(np.pi*t)\n",
    "line, = ax.plot(t, s, lw=2)\n",
    "\n",
    "ax.annotate('local max', xy=(2, 1), fontsize=14)\n",
    "\n",
    "ax.set_ylim(-2,2)"
   ]
  },
  {
   "cell_type": "markdown",
   "metadata": {},
   "source": [
    "If you are familiar with Latex, you can render it in the graph as well."
   ]
  },
  {
   "cell_type": "code",
   "execution_count": null,
   "metadata": {},
   "outputs": [],
   "source": [
    "fig = plt.figure()\n",
    "ax = fig.add_subplot(111)\n",
    "\n",
    "t = np.arange(0.0, 5.0, 0.01)\n",
    "s = np.cos(np.pi*t)\n",
    "line, = ax.plot(t, s, lw=2)\n",
    "\n",
    "ax.annotate(r'This is just for fun:$\\sum_{n=1}^\\infty\\frac{-e^{i\\pi}}{2^n}$!', xy=(0,-1.5), fontsize=20)\n",
    "ax.annotate('local max', xy=(2, 1), fontsize=14)\n",
    "ax.annotate(r'$\\mathbb{R}[e^{i\\omega t}]$', xy=(0, 1.3), fontsize=20)\n",
    "\n",
    "ax.set_ylim(-2,2)"
   ]
  },
  {
   "cell_type": "markdown",
   "metadata": {
    "collapsed": true
   },
   "source": [
    "### Errorbars\n",
    "\n",
    "If you have experimental data with errorbars, an easy way to plot them is with the `errorbar()` function. Let's take the cosine example from before, but add some random noise to the data."
   ]
  },
  {
   "cell_type": "code",
   "execution_count": null,
   "metadata": {
    "collapsed": true
   },
   "outputs": [],
   "source": [
    "# create some fake data\n",
    "x = np.linspace(0, 2*np.pi, 25)\n",
    "y1 = np.sin(x) + np.random.normal(0,0.2,25)"
   ]
  },
  {
   "cell_type": "code",
   "execution_count": null,
   "metadata": {},
   "outputs": [],
   "source": [
    "# make figure\n",
    "fig = plt.figure(figsize=(8,6))\n",
    "\n",
    "# make axis\n",
    "ax = fig.add_subplot(1, 1, 1)\n",
    "\n",
    "# plot\n",
    "ax.errorbar(x, y1, yerr=0.2, fmt='o')"
   ]
  },
  {
   "cell_type": "markdown",
   "metadata": {},
   "source": [
    "### Histograms (1D)\n",
    "\n",
    "Histograms are a way to communicate how frequently a particular value occurs in your data. We can easily make histograms with the `hist()` function. Often, we use histograms to represent the probability density function (PDF) of some statistical distribution. To be exact, the PDF of some statistical distribution is a continuous function, while a histogram represents a discrete approximation given random samples drawn from the PDF. Here is an example of a histogram from a Normal distribution (Gaussian distribution)."
   ]
  },
  {
   "cell_type": "code",
   "execution_count": null,
   "metadata": {
    "collapsed": true
   },
   "outputs": [],
   "source": [
    "# generate 500 random draws from a mean-0, scale-2 Gaussian\n",
    "draws = np.random.normal(0, 2, 500)\n",
    "\n",
    "# generate theoretical prediction for such Gaussian\n",
    "x = np.linspace(-5,5, 50)\n",
    "y = np.exp(-x**2/(2*2**2))/np.sqrt(2*np.pi*2**2)"
   ]
  },
  {
   "cell_type": "code",
   "execution_count": null,
   "metadata": {},
   "outputs": [],
   "source": [
    "# make figure & ax\n",
    "fig = plt.figure(figsize=(5,5))\n",
    "ax = fig.add_subplot(1, 1, 1)\n",
    "\n",
    "# plot histogram of draws\n",
    "h_out = ax.hist(draws, bins=25, normed=True, alpha=0.85, color='steelblue')\n",
    "\n",
    "# plot theoretical prediction\n",
    "ax.plot(x, y, color='darkorange', linewidth=3)"
   ]
  },
  {
   "cell_type": "markdown",
   "metadata": {},
   "source": [
    "Try changing some of the keyword-arguments of `hist()` to see what happens. In particular, you will notice that changing `normed` changes the amplitude of the histogram bins. This is because `normed` stands for \"normalized\", which means that the overall height of the histogram has been adjust such that its integral across the x-values is equal to unity. This is useful because all proper PDFs must satisfy this condition.\n",
    "\n",
    "If you are interested in getting the locations and peaks of each bin in the histogram, check the output of the `hist()` function, which we have called `h_out` in this example."
   ]
  },
  {
   "cell_type": "markdown",
   "metadata": {},
   "source": [
    "### Histograms (2D)\n",
    "\n",
    "What about if our data is two dimensional? In this case we can easily generalize the histogram to two dimensions. In this case, such a plot will look like a \"density plot\", in that the color at each 2D pixel is what represents the height that particular bin. In a sense, this is exactly what an image is: a 2D histogram whose height represents a grayscale tone. Matplotlib nicely gives us the `hist_2d()` and `hexbin()` functions for nice 2D histograms. Let's continue with our toy example of Gaussian distributions, but work now in 2D."
   ]
  },
  {
   "cell_type": "code",
   "execution_count": null,
   "metadata": {
    "collapsed": true
   },
   "outputs": [],
   "source": [
    "# generate draws, this time 2x for a two-dimensional space, and concatenate\n",
    "draws = np.array([ np.random.normal(0, 1, 5000), np.random.normal(0, 1, 5000) ])"
   ]
  },
  {
   "cell_type": "code",
   "execution_count": null,
   "metadata": {},
   "outputs": [],
   "source": [
    "# figure\n",
    "fig = plt.figure(figsize=(6,5))\n",
    "ax = fig.add_subplot(1, 1, 1)\n",
    "\n",
    "# 2dhist\n",
    "h_out = ax.hist2d(draws[0], draws[1], bins=12, cmap='rainbow', range=([-3,3],[-3,3]))\n",
    "\n",
    "# colorbar\n",
    "fig.colorbar(h_out[-1])"
   ]
  },
  {
   "cell_type": "markdown",
   "metadata": {},
   "source": [
    "An image is just a visual of a 2D array! See for yourself:"
   ]
  },
  {
   "cell_type": "code",
   "execution_count": null,
   "metadata": {},
   "outputs": [],
   "source": [
    "# generate mesh\n",
    "X, Y = np.meshgrid(h_out[1][:-1]+0.1, h_out[2][:-1]+0.1)\n",
    "\n",
    "# make figure\n",
    "fig = plt.figure(figsize=(7,6))\n",
    "ax = fig.add_subplot(111)\n",
    "ax.grid(True)\n",
    "\n",
    "# plot 2dhist\n",
    "h_out = ax.hist2d(draws[0], draws[1], bins=12, cmap='rainbow', range=([-3,3],[-3,3]))\n",
    "\n",
    "# overlay numerical value\n",
    "for i, x in enumerate(zip(X.ravel(), Y.ravel())):\n",
    "    ax.annotate(str(int(h_out[0].ravel()[i])), x)\n",
    "    \n",
    "fig.colorbar(h_out[-1])"
   ]
  },
  {
   "cell_type": "markdown",
   "metadata": {},
   "source": [
    "The new development here is the introduction of a **colormap**, which is giving us the height information of each 2D bin of the histogram. To see a list of supported colormaps, see [here](https://matplotlib.org/examples/color/colormaps_reference.html)."
   ]
  },
  {
   "cell_type": "markdown",
   "metadata": {},
   "source": [
    "### Density Plots and Images\n",
    "\n",
    "As alluded to, plotting 2D functions and images is very similar to making 2D histograms. In a sense they are esentially the same thing, except that the height of each bin represents a height of the function or the grayscale tone for an image.\n",
    "\n",
    "**Density Plots**\n",
    "\n",
    "Say we have a circularly symmetic wave traveling out from the origin. We can represent this in 2D ($x,y$) as a cosine function with respect to the radial vector\n",
    "\n",
    "\\begin{align}\n",
    "z = \\cos(r) = \\cos((x^{2} + y^{2})^{1/2})\n",
    "\\end{align}\n",
    "\n",
    "In order to make a 2D density plot, we first need to construct the value of $r$ at each grid pont. To do this, we start by constructing grids for $x$ and $y$. We can do this with `numpy.meshgrid`."
   ]
  },
  {
   "cell_type": "code",
   "execution_count": null,
   "metadata": {},
   "outputs": [],
   "source": [
    "# make meshgrid for x and y\n",
    "X, Y = np.meshgrid(np.linspace(-10,10,5), np.linspace(-10,10,5))\n",
    "\n",
    "print(X)"
   ]
  },
  {
   "cell_type": "code",
   "execution_count": null,
   "metadata": {},
   "outputs": [],
   "source": [
    "# now construct grid for r\n",
    "R = np.sqrt( X**2 + Y**2 )\n",
    "\n",
    "# now evaluate z = cos(r)\n",
    "Z = np.cos(R)\n",
    "\n",
    "print(Z)"
   ]
  },
  {
   "cell_type": "markdown",
   "metadata": {},
   "source": [
    "We can now plot this 2D function with the `imshow()` function, which takes as an argument the whole array."
   ]
  },
  {
   "cell_type": "code",
   "execution_count": null,
   "metadata": {},
   "outputs": [],
   "source": [
    "# figure\n",
    "fig = plt.figure(figsize=(6,6))\n",
    "ax = fig.add_subplot(1, 1, 1)\n",
    "\n",
    "# imshow\n",
    "ax.imshow(Z)"
   ]
  },
  {
   "cell_type": "markdown",
   "metadata": {},
   "source": [
    "It is hard to make that out to be a cosine function. Let's step up the resolution in the grid and see how it changes.\n",
    "\n",
    "**Images**\n",
    "\n",
    "Like density plots, plotting images amounts to visualizing 2D arrays. With real images, we can have multiple 2D ararys that specify the tonescale for a primary color, like Red, Blue and Green (RGB). Let's use the `mpimg` sub-module of matplotlib to look at some images."
   ]
  },
  {
   "cell_type": "code",
   "execution_count": null,
   "metadata": {
    "collapsed": true
   },
   "outputs": [],
   "source": [
    "import matplotlib.image as mpimg"
   ]
  },
  {
   "cell_type": "code",
   "execution_count": null,
   "metadata": {},
   "outputs": [],
   "source": [
    "# read the image data into an array\n",
    "img = mpimg.imread('imgs/maru.jpg')\n",
    "\n",
    "print(img.shape)"
   ]
  },
  {
   "cell_type": "markdown",
   "metadata": {},
   "source": [
    "We see that the image data contains a set of three images, each one for a tonescale on Red, Green and Blue (RGB). Let's use the `imshow()` function to look at **just one of these**, and for intuition we will just use a grayscale colormap."
   ]
  },
  {
   "cell_type": "code",
   "execution_count": null,
   "metadata": {},
   "outputs": [],
   "source": [
    "# figure\n",
    "fig = plt.figure(figsize=(8,7))\n",
    "ax=fig.add_subplot(1, 1, 1)\n",
    "cax = ax.imshow(img[:, :, 0], cmap='Greys_r')"
   ]
  },
  {
   "cell_type": "markdown",
   "metadata": {},
   "source": [
    "Now let's zoom in on the cat's face by slicing the array."
   ]
  },
  {
   "cell_type": "code",
   "execution_count": null,
   "metadata": {},
   "outputs": [],
   "source": [
    "# figure\n",
    "fig = plt.figure(figsize=(8,7))\n",
    "ax=fig.add_subplot(1, 1, 1)\n",
    "ax.imshow(img[70:150, 180:260, 0], cmap='Greys_r')"
   ]
  },
  {
   "cell_type": "markdown",
   "metadata": {},
   "source": [
    "The cat doesn't look very happy. By zooming in so far, one can evidently see the pixellation that occurs because we are looking at a 2D array in reality (like the 2D histograms and density plots). We can ask `imshow` to interpolate between pixels to smooth this out a little."
   ]
  },
  {
   "cell_type": "code",
   "execution_count": null,
   "metadata": {},
   "outputs": [],
   "source": [
    "# figure\n",
    "fig = plt.figure(figsize=(8,7))\n",
    "ax=fig.add_subplot(1, 1, 1)\n",
    "cax = ax.imshow(img[70:150, 180:260, 0], cmap='Greys_r', interpolation='bilinear')\n",
    "fig.colorbar(cax)"
   ]
  },
  {
   "cell_type": "markdown",
   "metadata": {},
   "source": [
    "In order to see more structure in the nose area, we should choose a colormap that has a quicker color gradient."
   ]
  },
  {
   "cell_type": "code",
   "execution_count": null,
   "metadata": {},
   "outputs": [],
   "source": [
    "# figure\n",
    "fig = plt.figure(figsize=(8,7))\n",
    "ax=fig.add_subplot(1, 1, 1)\n",
    "cax = ax.imshow(img[70:150, 180:260, 0], cmap='Spectral', interpolation='bilinear')\n",
    "fig.colorbar(cax)"
   ]
  },
  {
   "cell_type": "markdown",
   "metadata": {},
   "source": [
    "It turns out, if given a 3D RGB array as we have it, the `imshow()` function also knows how to add the R and G and B together to get a normal looking image!"
   ]
  },
  {
   "cell_type": "code",
   "execution_count": null,
   "metadata": {},
   "outputs": [],
   "source": [
    "# figure\n",
    "fig = plt.figure(figsize=(8,7))\n",
    "ax=fig.add_subplot(1, 1, 1)\n",
    "ax.imshow(img)"
   ]
  },
  {
   "cell_type": "markdown",
   "metadata": {},
   "source": [
    "### 3D Plots\n",
    "\n",
    "We can also make 3D plots in matplotlib using a toolkit extension. See [here](http://matplotlib.org/mpl_toolkits/mplot3d/) for more examples."
   ]
  },
  {
   "cell_type": "code",
   "execution_count": null,
   "metadata": {
    "collapsed": true
   },
   "outputs": [],
   "source": [
    "from mpl_toolkits.mplot3d import Axes3D"
   ]
  },
  {
   "cell_type": "code",
   "execution_count": null,
   "metadata": {
    "collapsed": true
   },
   "outputs": [],
   "source": [
    "# generate mesh and y-values\n",
    "X,Y = np.meshgrid(np.linspace(-4,4,50), np.linspace(-4,4,50))\n",
    "R = np.sqrt(X**2 + Y**2)\n",
    "Z = np.sinc(R)"
   ]
  },
  {
   "cell_type": "code",
   "execution_count": null,
   "metadata": {},
   "outputs": [],
   "source": [
    "# figure\n",
    "fig = plt.figure(figsize=(8,8))\n",
    "ax = fig.add_subplot(1, 1, 1, projection='3d')\n",
    "\n",
    "# wireframe\n",
    "ax.plot_wireframe(X, Y, Z, alpha=0.5)"
   ]
  },
  {
   "cell_type": "markdown",
   "metadata": {},
   "source": [
    "### Breakout\n",
    "\n",
    "1.\n",
    "Going off of the below code which loads in the data from the `horsehead.pkl` file, make a 2D plot of the Horse Head nebula. You can use the `np.rot90()` function to rotate the array by 90 degrees if you like.\n",
    "\n",
    "2.\n",
    "Make a histogram of the array's values. Be sure to unravel the 2D array before taking its histogram, like `ax.hist(data.ravel(), ...)`. Do you see two distinct populations?\n",
    "\n",
    "3.\n",
    "Make a new plot of the horse head nebula, but this time use the clim=() argument within `imshow()` to select only one of the populations you found in the histogram from (2). What does each population represent in the image?"
   ]
  },
  {
   "cell_type": "code",
   "execution_count": null,
   "metadata": {
    "collapsed": true
   },
   "outputs": [],
   "source": [
    "import pickle as pkl"
   ]
  },
  {
   "cell_type": "code",
   "execution_count": null,
   "metadata": {
    "collapsed": true
   },
   "outputs": [],
   "source": [
    "with open('data/horsehead.pkl', 'rb') as f:\n",
    "    input = pkl.Unpickler(f)\n",
    "    data = input.load()"
   ]
  },
  {
   "cell_type": "code",
   "execution_count": null,
   "metadata": {
    "collapsed": true
   },
   "outputs": [],
   "source": []
  },
  {
   "cell_type": "code",
   "execution_count": null,
   "metadata": {
    "collapsed": true
   },
   "outputs": [],
   "source": []
  }
 ],
 "metadata": {
  "kernelspec": {
   "display_name": "Python 3",
   "language": "python",
   "name": "python3"
  },
  "language_info": {
   "codemirror_mode": {
    "name": "ipython",
    "version": 3
   },
   "file_extension": ".py",
   "mimetype": "text/x-python",
   "name": "python",
   "nbconvert_exporter": "python",
   "pygments_lexer": "ipython3",
   "version": "3.6.1"
  }
 },
 "nbformat": 4,
 "nbformat_minor": 2
}
