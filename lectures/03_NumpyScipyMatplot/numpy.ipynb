{
 "cells": [
  {
   "cell_type": "markdown",
   "metadata": {
    "editable": true,
    "hide_input": false,
    "solution": "hidden"
   },
   "source": [
    "## Array Operations with Numpy\n",
    "\n",
    "**Nick Kern**\n",
    "<br>\n",
    "**Astro 9: Python Programming in Astronomy**\n",
    "<br>\n",
    "**UC Berkeley**\n",
    "\n",
    "---\n",
    "\n",
    "<img src=\"imgs/numpy.jpg\" width=300px/>\n",
    "\n",
    "Now that we've covered the basic functionalities of \"pure Python\" we will move on to explore the Python packages that really make Python a powerful tool for scientific analyses. Two such packages are the Numerical Python (NumPy) package and the Scientific Computing Tools for Python (SciPy) package: if these packages didn't exist, it is unlikely that Python would be used within the scientific community to the extent it is today.\n",
    "\n",
    "In brief, Numpy is a package that provides an \"array\" data structure, and further provides modules that enable us to perform all kinds of mathematical operations (e.g., linear algebra) on those arrays. You can kind of think of a numpy array (called an `ndarray`) as a \"multidimensional container of items of the same type and size.\" Arrays can be sliced and indexed like lists, but can also be rotated, matrix multiplied, \"fancy indexed,\" transposed, etc. There are lots of things we can do with arrays.\n",
    "\n",
    "1. [Basic Array Manipulation](#Basic-Array-Manipulation)\n",
    "2. [Matrix Algebra with Numpy](#Matrix-Algebra-with-Numpy)\n",
    "3. [Speed Considerations](#Speed-Considerations)"
   ]
  },
  {
   "cell_type": "markdown",
   "metadata": {
    "editable": true
   },
   "source": [
    "### Basic Array Manipulation\n",
    "---"
   ]
  },
  {
   "cell_type": "code",
   "execution_count": 2,
   "metadata": {
    "code_folding": [],
    "collapsed": true,
    "editable": true,
    "hide_input": false
   },
   "outputs": [],
   "source": [
    "# load numpy like this\n",
    "import numpy as np"
   ]
  },
  {
   "cell_type": "markdown",
   "metadata": {
    "editable": true,
    "hide_input": true
   },
   "source": [
    "**Data Types**\n",
    "\n",
    "One prominent difference between Numpy arrays and Python lists is the fact that all elements within a Numpy array need to have the same data type. "
   ]
  },
  {
   "cell_type": "code",
   "execution_count": null,
   "metadata": {
    "collapsed": false,
    "editable": true,
    "hide_input": false
   },
   "outputs": [],
   "source": [
    "# define our first array\n",
    "arr = np.array([1, 2, 3, 4, 5])\n",
    "print(arr)\n",
    "print(arr.dtype)"
   ]
  },
  {
   "cell_type": "markdown",
   "metadata": {
    "editable": true
   },
   "source": [
    "Numpy arrays, like lists, are mutable. However, if you assign an element to have a different data type, all other elements must conform. You can do this implicitly, or explicitly."
   ]
  },
  {
   "cell_type": "code",
   "execution_count": 25,
   "metadata": {
    "collapsed": false,
    "editable": true,
    "hide_input": false
   },
   "outputs": [
    {
     "name": "stdout",
     "output_type": "stream",
     "text": [
      "[ 1.23  4.    5.    6.  ]\n",
      "float64\n"
     ]
    }
   ],
   "source": [
    "# numpy implicitly knows to convert the integers to a float\n",
    "arr = np.array([1.23, 4, 5, 6])\n",
    "print(arr)\n",
    "print(arr.dtype)"
   ]
  },
  {
   "cell_type": "code",
   "execution_count": 26,
   "metadata": {
    "collapsed": false,
    "editable": true
   },
   "outputs": [
    {
     "name": "stdout",
     "output_type": "stream",
     "text": [
      "[ 1.23+0.j  4.00+0.j  5.00+0.j  6.00+0.j]\n",
      "complex128\n"
     ]
    }
   ],
   "source": [
    "# explicity setting the data type\n",
    "arr = np.array([1.23, 4, 5, 6], dtype=np.complex)\n",
    "print(arr)\n",
    "print(arr.dtype)"
   ]
  },
  {
   "cell_type": "code",
   "execution_count": null,
   "metadata": {
    "collapsed": false,
    "editable": true
   },
   "outputs": [],
   "source": [
    "# mutability\n",
    "arr = np.array([0, 0.5, 1, 1.5, 2])\n",
    "print(arr, hex(id(arr)))\n",
    "arr[0] = -0.5\n",
    "print(arr, hex(id(arr)))"
   ]
  },
  {
   "cell_type": "code",
   "execution_count": 148,
   "metadata": {
    "collapsed": false,
    "editable": true,
    "scrolled": true
   },
   "outputs": [
    {
     "name": "stdout",
     "output_type": "stream",
     "text": [
      "[[1 2 3]\n",
      " [4 5 6]\n",
      " [7 8 9]]\n",
      "2\n",
      "(3, 3)\n"
     ]
    }
   ],
   "source": [
    "# putting the N in ndarray\n",
    "arr = np.array([ [1,2,3], [4,5,6], [7,8,9]])\n",
    "print(arr)\n",
    "print(arr.ndim)\n",
    "print(arr.shape)"
   ]
  },
  {
   "cell_type": "markdown",
   "metadata": {
    "editable": true
   },
   "source": [
    "Numpy arrays are objects, and as such have attributes and methods. Along with `.ndim` and `.shape`, other useful methods are `.astype` to convert to different data types, `.max` and `.min` for maximum and minimum values, and `.ravel` for \"unraveling\" a multi-dimensional array into a 1D array and `.resize` and `.reshape` for reshaping an array.\n",
    "\n",
    "**Easily Creating Arrays**\n",
    "\n",
    "If we want to create an array, we don't need to fill it with elements by hand. Like the `range()` function for lists, the numpy array has a *range* of functions for building arrays easily."
   ]
  },
  {
   "cell_type": "code",
   "execution_count": 111,
   "metadata": {
    "collapsed": false
   },
   "outputs": [
    {
     "data": {
      "text/plain": [
       "array([ 0,  2,  4,  6,  8, 10, 12, 14, 16, 18])"
      ]
     },
     "execution_count": 111,
     "metadata": {},
     "output_type": "execute_result"
    }
   ],
   "source": [
    "# np.arange similar to range capability\n",
    "np.arange(0, 20, 2)"
   ]
  },
  {
   "cell_type": "code",
   "execution_count": 127,
   "metadata": {
    "collapsed": false
   },
   "outputs": [
    {
     "data": {
      "text/plain": [
       "array([  0. ,   0.5,   1. ,   1.5,   2. ,   2.5,   3. ,   3.5,   4. ,\n",
       "         4.5,   5. ,   5.5,   6. ,   6.5,   7. ,   7.5,   8. ,   8.5,\n",
       "         9. ,   9.5,  10. ,  10.5,  11. ,  11.5,  12. ,  12.5,  13. ,\n",
       "        13.5,  14. ,  14.5,  15. ,  15.5,  16. ,  16.5,  17. ,  17.5,\n",
       "        18. ,  18.5,  19. ,  19.5,  20. ])"
      ]
     },
     "execution_count": 127,
     "metadata": {},
     "output_type": "execute_result"
    }
   ],
   "source": [
    "# np.linspace for specifying elements, rather than interval (it is inclusive on upper bound!)\n",
    "np.linspace(0, 20, 41)"
   ]
  },
  {
   "cell_type": "code",
   "execution_count": 135,
   "metadata": {
    "collapsed": false
   },
   "outputs": [
    {
     "data": {
      "text/plain": [
       "array([ 1.,  1.,  1.,  1.,  1.,  1.,  1.,  1.,  1.,  1.])"
      ]
     },
     "execution_count": 135,
     "metadata": {},
     "output_type": "execute_result"
    }
   ],
   "source": [
    "# list of ones\n",
    "np.ones(10)"
   ]
  },
  {
   "cell_type": "code",
   "execution_count": 136,
   "metadata": {
    "collapsed": false
   },
   "outputs": [
    {
     "data": {
      "text/plain": [
       "array([ 0.,  0.,  0.,  0.,  0.,  0.,  0.,  0.,  0.,  0.])"
      ]
     },
     "execution_count": 136,
     "metadata": {},
     "output_type": "execute_result"
    }
   ],
   "source": [
    "# list of zeros\n",
    "np.zeros(10)"
   ]
  },
  {
   "cell_type": "code",
   "execution_count": 150,
   "metadata": {
    "collapsed": false
   },
   "outputs": [
    {
     "data": {
      "text/plain": [
       "array([[ 1.,  1.,  1.,  1.,  1.],\n",
       "       [ 1.,  1.,  1.,  1.,  1.]])"
      ]
     },
     "execution_count": 150,
     "metadata": {},
     "output_type": "execute_result"
    }
   ],
   "source": [
    "# list of 2D ones\n",
    "np.ones( (2, 5) )"
   ]
  },
  {
   "cell_type": "code",
   "execution_count": 152,
   "metadata": {
    "collapsed": false
   },
   "outputs": [
    {
     "data": {
      "text/plain": [
       "array([ 0.89943441,  0.16338967,  0.79964314,  0.5034744 ,  0.20744789])"
      ]
     },
     "execution_count": 152,
     "metadata": {},
     "output_type": "execute_result"
    }
   ],
   "source": [
    "# list of random numbers from [0, 1)\n",
    "np.random.random( 5 )"
   ]
  },
  {
   "cell_type": "markdown",
   "metadata": {},
   "source": [
    "**Array Slicing and Fancy Indexing**\n",
    "\n",
    "Like lists, we can slice into a numpy array, however, with the numpy `ndarray` we can perform multi-dimensional slicing. Remember when slicing, the *start is inclusive*, while the *end is exclusive*. Note that the **zeroth axis** of a 2D array is along the vertical, and the **first axis** is along the horizontal.\n",
    "\n",
    "A quick way to generate an array is the `np.arange` function, similar to the built-in `range` function."
   ]
  },
  {
   "cell_type": "code",
   "execution_count": null,
   "metadata": {
    "collapsed": false,
    "editable": true
   },
   "outputs": [],
   "source": [
    "# Create a 4x4 array\n",
    "arr = np.arange(16)\n",
    "arr.resize(4,4)\n",
    "print(arr)"
   ]
  },
  {
   "cell_type": "code",
   "execution_count": null,
   "metadata": {
    "collapsed": false,
    "editable": true
   },
   "outputs": [],
   "source": [
    "# slice along 0th axis\n",
    "print(arr[2, :])"
   ]
  },
  {
   "cell_type": "code",
   "execution_count": null,
   "metadata": {
    "collapsed": false,
    "editable": true
   },
   "outputs": [],
   "source": [
    "# alice along 1st axis\n",
    "print(arr[:, 2])"
   ]
  },
  {
   "cell_type": "code",
   "execution_count": null,
   "metadata": {
    "collapsed": false,
    "editable": true
   },
   "outputs": [],
   "source": [
    "# take a subsection\n",
    "print(arr[1:3, 1:3])"
   ]
  },
  {
   "cell_type": "markdown",
   "metadata": {
    "editable": true,
    "solution": "hidden",
    "solution_first": true
   },
   "source": [
    "How might we slice an array to get these results?\n",
    "\n",
    "<img src=\"imgs/2D_slicing.jpg\" width=300px/>"
   ]
  },
  {
   "cell_type": "code",
   "execution_count": 3,
   "metadata": {
    "code_folding": [],
    "collapsed": false,
    "editable": true,
    "hide_input": false,
    "solution": "hidden"
   },
   "outputs": [
    {
     "name": "stdout",
     "output_type": "stream",
     "text": [
      "[[11 13 15]\n",
      " [21 23 25]\n",
      " [31 33 35]]\n",
      "---------------\n",
      "[16 21 26]\n",
      "---------------\n",
      "[12 13 14]\n",
      "---------------\n",
      "[12 17 22 27 32]\n",
      "---------------\n"
     ]
    }
   ],
   "source": [
    "# create array\n",
    "arr = np.arange(11,36)\n",
    "arr.resize(5,5)\n",
    "\n",
    "# Green\n",
    "print(arr[::2, ::2])\n",
    "print(\"-\"*15)\n",
    "\n",
    "# Blue\n",
    "print(arr[1:4, 0])\n",
    "print(\"-\"*15)\n",
    "\n",
    "# Red\n",
    "print(arr[0, 1:4])\n",
    "print(\"-\"*15)\n",
    "\n",
    "# Purple\n",
    "print(arr[:, 1])\n",
    "print(\"-\"*15)"
   ]
  },
  {
   "cell_type": "markdown",
   "metadata": {
    "editable": true
   },
   "source": [
    "Fancy indexing is like slicing, but allows us to control exactly which elements we want to pull out of the array: we aren't limited to a row (red), column (blue), or elements that are evenly space apart from each other (green). Fancy indexing essentially creates a new `ndarray` composed of any combination of the elements in the initial array. Let's say we wanted the first, second and fourth columns of our previous 2d array. We index this the same way as before, but now we feed a list instead of an integer."
   ]
  },
  {
   "cell_type": "code",
   "execution_count": null,
   "metadata": {
    "code_folding": [],
    "collapsed": false,
    "editable": true
   },
   "outputs": [],
   "source": [
    "# Take rows\n",
    "print(arr[ [0, 1, 3], : ])\n",
    "\n",
    "#print(arr[ [0, 1, 3, 3, 3, 2, 1, 0], :])"
   ]
  },
  {
   "cell_type": "code",
   "execution_count": null,
   "metadata": {
    "collapsed": false,
    "editable": true
   },
   "outputs": [],
   "source": [
    "# pick out just 16, 24 and 32\n",
    "print( arr[ [1, 2, 4], [0, 3, 1] ] )"
   ]
  },
  {
   "cell_type": "markdown",
   "metadata": {
    "collapsed": true,
    "editable": true
   },
   "source": [
    "Recall that when we performed straight assignment of lists we were copying pointers, and when we sliced lists we were creating new copies of the object. This allowed us to get around the pitfalls of mutable objects and accidental element assignment. However, for an `ndarray`, a slice creates a *view* of the original array, which is an object that has a different memory address but still *shares data* with the original array. This means that, similar to our mutable list example, we can get unexpected behavior if we are loose with how we assign our arrays and data."
   ]
  },
  {
   "cell_type": "code",
   "execution_count": null,
   "metadata": {
    "collapsed": false,
    "editable": true,
    "hide_input": false
   },
   "outputs": [],
   "source": [
    "# data manipulation example\n",
    "arr1 = np.arange(16).reshape(4,4)\n",
    "arr2 = arr1[1:3, 1:3]\n",
    "print(arr1)"
   ]
  },
  {
   "cell_type": "code",
   "execution_count": null,
   "metadata": {
    "collapsed": false,
    "editable": true
   },
   "outputs": [],
   "source": [
    "# assign to arr2\n",
    "arr2[:, :] = np.arange(100,104).reshape(2, 2)\n",
    "print(arr1)"
   ]
  },
  {
   "cell_type": "code",
   "execution_count": null,
   "metadata": {
    "collapsed": false,
    "editable": true
   },
   "outputs": [],
   "source": [
    "# create a copy by performing arithmetic, or by using .copy()\n",
    "arr1 = np.arange(16).reshape(4,4)\n",
    "arr2 = arr1[1:3, 1:3].copy()\n",
    "arr2[:, :] = np.arange(100, 104).reshape(2,2)\n",
    "print(arr1)"
   ]
  },
  {
   "cell_type": "markdown",
   "metadata": {
    "collapsed": true,
    "editable": true
   },
   "source": [
    "As well as having the same data type throughout the array, the standard numpy `ndarray` must also be rectangular. A 1D array fits this bill automatically. The 2D arrays we created above also satisfy this requirement. This is unlike lists, which can have nested lists of variable lengths. If we try to create a non-rectangular array, numpy will attempt to correct things by assigning the array an `object` data type, such that the array's functionality mimics a normal built-in `list` structure, and can data of various types. In doing so, however, we force the array to have a single dimension and lose the multi-dimensional slicing and fancy indexing properties of standard `ndarrays`."
   ]
  },
  {
   "cell_type": "code",
   "execution_count": null,
   "metadata": {
    "collapsed": false,
    "editable": true
   },
   "outputs": [],
   "source": [
    "# non-rectangular array\n",
    "arr = np.array( [ [1,2,3,4], ['5',6.0], [(7 + 1j),8,9] ])\n",
    "print(arr)\n",
    "print(arr.dtype)\n",
    "print(arr.shape)\n",
    "print(arr.ndim)"
   ]
  },
  {
   "cell_type": "code",
   "execution_count": null,
   "metadata": {
    "collapsed": false,
    "editable": true,
    "hide_input": false
   },
   "outputs": [],
   "source": [
    "# try to multi-dim slice\n",
    "arr[:, :1]"
   ]
  },
  {
   "cell_type": "markdown",
   "metadata": {
    "editable": true
   },
   "source": [
    "**Fancy Indexing with Boolean Arrays and the `np.where` function**\n",
    "\n",
    "Comparison operators on an `ndarray` will yield another `ndarray` with a boolean data type. The boolean array is the same shape as the original array, and is `True` where the condition is met and `False` where it isn't. We can then fancy index with these arrays to eliminate elements that don't conform. This is a fast and easy way to pick through an array for desired elements. Take the following example."
   ]
  },
  {
   "cell_type": "code",
   "execution_count": 15,
   "metadata": {
    "collapsed": false,
    "editable": true
   },
   "outputs": [
    {
     "name": "stdout",
     "output_type": "stream",
     "text": [
      "[[ 0  1  2  3  4]\n",
      " [ 5  6  7  8  9]\n",
      " [10 11 12 13 14]\n",
      " [15 16 17 18 19]\n",
      " [20 21 22 23 24]]\n"
     ]
    }
   ],
   "source": [
    "# Create an array\n",
    "arr = np.arange(25).reshape(5, 5)\n",
    "print(arr)"
   ]
  },
  {
   "cell_type": "code",
   "execution_count": 16,
   "metadata": {
    "collapsed": false,
    "editable": true
   },
   "outputs": [
    {
     "name": "stdout",
     "output_type": "stream",
     "text": [
      "[[False False False False False]\n",
      " [False False False False False]\n",
      " [False  True  True  True  True]\n",
      " [ True  True  True  True  True]\n",
      " [ True  True  True  True  True]]\n"
     ]
    }
   ],
   "source": [
    "# Create mask\n",
    "mask = arr > 10\n",
    "print(mask)"
   ]
  },
  {
   "cell_type": "code",
   "execution_count": 17,
   "metadata": {
    "collapsed": false,
    "editable": true
   },
   "outputs": [
    {
     "data": {
      "text/plain": [
       "array([11, 12, 13, 14, 15, 16, 17, 18, 19, 20, 21, 22, 23, 24])"
      ]
     },
     "execution_count": 17,
     "metadata": {},
     "output_type": "execute_result"
    }
   ],
   "source": [
    "# select out elements\n",
    "arr[mask]"
   ]
  },
  {
   "cell_type": "markdown",
   "metadata": {
    "editable": true
   },
   "source": [
    "Why do the results come back in an \"unraveled\" form? Exactly because of what we said above, which is that for an `ndarray` to maintain a standard data type, it must be rectangular, which we have explicitly broken by deleting the upper half of our original 2D array. The only remaining geometry that still satisfies \"rectangularity\" is a 1D array. What if we wanted to maintain the 2D structure and, instead of deleting the `False` elements, replaced them with some other number, say perhaps zero. This is where the `np.where` statement comes in. \n",
    "\n",
    "The `np.where` statement can be used in two different ways. The first way accomplishes the same thing as the boolean mask, in that you feed the where statement a condition, it returns a set of lists which you can then feed into array to fancy index only the elements you wanted. The difference here is that instead of returning a boolean array of the same dimension as your original, it returns a series of lists with indices, which performs fancy indexing similar to how we originally did it. It looks something like this:"
   ]
  },
  {
   "cell_type": "code",
   "execution_count": 18,
   "metadata": {
    "collapsed": false,
    "editable": true
   },
   "outputs": [
    {
     "name": "stdout",
     "output_type": "stream",
     "text": [
      "(array([2, 2, 2, 2, 3, 3, 3, 3, 3, 4, 4, 4, 4, 4]), array([1, 2, 3, 4, 0, 1, 2, 3, 4, 0, 1, 2, 3, 4]))\n",
      "\n",
      "[11 12 13 14 15 16 17 18 19 20 21 22 23 24]\n"
     ]
    }
   ],
   "source": [
    "# fancy indexing with np.where\n",
    "fancy = np.where(arr > 10)\n",
    "print(fancy)\n",
    "print(\"\")\n",
    "print(arr[fancy])"
   ]
  },
  {
   "cell_type": "markdown",
   "metadata": {
    "editable": true
   },
   "source": [
    "What's nice about this way of fancy indexing, is that you also get the indices of the desired elements from the original array, which may be useful or necessary depending on what you are doing. The other way of using `np.where` is to perform a true masking of the original array, while keeping its structure intact and assigning the `False` elements some pre-defined value. It looks something like this:"
   ]
  },
  {
   "cell_type": "code",
   "execution_count": 19,
   "metadata": {
    "collapsed": false,
    "editable": true
   },
   "outputs": [
    {
     "data": {
      "text/plain": [
       "array([[  0.,   1.,   2.,   3.,   4.],\n",
       "       [  5.,   6.,   7.,   8.,   9.],\n",
       "       [ nan,  nan,  nan,  nan,  nan],\n",
       "       [ nan,  nan,  nan,  nan,  nan],\n",
       "       [ nan,  nan,  nan,  nan,  nan]])"
      ]
     },
     "execution_count": 19,
     "metadata": {},
     "output_type": "execute_result"
    }
   ],
   "source": [
    "# true masking\n",
    "np.where(arr < 10, arr, np.nan)"
   ]
  },
  {
   "cell_type": "markdown",
   "metadata": {
    "collapsed": true,
    "editable": true
   },
   "source": [
    "Here the syntax is\n",
    "```\n",
    "np.where(<condition>, if True value, if False value)\n",
    "```\n",
    "\n",
    "You can see that the original array is neatly kept intact and we can clearly see which elements are undesired. We introduced a new type in doing so, the numpy NaN, or Not a Number. \n",
    "\n",
    "**The Numpy NaN**\n",
    "\n",
    "NaNs can be both helpful and extremely annoying to deal with at the same time. What's nice about them is that they are definitely not a number, meaning that if you are uncomfortable about masking with a 0, `np.inf`, or some other number, you can mask with a `np.nan` and your array will retain its data type. You couldn't, for example, mask with a `None` type and retain an arbitrary data type (try it!). However, as we will see when we get to array arithmetic, performing arithmetic over arrays that have even a single `np.nan` can mess up your whole code. For example:"
   ]
  },
  {
   "cell_type": "code",
   "execution_count": 99,
   "metadata": {
    "collapsed": false,
    "editable": true
   },
   "outputs": [
    {
     "name": "stdout",
     "output_type": "stream",
     "text": [
      "45.0\n"
     ]
    }
   ],
   "source": [
    "# sum the elements of this array!\n",
    "arr = np.arange(10.0)\n",
    "print(np.sum(arr))"
   ]
  },
  {
   "cell_type": "code",
   "execution_count": 100,
   "metadata": {
    "collapsed": false,
    "editable": true
   },
   "outputs": [
    {
     "name": "stdout",
     "output_type": "stream",
     "text": [
      "[ nan   1.   2.   3.   4.   5.   6.   7.   8.   9.]\n",
      "\n",
      "nan\n"
     ]
    }
   ],
   "source": [
    "# sum when one element is a nan\n",
    "arr[0] = np.nan\n",
    "\n",
    "print(arr)\n",
    "\n",
    "print(\"\")\n",
    "\n",
    "print(np.sum(arr))"
   ]
  },
  {
   "cell_type": "markdown",
   "metadata": {
    "collapsed": true,
    "editable": true
   },
   "source": [
    "What's doubly annoying, is that, for whatever reason, they don't obey comparison operators. Meaning that if you have a large array with one or two `np.nan`s in them, you can't search for them with a `np.where(arr == np.nan)` statement. Howevever, the good people at NumPy anticipated this and provide us with the `np.isnan` function, which is like a special `np.where` function that works specially for `np.nan` types. Instead of returning indices, as the `np.where` statement returns, it returns a boolean array."
   ]
  },
  {
   "cell_type": "code",
   "execution_count": 9,
   "metadata": {
    "collapsed": false,
    "editable": true
   },
   "outputs": [
    {
     "name": "stdout",
     "output_type": "stream",
     "text": [
      "[ True False False False False False False False False False]\n"
     ]
    }
   ],
   "source": [
    "# make a np.nan mask\n",
    "mask = np.isnan(arr)\n",
    "print(mask)"
   ]
  },
  {
   "cell_type": "code",
   "execution_count": 10,
   "metadata": {
    "collapsed": false,
    "editable": true
   },
   "outputs": [
    {
     "data": {
      "text/plain": [
       "45.0"
      ]
     },
     "execution_count": 10,
     "metadata": {},
     "output_type": "execute_result"
    }
   ],
   "source": [
    "# perform sum w/ np.nan masked!\n",
    "np.sum( arr[~mask] )"
   ]
  },
  {
   "cell_type": "markdown",
   "metadata": {
    "collapsed": true,
    "editable": true
   },
   "source": [
    "Notice we reversed the booleans in order to turn it into a proper mask before summing.\n",
    "\n",
    "It turns out there are also `np.nan`-safe functions within Numpy that can also do this without us having to think too hard, like `np.nansum`.\n",
    "\n",
    "In addition, there is an entire sub-module within numpy, called `ma` for Masked Arrays, that automates this and makes handling masked numpy `ndarrays` much easier. Check it out sometime! We may come back to it later in the course."
   ]
  },
  {
   "cell_type": "markdown",
   "metadata": {
    "editable": true
   },
   "source": [
    "**Array Concatening and Splitting**\n",
    "\n",
    "Let's now look at ways in which we can combined (or concatenate) arrays and split them up. Recall that with lists and tuples, we did this with a simple addition operator `+`. With numpy arrays, as we will see, we will want to reserve that for actual arithmetic. There are multiple ways to concatenate arrays, depending on how you'd like to combine them.\n",
    "\n",
    "1.) The most straightforward way is to just create a new `np.array` object wrapped around the constituent arrays."
   ]
  },
  {
   "cell_type": "code",
   "execution_count": 63,
   "metadata": {
    "collapsed": false,
    "editable": true
   },
   "outputs": [
    {
     "name": "stdout",
     "output_type": "stream",
     "text": [
      "[[ 0  1  2  3  4  5  6  7  8  9]\n",
      " [10 11 12 13 14 15 16 17 18 19]\n",
      " [20 21 22 23 24 25 26 27 28 29]]\n"
     ]
    }
   ],
   "source": [
    "# this will stack along the zeroth axis\n",
    "arr1 = np.arange(10)\n",
    "arr2 = np.arange(10, 20)\n",
    "arr3 = np.arange(20,30)\n",
    "big_arr = np.array([arr1, arr2, arr3])\n",
    "print(big_arr)"
   ]
  },
  {
   "cell_type": "code",
   "execution_count": 64,
   "metadata": {
    "collapsed": false,
    "editable": true
   },
   "outputs": [
    {
     "data": {
      "text/plain": [
       "(3, 10)"
      ]
     },
     "execution_count": 64,
     "metadata": {},
     "output_type": "execute_result"
    }
   ],
   "source": [
    "# what is the shape of big_arr?\n",
    "big_arr.shape"
   ]
  },
  {
   "cell_type": "markdown",
   "metadata": {
    "collapsed": true,
    "editable": true
   },
   "source": [
    "2.) We can also use the `np.vstack` method, which stacks along the zeroth axis, similar to before."
   ]
  },
  {
   "cell_type": "code",
   "execution_count": 56,
   "metadata": {
    "collapsed": false,
    "editable": true
   },
   "outputs": [
    {
     "data": {
      "text/plain": [
       "array([[ 0,  1,  2,  3,  4,  5,  6,  7,  8,  9],\n",
       "       [10, 11, 12, 13, 14, 15, 16, 17, 18, 19],\n",
       "       [20, 21, 22, 23, 24, 25, 26, 27, 28, 29]])"
      ]
     },
     "execution_count": 56,
     "metadata": {},
     "output_type": "execute_result"
    }
   ],
   "source": [
    "np.vstack([arr1, arr2, arr3])"
   ]
  },
  {
   "cell_type": "markdown",
   "metadata": {
    "editable": true
   },
   "source": [
    "3.) Use `np.hstack`, which stacks along the first axis (similar to `list.extend`)"
   ]
  },
  {
   "cell_type": "code",
   "execution_count": 65,
   "metadata": {
    "collapsed": false,
    "editable": true
   },
   "outputs": [
    {
     "data": {
      "text/plain": [
       "array([ 0,  1,  2,  3,  4,  5,  6,  7,  8,  9, 10, 11, 12, 13, 14, 15, 16,\n",
       "       17, 18, 19, 20, 21, 22, 23, 24, 25, 26, 27, 28, 29])"
      ]
     },
     "execution_count": 65,
     "metadata": {},
     "output_type": "execute_result"
    }
   ],
   "source": [
    "np.hstack([arr1, arr2, arr3])"
   ]
  },
  {
   "cell_type": "markdown",
   "metadata": {
    "editable": true
   },
   "source": [
    "4.) Use `np.dstack`, which stacks along the second axis"
   ]
  },
  {
   "cell_type": "code",
   "execution_count": 97,
   "metadata": {
    "collapsed": false,
    "editable": true,
    "solution": "hidden"
   },
   "outputs": [
    {
     "ename": "ValueError",
     "evalue": "all the input array dimensions except for the concatenation axis must match exactly",
     "output_type": "error",
     "traceback": [
      "\u001b[0;31m---------------------------------------------------------------------------\u001b[0m",
      "\u001b[0;31mValueError\u001b[0m                                Traceback (most recent call last)",
      "\u001b[0;32m<ipython-input-97-74f99af14533>\u001b[0m in \u001b[0;36m<module>\u001b[0;34m()\u001b[0m\n\u001b[0;32m----> 1\u001b[0;31m \u001b[0mnp\u001b[0m\u001b[0;34m.\u001b[0m\u001b[0mdstack\u001b[0m\u001b[0;34m(\u001b[0m\u001b[0;34m[\u001b[0m\u001b[0marr1\u001b[0m\u001b[0;34m,\u001b[0m \u001b[0marr2\u001b[0m\u001b[0;34m]\u001b[0m\u001b[0;34m)\u001b[0m\u001b[0;34m\u001b[0m\u001b[0m\n\u001b[0m",
      "\u001b[0;32m/Users/nkern/Library/anaconda2/envs/py3k/lib/python3.5/site-packages/numpy/lib/shape_base.py\u001b[0m in \u001b[0;36mdstack\u001b[0;34m(tup)\u001b[0m\n\u001b[1;32m    366\u001b[0m \u001b[0;34m\u001b[0m\u001b[0m\n\u001b[1;32m    367\u001b[0m     \"\"\"\n\u001b[0;32m--> 368\u001b[0;31m     \u001b[0;32mreturn\u001b[0m \u001b[0m_nx\u001b[0m\u001b[0;34m.\u001b[0m\u001b[0mconcatenate\u001b[0m\u001b[0;34m(\u001b[0m\u001b[0;34m[\u001b[0m\u001b[0matleast_3d\u001b[0m\u001b[0;34m(\u001b[0m\u001b[0m_m\u001b[0m\u001b[0;34m)\u001b[0m \u001b[0;32mfor\u001b[0m \u001b[0m_m\u001b[0m \u001b[0;32min\u001b[0m \u001b[0mtup\u001b[0m\u001b[0;34m]\u001b[0m\u001b[0;34m,\u001b[0m \u001b[0;36m2\u001b[0m\u001b[0;34m)\u001b[0m\u001b[0;34m\u001b[0m\u001b[0m\n\u001b[0m\u001b[1;32m    369\u001b[0m \u001b[0;34m\u001b[0m\u001b[0m\n\u001b[1;32m    370\u001b[0m \u001b[0;32mdef\u001b[0m \u001b[0m_replace_zero_by_x_arrays\u001b[0m\u001b[0;34m(\u001b[0m\u001b[0msub_arys\u001b[0m\u001b[0;34m)\u001b[0m\u001b[0;34m:\u001b[0m\u001b[0;34m\u001b[0m\u001b[0m\n",
      "\u001b[0;31mValueError\u001b[0m: all the input array dimensions except for the concatenation axis must match exactly"
     ]
    }
   ],
   "source": [
    "np.dstack([arr1, arr2])"
   ]
  },
  {
   "cell_type": "markdown",
   "metadata": {
    "editable": true
   },
   "source": [
    "The `np.append` works similarly to the above functions.\n",
    "\n",
    "We can also split arrays, and there are the `np.split`, `np.vsplit`, `np.hsplit` and `np.dsplit` functions to do just this. Let's look at the `np.split` function as an example."
   ]
  },
  {
   "cell_type": "code",
   "execution_count": 87,
   "metadata": {
    "collapsed": false,
    "editable": true
   },
   "outputs": [
    {
     "name": "stdout",
     "output_type": "stream",
     "text": [
      "[[ 0  1  2  3]\n",
      " [ 4  5  6  7]\n",
      " [ 8  9 10 11]\n",
      " [12 13 14 15]]\n"
     ]
    }
   ],
   "source": [
    "# create a 4x4 array\n",
    "arr = np.arange(16).reshape(4,4)\n",
    "print(arr)"
   ]
  },
  {
   "cell_type": "code",
   "execution_count": 97,
   "metadata": {
    "collapsed": false,
    "editable": true
   },
   "outputs": [
    {
     "data": {
      "text/plain": [
       "[array([[ 0,  1],\n",
       "        [ 4,  5],\n",
       "        [ 8,  9],\n",
       "        [12, 13]]), array([[ 2,  3],\n",
       "        [ 6,  7],\n",
       "        [10, 11],\n",
       "        [14, 15]])]"
      ]
     },
     "execution_count": 97,
     "metadata": {},
     "output_type": "execute_result"
    }
   ],
   "source": [
    "# split it!\n",
    "np.split(arr, 2, axis=1)"
   ]
  },
  {
   "cell_type": "markdown",
   "metadata": {
    "editable": true
   },
   "source": [
    "**Array Arithmetic and Broadcasting**\n",
    "\n",
    "One of the great things about arrays is our ability to perform math on them, element-by-element. This occurs exactly as you might suspect: a scalar times an array is just another array with its elements multiplied by that scalar. Let's briefly review. Note that in the case of array-array arithmetic, the arrays need to have the same size! Otherwise, Numpy doesn't know how to match up the excess indices."
   ]
  },
  {
   "cell_type": "code",
   "execution_count": 14,
   "metadata": {
    "collapsed": false
   },
   "outputs": [
    {
     "name": "stdout",
     "output_type": "stream",
     "text": [
      "[0 1 2 3 4 5 6 7 8 9]\n",
      "[10 11 12 13 14 15 16 17 18 19]\n"
     ]
    }
   ],
   "source": [
    "# array arithmetic\n",
    "arr1 = np.arange(10)\n",
    "arr2 = np.arange(10,20)\n",
    "print(arr1)\n",
    "print(arr2)"
   ]
  },
  {
   "cell_type": "code",
   "execution_count": 15,
   "metadata": {
    "collapsed": false
   },
   "outputs": [
    {
     "data": {
      "text/plain": [
       "array([  0,  11,  24,  39,  56,  75,  96, 119, 144, 171])"
      ]
     },
     "execution_count": 15,
     "metadata": {},
     "output_type": "execute_result"
    }
   ],
   "source": [
    "# arr * arr multiplication\n",
    "arr1 * arr2"
   ]
  },
  {
   "cell_type": "code",
   "execution_count": 7,
   "metadata": {
    "collapsed": false
   },
   "outputs": [
    {
     "data": {
      "text/plain": [
       "array([10, 12, 14, 16, 18, 20, 22, 24, 26, 28])"
      ]
     },
     "execution_count": 7,
     "metadata": {},
     "output_type": "execute_result"
    }
   ],
   "source": [
    "# arr + arr addition\n",
    "arr1 + arr2"
   ]
  },
  {
   "cell_type": "code",
   "execution_count": 18,
   "metadata": {
    "collapsed": false
   },
   "outputs": [
    {
     "data": {
      "text/plain": [
       "array([ 5. ,  5.5,  6. ,  6.5,  7. ,  7.5,  8. ,  8.5,  9. ,  9.5])"
      ]
     },
     "execution_count": 18,
     "metadata": {},
     "output_type": "execute_result"
    }
   ],
   "source": [
    "# arr / scalar division\n",
    "arr2 / 2.0"
   ]
  },
  {
   "cell_type": "markdown",
   "metadata": {
    "editable": true
   },
   "source": [
    "There are sometimes exceptions to the rule I stated above, that for array arithmetic to work the arrays need to have the same shape. The exceptions are when Numpy can identify what it thinks you are trying to do, performs the array operations efficiently w/o making extra copies of data, and extends the resultant array to match what it thinks you are doing. One example of this is what we just did: scalar - array arithmetic! In this case, numpy knows that we we mean by `arr2 / 2.0` is actually `arr2 / array([2.0, 2.0, ..., 2.0])`. Here, numpy \"broadcasts\" the 2.0 into an array and performs the operations element-by-element as we would expect. Broadcasting can also work between arrays of different shapes, exemplified by the figure below.\n",
    "\n",
    "<img src=\"imgs/broadcast.png\" width=600px/>\n",
    "\n",
    "Do we expect the following broadcasting operations to work?"
   ]
  },
  {
   "cell_type": "code",
   "execution_count": 144,
   "metadata": {
    "collapsed": false,
    "editable": true
   },
   "outputs": [
    {
     "data": {
      "text/plain": [
       "array([[ 2.,  2.,  2.],\n",
       "       [ 2.,  2.,  2.]])"
      ]
     },
     "execution_count": 144,
     "metadata": {},
     "output_type": "execute_result"
    }
   ],
   "source": [
    "arr1 = np.ones( (2, 3) )\n",
    "arr2 = np.ones( (2, 1) )\n",
    "\n",
    "arr1 + arr2"
   ]
  },
  {
   "cell_type": "code",
   "execution_count": 145,
   "metadata": {
    "collapsed": false
   },
   "outputs": [
    {
     "ename": "ValueError",
     "evalue": "operands could not be broadcast together with shapes (2,3) (2,) ",
     "output_type": "error",
     "traceback": [
      "\u001b[0;31m---------------------------------------------------------------------------\u001b[0m",
      "\u001b[0;31mValueError\u001b[0m                                Traceback (most recent call last)",
      "\u001b[0;32m<ipython-input-145-0775179831b1>\u001b[0m in \u001b[0;36m<module>\u001b[0;34m()\u001b[0m\n\u001b[1;32m      2\u001b[0m \u001b[0marr2\u001b[0m \u001b[0;34m=\u001b[0m \u001b[0mnp\u001b[0m\u001b[0;34m.\u001b[0m\u001b[0mones\u001b[0m\u001b[0;34m(\u001b[0m \u001b[0;36m2\u001b[0m \u001b[0;34m)\u001b[0m\u001b[0;34m\u001b[0m\u001b[0m\n\u001b[1;32m      3\u001b[0m \u001b[0;34m\u001b[0m\u001b[0m\n\u001b[0;32m----> 4\u001b[0;31m \u001b[0marr1\u001b[0m \u001b[0;34m+\u001b[0m \u001b[0marr2\u001b[0m\u001b[0;34m\u001b[0m\u001b[0m\n\u001b[0m",
      "\u001b[0;31mValueError\u001b[0m: operands could not be broadcast together with shapes (2,3) (2,) "
     ]
    }
   ],
   "source": [
    "arr1 = np.ones( (2, 3) )\n",
    "arr2 = np.ones( 2 )\n",
    "\n",
    "arr1 + arr2"
   ]
  },
  {
   "cell_type": "code",
   "execution_count": 147,
   "metadata": {
    "collapsed": false
   },
   "outputs": [
    {
     "data": {
      "text/plain": [
       "array([[ 2.,  2.,  2.],\n",
       "       [ 2.,  2.,  2.]])"
      ]
     },
     "execution_count": 147,
     "metadata": {},
     "output_type": "execute_result"
    }
   ],
   "source": [
    "arr1 = np.ones( (2, 3) )\n",
    "arr2 = np.ones( 3 )\n",
    "\n",
    "arr1 + arr2"
   ]
  },
  {
   "cell_type": "markdown",
   "metadata": {
    "editable": true
   },
   "source": [
    "### Breakout\n",
    "---\n",
    "\n"
   ]
  },
  {
   "cell_type": "code",
   "execution_count": null,
   "metadata": {
    "collapsed": true,
    "editable": true
   },
   "outputs": [],
   "source": []
  },
  {
   "cell_type": "markdown",
   "metadata": {
    "collapsed": true,
    "editable": true
   },
   "source": [
    "### Matrix Algebra with Numpy\n",
    "---"
   ]
  },
  {
   "cell_type": "code",
   "execution_count": null,
   "metadata": {
    "collapsed": true,
    "editable": true
   },
   "outputs": [],
   "source": []
  },
  {
   "cell_type": "code",
   "execution_count": null,
   "metadata": {
    "collapsed": true,
    "editable": true
   },
   "outputs": [],
   "source": []
  },
  {
   "cell_type": "code",
   "execution_count": null,
   "metadata": {
    "collapsed": true,
    "editable": true
   },
   "outputs": [],
   "source": []
  },
  {
   "cell_type": "code",
   "execution_count": null,
   "metadata": {
    "collapsed": true,
    "editable": true
   },
   "outputs": [],
   "source": []
  },
  {
   "cell_type": "code",
   "execution_count": null,
   "metadata": {
    "collapsed": true,
    "editable": true
   },
   "outputs": [],
   "source": []
  },
  {
   "cell_type": "markdown",
   "metadata": {
    "editable": true
   },
   "source": [
    "### Breakout\n",
    "---"
   ]
  },
  {
   "cell_type": "code",
   "execution_count": null,
   "metadata": {
    "collapsed": true,
    "editable": true
   },
   "outputs": [],
   "source": []
  },
  {
   "cell_type": "markdown",
   "metadata": {
    "editable": true
   },
   "source": [
    "### Speed Considerations\n",
    "---\n"
   ]
  },
  {
   "cell_type": "code",
   "execution_count": null,
   "metadata": {
    "collapsed": true,
    "editable": true
   },
   "outputs": [],
   "source": []
  },
  {
   "cell_type": "code",
   "execution_count": null,
   "metadata": {
    "collapsed": false,
    "editable": true
   },
   "outputs": [],
   "source": [
    "# generating a blank million-element array\n",
    "\n",
    "%timeit np.empty(1000000)\n",
    "\n",
    "%timeit np.zeros(1000000)"
   ]
  },
  {
   "cell_type": "code",
   "execution_count": null,
   "metadata": {
    "collapsed": true,
    "editable": true
   },
   "outputs": [],
   "source": []
  },
  {
   "cell_type": "code",
   "execution_count": null,
   "metadata": {
    "collapsed": true,
    "editable": true
   },
   "outputs": [],
   "source": [
    "# view / copy difference\n",
    "N = 1000000\n",
    "l1 = list(range(N))\n",
    "a1 = np.arange(N)\n",
    "\n",
    "%timeit l2 = l1[:]\n",
    "%timeit a2 = a1[:]"
   ]
  },
  {
   "cell_type": "markdown",
   "metadata": {
    "collapsed": true,
    "editable": true
   },
   "source": [
    "While traditional slicing of and `ndarray` creates a view, fancy indexing creates a copy, meaning it is significantly slower when operating over large arrays."
   ]
  },
  {
   "cell_type": "code",
   "execution_count": null,
   "metadata": {
    "collapsed": true,
    "editable": true
   },
   "outputs": [],
   "source": [
    "# slicing / fancy indexing difference\n",
    "arr = np.arange(1000000)\n",
    "\n",
    "# slicing\n",
    "%timeit arr[1000:100000]\n",
    "\n",
    "# fancy indexing w/ a list\n",
    "%timeit arr[range(1000, 100000)]"
   ]
  },
  {
   "cell_type": "code",
   "execution_count": null,
   "metadata": {
    "collapsed": true,
    "editable": true
   },
   "outputs": [],
   "source": []
  },
  {
   "cell_type": "code",
   "execution_count": 24,
   "metadata": {
    "collapsed": false,
    "editable": true
   },
   "outputs": [
    {
     "name": "stdout",
     "output_type": "stream",
     "text": [
      "100 loops, best of 3: 3.91 ms per loop\n",
      "10000 loops, best of 3: 48.9 µs per loop\n"
     ]
    }
   ],
   "source": [
    "# ufuncs for numpy arrays: array arithmetic is much faster than a simple FOR loop\n",
    "def recipricol(values):\n",
    "    # initialize empty array\n",
    "    recips = np.empty( len(values) )\n",
    "    # use enumerate for a fancy FOR loop\n",
    "    for i, val in enumerate(values):\n",
    "        recips[i] = 1.0 / val\n",
    "    # return output\n",
    "    return recips\n",
    "\n",
    "arr = np.arange(1., 10000.)\n",
    "%timeit recipricol( arr )\n",
    "%timeit 1 / arr\n",
    "\n"
   ]
  },
  {
   "cell_type": "code",
   "execution_count": 61,
   "metadata": {
    "collapsed": false,
    "editable": true
   },
   "outputs": [
    {
     "name": "stdout",
     "output_type": "stream",
     "text": [
      "The slowest run took 4.78 times longer than the fastest. This could mean that an intermediate result is being cached.\n",
      "100000 loops, best of 3: 8.93 µs per loop\n"
     ]
    }
   ],
   "source": [
    "def outer_bc(a):\n",
    "    a.reshape(-1, 1) * a.reshape(1, -1)\n",
    "    \n",
    "%timeit outer_bc(a)"
   ]
  },
  {
   "cell_type": "code",
   "execution_count": 70,
   "metadata": {
    "collapsed": false
   },
   "outputs": [
    {
     "data": {
      "text/plain": [
       "array([[0, 0, 0, 0, 0, 0, 0, 0, 0, 0],\n",
       "       [1, 1, 1, 1, 1, 1, 1, 1, 1, 1],\n",
       "       [2, 2, 2, 2, 2, 2, 2, 2, 2, 2],\n",
       "       [3, 3, 3, 3, 3, 3, 3, 3, 3, 3],\n",
       "       [4, 4, 4, 4, 4, 4, 4, 4, 4, 4],\n",
       "       [5, 5, 5, 5, 5, 5, 5, 5, 5, 5],\n",
       "       [6, 6, 6, 6, 6, 6, 6, 6, 6, 6],\n",
       "       [7, 7, 7, 7, 7, 7, 7, 7, 7, 7],\n",
       "       [8, 8, 8, 8, 8, 8, 8, 8, 8, 8],\n",
       "       [9, 9, 9, 9, 9, 9, 9, 9, 9, 9]])"
      ]
     },
     "execution_count": 70,
     "metadata": {},
     "output_type": "execute_result"
    }
   ],
   "source": [
    "np.tile(a, (N, 1)).T"
   ]
  },
  {
   "cell_type": "code",
   "execution_count": 72,
   "metadata": {
    "collapsed": false
   },
   "outputs": [
    {
     "name": "stdout",
     "output_type": "stream",
     "text": [
      "The slowest run took 8.41 times longer than the fastest. This could mean that an intermediate result is being cached.\n",
      "10000 loops, best of 3: 44.2 µs per loop\n",
      "10000 loops, best of 3: 89.2 µs per loop\n"
     ]
    }
   ],
   "source": [
    "# broadcasting speed for outer product\n",
    "def outer_bc(a):\n",
    "    return a.reshape(-1, 1) * a.reshape(1, -1)\n",
    "    \n",
    "def outer_tile(a):\n",
    "    return np.tile(a, (N, 1)) * np.tile(a, (N, 1)).T\n",
    "    \n",
    "N = 100\n",
    "arr = np.arange(N)\n",
    "\n",
    "%timeit outer_bc(arr)\n",
    "%timeit outer_tile(arr)"
   ]
  },
  {
   "cell_type": "code",
   "execution_count": null,
   "metadata": {
    "collapsed": true
   },
   "outputs": [],
   "source": []
  },
  {
   "cell_type": "markdown",
   "metadata": {},
   "source": [
    "### Breakout\n",
    "---\n",
    "\n"
   ]
  },
  {
   "cell_type": "code",
   "execution_count": null,
   "metadata": {
    "collapsed": true,
    "editable": true
   },
   "outputs": [],
   "source": []
  }
 ],
 "metadata": {
  "anaconda-cloud": {},
  "kernelspec": {
   "display_name": "Python [py3k]",
   "language": "python",
   "name": "Python [py3k]"
  },
  "language_info": {
   "codemirror_mode": {
    "name": "ipython",
    "version": 3
   },
   "file_extension": ".py",
   "mimetype": "text/x-python",
   "name": "python",
   "nbconvert_exporter": "python",
   "pygments_lexer": "ipython3",
   "version": "3.5.2"
  }
 },
 "nbformat": 4,
 "nbformat_minor": 0
}
