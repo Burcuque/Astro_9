{
 "cells": [
  {
   "cell_type": "markdown",
   "metadata": {},
   "source": [
    "## Brief Review of Python Material\n",
    "\n",
    "We've covered a lot of ground since we first started talking about the Python language. In this mini-review, I want to review some of the big concepts and go over some worked examples of the material. This **is not an exhaustive** review, and you will want to become familiar with all of the material covered in lectures and homeworks up till now. This is a good time to get clarification on topics that will be the building blocks for the rest of the course and, if you continue to program in Python after the class, the basis of your workflow in Python. First, let's come back to the statement we saw in the first lecture.\n",
    "\n",
    "> \"Python is an interpreted, object-oriented, high-level programming language with dynamic semantics.\"\n",
    "<br>\n",
    "> -- https://www.python.org/doc/essays/blurb/\n",
    "\n",
    "Let's also think about the Zen of Python:"
   ]
  },
  {
   "cell_type": "code",
   "execution_count": 16,
   "metadata": {},
   "outputs": [
    {
     "name": "stdout",
     "output_type": "stream",
     "text": [
      "The Zen of Python, by Tim Peters\n",
      "\n",
      "Beautiful is better than ugly.\n",
      "Explicit is better than implicit.\n",
      "Simple is better than complex.\n",
      "Complex is better than complicated.\n",
      "Flat is better than nested.\n",
      "Sparse is better than dense.\n",
      "Readability counts.\n",
      "Special cases aren't special enough to break the rules.\n",
      "Although practicality beats purity.\n",
      "Errors should never pass silently.\n",
      "Unless explicitly silenced.\n",
      "In the face of ambiguity, refuse the temptation to guess.\n",
      "There should be one-- and preferably only one --obvious way to do it.\n",
      "Although that way may not be obvious at first unless you're Dutch.\n",
      "Now is better than never.\n",
      "Although never is often better than *right* now.\n",
      "If the implementation is hard to explain, it's a bad idea.\n",
      "If the implementation is easy to explain, it may be a good idea.\n",
      "Namespaces are one honking great idea -- let's do more of those!\n"
     ]
    }
   ],
   "source": [
    "import this"
   ]
  },
  {
   "cell_type": "markdown",
   "metadata": {},
   "source": [
    "### How to Write and Run a Python Program\n",
    "\n",
    "**Method 1**:\n",
    "\n",
    "In your command line, create a file called `script.py` and put Python code into it. You can do this with a command line interface (CLI) text editor, or your favorite Graphical User Interface (GUI) text editor (I use [sublime text](https://www.sublimetext.com/)). Then run it from the command line like\n",
    "```\n",
    "python script.py\n",
    "```\n",
    "It should run through, and do what you told it to do in the script. If you'd like to work ***interactively*** with the script after running, give it the \"interactive\" flag `-i`\n",
    "```\n",
    "python -i script.py\n",
    "```\n",
    "in which case you will be dumped into the interpreter after having run the script. You can also opt to use `ipython` instead of just `python`, which is a more interactive way to run code and gives you access to \"magic\" functions that you can't get with just Python. In this case, your code-run command would look like\n",
    "```\n",
    "ipython -i script.py\n",
    "```\n",
    "\n",
    "**Method 2**:\n",
    "\n",
    "Use the Jupyter Notebook environment to write ***and narrate*** your code in one go! A Jupyter Notebook is like a display for your code.\n",
    "\n",
    "Note that if you are writing code that needs to be\n",
    "* imported from other codes\n",
    "* acts as a pipeline and thus needs to be run from the command line\n",
    "\n",
    "then you will **likely not want** to use the Jupyter Notebook environment and should probably put your code in a normal `.py` script."
   ]
  },
  {
   "cell_type": "markdown",
   "metadata": {},
   "source": [
    "### Built-In Data Types\n",
    "\n",
    "We looked at a few built-in data types in Python, namely\n",
    "* integers\n",
    "* floats\n",
    "* complex\n",
    "* booleans\n",
    "* strings\n",
    "* None types\n",
    "\n",
    "We saw that we can convert from one data type to another using the built-in functions\n",
    "* int\n",
    "* float\n",
    "* complex\n",
    "* bool\n",
    "* str\n",
    "\n",
    "So don't overwrite these! They are important to the proper functioning of your Python interpreter."
   ]
  },
  {
   "cell_type": "code",
   "execution_count": 17,
   "metadata": {},
   "outputs": [
    {
     "data": {
      "text/plain": [
       "7.5"
      ]
     },
     "execution_count": 17,
     "metadata": {},
     "output_type": "execute_result"
    }
   ],
   "source": [
    "# integer - float arithmetic yields a float\n",
    "5 + 2.5"
   ]
  },
  {
   "cell_type": "code",
   "execution_count": 20,
   "metadata": {},
   "outputs": [
    {
     "data": {
      "text/plain": [
       "5.0"
      ]
     },
     "execution_count": 20,
     "metadata": {},
     "output_type": "execute_result"
    }
   ],
   "source": [
    "# integer - integer division yields a float!\n",
    "10 / 2"
   ]
  },
  {
   "cell_type": "code",
   "execution_count": 21,
   "metadata": {},
   "outputs": [
    {
     "data": {
      "text/plain": [
       "'hello there! well goodbye then...'"
      ]
     },
     "execution_count": 21,
     "metadata": {},
     "output_type": "execute_result"
    }
   ],
   "source": [
    "# certain string - integer arithmetic works! others don't\n",
    "'hello there!' + ' well goodbye then...'"
   ]
  },
  {
   "cell_type": "code",
   "execution_count": 22,
   "metadata": {},
   "outputs": [
    {
     "ename": "TypeError",
     "evalue": "unsupported operand type(s) for /: 'str' and 'str'",
     "output_type": "error",
     "traceback": [
      "\u001b[0;31m---------------------------------------------------------------------------\u001b[0m",
      "\u001b[0;31mTypeError\u001b[0m                                 Traceback (most recent call last)",
      "\u001b[0;32m<ipython-input-22-24e263e5b8f0>\u001b[0m in \u001b[0;36m<module>\u001b[0;34m()\u001b[0m\n\u001b[0;32m----> 1\u001b[0;31m \u001b[0;34m'this'\u001b[0m \u001b[0;34m/\u001b[0m \u001b[0;34m'probably wont work'\u001b[0m\u001b[0;34m\u001b[0m\u001b[0m\n\u001b[0m",
      "\u001b[0;31mTypeError\u001b[0m: unsupported operand type(s) for /: 'str' and 'str'"
     ]
    }
   ],
   "source": [
    "'this' / 'probably wont work'"
   ]
  },
  {
   "cell_type": "markdown",
   "metadata": {},
   "source": [
    "### Built-In Data Structures\n",
    "\n",
    "We also looked at a few built-in data structures, namely\n",
    "* lists\n",
    "* tuples\n",
    "* sets\n",
    "* dictionaries"
   ]
  },
  {
   "cell_type": "code",
   "execution_count": 23,
   "metadata": {},
   "outputs": [
    {
     "data": {
      "text/plain": [
       "[100, 2, 3, 4, 5]"
      ]
     },
     "execution_count": 23,
     "metadata": {},
     "output_type": "execute_result"
    }
   ],
   "source": [
    "# lists are easy to use and mutable\n",
    "data = [1, 2, 3, 4, 5]\n",
    "data[0] = 100\n",
    "data"
   ]
  },
  {
   "cell_type": "code",
   "execution_count": 24,
   "metadata": {},
   "outputs": [
    {
     "data": {
      "text/plain": [
       "[0, 1, 4, 9, 16, 25, 36, 49, 64, 81]"
      ]
     },
     "execution_count": 24,
     "metadata": {},
     "output_type": "execute_result"
    }
   ],
   "source": [
    "# list comprehension joins a for loop and a list together\n",
    "lc = [x**2 for x in range(10)]\n",
    "lc"
   ]
  },
  {
   "cell_type": "code",
   "execution_count": 26,
   "metadata": {},
   "outputs": [
    {
     "data": {
      "text/plain": [
       "[1, 3, 5, 7]"
      ]
     },
     "execution_count": 26,
     "metadata": {},
     "output_type": "execute_result"
    }
   ],
   "source": [
    "# we can slice lists\n",
    "[1, 2, 3, 4, 5, 6, 7, 8][::2]"
   ]
  },
  {
   "cell_type": "code",
   "execution_count": 27,
   "metadata": {},
   "outputs": [
    {
     "name": "stdout",
     "output_type": "stream",
     "text": [
      "The genus of a hedgehog is Erinaceus\n"
     ]
    }
   ],
   "source": [
    "# dictionaries are awesome and make you sound smart!\n",
    "genus = {\"deer\" : \"Odocoileus\", \"hedgehog\" : \"Erinaceus\", \"Dolphin\": \"Tursiops\"}\n",
    "\n",
    "print(\"The genus of a %s is %s\" % (\"hedgehog\", genus[\"hedgehog\"]))"
   ]
  },
  {
   "cell_type": "markdown",
   "metadata": {},
   "source": [
    "### Conditionals (`if-elif-else` statements)\n",
    "\n",
    "Conditional statements give us control over the flow of our code."
   ]
  },
  {
   "cell_type": "code",
   "execution_count": 30,
   "metadata": {},
   "outputs": [
    {
     "name": "stdout",
     "output_type": "stream",
     "text": [
      "Who are you?\n"
     ]
    }
   ],
   "source": [
    "myname = \"nick\"\n",
    "if myname == \"Nick\":\n",
    "    print(\"Hello there Nick!\")\n",
    "else:\n",
    "    print(\"Who are you?\")"
   ]
  },
  {
   "cell_type": "markdown",
   "metadata": {},
   "source": [
    "### `for` and `while` loops\n",
    "For loops and while loops give us the ability to repeat and iterate over a block of code. The structure of a `for` loop is to iterate over a list, while the structure of a while loop is to repeat until some condition is broken. You can manually skip one iteration within a loop using the `continue` command, and exit a loop entirely with the `break` command."
   ]
  },
  {
   "cell_type": "code",
   "execution_count": 31,
   "metadata": {
    "collapsed": true
   },
   "outputs": [],
   "source": [
    "import random"
   ]
  },
  {
   "cell_type": "code",
   "execution_count": 32,
   "metadata": {},
   "outputs": [
    {
     "name": "stdout",
     "output_type": "stream",
     "text": [
      "Ask a yes-or-no question: am i old?\n",
      "likely\n",
      "Ask another question? [y/n] y\n",
      "Ask a yes-or-no question: are you sure?\n",
      "highly implausible\n",
      "Ask another question? [y/n] n\n"
     ]
    }
   ],
   "source": [
    "# Custom Magic 8-Ball\n",
    "\n",
    "while True:\n",
    "    # ask question\n",
    "    question = input(\"Ask a yes-or-no question: \")\n",
    "\n",
    "    # generate random\n",
    "    rand = random.randint(1, 8)\n",
    "\n",
    "    # answer\n",
    "    if rand == 8:\n",
    "        print(\"impossible\")\n",
    "    elif rand == 7:\n",
    "        print(\"highly implausible\")\n",
    "    elif rand == 6:\n",
    "        print(\"unlikely\")\n",
    "    elif rand == 5:\n",
    "        print(\"who knows?\")\n",
    "    elif rand == 4:\n",
    "        print(\"50-50\")\n",
    "    elif rand == 3:\n",
    "        print(\"likely\")\n",
    "    elif rand == 2:\n",
    "        print(\"most probably\")\n",
    "    elif rand == 1:\n",
    "        print(\"absolutely\")\n",
    "\n",
    "    again = input(\"Ask another question? [y/n] \")\n",
    "    if again != 'y':\n",
    "        break"
   ]
  },
  {
   "cell_type": "markdown",
   "metadata": {},
   "source": [
    "### Mutability and References\n",
    "\n",
    "All variables in Python are just references to the place in memory where our desired object, or data, lies. Variable-to-variable assignment doesn't pass the data, it passes the references. For objects that are mutable, this means we can accidently change data without explicitely doing so.\n",
    "\n",
    "<img src=\"../02_IntroPython/imgs/references.png\" width=600px/>\n",
    "<center>IC: *Learning Python*, Mark Lutz</center>\n"
   ]
  },
  {
   "cell_type": "code",
   "execution_count": 34,
   "metadata": {},
   "outputs": [
    {
     "ename": "TypeError",
     "evalue": "'str' object does not support item assignment",
     "output_type": "error",
     "traceback": [
      "\u001b[0;31m---------------------------------------------------------------------------\u001b[0m",
      "\u001b[0;31mTypeError\u001b[0m                                 Traceback (most recent call last)",
      "\u001b[0;32m<ipython-input-34-8c38364a950b>\u001b[0m in \u001b[0;36m<module>\u001b[0;34m()\u001b[0m\n\u001b[1;32m      1\u001b[0m \u001b[0;31m# strings are immutable\u001b[0m\u001b[0;34m\u001b[0m\u001b[0;34m\u001b[0m\u001b[0m\n\u001b[1;32m      2\u001b[0m \u001b[0mmyname\u001b[0m \u001b[0;34m=\u001b[0m \u001b[0;34m\"Nick\"\u001b[0m\u001b[0;34m\u001b[0m\u001b[0m\n\u001b[0;32m----> 3\u001b[0;31m \u001b[0mmyname\u001b[0m\u001b[0;34m[\u001b[0m\u001b[0;36m0\u001b[0m\u001b[0;34m]\u001b[0m \u001b[0;34m=\u001b[0m \u001b[0;34m\"n\"\u001b[0m\u001b[0;34m\u001b[0m\u001b[0m\n\u001b[0m",
      "\u001b[0;31mTypeError\u001b[0m: 'str' object does not support item assignment"
     ]
    }
   ],
   "source": [
    "# strings are immutable\n",
    "myname = \"Nick\"\n",
    "myname[0] = \"n\""
   ]
  },
  {
   "cell_type": "code",
   "execution_count": 33,
   "metadata": {},
   "outputs": [
    {
     "data": {
      "text/plain": [
       "[100, 2, 3]"
      ]
     },
     "execution_count": 33,
     "metadata": {},
     "output_type": "execute_result"
    }
   ],
   "source": [
    "# lista are immutable\n",
    "mylist = [1, 2, 3]\n",
    "mylist[0] = 100\n",
    "mylist"
   ]
  },
  {
   "cell_type": "code",
   "execution_count": 35,
   "metadata": {},
   "outputs": [
    {
     "name": "stdout",
     "output_type": "stream",
     "text": [
      "[-100, 2, 3]\n"
     ]
    }
   ],
   "source": [
    "# as such, be carefule when doing something like this\n",
    "yourlist = mylist\n",
    "mylist[0] = -100\n",
    "print(yourlist)"
   ]
  },
  {
   "cell_type": "code",
   "execution_count": 44,
   "metadata": {},
   "outputs": [
    {
     "data": {
      "text/plain": [
       "[100, 2, 3]"
      ]
     },
     "execution_count": 44,
     "metadata": {},
     "output_type": "execute_result"
    }
   ],
   "source": [
    "mylist = [1, 2, 3]\n",
    "yourlist = mylist\n",
    "mylist[0] = 100\n",
    "yourlist"
   ]
  },
  {
   "cell_type": "code",
   "execution_count": 45,
   "metadata": {},
   "outputs": [
    {
     "name": "stdout",
     "output_type": "stream",
     "text": [
      "0x115c8e088\n",
      "0x115c8e088\n"
     ]
    }
   ],
   "source": [
    "# mylist and yourlist are not objects themselves, but references to the same object!\n",
    "print(hex(id(mylist)))\n",
    "print(hex(id(yourlist)))"
   ]
  },
  {
   "cell_type": "markdown",
   "metadata": {},
   "source": [
    "### Error Handling\n",
    "\n",
    "Use the syntax\n",
    "```\n",
    "try:\n",
    "    <code to try>\n",
    "except:\n",
    "    <code to do if fails>\n",
    "```\n",
    "to allow your code to predict when it will fail, and to suggest alternative routes in the case that it does."
   ]
  },
  {
   "cell_type": "code",
   "execution_count": 47,
   "metadata": {
    "collapsed": true
   },
   "outputs": [
    {
     "name": "stdout",
     "output_type": "stream",
     "text": [
      "Please enter an integer: 100.0\n",
      "That wasn't an integer, try again...\n"
     ]
    },
    {
     "ename": "KeyboardInterrupt",
     "evalue": "",
     "output_type": "error",
     "traceback": [
      "\u001b[0;31m---------------------------------------------------------------------------\u001b[0m",
      "\u001b[0;31mKeyboardInterrupt\u001b[0m                         Traceback (most recent call last)",
      "\u001b[0;32m/Users/nick/anaconda3/lib/python3.6/site-packages/ipykernel/kernelbase.py\u001b[0m in \u001b[0;36m_input_request\u001b[0;34m(self, prompt, ident, parent, password)\u001b[0m\n\u001b[1;32m    729\u001b[0m             \u001b[0;32mtry\u001b[0m\u001b[0;34m:\u001b[0m\u001b[0;34m\u001b[0m\u001b[0m\n\u001b[0;32m--> 730\u001b[0;31m                 \u001b[0mident\u001b[0m\u001b[0;34m,\u001b[0m \u001b[0mreply\u001b[0m \u001b[0;34m=\u001b[0m \u001b[0mself\u001b[0m\u001b[0;34m.\u001b[0m\u001b[0msession\u001b[0m\u001b[0;34m.\u001b[0m\u001b[0mrecv\u001b[0m\u001b[0;34m(\u001b[0m\u001b[0mself\u001b[0m\u001b[0;34m.\u001b[0m\u001b[0mstdin_socket\u001b[0m\u001b[0;34m,\u001b[0m \u001b[0;36m0\u001b[0m\u001b[0;34m)\u001b[0m\u001b[0;34m\u001b[0m\u001b[0m\n\u001b[0m\u001b[1;32m    731\u001b[0m             \u001b[0;32mexcept\u001b[0m \u001b[0mException\u001b[0m\u001b[0;34m:\u001b[0m\u001b[0;34m\u001b[0m\u001b[0m\n",
      "\u001b[0;32m/Users/nick/anaconda3/lib/python3.6/site-packages/jupyter_client/session.py\u001b[0m in \u001b[0;36mrecv\u001b[0;34m(self, socket, mode, content, copy)\u001b[0m\n\u001b[1;32m    777\u001b[0m         \u001b[0;32mtry\u001b[0m\u001b[0;34m:\u001b[0m\u001b[0;34m\u001b[0m\u001b[0m\n\u001b[0;32m--> 778\u001b[0;31m             \u001b[0mmsg_list\u001b[0m \u001b[0;34m=\u001b[0m \u001b[0msocket\u001b[0m\u001b[0;34m.\u001b[0m\u001b[0mrecv_multipart\u001b[0m\u001b[0;34m(\u001b[0m\u001b[0mmode\u001b[0m\u001b[0;34m,\u001b[0m \u001b[0mcopy\u001b[0m\u001b[0;34m=\u001b[0m\u001b[0mcopy\u001b[0m\u001b[0;34m)\u001b[0m\u001b[0;34m\u001b[0m\u001b[0m\n\u001b[0m\u001b[1;32m    779\u001b[0m         \u001b[0;32mexcept\u001b[0m \u001b[0mzmq\u001b[0m\u001b[0;34m.\u001b[0m\u001b[0mZMQError\u001b[0m \u001b[0;32mas\u001b[0m \u001b[0me\u001b[0m\u001b[0;34m:\u001b[0m\u001b[0;34m\u001b[0m\u001b[0m\n",
      "\u001b[0;32m/Users/nick/anaconda3/lib/python3.6/site-packages/zmq/sugar/socket.py\u001b[0m in \u001b[0;36mrecv_multipart\u001b[0;34m(self, flags, copy, track)\u001b[0m\n\u001b[1;32m    394\u001b[0m         \"\"\"\n\u001b[0;32m--> 395\u001b[0;31m         \u001b[0mparts\u001b[0m \u001b[0;34m=\u001b[0m \u001b[0;34m[\u001b[0m\u001b[0mself\u001b[0m\u001b[0;34m.\u001b[0m\u001b[0mrecv\u001b[0m\u001b[0;34m(\u001b[0m\u001b[0mflags\u001b[0m\u001b[0;34m,\u001b[0m \u001b[0mcopy\u001b[0m\u001b[0;34m=\u001b[0m\u001b[0mcopy\u001b[0m\u001b[0;34m,\u001b[0m \u001b[0mtrack\u001b[0m\u001b[0;34m=\u001b[0m\u001b[0mtrack\u001b[0m\u001b[0;34m)\u001b[0m\u001b[0;34m]\u001b[0m\u001b[0;34m\u001b[0m\u001b[0m\n\u001b[0m\u001b[1;32m    396\u001b[0m         \u001b[0;31m# have first part already, only loop while more to receive\u001b[0m\u001b[0;34m\u001b[0m\u001b[0;34m\u001b[0m\u001b[0m\n",
      "\u001b[0;32mzmq/backend/cython/socket.pyx\u001b[0m in \u001b[0;36mzmq.backend.cython.socket.Socket.recv (zmq/backend/cython/socket.c:7683)\u001b[0;34m()\u001b[0m\n",
      "\u001b[0;32mzmq/backend/cython/socket.pyx\u001b[0m in \u001b[0;36mzmq.backend.cython.socket.Socket.recv (zmq/backend/cython/socket.c:7460)\u001b[0;34m()\u001b[0m\n",
      "\u001b[0;32mzmq/backend/cython/socket.pyx\u001b[0m in \u001b[0;36mzmq.backend.cython.socket._recv_copy (zmq/backend/cython/socket.c:2344)\u001b[0;34m()\u001b[0m\n",
      "\u001b[0;32m/Users/nick/anaconda3/lib/python3.6/site-packages/zmq/backend/cython/checkrc.pxd\u001b[0m in \u001b[0;36mzmq.backend.cython.checkrc._check_rc (zmq/backend/cython/socket.c:9621)\u001b[0;34m()\u001b[0m\n",
      "\u001b[0;31mKeyboardInterrupt\u001b[0m: ",
      "\nDuring handling of the above exception, another exception occurred:\n",
      "\u001b[0;31mKeyboardInterrupt\u001b[0m                         Traceback (most recent call last)",
      "\u001b[0;32m<ipython-input-47-8fd816c1c6d8>\u001b[0m in \u001b[0;36m<module>\u001b[0;34m()\u001b[0m\n\u001b[1;32m      2\u001b[0m \u001b[0;32mwhile\u001b[0m \u001b[0;32mTrue\u001b[0m\u001b[0;34m:\u001b[0m\u001b[0;34m\u001b[0m\u001b[0m\n\u001b[1;32m      3\u001b[0m     \u001b[0;32mtry\u001b[0m\u001b[0;34m:\u001b[0m\u001b[0;34m\u001b[0m\u001b[0m\n\u001b[0;32m----> 4\u001b[0;31m         \u001b[0mnumber\u001b[0m \u001b[0;34m=\u001b[0m \u001b[0mint\u001b[0m\u001b[0;34m(\u001b[0m\u001b[0minput\u001b[0m\u001b[0;34m(\u001b[0m\u001b[0;34m'Please enter an integer: '\u001b[0m\u001b[0;34m)\u001b[0m\u001b[0;34m)\u001b[0m\u001b[0;34m\u001b[0m\u001b[0m\n\u001b[0m\u001b[1;32m      5\u001b[0m         \u001b[0;32mbreak\u001b[0m\u001b[0;34m\u001b[0m\u001b[0m\n\u001b[1;32m      6\u001b[0m     \u001b[0;32mexcept\u001b[0m \u001b[0mValueError\u001b[0m\u001b[0;34m:\u001b[0m\u001b[0;34m\u001b[0m\u001b[0m\n",
      "\u001b[0;32m/Users/nick/anaconda3/lib/python3.6/site-packages/ipykernel/kernelbase.py\u001b[0m in \u001b[0;36mraw_input\u001b[0;34m(self, prompt)\u001b[0m\n\u001b[1;32m    703\u001b[0m             \u001b[0mself\u001b[0m\u001b[0;34m.\u001b[0m\u001b[0m_parent_ident\u001b[0m\u001b[0;34m,\u001b[0m\u001b[0;34m\u001b[0m\u001b[0m\n\u001b[1;32m    704\u001b[0m             \u001b[0mself\u001b[0m\u001b[0;34m.\u001b[0m\u001b[0m_parent_header\u001b[0m\u001b[0;34m,\u001b[0m\u001b[0;34m\u001b[0m\u001b[0m\n\u001b[0;32m--> 705\u001b[0;31m             \u001b[0mpassword\u001b[0m\u001b[0;34m=\u001b[0m\u001b[0;32mFalse\u001b[0m\u001b[0;34m,\u001b[0m\u001b[0;34m\u001b[0m\u001b[0m\n\u001b[0m\u001b[1;32m    706\u001b[0m         )\n\u001b[1;32m    707\u001b[0m \u001b[0;34m\u001b[0m\u001b[0m\n",
      "\u001b[0;32m/Users/nick/anaconda3/lib/python3.6/site-packages/ipykernel/kernelbase.py\u001b[0m in \u001b[0;36m_input_request\u001b[0;34m(self, prompt, ident, parent, password)\u001b[0m\n\u001b[1;32m    733\u001b[0m             \u001b[0;32mexcept\u001b[0m \u001b[0mKeyboardInterrupt\u001b[0m\u001b[0;34m:\u001b[0m\u001b[0;34m\u001b[0m\u001b[0m\n\u001b[1;32m    734\u001b[0m                 \u001b[0;31m# re-raise KeyboardInterrupt, to truncate traceback\u001b[0m\u001b[0;34m\u001b[0m\u001b[0;34m\u001b[0m\u001b[0m\n\u001b[0;32m--> 735\u001b[0;31m                 \u001b[0;32mraise\u001b[0m \u001b[0mKeyboardInterrupt\u001b[0m\u001b[0;34m\u001b[0m\u001b[0m\n\u001b[0m\u001b[1;32m    736\u001b[0m             \u001b[0;32melse\u001b[0m\u001b[0;34m:\u001b[0m\u001b[0;34m\u001b[0m\u001b[0m\n\u001b[1;32m    737\u001b[0m                 \u001b[0;32mbreak\u001b[0m\u001b[0;34m\u001b[0m\u001b[0m\n",
      "\u001b[0;31mKeyboardInterrupt\u001b[0m: "
     ]
    }
   ],
   "source": [
    "# Practice with a try statement\n",
    "while True:\n",
    "    try:\n",
    "        number = int(input('Please enter an integer: '))\n",
    "        break\n",
    "    except ValueError:\n",
    "        print(\"That wasn't an integer, try again...\")\n",
    "        \n",
    "print(\"Your number is\", number)"
   ]
  },
  {
   "cell_type": "markdown",
   "metadata": {},
   "source": [
    "### Breakout\n",
    "\n",
    "Write a Python script to calculate the luminosity of a star given its surface temperature and radius. Have the script *ask the user for input* on the radius and temperature. To calculate the luminosity, use the following equation\n",
    "\n",
    "\\begin{align}\n",
    "L = 4\\pi R^{2}\\sigma T^{4}\n",
    "\\end{align}\n",
    "\n",
    "where $\\sigma = 5.67\\times10^{-8}$ W m$^{-2}$ K$^{-4}$. Include error handling to make sure the things the user feeds can be converted into a float-type. Use your code to calculate the luminosity of the Sun, whose $R = 6.9\\times10{^8}$ m and $T\\approx5700$ K."
   ]
  },
  {
   "cell_type": "code",
   "execution_count": 57,
   "metadata": {},
   "outputs": [
    {
     "name": "stdout",
     "output_type": "stream",
     "text": [
      "Please enter a Radius in [m]: 7e8\n",
      "Please enter a Temp in [K]: 5700.\n",
      "Luminosity is 3\n"
     ]
    }
   ],
   "source": [
    "def L(R, T):\n",
    "    sig = 5.68e-8\n",
    "    return 4*np.pi*R**2*sig*T**4\n",
    "\n",
    "while True:\n",
    "    try:\n",
    "        R = float(input('Please enter a Radius in [m]: '))\n",
    "        T = float(input('Please enter a Temp in [K]: '))\n",
    "        Lum = L(R, T)\n",
    "        break\n",
    "    except ValueError:\n",
    "        print(\"That wasn't a float...\")\n",
    "        \n",
    "print(\"Luminosity is %f\" % (Lum/1e26))\n"
   ]
  },
  {
   "cell_type": "markdown",
   "metadata": {},
   "source": [
    "### Functions\n",
    "\n",
    "Functions are pieces of code we have chosen to separate **into a separate namespace**. We can **call** the function at anytime and run said code, feeding any necessary **arguments** and optionally **keyword arguments**."
   ]
  },
  {
   "cell_type": "code",
   "execution_count": 58,
   "metadata": {
    "collapsed": true
   },
   "outputs": [],
   "source": [
    "def find_odd(x):\n",
    "    return bool(x % 2)"
   ]
  },
  {
   "cell_type": "code",
   "execution_count": 59,
   "metadata": {},
   "outputs": [
    {
     "data": {
      "text/plain": [
       "False"
      ]
     },
     "execution_count": 59,
     "metadata": {},
     "output_type": "execute_result"
    }
   ],
   "source": [
    "find_odd(2)"
   ]
  },
  {
   "cell_type": "code",
   "execution_count": 60,
   "metadata": {},
   "outputs": [
    {
     "data": {
      "text/plain": [
       "True"
      ]
     },
     "execution_count": 60,
     "metadata": {},
     "output_type": "execute_result"
    }
   ],
   "source": [
    "find_odd(1241251353)"
   ]
  },
  {
   "cell_type": "markdown",
   "metadata": {},
   "source": [
    "### Modules\n",
    "\n",
    "Modules are function written in separate Python scripts that do not come pre-loaded when you fire up a Python interpreter. You can **import** modules using the syntax\n",
    "```\n",
    "import <modulename>\n",
    "```\n",
    "and can optionally choose to rename it in your global namespace (if you are lazy and want to save keystrokes)."
   ]
  },
  {
   "cell_type": "code",
   "execution_count": 61,
   "metadata": {},
   "outputs": [
    {
     "name": "stdout",
     "output_type": "stream",
     "text": [
      "Requirement already satisfied: pygame in /Users/nick/anaconda3/lib/python3.6/site-packages\r\n"
     ]
    }
   ],
   "source": [
    "!pip install pygame"
   ]
  },
  {
   "cell_type": "markdown",
   "metadata": {},
   "source": [
    "If the window that opens from the code below won't close, you can stop the program by clicking the \"interrupt kernel\" buttom in the toolbar above (square button). I still wasn't able to close the window so I just restarted the kernel entirely and it went away (circle-arrow button)."
   ]
  },
  {
   "cell_type": "code",
   "execution_count": 62,
   "metadata": {
    "collapsed": true
   },
   "outputs": [
    {
     "ename": "KeyboardInterrupt",
     "evalue": "",
     "output_type": "error",
     "traceback": [
      "\u001b[0;31m---------------------------------------------------------------------------\u001b[0m",
      "\u001b[0;31mKeyboardInterrupt\u001b[0m                         Traceback (most recent call last)",
      "\u001b[0;32m<ipython-input-62-f7eef88ad371>\u001b[0m in \u001b[0;36m<module>\u001b[0;34m()\u001b[0m\n\u001b[1;32m     28\u001b[0m     \u001b[0mposition\u001b[0m \u001b[0;34m=\u001b[0m \u001b[0;34m(\u001b[0m\u001b[0mposition\u001b[0m\u001b[0;34m[\u001b[0m\u001b[0;36m0\u001b[0m\u001b[0;34m]\u001b[0m \u001b[0;34m+\u001b[0m \u001b[0mspeed\u001b[0m\u001b[0;34m,\u001b[0m \u001b[0mposition\u001b[0m\u001b[0;34m[\u001b[0m\u001b[0;36m1\u001b[0m\u001b[0;34m]\u001b[0m\u001b[0;34m)\u001b[0m\u001b[0;34m\u001b[0m\u001b[0m\n\u001b[1;32m     29\u001b[0m     \u001b[0mscreen\u001b[0m\u001b[0;34m.\u001b[0m\u001b[0mblit\u001b[0m\u001b[0;34m(\u001b[0m\u001b[0mpokemon\u001b[0m\u001b[0;34m,\u001b[0m \u001b[0mposition\u001b[0m\u001b[0;34m)\u001b[0m\u001b[0;34m\u001b[0m\u001b[0m\n\u001b[0;32m---> 30\u001b[0;31m     \u001b[0mpygame\u001b[0m\u001b[0;34m.\u001b[0m\u001b[0mdisplay\u001b[0m\u001b[0;34m.\u001b[0m\u001b[0mflip\u001b[0m\u001b[0;34m(\u001b[0m\u001b[0;34m)\u001b[0m\u001b[0;34m\u001b[0m\u001b[0m\n\u001b[0m\u001b[1;32m     31\u001b[0m     \u001b[0;32mif\u001b[0m \u001b[0mposition\u001b[0m\u001b[0;34m[\u001b[0m\u001b[0;36m0\u001b[0m\u001b[0;34m]\u001b[0m \u001b[0;34m>\u001b[0m \u001b[0mscreen_width\u001b[0m \u001b[0;32mor\u001b[0m \u001b[0mposition\u001b[0m\u001b[0;34m[\u001b[0m\u001b[0;36m0\u001b[0m\u001b[0;34m]\u001b[0m \u001b[0;34m<\u001b[0m \u001b[0mstart_x\u001b[0m\u001b[0;34m:\u001b[0m\u001b[0;34m\u001b[0m\u001b[0m\n\u001b[1;32m     32\u001b[0m         \u001b[0mpokemon\u001b[0m \u001b[0;34m=\u001b[0m \u001b[0mpygame\u001b[0m\u001b[0;34m.\u001b[0m\u001b[0mtransform\u001b[0m\u001b[0;34m.\u001b[0m\u001b[0mflip\u001b[0m\u001b[0;34m(\u001b[0m\u001b[0mpokemon\u001b[0m\u001b[0;34m,\u001b[0m \u001b[0;32mTrue\u001b[0m\u001b[0;34m,\u001b[0m \u001b[0;32mFalse\u001b[0m\u001b[0;34m)\u001b[0m\u001b[0;34m\u001b[0m\u001b[0m\n",
      "\u001b[0;31mKeyboardInterrupt\u001b[0m: "
     ]
    }
   ],
   "source": [
    "import pygame\n",
    "from pygame.locals import *\n",
    "\n",
    "screen_width = 800\n",
    "screen_height = 800\n",
    "\n",
    "start_x = 2\n",
    "start_y = 2\n",
    "speed = 8\n",
    "\n",
    "clock = pygame.time.Clock()\n",
    "\n",
    "screen = pygame.display.set_mode((screen_width, screen_height))\n",
    "pokemon = pygame.image.load('imgs/drowzee.png')\n",
    "\n",
    "position = (2, 4)\n",
    "\n",
    "while True:\n",
    "    clock.tick(40)\n",
    "    #screen.fill('k')\n",
    "\n",
    "    for event in pygame.event.get():\n",
    "        if not hasattr(event, 'key'):\n",
    "            continue\n",
    "        if event.key == K_ESCAPE:\n",
    "            exit(0)\n",
    "\n",
    "    position = (position[0] + speed, position[1])\n",
    "    screen.blit(pokemon, position)\n",
    "    pygame.display.flip()\n",
    "    if position[0] > screen_width or position[0] < start_x:\n",
    "        pokemon = pygame.transform.flip(pokemon, True, False)\n",
    "        speed = -1 * speed"
   ]
  },
  {
   "cell_type": "markdown",
   "metadata": {},
   "source": [
    "### Classes and Object Oriented Programming\n",
    "\n",
    "Classes are blueprints for custom objects that you can make yourself! Remember, objects are like containers: they hold data and functions, and the object is a way to make them all talk to each other. You define a class with the `class` command, and layout the class blueprint with an indentation."
   ]
  },
  {
   "cell_type": "code",
   "execution_count": 7,
   "metadata": {
    "collapsed": true
   },
   "outputs": [],
   "source": [
    "class My_Class:\n",
    "    \n",
    "    def func1(self, arg1):\n",
    "        return arg1**2"
   ]
  },
  {
   "cell_type": "markdown",
   "metadata": {},
   "source": [
    "Classes cannot be called directly, like functions. Instead they need to first be instantiated. Using our analogy, to drive a car, you need to make the blueprints (define a class) and then physically build the car on the assembly line (instantiation). We do this by caling the class with parantheses."
   ]
  },
  {
   "cell_type": "code",
   "execution_count": 3,
   "metadata": {
    "collapsed": true
   },
   "outputs": [],
   "source": [
    "# class instantiation\n",
    "MC = My_Class()"
   ]
  },
  {
   "cell_type": "markdown",
   "metadata": {},
   "source": [
    "For our purposes, all function defined within a class need to take the argument `self` first, and then all desired arguments and keyword arguments follow. When you call this functin, you ignore the `self` argument."
   ]
  },
  {
   "cell_type": "code",
   "execution_count": null,
   "metadata": {
    "collapsed": true
   },
   "outputs": [],
   "source": [
    "# call func1 from MC, but ignore the `self` argument when feeding it parameters\n",
    "MC.func1(10)"
   ]
  },
  {
   "cell_type": "markdown",
   "metadata": {},
   "source": [
    "When we instantiate a class we choose to feed it arguments. If we do, these arguments **do not** get passed to the brackets in the class definition (`class My_Class`), but they get passed to an `__init__()` function, which can \"initialize\" the class for us to use."
   ]
  },
  {
   "cell_type": "code",
   "execution_count": 8,
   "metadata": {
    "collapsed": true
   },
   "outputs": [],
   "source": [
    "class dog:\n",
    "    def __init__(self, name):\n",
    "        self.name = name\n",
    "        \n",
    "    def bark(self):\n",
    "        print(\"bark!\")\n",
    "         \n",
    "class cat:\n",
    "    def __init__(self, name):\n",
    "        self.name = name\n",
    "    \n",
    "    def meow(self):\n",
    "        print(\"meow!\")"
   ]
  },
  {
   "cell_type": "code",
   "execution_count": 9,
   "metadata": {},
   "outputs": [
    {
     "name": "stdout",
     "output_type": "stream",
     "text": [
      "tom goes:\n",
      "meow!\n",
      "goofy goes: \n",
      "bark!\n"
     ]
    }
   ],
   "source": [
    "# Instantiate\n",
    "C = cat('tom')\n",
    "D = dog('goofy')\n",
    "\n",
    "print(C.name, \"goes:\")\n",
    "C.meow()\n",
    "print(D.name,\"goes: \")\n",
    "D.bark()"
   ]
  },
  {
   "cell_type": "markdown",
   "metadata": {},
   "source": [
    "A custom class can take traits from another pre-defined class using a method called inheritance."
   ]
  },
  {
   "cell_type": "code",
   "execution_count": 10,
   "metadata": {
    "collapsed": true
   },
   "outputs": [],
   "source": [
    "# Example in inheritance\n",
    "class dog:\n",
    "    def __init__(self, name):\n",
    "        self.name = name\n",
    "        \n",
    "    def bark(self):\n",
    "        print(\"bark!\")\n",
    "         \n",
    "class cat(dog):\n",
    "    def __init__(self, name):\n",
    "        self.name = name\n",
    "    \n",
    "    def meow(self):\n",
    "        print(\"meow!\")"
   ]
  },
  {
   "cell_type": "code",
   "execution_count": 11,
   "metadata": {},
   "outputs": [
    {
     "name": "stdout",
     "output_type": "stream",
     "text": [
      "meow!\n",
      "bark!\n"
     ]
    }
   ],
   "source": [
    "# Instantiate\n",
    "C = cat('tom')\n",
    "\n",
    "# tom now has a meow and a bark!\n",
    "C.meow()\n",
    "C.bark()"
   ]
  },
  {
   "cell_type": "markdown",
   "metadata": {},
   "source": [
    "### Breakout\n",
    "\n",
    "Take your code your script from the previous breakout and turn it into a function, such that instead of asking for user input for $T$ and $R$, those two variables are fed into the function. Put that function into a separate script, so that you can import it in your Notebook or in a Python session and run it. "
   ]
  },
  {
   "cell_type": "code",
   "execution_count": 12,
   "metadata": {
    "collapsed": true
   },
   "outputs": [],
   "source": [
    "import Luminosity"
   ]
  },
  {
   "cell_type": "code",
   "execution_count": 14,
   "metadata": {},
   "outputs": [
    {
     "data": {
      "text/plain": [
       "3.691932077313669e+26"
      ]
     },
     "execution_count": 14,
     "metadata": {},
     "output_type": "execute_result"
    }
   ],
   "source": [
    "Luminosity.L(7e8, 5700.)"
   ]
  },
  {
   "cell_type": "markdown",
   "metadata": {},
   "source": [
    "### File I/O\n",
    "\n",
    "You can manually read and write files with a file descriptor, which is a bridge between your Python interpreter and the file itself. You access a file descriptor with the `open()` function. Be sure to close it after you are done so that you don't leak a file descriptor (i.e., lose track of it and keep it open for the duration of your session).  "
   ]
  },
  {
   "cell_type": "code",
   "execution_count": 15,
   "metadata": {
    "collapsed": true
   },
   "outputs": [],
   "source": [
    "f = open('data/clusters.csv', 'r')\n",
    "lines = f.readlines()\n",
    "f.close()"
   ]
  },
  {
   "cell_type": "code",
   "execution_count": 16,
   "metadata": {},
   "outputs": [
    {
     "data": {
      "text/plain": [
       "'# haloid,subhaloid,ra,dec,z,r200crit,m200crit,angulardistance,vdispmean,px,py,pz,vx,vy,vz,r200mean,m200mean\\n'"
      ]
     },
     "execution_count": 16,
     "metadata": {},
     "output_type": "execute_result"
    }
   ],
   "source": [
    "# look at the metadata of clusters.csv\n",
    "lines[0]"
   ]
  },
  {
   "cell_type": "markdown",
   "metadata": {},
   "source": [
    "### Numpy and the `ndarray`\n",
    "\n",
    "`numpy` is an external Python package that gives us the ability to perform fast and efficient operations on data within the `ndarray` data structure. We talked about slicing, fancy indexing, masking, array-concatenating, array-arithmetic & broadcasting, matrix operations, and speed considerations. Let's review a few basic examples."
   ]
  },
  {
   "cell_type": "code",
   "execution_count": 17,
   "metadata": {
    "collapsed": true
   },
   "outputs": [],
   "source": [
    "import numpy as np"
   ]
  },
  {
   "cell_type": "code",
   "execution_count": 18,
   "metadata": {},
   "outputs": [
    {
     "name": "stdout",
     "output_type": "stream",
     "text": [
      "[[11 12 13 14 15]\n",
      " [16 17 18 19 20]\n",
      " [21 22 23 24 25]\n",
      " [26 27 28 29 30]\n",
      " [31 32 33 34 35]]\n"
     ]
    }
   ],
   "source": [
    "# construct a 5x5 array\n",
    "arr = np.arange(11, 36).reshape(5,5)\n",
    "print(arr)"
   ]
  },
  {
   "cell_type": "code",
   "execution_count": 19,
   "metadata": {},
   "outputs": [
    {
     "data": {
      "text/plain": [
       "array([[11, 15],\n",
       "       [31, 35]])"
      ]
     },
     "execution_count": 19,
     "metadata": {},
     "output_type": "execute_result"
    }
   ],
   "source": [
    "# use slicing to get just the corner elements\n",
    "arr[::4, ::4]"
   ]
  },
  {
   "cell_type": "code",
   "execution_count": 20,
   "metadata": {},
   "outputs": [
    {
     "data": {
      "text/plain": [
       "array([[ nan,  nan,  nan,  nan,  nan],\n",
       "       [ nan,  nan,  nan,  nan,  nan],\n",
       "       [ nan,  nan,  nan,  24.,  25.],\n",
       "       [ 26.,  27.,  28.,  29.,  30.],\n",
       "       [ 31.,  32.,  33.,  34.,  35.]])"
      ]
     },
     "execution_count": 20,
     "metadata": {},
     "output_type": "execute_result"
    }
   ],
   "source": [
    "# np.where to keep values above 23 and return np.nans for others\n",
    "np.where(arr > 23, arr, np.nan)"
   ]
  },
  {
   "cell_type": "code",
   "execution_count": 21,
   "metadata": {},
   "outputs": [
    {
     "data": {
      "text/plain": [
       "array([[11, 12, 13, 14, 15],\n",
       "       [16, 17, 18, 19, 20],\n",
       "       [21, 22, 23, 24, 25],\n",
       "       [26, 27, 28, 29, 30],\n",
       "       [31, 32, 33, 34, 35],\n",
       "       [36, 37, 38, 39, 40]])"
      ]
     },
     "execution_count": 21,
     "metadata": {},
     "output_type": "execute_result"
    }
   ],
   "source": [
    "# concatenate it with a 36 - 40 array\n",
    "np.vstack([arr, np.arange(36, 41)])"
   ]
  },
  {
   "cell_type": "code",
   "execution_count": 22,
   "metadata": {},
   "outputs": [
    {
     "data": {
      "text/plain": [
       "array([[ 2.,  2.,  2.],\n",
       "       [ 2.,  2.,  2.],\n",
       "       [ 2.,  2.,  2.]])"
      ]
     },
     "execution_count": 22,
     "metadata": {},
     "output_type": "execute_result"
    }
   ],
   "source": [
    "# broadcasting for two arrays\n",
    "# this is a special case where one of the two indices don't have to match!\n",
    "arr1 = np.ones( (3, 1) )\n",
    "arr2 = np.ones( (1, 3) )\n",
    "\n",
    "arr1 + arr2"
   ]
  },
  {
   "cell_type": "code",
   "execution_count": 23,
   "metadata": {},
   "outputs": [
    {
     "data": {
      "text/plain": [
       "730"
      ]
     },
     "execution_count": 23,
     "metadata": {},
     "output_type": "execute_result"
    }
   ],
   "source": [
    "# matrix operations like dot product\n",
    "vec1 = np.arange(10, 15)\n",
    "np.dot(vec1, vec1)"
   ]
  },
  {
   "cell_type": "markdown",
   "metadata": {},
   "source": [
    "We can use `numpy.loadtxt` to load in text files easily."
   ]
  },
  {
   "cell_type": "code",
   "execution_count": null,
   "metadata": {
    "collapsed": true
   },
   "outputs": [],
   "source": [
    "data = np.loadtxt('data/clusters.csv', usecols=(0, 5, 6), delimiter=',')"
   ]
  },
  {
   "cell_type": "markdown",
   "metadata": {},
   "source": [
    "### Plotting with Matplotlib\n",
    "\n",
    "You can make plots with the `matplotlib.pyplot` module. The basic way to do this is to use the `plot()` function. First, however, we need to create a `figure` object and some `axes` objects. The following syntax can be found below."
   ]
  },
  {
   "cell_type": "code",
   "execution_count": 24,
   "metadata": {
    "collapsed": true
   },
   "outputs": [],
   "source": [
    "%matplotlib inline\n",
    "import matplotlib.pyplot as plt"
   ]
  },
  {
   "cell_type": "code",
   "execution_count": 25,
   "metadata": {},
   "outputs": [
    {
     "data": {
      "text/plain": [
       "[<matplotlib.lines.Line2D at 0x112bc5320>]"
      ]
     },
     "execution_count": 25,
     "metadata": {},
     "output_type": "execute_result"
    },
    {
     "data": {
      "image/png": "[encoded data removed]",
      "text/plain": [
       "<matplotlib.figure.Figure at 0x112bbca58>"
      ]
     },
     "metadata": {},
     "output_type": "display_data"
    }
   ],
   "source": [
    "# make figure\n",
    "fig = plt.figure( figsize=(8, 5) )\n",
    "\n",
    "# make axes\n",
    "ax = fig.add_subplot(1, 1, 1)\n",
    "\n",
    "# generate data\n",
    "x = np.linspace(-3, 3, 100)\n",
    "y = np.sin(x)\n",
    "\n",
    "# plot\n",
    "ax.plot(x, y, marker='', linestyle='--', linewidth=4, color='dodgerblue')"
   ]
  },
  {
   "cell_type": "code",
   "execution_count": null,
   "metadata": {
    "collapsed": true
   },
   "outputs": [],
   "source": []
  },
  {
   "cell_type": "markdown",
   "metadata": {},
   "source": [
    "### Breakout\n",
    "\n",
    "Here we will try to reproduce some aspects of the Hertzsprung-Russell Diagram using our Luminosity function. The HR diagram looks something like this:\n",
    "\n",
    "<img src='imgs/hrdiagram.jpg' width=500px/>\n",
    "\n",
    "You'll notice a few things about the graph:\n",
    "* the temperature increases to the left\n",
    "* its plotted in log space, not linear space\n",
    "* the lines plotted are lines of constant radius\n",
    "* our Sun is the star labeled with [E]\n",
    "\n",
    "Here we will only try to reproduce the lines of constant radius (we will reproduce the whole figure including stars in the next homework).\n",
    "\n",
    "1.\n",
    "Import your module for the luminosity equation, and use it to plot lines of constant radius in a graph with L on the y-axis and T on the x-axis. Use the same Temperature range as the graph shown above. Plot five lines, for $R = [0.01, 0.1, 1, 10, 100]$ times $R_{\\odot}$. Note you can use the `plt.gca().invert_xaxis()` command to flip the direction of the x-axis, and the `ax.set_xscale('log')` to set the scale of the x-axis to log-space instead of linear-space. You'll want to do the same for the yaxis as well.\n",
    "\n",
    "2.\n",
    "Given that $T_{\\odot} \\approx 5800$ K, plot a point on the graph representing the Sun."
   ]
  },
  {
   "cell_type": "code",
   "execution_count": null,
   "metadata": {
    "collapsed": true
   },
   "outputs": [],
   "source": []
  },
  {
   "cell_type": "code",
   "execution_count": null,
   "metadata": {
    "collapsed": true
   },
   "outputs": [],
   "source": []
  },
  {
   "cell_type": "code",
   "execution_count": null,
   "metadata": {
    "collapsed": true
   },
   "outputs": [],
   "source": []
  }
 ],
 "metadata": {
  "kernelspec": {
   "display_name": "Python 3",
   "language": "python",
   "name": "python3"
  },
  "language_info": {
   "codemirror_mode": {
    "name": "ipython",
    "version": 3
   },
   "file_extension": ".py",
   "mimetype": "text/x-python",
   "name": "python",
   "nbconvert_exporter": "python",
   "pygments_lexer": "ipython3",
   "version": "3.6.1"
  }
 },
 "nbformat": 4,
 "nbformat_minor": 2
}
