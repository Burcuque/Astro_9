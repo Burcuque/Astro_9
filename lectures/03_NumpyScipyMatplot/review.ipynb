{
 "cells": [
  {
   "cell_type": "markdown",
   "metadata": {},
   "source": [
    "## Brief Review of Python Material\n",
    "\n",
    "We've covered a lot of ground since we first started talking about the Python language. In this mini-review, I want to review some of the big concepts and go over some worked examples of the material. This **is not an exhaustive** review, and you wil want to become familiar with all of the material covered in lectures and homeworks up till now. This is a good time to get clarification on topics that will be the building blocks for the rest of the course and, if you continue to program in Python after the class, the basis of your workflow in Python. First, let's come back to the statement we saw in the first lecture.\n",
    "\n",
    "> \"Python is an interpreted, object-oriented, high-level programming language with dynamic semantics.\"\n",
    "<br>\n",
    "> -- https://www.python.org/doc/essays/blurb/\n",
    "\n",
    "Let's also think about the Zen of Python:"
   ]
  },
  {
   "cell_type": "code",
   "execution_count": null,
   "metadata": {},
   "outputs": [],
   "source": [
    "import this"
   ]
  },
  {
   "cell_type": "markdown",
   "metadata": {},
   "source": [
    "### How to Write and Run a Python Program\n",
    "\n",
    "**Method 1**:\n",
    "\n",
    "In your command line, create a file called `script.py` and put Python code into it. You can do this with a command line interface (CLI) text editor, or your favorite Graphical User Interface (GUI) text editor (I use [sublime text](https://www.sublimetext.com/)). Then run it from the command line like\n",
    "```\n",
    "python script.py\n",
    "```\n",
    "It should run through, and do what you told it to do in the script. If you'd like to work ***interactively*** with the script after running, give it the \"interactive\" flag `-i`\n",
    "```\n",
    "python -i script.py\n",
    "```\n",
    "in which case you will be dumped into the interpreter after having run the script. You can also opt to use `ipython` instead of just `python`, which is a more interactive way to run code and gives you access to \"magic\" functions that you can't get with just Python. In this case, your code-run command would look like\n",
    "```\n",
    "ipython -i script.py\n",
    "```\n",
    "\n",
    "**Method 2**:\n",
    "\n",
    "Use the Jupyter Notebook environment to write ***and narrate*** your code in one go! A Jupyter Notebook is like a display for your code.\n",
    "\n",
    "Note that if you are writing code that needs to be\n",
    "* imported from other codes\n",
    "* acts as a pipeline and thus needs to be run from the command line\n",
    "\n",
    "then you will **likely not want** to use the Jupyter Notebook environment and should probably put your code in a normal `.py` script."
   ]
  },
  {
   "cell_type": "markdown",
   "metadata": {},
   "source": [
    "### Built-In Data Types\n",
    "\n",
    "We looked at a few built-in data types in Python, namely\n",
    "* integers\n",
    "* floats\n",
    "* complex\n",
    "* booleans\n",
    "* strings\n",
    "* None types\n",
    "\n",
    "We saw that we can convert from one data type to another using the built-in functions\n",
    "* int\n",
    "* float\n",
    "* complex\n",
    "* bool\n",
    "* str\n",
    "\n",
    "So don't overwrite these! They are important to the proper functioning of your Python interpreter."
   ]
  },
  {
   "cell_type": "code",
   "execution_count": null,
   "metadata": {},
   "outputs": [],
   "source": [
    "# integer - float arithmetic yields a float\n",
    "5 + 2.5"
   ]
  },
  {
   "cell_type": "code",
   "execution_count": null,
   "metadata": {},
   "outputs": [],
   "source": [
    "# integer - integer division yields a float!\n",
    "10 / 2"
   ]
  },
  {
   "cell_type": "code",
   "execution_count": null,
   "metadata": {},
   "outputs": [],
   "source": [
    "# certain string - integer arithmetic works! others don't\n",
    "'hello there!' + ' well goodbye then...'"
   ]
  },
  {
   "cell_type": "code",
   "execution_count": null,
   "metadata": {},
   "outputs": [],
   "source": [
    "'this' / 'probably wont work'"
   ]
  },
  {
   "cell_type": "markdown",
   "metadata": {},
   "source": [
    "### Built-In Data Structures\n",
    "\n",
    "We also looked at a few built-in data structures, namely\n",
    "* lists\n",
    "* tuples\n",
    "* sets\n",
    "* dictionaries"
   ]
  },
  {
   "cell_type": "code",
   "execution_count": null,
   "metadata": {},
   "outputs": [],
   "source": [
    "# lists are easy to use and mutable\n",
    "data = [1, 2, 3, 4, 5]\n",
    "data[0] = 100\n",
    "data"
   ]
  },
  {
   "cell_type": "code",
   "execution_count": null,
   "metadata": {},
   "outputs": [],
   "source": [
    "# list comprehension joins a for loop and a list together\n",
    "lc = [x**2 for x in range(10)]\n",
    "lc"
   ]
  },
  {
   "cell_type": "code",
   "execution_count": null,
   "metadata": {},
   "outputs": [],
   "source": [
    "# we can slice lists\n",
    "[1, 2, 3, 4, 5, 6, 7, 8][::2]"
   ]
  },
  {
   "cell_type": "code",
   "execution_count": null,
   "metadata": {},
   "outputs": [],
   "source": [
    "# dictionaries are awesome and make you sound smart!\n",
    "genus = {\"deer\" : \"Odocoileus\", \"hedgehog\" : \"Erinaceus\", \"Dolphin\": \"Tursiops\"}\n",
    "\n",
    "print(\"The genus of a %s is the %s genus\" % (\"hedgehog\", genus[\"hedgehog\"]))"
   ]
  },
  {
   "cell_type": "markdown",
   "metadata": {},
   "source": [
    "### Conditionals (`if-elif-else` statements)\n",
    "\n",
    "Conditional statements give us control over the flow of our code."
   ]
  },
  {
   "cell_type": "code",
   "execution_count": null,
   "metadata": {},
   "outputs": [],
   "source": [
    "myname = \"Nick\"\n",
    "if myname == \"Nick\":\n",
    "    print(\"Hello there Nick!\")\n",
    "else:\n",
    "    print(\"Who are you?\")"
   ]
  },
  {
   "cell_type": "markdown",
   "metadata": {},
   "source": [
    "### `for` and `while` loops\n",
    "For loops and while loops give us the ability to repeat and iterate over a block of code. The structure of a `for` loop is to iterate over a list, while the structure of a while loop is to repeat until some condition is broken. You can manually skip one iteration within a loop using the `continue` command, and exit a loop entirely with the `break` command."
   ]
  },
  {
   "cell_type": "code",
   "execution_count": null,
   "metadata": {
    "collapsed": true
   },
   "outputs": [],
   "source": [
    "import random"
   ]
  },
  {
   "cell_type": "code",
   "execution_count": null,
   "metadata": {},
   "outputs": [],
   "source": [
    "# Custom Magic 8-Ball\n",
    "\n",
    "while True:\n",
    "    # ask question\n",
    "    question = input(\"Ask a yes-or-no question: \")\n",
    "\n",
    "    # generate random\n",
    "    rand = random.randint(1, 8)\n",
    "\n",
    "    # answer\n",
    "    if rand == 8:\n",
    "        print(\"impossible\")\n",
    "    elif rand == 7:\n",
    "        print(\"highly implausible\")\n",
    "    elif rand == 6:\n",
    "        print(\"unlikely\")\n",
    "    elif rand == 5:\n",
    "        print(\"who knows?\")\n",
    "    elif rand == 4:\n",
    "        print(\"50-50\")\n",
    "    elif rand == 3:\n",
    "        print(\"likely\")\n",
    "    elif rand == 2:\n",
    "        print(\"most probably\")\n",
    "    elif rand == 1:\n",
    "        print(\"absolutely\")\n",
    "\n",
    "    again = input(\"Ask another question? [y/n] \")\n",
    "    if again != 'y':\n",
    "        break"
   ]
  },
  {
   "cell_type": "markdown",
   "metadata": {},
   "source": [
    "### Mutability and References\n",
    "\n",
    "All variables in Python are just references to the place in memory where our desired object, or data, lies. Variable-to-variable assignment doesn't pass the data, it passes the references. For objects that are mutable, this means we can accidently change data without explicitely doing so.\n",
    "\n",
    "<img src=\"../02_IntroPython/imgs/references.png\" width=600px/>\n",
    "<center>IC: *Learning Python*, Mark Lutz</center>\n"
   ]
  },
  {
   "cell_type": "code",
   "execution_count": null,
   "metadata": {},
   "outputs": [],
   "source": [
    "# strings are immutable\n",
    "myname = \"Nick\"\n",
    "myname[0] = \"n\""
   ]
  },
  {
   "cell_type": "code",
   "execution_count": null,
   "metadata": {},
   "outputs": [],
   "source": [
    "# lista are immutable\n",
    "mylist = [1, 2, 3]\n",
    "mylist[0] = 100\n",
    "mylist"
   ]
  },
  {
   "cell_type": "code",
   "execution_count": null,
   "metadata": {},
   "outputs": [],
   "source": [
    "# as such, be carefule when doing something like this\n",
    "yourlist = mylist\n",
    "mylist[0] = -100\n",
    "print(yourlist)"
   ]
  },
  {
   "cell_type": "code",
   "execution_count": null,
   "metadata": {},
   "outputs": [],
   "source": [
    "# mylist and yourlist are not objects themselves, but references to the same object!\n",
    "print(hex(id(mylist)))\n",
    "print(hex(id(yourlist)))"
   ]
  },
  {
   "cell_type": "markdown",
   "metadata": {},
   "source": [
    "### Error Handling\n",
    "\n",
    "Use the syntax\n",
    "```\n",
    "try:\n",
    "    <code to try>\n",
    "except:\n",
    "    <code to do if fails>\n",
    "```\n",
    "to allow your code to predict when it will fail, and to suggest alternative routes in the case that it does."
   ]
  },
  {
   "cell_type": "code",
   "execution_count": null,
   "metadata": {},
   "outputs": [],
   "source": [
    "# Practice with a try statement\n",
    "while True:\n",
    "    try:\n",
    "        number = int(input('Please enter an integer: '))\n",
    "        break\n",
    "    except ValueError:\n",
    "        print(\"That wasn't an integer, try again...\")\n",
    "        \n",
    "print(\"Your number is\", number)"
   ]
  },
  {
   "cell_type": "markdown",
   "metadata": {},
   "source": [
    "### Breakout\n",
    "\n",
    "Write a Python script to calculate the luminosity of a star given its surface temperature and radius. Have the script *ask the user for input* on the radius and temperature. To calculate the luminosity, use the following equation\n",
    "\n",
    "\\begin{align}\n",
    "L = 4\\pi R^{2}\\sigma T^{4}\n",
    "\\end{align}\n",
    "\n",
    "where $\\sigma = 5.67\\times10^{-8}$ W m$^{-2}$ K$^{-4}$. Include error handling to make sure the things the user feeds can be converted into a float-type. Use your code to calculate the luminosity of the Sun, whose $R = 6.9\\times10{^8}$ m and $T\\approx5700$ K."
   ]
  },
  {
   "cell_type": "markdown",
   "metadata": {},
   "source": [
    "### Functions\n",
    "\n",
    "Functions are pieces of code we have chosen to separate **into a separate namespace**. We can **call** the function at anytime and run said code, feeding any necessary **arguments** and optionally **keyword arguments**."
   ]
  },
  {
   "cell_type": "code",
   "execution_count": null,
   "metadata": {
    "collapsed": true
   },
   "outputs": [],
   "source": [
    "def find_odd(x):\n",
    "    return bool(x % 2)"
   ]
  },
  {
   "cell_type": "code",
   "execution_count": null,
   "metadata": {},
   "outputs": [],
   "source": [
    "find_odd(2)"
   ]
  },
  {
   "cell_type": "code",
   "execution_count": null,
   "metadata": {},
   "outputs": [],
   "source": [
    "find_odd(1241251353)"
   ]
  },
  {
   "cell_type": "markdown",
   "metadata": {},
   "source": [
    "### Modules\n",
    "\n",
    "Modules are function written in separate Python scripts that do not come pre-loaded when you fire up a Python interpreter. You can **import** modules using the syntax\n",
    "```\n",
    "import <modulename>\n",
    "```\n",
    "and can optionally choose to rename it in your global namespace (if you are lazy and want to save keystrokes)."
   ]
  },
  {
   "cell_type": "code",
   "execution_count": null,
   "metadata": {},
   "outputs": [],
   "source": [
    "!pip install pygame"
   ]
  },
  {
   "cell_type": "markdown",
   "metadata": {},
   "source": [
    "If the window that opens from the code below won't close, you can stop the program by clicking the \"interrupt kernel\" buttom in the toolbar above (square button). I still wasn't able to close the window so I just restarted the kernel entirely and it went away (circle-arrow button)."
   ]
  },
  {
   "cell_type": "code",
   "execution_count": null,
   "metadata": {},
   "outputs": [],
   "source": [
    "import pygame\n",
    "from pygame.locals import *\n",
    "\n",
    "screen_width = 800\n",
    "screen_height = 800\n",
    "\n",
    "start_x = 2\n",
    "start_y = 2\n",
    "speed = 8\n",
    "\n",
    "clock = pygame.time.Clock()\n",
    "\n",
    "screen = pygame.display.set_mode((screen_width, screen_height))\n",
    "pokemon = pygame.image.load('imgs/drowzee.png')\n",
    "\n",
    "position = (2, 4)\n",
    "\n",
    "while True:\n",
    "    clock.tick(40)\n",
    "    #screen.fill('k')\n",
    "\n",
    "    for event in pygame.event.get():\n",
    "        if not hasattr(event, 'key'):\n",
    "            continue\n",
    "        if event.key == K_ESCAPE:\n",
    "            exit(0)\n",
    "\n",
    "    position = (position[0] + speed, position[1])\n",
    "    screen.blit(pokemon, position)\n",
    "    pygame.display.flip()\n",
    "    if position[0] > screen_width or position[0] < start_x:\n",
    "        pokemon = pygame.transform.flip(pokemon, True, False)\n",
    "        speed = -1 * speed"
   ]
  },
  {
   "cell_type": "markdown",
   "metadata": {},
   "source": [
    "### Classes and Object Oriented Programming\n",
    "\n",
    "Classes are blueprints for custom objects that you can make yourself! Remember, objects are like containers: they hold data and functions, and the object is a way to make them all talk to each other. You define a class with the `class` command, and layout the class blueprint with an indentation."
   ]
  },
  {
   "cell_type": "code",
   "execution_count": null,
   "metadata": {
    "collapsed": true
   },
   "outputs": [],
   "source": [
    "class My_Class:\n",
    "\n",
    "    def func1(self, arg1):\n",
    "        return arg1**2"
   ]
  },
  {
   "cell_type": "markdown",
   "metadata": {},
   "source": [
    "Classes cannot be called directly, like functions. Instead they need to first be instantiated. Using our analogy, to drive a car, you need to make the blueprints (define a class) and then physically build the car on the assembly line (instantiation). We do this by caling the class with parantheses."
   ]
  },
  {
   "cell_type": "code",
   "execution_count": null,
   "metadata": {
    "collapsed": true
   },
   "outputs": [],
   "source": [
    "# class instantiation\n",
    "MC = My_Class()"
   ]
  },
  {
   "cell_type": "markdown",
   "metadata": {},
   "source": [
    "For our purposes, all function defined within a class need to take the argument `self` first, and then all desired arguments and keyword arguments follow. When you call this functin, you ignore the `self` argument."
   ]
  },
  {
   "cell_type": "code",
   "execution_count": null,
   "metadata": {},
   "outputs": [],
   "source": [
    "# call func1 from MC, but ignore the `self` argument when feeding it parameters\n",
    "MC.func1(10)"
   ]
  },
  {
   "cell_type": "markdown",
   "metadata": {},
   "source": [
    "When we instantiate a class we choose to feed it arguments. If we do, these arguments **do not** get passed to the brackets in the class definition (`class My_Class`), but they get passed to an `__init__()` function, which can \"initialize\" the class for us to use."
   ]
  },
  {
   "cell_type": "code",
   "execution_count": null,
   "metadata": {
    "collapsed": true
   },
   "outputs": [],
   "source": [
    "class dog:\n",
    "    def __init__(self, name):\n",
    "        self.name = name\n",
    "        \n",
    "    def bark(self):\n",
    "        print(\"bark!\")\n",
    "         \n",
    "class cat:\n",
    "    def __init__(self, name):\n",
    "        self.name = name\n",
    "    \n",
    "    def meow(self):\n",
    "        print(\"meow!\")"
   ]
  },
  {
   "cell_type": "code",
   "execution_count": null,
   "metadata": {},
   "outputs": [],
   "source": [
    "# Instantiate\n",
    "C = cat('tom')\n",
    "D = dog('goofy')\n",
    "\n",
    "print(C.name, \"goes:\")\n",
    "C.meow()\n",
    "print(D.name,\"goes: \")\n",
    "D.bark()"
   ]
  },
  {
   "cell_type": "markdown",
   "metadata": {},
   "source": [
    "A custom class can take traits from another pre-defined class using a method called inheritance."
   ]
  },
  {
   "cell_type": "code",
   "execution_count": null,
   "metadata": {
    "collapsed": true
   },
   "outputs": [],
   "source": [
    "# Example in inheritance\n",
    "class dog:\n",
    "    def __init__(self, name):\n",
    "        self.name = name\n",
    "        \n",
    "    def bark(self):\n",
    "        print(\"bark!\")\n",
    "         \n",
    "class cat(dog):\n",
    "    def __init__(self, name):\n",
    "        self.name = name\n",
    "    \n",
    "    def meow(self):\n",
    "        print(\"meow!\")"
   ]
  },
  {
   "cell_type": "code",
   "execution_count": null,
   "metadata": {},
   "outputs": [],
   "source": [
    "# Instantiate\n",
    "C = cat('tom')\n",
    "\n",
    "# tom now has a meow and a bark!\n",
    "C.meow()\n",
    "C.bark()"
   ]
  },
  {
   "cell_type": "markdown",
   "metadata": {},
   "source": [
    "### File I/O\n",
    "\n",
    "You can manually read and write files with a file descriptor, which is a bridge between your Python interpreter and the file itself. You access a file descriptor with the `open()` function. Be sure to close it after you are done so that you don't leak a file descriptor (i.e., lose track of it and keep it open for the duration of your session).  "
   ]
  },
  {
   "cell_type": "code",
   "execution_count": null,
   "metadata": {
    "collapsed": true
   },
   "outputs": [],
   "source": [
    "f = open('data/clusters.csv', 'r')\n",
    "lines = f.readlines()\n",
    "f.close()"
   ]
  },
  {
   "cell_type": "code",
   "execution_count": null,
   "metadata": {},
   "outputs": [],
   "source": [
    "# look at the metadata of clusters.csv\n",
    "lines[0]"
   ]
  },
  {
   "cell_type": "markdown",
   "metadata": {},
   "source": [
    "### Numpy and the `ndarray`\n",
    "\n",
    "`numpy` is an external Python package that gives us the ability to perform fast and efficient operations on data within the `ndarray` data structure. We talked about slicing, fancy indexing, masking, array-concatenating, array-arithmetic & broadcasting, matrix operations, and speed considerations. Let's review a few basic examples."
   ]
  },
  {
   "cell_type": "code",
   "execution_count": null,
   "metadata": {
    "collapsed": true
   },
   "outputs": [],
   "source": [
    "import numpy as np"
   ]
  },
  {
   "cell_type": "code",
   "execution_count": null,
   "metadata": {},
   "outputs": [],
   "source": [
    "# construct a 5x5 array\n",
    "arr = np.arange(11, 36).reshape(5,5)\n",
    "print(arr)"
   ]
  },
  {
   "cell_type": "code",
   "execution_count": null,
   "metadata": {},
   "outputs": [],
   "source": [
    "# use slicing to get just the corner elements\n",
    "arr[::4, ::4]"
   ]
  },
  {
   "cell_type": "code",
   "execution_count": null,
   "metadata": {},
   "outputs": [],
   "source": [
    "# np.where to keep values above 23 and return np.nans for others\n",
    "np.where(arr > 23, arr, np.nan)"
   ]
  },
  {
   "cell_type": "code",
   "execution_count": null,
   "metadata": {},
   "outputs": [],
   "source": [
    "# concatenate it with a 36 - 40 array\n",
    "np.vstack([arr, np.arange(36, 41)])"
   ]
  },
  {
   "cell_type": "code",
   "execution_count": null,
   "metadata": {},
   "outputs": [],
   "source": [
    "# broadcasting for two arrays\n",
    "# this is a special case where one of the two indices don't have to match!\n",
    "arr1 = np.ones( (3, 1) )\n",
    "arr2 = np.ones( (1, 3) )\n",
    "\n",
    "arr1 + arr2"
   ]
  },
  {
   "cell_type": "code",
   "execution_count": null,
   "metadata": {},
   "outputs": [],
   "source": [
    "# matrix operations like dot product\n",
    "vec1 = np.arange(10, 15)\n",
    "np.dot(vec1, vec1)"
   ]
  }
 ],
 "metadata": {
  "kernelspec": {
   "display_name": "Python 3",
   "language": "python",
   "name": "python3"
  },
  "language_info": {
   "codemirror_mode": {
    "name": "ipython",
    "version": 3
   },
   "file_extension": ".py",
   "mimetype": "text/x-python",
   "name": "python",
   "nbconvert_exporter": "python",
   "pygments_lexer": "ipython3",
   "version": "3.6.1"
  }
 },
 "nbformat": 4,
 "nbformat_minor": 2
}
