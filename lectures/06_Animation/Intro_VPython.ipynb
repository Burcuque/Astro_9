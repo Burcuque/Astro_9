{
 "cells": [
  {
   "cell_type": "markdown",
   "metadata": {},
   "source": [
    "## Intro to VPython\n",
    "\n",
    "**Nick Kern**\n",
    "<br>\n",
    "**Astro 9: Python Programming in Astronomy**\n",
    "<br>\n",
    "**UC Berkeley**\n",
    "\n",
    "[VPython](http://vpython.org/) (Visual Python) is a 3D visualization and animation software that uses Python language, meaning you can make low-level animation using the Python syntax we have learned over the course. It is by no means \"professional quality\" animation software, but with some creativity and imagination, you can make some pretty cool animations that can also be a good tool for teaching purposes and science communication!\n",
    "\n",
    "To download, use\n",
    "```\n",
    "python -m pip install vpython\n",
    "```\n",
    "or\n",
    "```\n",
    "conda install -c vpython vpython\n",
    "```\n",
    "\n",
    "If this worked, try going back to the Jupyter Notebook environment and refreshing the page. Now try opening a new Jupyter Notebook. You should see that you can now open a \"VPython\" notebook.\n",
    "\n",
    "On the [homepage](http://vpython.org/), you can find the documentation for help, and some example scripts.\n",
    "\n",
    "If you were able to access the VPython kernel, you can now go ahead and open the \"Animation_VPython.ipynb\" lecture and continue from there."
   ]
  }
 ],
 "metadata": {
  "kernelspec": {
   "display_name": "Python 3",
   "language": "python",
   "name": "python3"
  },
  "language_info": {
   "codemirror_mode": {
    "name": "ipython",
    "version": 3
   },
   "file_extension": ".py",
   "mimetype": "text/x-python",
   "name": "python",
   "nbconvert_exporter": "python",
   "pygments_lexer": "ipython3",
   "version": "3.6.1"
  }
 },
 "nbformat": 4,
 "nbformat_minor": 2
}
