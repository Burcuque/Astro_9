{
 "cells": [
  {
   "cell_type": "markdown",
   "metadata": {},
   "source": [
    "## Numerical Integration\n",
    "**Nick Kern**\n",
    "<br>\n",
    "**Astro 9: Python Programming in Astronomy**\n",
    "<br>\n",
    "**UC Berkeley**\n",
    "\n",
    "Reading: [Chp. 5, Computational Physics w/ Python](http://www-personal.umich.edu/~mejn/computational-physics/)\n"
   ]
  },
  {
   "cell_type": "markdown",
   "metadata": {},
   "source": [
    "In general, the one-dimensional integral of some function $f(x)$ over some bounds can be represented as\n",
    "\n",
    "\\begin{align}\n",
    "I = \\int_{a}^{b}f(x)\\ \\text{d} x,\n",
    "\\end{align}\n",
    "\n",
    "where recall that integrals are really just giving us the area under some curve.\n",
    "\n",
    "Some integrals we can sovlve exactly using analytic methods. However, some integrals we can't solve analytically. In which case, we can also solve integrals numerically. To do so, we approximate the integral as a discrete sum over vertical slices of the function:\n",
    "\n",
    "\\begin{align}\n",
    "I \\approx \\sum_{k=0}^{N-1}A_{k},\n",
    "\\end{align}\n",
    "where $A_{k}$ is the area of each slice (see below figure). Note that numerical integrals of this form are not exact: they are approximations, and we can control their errors by changing the number of slices we divide our integral into.\n",
    "\n",
    "\n",
    "<img src='imgs/integral.png' width=700px/>\n",
    "<center>IC: Figure 5.1, Newman</center>\n",
    "\n",
    "One way to do this integral is to juse a step-function for each slice, in which case our slices resemble rectangles. We can see that we can easily do better by approximating the slices as **trapezoids**, which better matches the underlying function $f(x)$."
   ]
  },
  {
   "cell_type": "markdown",
   "metadata": {},
   "source": [
    "Take figure (b) as an example. Say we divide our integral evenly into N slices. Each slice has a width $h=(b-a)/N$, and has a left-hand point (LHP) and a right-hand point (RHP) on the $x$-axis. If $k$ is zeroth indexed, the LHP and RHP can be represented as\n",
    "\n",
    "\\begin{align}\n",
    "LHP_{k} &= a + k\\cdot h\\\\\n",
    "RHP_{k} &= a + (k+1)\\cdot h\n",
    "\\end{align}\n",
    "\n",
    "The area of the $k^{th}$ trapezoid is the area of its constituent rectangle and triangle:\n",
    "\n",
    "\\begin{align}\n",
    "A_{k} &= h * f(LHP) + \\frac{1}{2}h\\cdot\\left[f(RHP)-f(LHP)\\right]\\\\\n",
    "&= \\frac{1}{2}h\\left[f(LHP) + f(RHP)\\right]\n",
    "\\end{align}"
   ]
  },
  {
   "cell_type": "markdown",
   "metadata": {},
   "source": [
    "Our numerical integral is then the sum of trapezoids over the entire interval. For our case where $N=4$ this looks like,\n",
    "\n",
    "\\begin{align}\n",
    "I &\\approx \\sum_{k=0}^{N-1}A_{k} = \\frac{1}{2}h\\sum_{k=0}^{N-1}\\left[f(a+kh) + f(a+(k+1)h)\\right]\\\\\n",
    "&= \\frac{1}{2}h\\left[f(a) + f(a+h) + f(a+h) + f(a+2h) + f(a+2h) + f(a+3h) + f(a+3h) + f(b) \\right]\n",
    "\\end{align}\n",
    "\n",
    "Note that the first and last term in this sum is just $f(a)$ and $f(b)$ and all other terms appear twice, meaning that\n",
    "\n",
    "\\begin{align}\n",
    "I \\approx h\\left[\\frac{1}{2}f(a) + \\frac{1}{2}f(b) + \\sum_{k=1}^{N-1}f(a+kh)\\right]\n",
    "\\end{align}\n",
    "\n"
   ]
  },
  {
   "cell_type": "markdown",
   "metadata": {},
   "source": [
    "### Breakout\n",
    "\n",
    "Write a function, `trap_int`, that implements the trapezoidal rule for integration. I have gotten you started with some starter code, in which case we are feeding the integrator the function we want to integrate (`func`) and the bounds (`a`, `b`) we want it to integrate to.\n",
    "\n",
    "Note that in this case, the number of points you need to generate along the $x$-axis is actually $N+1$ and is inclusive on both sides. There is a particular `numpy` function that is well-suited to the task and it is not `arange`!\n",
    "\n",
    "Use your function to integrate the polynomial, $f(x) = 4x^3 - 2x^2 + 2x + 5$ for $-1 < x < 1$. How many slices do you need to achieve 1% accuracy with the exact value?\n",
    "\n",
    "If you want to keep your results, you might want to copy over your solution into a separate script and put that outside of the Astro_9 directory: everytime I start a new lecture, your breakout material below may be erased and/or overwritten."
   ]
  },
  {
   "cell_type": "code",
   "execution_count": null,
   "metadata": {
    "collapsed": true
   },
   "outputs": [],
   "source": []
  },
  {
   "cell_type": "code",
   "execution_count": null,
   "metadata": {
    "collapsed": true
   },
   "outputs": [],
   "source": []
  },
  {
   "cell_type": "code",
   "execution_count": null,
   "metadata": {
    "collapsed": true
   },
   "outputs": [],
   "source": []
  },
  {
   "cell_type": "code",
   "execution_count": null,
   "metadata": {
    "collapsed": true
   },
   "outputs": [],
   "source": []
  }
 ],
 "metadata": {
  "kernelspec": {
   "display_name": "Python 3",
   "language": "python",
   "name": "python3"
  },
  "language_info": {
   "codemirror_mode": {
    "name": "ipython",
    "version": 3
   },
   "file_extension": ".py",
   "mimetype": "text/x-python",
   "name": "python",
   "nbconvert_exporter": "python",
   "pygments_lexer": "ipython3",
   "version": "3.6.1"
  }
 },
 "nbformat": 4,
 "nbformat_minor": 2
}
