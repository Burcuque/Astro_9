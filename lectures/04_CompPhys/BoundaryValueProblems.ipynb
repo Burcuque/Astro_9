{
 "cells": [
  {
   "cell_type": "markdown",
   "metadata": {},
   "source": [
    "## Boundary Value Problems\n",
    "\n",
    "**Nick Kern**\n",
    "<br>\n",
    "**Astro 9: Python Programming in Astronomy**\n",
    "<br>\n",
    "**UC Berkeley**\n",
    "\n",
    "Reading: Chp 8 of Newman\n",
    "\n",
    "In our study of second-order Ordinary Differential Equations (ODE), we have limited ourselves to solving **initial value** problems. In other words, we looked at problems where we were given an initial condition for all dependent variables of our system. Take, for example, our nonlinear pendulum, where we fed both a starting angle $\\theta_0$ and an initial angular velocity $\\omega_0$. This is also the case for our projectile example, where we fed initial positions $x_0,\\ y_0$ and initial velocities, $v_{x,0},\\ v_{y,0}$. We then used the techniques for solving ODEs for integrating the solution out to some ending time $t_2$.\n",
    "\n",
    "There is another form of problem called **boundary value problems**, where we are given both an initial and final condition. In other words, the conditions straddle the boundary of the solution. Our task is to find the solution that passes through both the initial and final condition. One example of this can be seen going back to our projectile ODE: instead of feeding initial positions and initial velocities, we can feed an initial position and a final position, and solve for what initial velocity gives us a solution.\n",
    "\n",
    "We can do this through trial and error, until we converge upon initial conditions that, when combined with our ODE, result in the desired final conditions. This is called, the **shooting method**.\n",
    "\n",
    "<img src='imgs/shooting.png' width=500px/>\n",
    "<center>Figure 8.9, Newman</center>\n",
    "\n",
    "We could search for the right initial conditions by hand, but rarely in computational physics do we want to do anything by hand (the motto for this course), so we should come-up with algorithm that will do this for us. Let's start by re-formulating the problem.\n",
    "\n",
    "Let's assume that we are given one initial condition, $x_i$ and one final condition, $x_f$. Our task is to search for another initial condition, $\\theta_i$, that when combined with our differential equations, satisfies our given conditions, $x_i$ and $x_f$. One way to view this is to assume there is some function that maps the unknown initial condition to the ODE solution: $f(\\theta_i) = x$. What we want is to find $\\theta_i$ that makes $f(\\theta_i) = x_f$. Another way to phrase this is that we want\n",
    "\n",
    "\\begin{align}\n",
    "f(\\theta_i) - x_f = 0\n",
    "\\end{align}\n",
    "\n",
    "which means we want to find the **root** of the expression on the left as a function of $\\theta_i$. We can do this with a root finding method, which we haven't yet discussed, so let's spend some time talking about one particular root-finding method called the **binary search** method."
   ]
  },
  {
   "cell_type": "markdown",
   "metadata": {
    "collapsed": true
   },
   "source": [
    "### Binary Search Root Finding Method\n",
    "\n",
    "The idea behind a root finding algorithm is this: we have some continuous function that at some point crosses the x-axis, which is to say that it's y-value is zero. This can happen multiple times, but it needs to happen at least once.\n",
    "\n",
    "<img src='imgs/binary_search.png' width=400px/>\n",
    "<center>Figure 6.3, Newman</center>\n",
    "\n",
    "The idea behind the binary search method is to place two starting points, $x_1$ and $x_2$, separated by a wide distance which we will call $\\ell$. We then evaluate our expression and compare the parity (positive or negative) of the expression at these two points. If they have opposite parity, then that means there is at least one root in the space between our points.\n",
    "\n",
    "Next we take a new point, $x^{\\prime}$, that is halfway between our two original points and evalute the parity of the expression there. If, by chance, the expression actually equals zero, then we have achieved our goal and we stop. This will almost never be the case, so typically what we do is compare its parity with our previous two points and select the one that has opposite parity. The root of the expression now must lie somewhere in between this midpoint and that original point, meaning we have narrowed down the possible locations where the root lies. In other words, $\\ell$ is now equal to $\\ell/2$. We repeat this until we have an $\\ell$ that has converged to some tolerance and we stop and say the root is somewhere near the midpoint of our last iteration. "
   ]
  },
  {
   "cell_type": "markdown",
   "metadata": {},
   "source": [
    "**Example: Finding the Root of a quadratic**\n",
    "\n",
    "Let's take the equation\n",
    "\n",
    "\\begin{align}\n",
    "x^2 - 4x = 0\n",
    "\\end{align}\n",
    "\n",
    "and use a binary search method to solve for its roots. You can probably guess that the equation looks something like\n",
    "\n",
    "<img src='imgs/quadratic.png' width=350px/>\n",
    "\n",
    "in which case we see there are two roots at $x = [0, 4]$. We therefore need to be careful, if we take $x_1$ and $x_2$ to be too far apart, we won't be able to find any roots because they will both be positive."
   ]
  },
  {
   "cell_type": "code",
   "execution_count": 5,
   "metadata": {
    "collapsed": true
   },
   "outputs": [],
   "source": [
    "%matplotlib inline\n",
    "import numpy as np\n",
    "import matplotlib.pyplot as plt"
   ]
  },
  {
   "cell_type": "code",
   "execution_count": 71,
   "metadata": {
    "collapsed": true
   },
   "outputs": [],
   "source": [
    "# define function\n",
    "def f(x):\n",
    "    return x**2 - 4*x\n",
    "\n",
    "# define starting points and starting values\n",
    "x1 = -10\n",
    "x2 = 1\n",
    "y1 = f(x1)\n",
    "y2 = f(x2)\n",
    "\n",
    "# define root solution tolerance\n",
    "tol = 1e-3\n",
    "\n",
    "# binary search!\n",
    "while abs(x2 - x1) >= tol:\n",
    "    # get midpoint\n",
    "    xprime = (x1 + x2)/2.0\n",
    "    yprime = f(xprime)\n",
    "    # change starting points depending on parity\n",
    "    if yprime * y1 > 0:\n",
    "        x1 = xprime\n",
    "        y1 = yprime\n",
    "    else:\n",
    "        x2 = xprime\n",
    "        y2 = yprime\n",
    "        \n",
    "xroot = (x1 + x2)/2\n",
    "yroot = f(xroot)"
   ]
  },
  {
   "cell_type": "markdown",
   "metadata": {
    "collapsed": true
   },
   "source": [
    "### Breakout 1: L1 Lagrangian Point\n",
    "\n",
    "There is a location between the Earth and the Moon where the mutual gravitational interaction has created a stable orbital location between them. We call these lagrangian points, and for a two-body system there are five of them.\n",
    "\n",
    "<img src='imgs/lagrange_points.png' width=400px/>\n",
    "<center>Example of the five L points for a two-body system of the Sun and Earth. In our case, we are looking at the Earth and the Moon.</center>\n",
    "\n",
    "Let's solve for the distance away the L1 point is from Earth in a two-body system containing the Earth and the Moon. We can setup a force diagram and show that the acceleration vectors acting on an object at the L1 location can be written as\n",
    "\n",
    "\\begin{align}\n",
    "\\frac{GM}{r^2} - \\frac{Gm}{(R-r)^2} = \\omega^2r\n",
    "\\end{align}\n",
    "\n",
    "where $G = 6.674\\times10^{-11}$ m$^3$ kg$^{-1}$ sec$^{-2}$ is the gravitational constant, $M = 5.974\\times10^{24}$ kg is the mass of the Earth, $m=7.348\\times10^{22}$ kg is the mass of the Moon, $R=3.844\\times10^{8}$ meters is the distance from the Earth to the Moon, and $\\omega = 2.662\\times10^{-6}$ sec$^{-1}$ is the angular velocity of the Moon's orbit.\n",
    "\n",
    "1.\n",
    "Use a binary search method to solve for the distance from the center of the Earth to the L1 point, with an accuracy to at least four significant figures."
   ]
  },
  {
   "cell_type": "code",
   "execution_count": null,
   "metadata": {
    "collapsed": true
   },
   "outputs": [],
   "source": []
  },
  {
   "cell_type": "code",
   "execution_count": null,
   "metadata": {
    "collapsed": true
   },
   "outputs": [],
   "source": []
  },
  {
   "cell_type": "markdown",
   "metadata": {
    "collapsed": true
   },
   "source": [
    "Now that we have a root finding algorithm, we can return to the ODE and our boundary value problem.\n",
    "\n",
    "**Example: Projectile Trajectory with Air Resistance**\n",
    "\n",
    "Let's return to the problem of solving for a projecitle's trajectory subject to air resistance. We will assume that the initial firing angle is held constant at $\\theta=35^\\circ$. **What is the initial velocity that will give us a direct hit with a target on the ground at $x = 100$ meters?** Let's combine our ODE solver and our binary search method to answer this question. The expression we want to find the root of is\n",
    "\n",
    "\\begin{align}\n",
    "x(y=0) = 100\n",
    "\\end{align}"
   ]
  },
  {
   "cell_type": "code",
   "execution_count": 6,
   "metadata": {
    "collapsed": true
   },
   "outputs": [],
   "source": [
    "# define derivative function\n",
    "def f(r, t):\n",
    "    # unpack array\n",
    "    x = r[0]\n",
    "    vx = r[1]\n",
    "    y = r[2]\n",
    "    vy = r[3]\n",
    "    # assign derivatives\n",
    "    fx = vx\n",
    "    fvx = -np.pi*R**2*RHO*C/2/m*vx*np.sqrt(vx**2 + vy**2)\n",
    "    fy = vy\n",
    "    fvy = -g - np.pi*R**2*RHO*C/2/m*vy*np.sqrt(vx**2 + vy**2)\n",
    "    # repack\n",
    "    return np.array([fx, fvx, fy, fvy], dtype=np.float)"
   ]
  },
  {
   "cell_type": "code",
   "execution_count": 7,
   "metadata": {
    "collapsed": true
   },
   "outputs": [],
   "source": [
    "# Define RK4 algorithm with error estimate\n",
    "def RK4_adaptive(f, r1, t1, y2, dt=1e-3, err_tol=1e-4):\n",
    "\n",
    "    # Define initial condition\n",
    "    r = r1.copy()\n",
    "\n",
    "    # define a function for RK4 update\n",
    "    def rk4_update(r, t, dt):\n",
    "        # update value using RK4\n",
    "        k1 = dt * f(r, t)\n",
    "        k2 = dt * f(r+0.5*k1, t+0.5*dt)\n",
    "        k3 = dt * f(r+0.5*k2, t+0.5*dt)\n",
    "        k4 = dt * f(r+k3, t+dt)\n",
    "        return r + (k1 + 2*k2 + 2*k3 + k4)/6.0\n",
    "\n",
    "    # Iterate RK4 Method\n",
    "    t = t1\n",
    "    xpoints = []\n",
    "    ypoints = []\n",
    "    tpoints = []\n",
    "    while r[2] >= y2:\n",
    "        # append value of x to xpoints\n",
    "        xpoints.append(r[0])\n",
    "        ypoints.append(r[2])\n",
    "        tpoints.append(t)\n",
    "\n",
    "        # Enter error tolerance loop\n",
    "        while True:\n",
    "            ## Calculate estimated error ##\n",
    "            # double step\n",
    "            r1_a = rk4_update(r, t, dt).copy()\n",
    "            r1 = rk4_update(r1_a, t+dt, dt).copy()\n",
    "            # big step\n",
    "            r2 = rk4_update(r, t, 2*dt).copy()\n",
    "\n",
    "            # calculate total error\n",
    "            eps_x = np.abs(r1[0] - r2[0])/30.0\n",
    "            eps_y = np.abs(r1[2] - r2[2])/30.0\n",
    "            eps_tot = np.sqrt(eps_x**2 + eps_y**2)\n",
    "\n",
    "            # calculate rho\n",
    "            rho = (dt*err_tol/eps_tot)**(1./4)\n",
    "\n",
    "            # evaluate ideal step size\n",
    "            if rho >= 1.0:\n",
    "                if rho >= 2.0:\n",
    "                    rho = 2.0\n",
    "                break\n",
    "            else:\n",
    "                if rho < 0.5:\n",
    "                    rho = 0.5\n",
    "                dt *= 0.99*rho\n",
    "\n",
    "        # update dt\n",
    "        dt *= 0.99*rho\n",
    "\n",
    "        # update r to the single step\n",
    "        r = r1_a.copy()\n",
    "\n",
    "        # update t\n",
    "        t += dt\n",
    "        \n",
    "    xpoints = np.array(xpoints)\n",
    "    ypoints = np.array(ypoints)\n",
    "    tpoints = np.array(tpoints)\n",
    "    \n",
    "    # solve for when ball hits ground by extrapolating last two points\n",
    "    # y = mx + b\n",
    "    m = (ypoints[-1]-ypoints[-2])/(xpoints[-1]-xpoints[-2])\n",
    "    b = ypoints[-1] - m*xpoints[-1]\n",
    "    xfinal = (0 - b) / m\n",
    "    yfinal = 0\n",
    "    # t = nx + c\n",
    "    n = (tpoints[-1]-tpoints[-2])/(xpoints[-1]-xpoints[-2])\n",
    "    c = tpoints[-1] - n*xpoints[-1]\n",
    "    tfinal = n * xfinal + c\n",
    "    \n",
    "    return tfinal, xfinal, yfinal"
   ]
  },
  {
   "cell_type": "code",
   "execution_count": 13,
   "metadata": {
    "collapsed": true
   },
   "outputs": [],
   "source": [
    "# Initial Conditions\n",
    "g = 9.81\n",
    "m = 1\n",
    "R = 0.08\n",
    "C = 0.47\n",
    "RHO = 1.22\n",
    "\n",
    "# create root function\n",
    "def displacement(v_mag):\n",
    "    theta0 = 30.0 * np.pi/180\n",
    "    vx0 = v_mag * np.cos(theta0)\n",
    "    vy0 = v_mag * np.sin(theta0)\n",
    "    r1 = np.array([0, vx0, 0, vy0])\n",
    "\n",
    "    # run solver\n",
    "    tf, xf, yf = RK4_adaptive(f, r1, 0, 0, dt=1e-5, err_tol=1e-6)\n",
    "    return xf - 100.0"
   ]
  },
  {
   "cell_type": "code",
   "execution_count": 14,
   "metadata": {},
   "outputs": [
    {
     "name": "stderr",
     "output_type": "stream",
     "text": [
      "/Users/nkern/Software/anaconda2/envs/py36/lib/python3.6/site-packages/ipykernel_launcher.py:42: RuntimeWarning: divide by zero encountered in double_scalars\n"
     ]
    },
    {
     "data": {
      "text/plain": [
       "<matplotlib.text.Text at 0x115c0a240>"
      ]
     },
     "execution_count": 14,
     "metadata": {},
     "output_type": "execute_result"
    },
    {
     "data": {
      "image/png": "[encoded data removed]",
      "text/plain": [
       "<matplotlib.figure.Figure at 0x115c40be0>"
      ]
     },
     "metadata": {},
     "output_type": "display_data"
    }
   ],
   "source": [
    "# Let's just plot the function to get an idea of what it looks like\n",
    "v = np.linspace(10,150,100)\n",
    "y = np.array(list(map(displacement, v)))\n",
    "\n",
    "fig = plt.figure(figsize=(8,8))\n",
    "ax = fig.add_subplot(1, 1, 1)\n",
    "ax.grid(True)\n",
    "ax.plot(v, y, linewidth=2)\n",
    "ax.set_xlabel('initial velocity [m/s]', fontsize=16)\n",
    "ax.set_ylabel(r'$x_f - 100$', fontsize=18)"
   ]
  },
  {
   "cell_type": "code",
   "execution_count": 12,
   "metadata": {},
   "outputs": [
    {
     "name": "stdout",
     "output_type": "stream",
     "text": [
      "Optimal initial velocity is 42.21 m/s\n"
     ]
    },
    {
     "name": "stderr",
     "output_type": "stream",
     "text": [
      "/Users/nkern/Software/anaconda2/envs/py36/lib/python3.6/site-packages/ipykernel_launcher.py:42: RuntimeWarning: divide by zero encountered in double_scalars\n"
     ]
    }
   ],
   "source": [
    "# use binary search to get root within 4 sig figs\n",
    "# define starting points and starting values\n",
    "x1 = 1 \n",
    "x2 = 150\n",
    "y1 = displacement(x1)\n",
    "y2 = displacement(x2)\n",
    "\n",
    "# define root solution tolerance\n",
    "tol = 1e-4\n",
    "\n",
    "# binary search!\n",
    "while abs(x2-x1) > tol:\n",
    "    # get midpoint\n",
    "    xprime = (x1+x2)/2.0\n",
    "    yprime = displacement(xprime)\n",
    "    # change starting points depending on parity\n",
    "    if yprime * y1 < 0:\n",
    "        x2 = xprime\n",
    "        y2 = yprime\n",
    "\n",
    "    else:\n",
    "        x1 = xprime\n",
    "        y1 = yprime\n",
    "\n",
    "xroot = (x1+x2)/2\n",
    "yroot = displacement(xroot)\n",
    "\n",
    "print(\"Optimal initial velocity is {:.2f} m/s\".format(xroot))"
   ]
  },
  {
   "cell_type": "markdown",
   "metadata": {},
   "source": [
    "### Breakout 2: Nonlinear Pendulum\n",
    "\n",
    "Let's return to the Nonlinear pendulum and use the methods we've learned to solve a boundary value problem. Let's assume the same set-up as before, except use $\\ell = 1.0$ meters, and this time vary the initial angular velocity, $\\omega_i$, to find when $\\theta = f$ when $t = 1$. Note that you might want to draw from the code in `NumODE_Breakout3.py`, which has the RK4 solver for the 2nd-order ODE.\n",
    "\n",
    "1.\n",
    "First plot the function you want to find the root of as a function of $\\omega_i$ from $0 < \\omega_i < 4$ radians / second. What happens when $\\omega_i \\sim 2$ radians / sec?\n",
    "\n",
    "2.\n",
    "Using your intuition from the previous plot, use a binary search method to find the $\\omega_i$ given the conditions of $\\theta_i=\\pi/3$ when $t_i = 0$ and $\\theta_f=0$ when $t_f = 3$ seconds."
   ]
  },
  {
   "cell_type": "code",
   "execution_count": null,
   "metadata": {
    "collapsed": true
   },
   "outputs": [],
   "source": []
  },
  {
   "cell_type": "code",
   "execution_count": null,
   "metadata": {
    "collapsed": true
   },
   "outputs": [],
   "source": []
  },
  {
   "cell_type": "code",
   "execution_count": null,
   "metadata": {
    "collapsed": true
   },
   "outputs": [],
   "source": []
  },
  {
   "cell_type": "code",
   "execution_count": null,
   "metadata": {
    "collapsed": true
   },
   "outputs": [],
   "source": []
  }
 ],
 "metadata": {
  "kernelspec": {
   "display_name": "Python 3",
   "language": "python",
   "name": "python3"
  },
  "language_info": {
   "codemirror_mode": {
    "name": "ipython",
    "version": 3
   },
   "file_extension": ".py",
   "mimetype": "text/x-python",
   "name": "python",
   "nbconvert_exporter": "python",
   "pygments_lexer": "ipython3",
   "version": "3.6.1"
  }
 },
 "nbformat": 4,
 "nbformat_minor": 2
}
