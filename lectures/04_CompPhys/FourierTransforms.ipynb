{
 "cells": [
  {
   "cell_type": "markdown",
   "metadata": {
    "collapsed": true
   },
   "source": [
    "## Fourier Transforms\n",
    "\n",
    "**Nick Kern**\n",
    "<br>\n",
    "**Astro 9: Python Programming in Astronomy**\n",
    "<br>\n",
    "**UC Berkeley**\n",
    "\n",
    "Reading: Chp 7 of Newman\n",
    "\n",
    "The [Fourier Transform](https://en.wikipedia.org/wiki/Fourier_transform) is a mathematical operation that is one of the most widely used techniques in physics and engineering. A Fourier Transform allows us to take a time-dependent signal and transform it into frequency space. You may have seen the Fourier Transform defined as an integral over a continuous field:\n",
    "\n",
    "\\begin{align}\n",
    "F(\\nu) &= \\int_{-\\infty}^{\\infty}f(t)e^{-2\\pi i\\nu t}dt\\\\\n",
    "\\\\\n",
    "f(t) &= \\int_{-\\infty}^{\\infty}F(\\nu)e^{2\\pi i\\nu t}d\\nu\n",
    "\\end{align}\n",
    "\n",
    "In this lecture, we will look at how we can approximate the above integrals on computers. As you may have guessed, this means approximating continuous integrals as discrete sums."
   ]
  },
  {
   "cell_type": "markdown",
   "metadata": {
    "collapsed": true
   },
   "source": [
    "### The Fourier Series\n",
    "\n",
    "At the core of a Fourier Transform (FT) is the concept of the [Fourier Series](https://en.wikipedia.org/wiki/Fourier_series), which says that we can represent any periodic signal as the infinite linear sum of sinusoids with varying amplitudes and wavelengths. Let's assume we have some periodic signal on the $x$-axis, and we are interested in looking at its behavior from $-L/2 < x < L/2$.\n",
    "\n",
    "<img src='imgs/sawtooth.png' width=500px/>\n",
    "<center>A sawtooth wave, which we will look to model from $-L/2 < x < L/2$."
   ]
  },
  {
   "cell_type": "markdown",
   "metadata": {
    "collapsed": true
   },
   "source": [
    "Because we have both the cosine and sine functions, we can write two distinct Fourier Series for different kinds of periodic signals using either cosines or sines. Because cosine is symmetric about the y-axis, we call this an *even* function, and because sine is symmetric about the origin, we call this an *odd* function. \n",
    "\n",
    "<img src='imgs/sinusoids.png' width=400px/>\n",
    "\n",
    "We can therefore construct an even and odd Fourier series, which looks something like\n",
    "\n",
    "\\begin{align}\n",
    "f(x) &= \\sum_{k=0}^{n=\\infty}\\alpha_k\\cos\\left(\\frac{2\\pi kx}{L}\\right)\\\\\n",
    "\\\\\n",
    "f(x) &= \\sum_{k=1}^{n=\\infty}\\beta_k\\sin\\left(\\frac{2\\pi kx}{L}\\right)\n",
    "\\end{align}\n",
    "\n",
    "For a periodic signal that is odd we would use the sine series, and for a signal that is even we would use the cosine series. The only trick is to figure out the values for the scalars $\\alpha_k$ and $\\beta_k$."
   ]
  },
  {
   "cell_type": "markdown",
   "metadata": {},
   "source": [
    "### Breakout 1: Sine Series for Sawtooth Wave\n",
    "\n",
    "Try to recreate the sawtooth function with a sine series. Assume a sawtooth function can be represented analytically as $f(x) = \\frac{x}{L}$ for $-\\tfrac{L}{2} < x < \\tfrac{L}{2}$, where you should take $L = 1$. Further, use the fact that the coefficients $\\beta_k$ for a sawtooth wave are given as\n",
    "\n",
    "\\begin{align}\n",
    "\\beta_k = -\\frac{2A}{k\\pi}(-1)^k,\n",
    "\\end{align}\n",
    "\n",
    "where $A$ is the amplitude of the sawtooth function, which for us is $A=0.5$.\n",
    "\n",
    "1.\n",
    "Write a function that will take-in a value for $x$ and will output $f(x)$ given the number of terms to use in the series, $n$.\n",
    "\n",
    "2.\n",
    "Make a plot of the sawtooth and then overplot the sine series with $n=[1, 3, 5, 10, 100]$."
   ]
  },
  {
   "cell_type": "code",
   "execution_count": null,
   "metadata": {
    "collapsed": true
   },
   "outputs": [],
   "source": [
    "%matplotlib inline\n",
    "import numpy as np\n",
    "import matplotlib.pyplot as plt"
   ]
  },
  {
   "cell_type": "code",
   "execution_count": null,
   "metadata": {
    "collapsed": true
   },
   "outputs": [],
   "source": [
    "def sine_series(x, n=100):\n",
    "    L = 1.0\n",
    "    k_array = np.arange(1, n+1)\n",
    "    beta_array = -1/(k_array*np.pi) * (-1)**(k_array)\n",
    "    series = 0\n",
    "    sinusoids = np.sin(2*np.pi*k_array*x/L)\n",
    "    series = sum(beta_array * sinusoids)\n",
    "    return series"
   ]
  },
  {
   "cell_type": "code",
   "execution_count": null,
   "metadata": {
    "collapsed": true
   },
   "outputs": [],
   "source": []
  },
  {
   "cell_type": "code",
   "execution_count": null,
   "metadata": {
    "collapsed": true
   },
   "outputs": [],
   "source": []
  },
  {
   "cell_type": "code",
   "execution_count": null,
   "metadata": {
    "collapsed": true
   },
   "outputs": [],
   "source": []
  },
  {
   "cell_type": "code",
   "execution_count": null,
   "metadata": {
    "collapsed": true
   },
   "outputs": [],
   "source": []
  },
  {
   "cell_type": "markdown",
   "metadata": {
    "collapsed": true
   },
   "source": [
    "In general, though, some signal we want to represent is neither odd nor even. For such an arbitrary function, we can use a combination of both sines and cosines:\n",
    "\n",
    "\\begin{align}\n",
    "f(x) = \\sum_{k=0}^{\\infty}\\alpha_k\\cos\\left(\\frac{2\\pi kx}{L}\\right) + \\sum_{k=1}^{\\infty}\\beta_k\\sin\\left(\\frac{2\\pi kx}{L}\\right).\n",
    "\\end{align}\n",
    "\n",
    "Having to write out the sine and cosine terms is a little cumbersome. We can simplify it by turning the cosine and sine terms into a single complex term using [**Euler's Formula**](https://en.wikipedia.org/wiki/Euler%27s_formula), which says $e^{ix} = \\cos(x) + i\\sin(x)$. Utilizing the identities of $\\cos\\theta = \\tfrac{1}{2}\\left(e^{-i\\theta}+e^{i\\theta}\\right)$ and $\\sin\\theta = \\tfrac{1}{2}i\\left(e^{-i\\theta}-e^{i\\theta}\\right)$, we find that the previous equation can also be represented as\n",
    "\n",
    "\\begin{align}\n",
    "f(x) &= \\sum_{-\\infty}^{\\infty}\\gamma_k\\exp\\left(i\\frac{2\\pi kx}{L}\\right)\\\\\n",
    "\\text{where}&\\\\\n",
    "\\gamma_k &=\n",
    "\\begin{cases}\n",
    "\\tfrac{1}{2}(\\alpha_{-k}+i\\beta_{-k}) & \\text{if}\\ k\\lt0\\\\\n",
    "\\alpha_0 & \\text{if}\\ k = 0\\\\\n",
    "\\tfrac{1}{2}(\\alpha_k - i\\beta_k) & \\text{if}\\ k\\gt0\n",
    "\\end{cases}\n",
    "\\end{align}\n",
    "\n",
    "Note that we only have a single term in our sum, but the sum now goes from $-\\infty \\rightarrow \\infty$.\n",
    "\n",
    "The question now becomes how we solve for the $\\gamma_k$ terms. We can do this by **integrating our sinusoids against the function**, like so:\n",
    "\n",
    "\\begin{align}\n",
    "\\gamma_k = \\frac{1}{L}\\int f(x)\\exp\\left(-i\\frac{2\\pi kx}{L}\\right)dx\n",
    "\\end{align}\n",
    "\n",
    "It is not unusual that $f(x)$ is such a complicated function that we cannot perform the above integral by hand. The question then becomes, how can we do this numerically? To do this, we need to use **numerical integration**. This is also known as the **discrete Fourier transform**."
   ]
  },
  {
   "cell_type": "markdown",
   "metadata": {},
   "source": [
    "### The Discrete Fourier Transform (DFT)\n",
    "\n",
    "Let's look at this using the trapezoidal rule. Recall that the trapezoidal rule says that an integral can be approximated by breaking the function into $N$ slices and summing the y-values like\n",
    "\n",
    "\\begin{align}\n",
    "\\int g(x) dx &\\simeq h\\left[\\tfrac{1}{2}g(a) + \\tfrac{1}{2}g(b) + \\sum_{n=1}^{N-1}g(x_n)\\right]\n",
    "\\end{align}\n",
    "\n",
    "In our case, $h = \\tfrac{L}{N}$ and $g(x_n) = f(x_n)\\cdot\\exp\\left[-i\\frac{2\\pi kx_n}{L}\\right]$. However, recall that we defined $f(x)$ to be periodic! Therefore $g(a) = g(b)$, and our discrete approximation for $y_k$ becomes\n",
    "\n",
    "\\begin{align}\n",
    "\\gamma_k = \\frac{1}{N}\\sum_{n=0}^{N-1}f(x_n)\\exp\\left(-i\\frac{2\\pi kx_n}{L}\\right).\n",
    "\\end{align}\n",
    "\n",
    "In the case that our function $f(x)$ is not continuous but is given to us already discretized with $y$values $y_n$ (which is very often the case!), we can rewrite this as\n",
    "\n",
    "\\begin{align}\n",
    "c_k = \\sum_{n=0}^{N-1}y_n\\exp\\left(-i\\frac{2\\pi kn}{N}\\right),\n",
    "\\end{align}\n",
    "\n",
    "where we are now labeling the Fourier coefficients as $c_k$ because this is a commonly used equation called the *discrete Fourier transform*. Notice that by convention, $c_k$ doesn't have the $\\tfrac{1}{N}$ in front.\n",
    "\n",
    "Just like the continuous counterpart, we can convert from $c_k$ back to $y_n$ using the discrete inverse Fourier transform, written as\n",
    "\n",
    "\\begin{align}\n",
    "y_n = \\frac{1}{N}\\sum_{k=0}^{N-1}c_k\\exp\\left(i\\frac{2\\pi kn}{N}\\right).\n",
    "\\end{align}\n",
    "\n",
    "Note that our DFTs don't need to know the position of the samples along $x_n$! Besides this, there is one major difference staring us in the face when we compare the discrete Fourier transform and the Fourier Series: the sum in the former does not extend to infinity, while it does so in the latter.\n",
    "\n",
    "One caveat is that our discrete Fourier transform, when using all the terms, is in fact exact! Even though we have a finite number of terms, we also have a finite number of sampling points. This means we are free to transform back and forth from the space domain ($y_n$) to the Fourier domain ($c_k$) and we won't lose any information. We call these kinds of transformations **lossless transformations**.\n",
    "\n",
    "Another caveat is while we can reproduce our $y_n$ points exactly, we still have no-idea what is going on in between those points. For example, two functions that are different but happen to give the same $y_n$ will have the exact same DFT.\n"
   ]
  },
  {
   "cell_type": "markdown",
   "metadata": {},
   "source": [
    "**Example: Write a DFT Function**\n",
    "\n",
    "Let's write a funtion that will perform the DFT and inverse DFT (IDFT) given an array of $y$ values and $c$ values. I've already written a DFT script for you, its your job to write the IDFT."
   ]
  },
  {
   "cell_type": "code",
   "execution_count": null,
   "metadata": {
    "collapsed": true
   },
   "outputs": [],
   "source": [
    "def dft(y):\n",
    "    # get number of points\n",
    "    N = len(y)\n",
    "    \n",
    "    # initialize empty array for coefficients\n",
    "    c = np.zeros(N, dtype=np.complex)\n",
    "    \n",
    "    # loop over coefficients, then loop over sum\n",
    "    for k in range(N):\n",
    "        for n in range(N):\n",
    "            # Perform DFT sum\n",
    "            c[k] += y[n] * np.exp(-1j*2*np.pi*k*n/N)\n",
    "            \n",
    "    return c\n",
    "\n",
    "def idft(c):\n",
    "    # get number of points\n",
    "    N = len(c)\n",
    "    \n",
    "    # initialize empty array for coefficients\n",
    "    y = np.zeros(N, dtype=np.complex)\n",
    "    \n",
    "    # loop over coefficients, then loop over sum\n",
    "    for n in range(N):\n",
    "        for k in range(N):\n",
    "            # Perform DFT sum\n",
    "            y[n] += c[k] * np.exp(1j*2*np.pi*k*n/N) / N\n",
    "            \n",
    "    return y"
   ]
  },
  {
   "cell_type": "markdown",
   "metadata": {
    "collapsed": true
   },
   "source": [
    "1.\n",
    "Use your functions to take the DFT of\n",
    "\n",
    "* a sinc wave: $f(x) = \\rm{sinc}(x)$\n",
    "* a square wave: $f(x) = 0\\rightarrow1\\rightarrow0$\n",
    "* a sawtooth wave: $f(x) = x$\n",
    "* an exponential wave: $f(x) = 1/x$\n",
    "* a sine wave: $f(x) = \\sin(n\\pi x)$\n",
    "\n",
    "from $-L/2 < x < L/2$, where you are free to choose $L$ as you want. Make sure the `idft` gives back the same function you had before!\n",
    "\n",
    "2.\n",
    "Plot the Fourier coefficients. What shapes do you find in the Fourier domain as compared to the input domain?"
   ]
  },
  {
   "cell_type": "code",
   "execution_count": null,
   "metadata": {},
   "outputs": [],
   "source": [
    "# Make an x-array\n",
    "x_arr = np.linspace(-5, 5, 100)"
   ]
  },
  {
   "cell_type": "code",
   "execution_count": null,
   "metadata": {
    "collapsed": true
   },
   "outputs": [],
   "source": [
    "# Sample various functions for y-values\n",
    "y_sinc = np.sinc(x_arr*3)\n",
    "y_sqr = np.ones(len(x_arr))\n",
    "y_sqr[:90] = 0\n",
    "y_saw = 0.2*x_arr\n",
    "y_exp = .3/x_arr\n",
    "y_exp[50] = 0 \n",
    "y_sin = np.sin(0.5*np.pi*x_arr)"
   ]
  },
  {
   "cell_type": "code",
   "execution_count": null,
   "metadata": {},
   "outputs": [],
   "source": [
    "# Plot\n",
    "fig = plt.figure(figsize=(6,6))\n",
    "ax=fig.add_subplot(1,1,1)\n",
    "ax.grid(True)\n",
    "ax.set_xlim(-5, 5)\n",
    "ax.set_ylim(-2,2)\n",
    "ax.plot(x_arr, y_sinc)\n",
    "ax.plot(x_arr, y_sqr)\n",
    "ax.plot(x_arr, y_saw)\n",
    "ax.plot(x_arr, y_exp)\n",
    "ax.plot(x_arr, y_sin)"
   ]
  },
  {
   "cell_type": "code",
   "execution_count": null,
   "metadata": {},
   "outputs": [],
   "source": [
    "# Take DFT\n",
    "c_sinc = dft(y_sinc)\n",
    "c_sqr = dft(y_sqr)\n",
    "c_saw = dft(y_saw)\n",
    "c_exp = dft(y_exp)\n",
    "c_sin = dft(y_sin)\n",
    "\n",
    "# Take IDFT\n",
    "y_sinc_i = idft(c_sinc)\n",
    "y_sqr_i = idft(c_sqr)"
   ]
  },
  {
   "cell_type": "code",
   "execution_count": null,
   "metadata": {},
   "outputs": [],
   "source": [
    "# plot y and ift of dft\n",
    "fig = plt.figure(figsize=(6,6))\n",
    "ax=fig.add_subplot(1,1,1)\n",
    "ax.plot(x_arr, y_sinc, linewidth=10, color='b', alpha=0.2)\n",
    "ax.plot(x_arr, np.real(y_sinc_i), linewidth=1.5, color='k')"
   ]
  },
  {
   "cell_type": "markdown",
   "metadata": {},
   "source": [
    "We can see that our `idft(dft(y))` == `y` itself!"
   ]
  },
  {
   "cell_type": "code",
   "execution_count": null,
   "metadata": {},
   "outputs": [],
   "source": [
    "# plot dft\n",
    "fig = plt.figure(figsize=(6,6))\n",
    "ax=fig.add_subplot(1,1,1)\n",
    "ax.plot(np.real(c_sqr))"
   ]
  },
  {
   "cell_type": "markdown",
   "metadata": {},
   "source": [
    "In the case we are plotting the DFT of a localized square pulse, we see that the real component of the fourier coefficients resemble a sinc function! If you play around with the width of the square pulse, you will notice that the smaller you make the pulse, the wider the sinc wave gets, and vice versa. In other words, the more localized something is in the spatial domain, the broader it gets in the fourier domain."
   ]
  },
  {
   "cell_type": "markdown",
   "metadata": {},
   "source": [
    "Note that as we have written it, our DFT function needs to make $N^2$ computations every time we run it. Since computers can generally perform on the order of millions of computations per-second, we are limited to taking the DFT of signals with tens of thousands of elements if we want the program to finish in a reasonable amount of time."
   ]
  },
  {
   "cell_type": "markdown",
   "metadata": {},
   "source": [
    "### Interpretation\n",
    "\n",
    "It is important to ask, what do the Fourier coefficients, $c_k$, in the DFT actually represent? If we inspect our DFT equation, what we see is that the coefficients are being multiplied by the complex exponentials, which are a compactified version of our sines and cosines. If we think back to our definition of the Fourier Series, we can see that the Fourier coefficients, $c_k$, are directly related to the $\\alpha_k$ and $\\beta_k$ coefficients of the sines and cosines. They represent, therefore, the amplitude of a sinusoid with a particular wavelength that is present in our data.\n",
    "\n",
    "The value of $k$ on the otherhand, is related to the **frequency of the sinusoid** that is in the data. The frequency of a sinusoid can be written as\n",
    "\n",
    "\\begin{align}\n",
    "\\sin(\\omega t) &= \\sin\\left(\\frac{2\\pi}{P}t\\right)\\\\\n",
    "\\\\\n",
    "\\sin(\\eta x) &= \\sin\\left(\\frac{2\\pi}{\\lambda} x\\right)\n",
    "\\end{align}\n",
    "\n",
    "where $\\omega$ is the frequency and $P$ is the period if we are in the time domain, and $\\eta$ is the frequency and $\\lambda$ the wavelength if we are in the spatial domain. Recall now our complex exponential from before in the form of\n",
    "\n",
    "\\begin{align}\n",
    "\\exp\\left(i\\frac{2\\pi kx}{L}\\right).\n",
    "\\end{align}\n",
    "\n",
    "If we were to rewrite the argument of the exponentials in the form we have above, then--ignoring the $i$--that means that\n",
    "\n",
    "\\begin{align}\n",
    "k &= \\frac{L}{\\lambda}\\\\\n",
    "k &= \\frac{T}{P}\n",
    "\\end{align}\n",
    "\n",
    "depending on whether we are in the time or spatial domain.\n",
    "\n",
    "Let's see this in action."
   ]
  },
  {
   "cell_type": "code",
   "execution_count": null,
   "metadata": {},
   "outputs": [],
   "source": [
    "# Make time data and y data sum of two sinusoids\n",
    "t = np.linspace(-10,10,1001)\n",
    "\n",
    "# total timespan is 20 seconds\n",
    "T = 20.0\n",
    "\n",
    "# sum three different sinusoids\n",
    "# one has P = 3 sec, 1 sec and 0.5 sec\n",
    "y = 4*np.sin(2 * np.pi * t / 4.0) + 2*np.sin(2 * np.pi * t / 1.0) + np.sin(2*np.pi*t / 0.5)\n",
    "\n",
    "# take its dft\n",
    "c = dft(y)"
   ]
  },
  {
   "cell_type": "code",
   "execution_count": null,
   "metadata": {},
   "outputs": [],
   "source": [
    "# plot\n",
    "%matplotlib notebook\n",
    "fig = plt.figure(figsize=(12,5))\n",
    "ax1 = fig.add_subplot(1, 2, 1)\n",
    "ax2 = fig.add_subplot(1, 2, 2)\n",
    "ax1.grid(True)\n",
    "ax2.grid(True)\n",
    "\n",
    "ax1.plot(t, y)\n",
    "ax1.set_xlabel('time',fontsize=18)\n",
    "ax2.plot(np.abs(c))\n",
    "ax2.set_xlabel('$k$ index', fontsize=18)\n",
    "ax1.set_xlim(-1,8)\n",
    "ax2.set_xlim(0,100)"
   ]
  },
  {
   "cell_type": "code",
   "execution_count": null,
   "metadata": {
    "collapsed": true
   },
   "outputs": [],
   "source": [
    "%matplotlib inline"
   ]
  },
  {
   "cell_type": "code",
   "execution_count": null,
   "metadata": {},
   "outputs": [],
   "source": [
    "k1 = 5\n",
    "k2 = 20\n",
    "k3 = 40\n",
    "\n",
    "print(\"Periods are {:.2f}, {:.2f}, {:.2f} seconds\".format(T/k1, T/k2, T/k3))"
   ]
  },
  {
   "cell_type": "markdown",
   "metadata": {},
   "source": [
    "This confirms that the amplitude of the Fourier coefficients represents the strength of the sinusoid in the data, and the value of $k$ reflects the wavelength (or frequency) of that given sinusoid. [Here](https://www.quora.com/Intuitively-speaking-what-does-a-Fourier-transformation-represent) is a cool visual of a continuous and discrete FT breaking apart the amplitude and frequency of each sinusoid that goes into the FT.\n",
    "\n",
    "Note that if we plot all of the Fourier coefficients, they seem to be symmetric about the front and back end. This has to do with the fact that our input data ($y_n$) is only real and has no imaginary component. It also has to do with a concept known as aliasing, which we won't go into in this lecture. Suffice it to say you can think of the last half of the coefficients as just the complex conjugate of the first half: they don't hold any new information."
   ]
  },
  {
   "cell_type": "markdown",
   "metadata": {},
   "source": [
    "### Breakout 3: Filtering and Detecting Periodicity\n",
    "\n",
    "Let's use our DFT and IDFT functions to explore some data. You can find two data sets in the `data/` directory, one called `pitch.txt` and one called `sunspots.txt`. \n",
    "\n",
    "1.\n",
    "Load in the data from `pitch.txt` and plot it. Then take its DFT and plot the absolute magnitude of the Fourier coefficients $|c_k|$, and see if you can interpret what it represents."
   ]
  },
  {
   "cell_type": "code",
   "execution_count": null,
   "metadata": {
    "collapsed": true
   },
   "outputs": [],
   "source": []
  },
  {
   "cell_type": "code",
   "execution_count": null,
   "metadata": {
    "collapsed": true
   },
   "outputs": [],
   "source": []
  },
  {
   "cell_type": "code",
   "execution_count": null,
   "metadata": {
    "collapsed": true
   },
   "outputs": [],
   "source": []
  },
  {
   "cell_type": "markdown",
   "metadata": {},
   "source": [
    "2.\n",
    "What happens if you set some of the complex $c_k$ values to zero and then take its IDFT? Plot the real component of its inverse DFT."
   ]
  },
  {
   "cell_type": "code",
   "execution_count": null,
   "metadata": {
    "collapsed": true
   },
   "outputs": [],
   "source": []
  },
  {
   "cell_type": "code",
   "execution_count": null,
   "metadata": {
    "collapsed": true
   },
   "outputs": [],
   "source": []
  },
  {
   "cell_type": "code",
   "execution_count": null,
   "metadata": {
    "collapsed": true
   },
   "outputs": [],
   "source": []
  },
  {
   "cell_type": "code",
   "execution_count": null,
   "metadata": {
    "collapsed": true
   },
   "outputs": [],
   "source": []
  },
  {
   "cell_type": "markdown",
   "metadata": {},
   "source": [
    "3.\n",
    "Load in the data from `sunspots.txt` and plot it. Can you see a periodic signal? Take its DFT and see if you can identify the period of the strongest sinusoid in the data.\n",
    "\n",
    "Also, can you guess why the $k=0$ Fourier coefficient is so strong?"
   ]
  },
  {
   "cell_type": "code",
   "execution_count": null,
   "metadata": {
    "collapsed": true
   },
   "outputs": [],
   "source": []
  },
  {
   "cell_type": "code",
   "execution_count": null,
   "metadata": {
    "collapsed": true
   },
   "outputs": [],
   "source": []
  },
  {
   "cell_type": "code",
   "execution_count": null,
   "metadata": {
    "collapsed": true
   },
   "outputs": [],
   "source": []
  },
  {
   "cell_type": "markdown",
   "metadata": {},
   "source": [
    "Let's return to the speed of the DFT. We said before that its an $N^2$ operation, where $N$ is the length of the array we feed the function (i.e., the number of time samples in our data). This means that arrays that are on the order of larger than a few tens of thousands elements are not practical to solve in a reasonable amount of time."
   ]
  },
  {
   "cell_type": "code",
   "execution_count": null,
   "metadata": {},
   "outputs": [],
   "source": [
    "y = np.sin(2*np.pi*np.linspace(-4,4,2000))\n",
    "%time c = dft(y)"
   ]
  },
  {
   "cell_type": "markdown",
   "metadata": {},
   "source": [
    "We can see that when we double the number of elements, the computation takes 4 times as long, making signals with hundreds of thousands of elements and greater simply impractical. There is another technique though, that can implement a discrete Fourier Transform that scales not as $N^2$, but as $N\\cdot\\log N$. This is aptly called the **Fast Fourier Transform**, which is the most common way to take a numerical FT. We aren't going to derive the FFT (it may be a good topic to explore for a final project!) here, but we will use pre-built functions for it in the `numpy.fft` module. Suffice it to say, its performance is way better than the DFT with its $N\\cdot\\log N$ scaling."
   ]
  },
  {
   "cell_type": "code",
   "execution_count": null,
   "metadata": {},
   "outputs": [],
   "source": [
    "y = np.sin(2*np.pi*np.linspace(-4,4,10000))\n",
    "%time c = np.fft.fft(y)"
   ]
  },
  {
   "cell_type": "markdown",
   "metadata": {},
   "source": [
    "**Example**\n",
    "\n",
    "Let's go back and use the `np.fft.fft` function to do some of the previous analyses we did using the `dft()` function. We can also use `np.fft.fftfreq` to get the frequency bins of the FFT."
   ]
  },
  {
   "cell_type": "markdown",
   "metadata": {},
   "source": [
    "### Breakout 3: Audio Files\n",
    "\n",
    "What are sound waves? They are compression and rarefaction density waves in the air. The pitch of a sound is tied to the frequency of that wave as it travels through the air and vibrates our ear-drums. Let's use the `scipy` module to look at some audio files.\n",
    "\n",
    "If you don't have the scipy module, use:\n",
    "```\n",
    "conda install scipy\n",
    "```\n",
    "or\n",
    "```\n",
    "python -m pip install scipy\n",
    "```\n",
    "in your command line."
   ]
  },
  {
   "cell_type": "code",
   "execution_count": null,
   "metadata": {
    "collapsed": true
   },
   "outputs": [],
   "source": [
    "import scipy.io.wavfile as wave\n",
    "import os"
   ]
  },
  {
   "cell_type": "code",
   "execution_count": null,
   "metadata": {
    "collapsed": true
   },
   "outputs": [],
   "source": [
    "def Audio(fname):\n",
    "    \"\"\"Provide a player widget for an audio file.\n",
    "    -- Code adapted from UC Berkeley Astro 250: Python for Data Science --\n",
    "    \n",
    "    Parameters\n",
    "    ==========\n",
    "    fname : string\n",
    "      Filename to be played.\n",
    "    \"\"\"\n",
    "    from IPython.display import HTML, display\n",
    "    \n",
    "    # Find out file extension and deduce MIME type for audio format\n",
    "    ext = os.path.splitext(fname)[1].replace('.', '').lower()\n",
    "    mimetype = 'audio/' + ('mpeg' if ext == 'mp3' else ext)\n",
    "    \n",
    "    tpl = \"\"\"<p>{fname}:</p>\n",
    "<audio controls>\n",
    "    <source src=\"files/{fname}\" type=\"{mimetype}\">\n",
    "\n",
    "Your browser does not support the Audio element; you can play \n",
    "<a href=\"files/{fname}\">this file</a> manually.\n",
    "</audio>\n",
    "\"\"\"\n",
    "    display(HTML(tpl.format(**locals())))"
   ]
  },
  {
   "cell_type": "code",
   "execution_count": null,
   "metadata": {},
   "outputs": [],
   "source": [
    "Audio('data/voice.wav')"
   ]
  },
  {
   "cell_type": "code",
   "execution_count": null,
   "metadata": {
    "collapsed": true
   },
   "outputs": [],
   "source": [
    "# Read the data\n",
    "samp_rate, spectrum = wave.read('data/voice.wav')"
   ]
  },
  {
   "cell_type": "markdown",
   "metadata": {},
   "source": [
    "1.\n",
    "Inspect the following data, what do you see? Plot the data as a function of time."
   ]
  },
  {
   "cell_type": "code",
   "execution_count": null,
   "metadata": {
    "collapsed": true
   },
   "outputs": [],
   "source": []
  },
  {
   "cell_type": "code",
   "execution_count": null,
   "metadata": {
    "collapsed": true
   },
   "outputs": [],
   "source": []
  },
  {
   "cell_type": "code",
   "execution_count": null,
   "metadata": {
    "collapsed": true
   },
   "outputs": [],
   "source": []
  },
  {
   "cell_type": "markdown",
   "metadata": {},
   "source": [
    "2.\n",
    "Take its Fourier Transform, and make the x-axis a function of frequency in Hz. [Hint: look at the `np.fft.fftfreq` function]."
   ]
  },
  {
   "cell_type": "code",
   "execution_count": null,
   "metadata": {
    "collapsed": true
   },
   "outputs": [],
   "source": []
  },
  {
   "cell_type": "code",
   "execution_count": null,
   "metadata": {
    "collapsed": true
   },
   "outputs": [],
   "source": []
  },
  {
   "cell_type": "code",
   "execution_count": null,
   "metadata": {
    "collapsed": true
   },
   "outputs": [],
   "source": []
  },
  {
   "cell_type": "markdown",
   "metadata": {},
   "source": [
    "The soundfile we used above contains only 4 seconds of data and it had almost $10^5$ samples! You see how we very quickly find ourselves in need of algorithms like the FFT to do audio analyses."
   ]
  },
  {
   "cell_type": "code",
   "execution_count": null,
   "metadata": {
    "collapsed": true
   },
   "outputs": [],
   "source": []
  },
  {
   "cell_type": "code",
   "execution_count": null,
   "metadata": {
    "collapsed": true
   },
   "outputs": [],
   "source": []
  }
 ],
 "metadata": {
  "kernelspec": {
   "display_name": "Python 3",
   "language": "python",
   "name": "python3"
  },
  "language_info": {
   "codemirror_mode": {
    "name": "ipython",
    "version": 3
   },
   "file_extension": ".py",
   "mimetype": "text/x-python",
   "name": "python",
   "nbconvert_exporter": "python",
   "pygments_lexer": "ipython3",
   "version": "3.6.1"
  }
 },
 "nbformat": 4,
 "nbformat_minor": 2
}
